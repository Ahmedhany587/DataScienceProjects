{
  "cells": [
    {
      "cell_type": "markdown",
      "metadata": {
        "id": "9594OQ3wBfhd"
      },
      "source": [
        "# Importing needed libraries "
      ]
    },
    {
      "cell_type": "code",
      "execution_count": null,
      "metadata": {
        "id": "-2uqWi_MBfhm"
      },
      "outputs": [],
      "source": [
        "import pandas as pd\n",
        "import numpy as np \n",
        "import matplotlib.pyplot as plt\n",
        "import seaborn as sb \n",
        "import plotly.express as px\n",
        "from plotly import tools\n",
        "from plotly.subplots import make_subplots\n",
        "from plotly.offline import iplot\n",
        "from sklearn.cluster import KMeans"
      ]
    },
    {
      "cell_type": "code",
      "execution_count": null,
      "metadata": {
        "colab": {
          "base_uri": "https://localhost:8080/",
          "height": 206
        },
        "id": "JBYz8FywBfhq",
        "outputId": "a090b4fe-e369-49fe-c8ec-ddab3e8db8bf"
      },
      "outputs": [
        {
          "output_type": "execute_result",
          "data": {
            "text/html": [
              "\n",
              "  <div id=\"df-80ebb8b6-6c7e-4736-a99d-05897b5aed13\">\n",
              "    <div class=\"colab-df-container\">\n",
              "      <div>\n",
              "<style scoped>\n",
              "    .dataframe tbody tr th:only-of-type {\n",
              "        vertical-align: middle;\n",
              "    }\n",
              "\n",
              "    .dataframe tbody tr th {\n",
              "        vertical-align: top;\n",
              "    }\n",
              "\n",
              "    .dataframe thead th {\n",
              "        text-align: right;\n",
              "    }\n",
              "</style>\n",
              "<table border=\"1\" class=\"dataframe\">\n",
              "  <thead>\n",
              "    <tr style=\"text-align: right;\">\n",
              "      <th></th>\n",
              "      <th>gender</th>\n",
              "      <th>race/ethnicity</th>\n",
              "      <th>parental level of education</th>\n",
              "      <th>lunch</th>\n",
              "      <th>test preparation course</th>\n",
              "      <th>math score</th>\n",
              "      <th>reading score</th>\n",
              "      <th>writing score</th>\n",
              "    </tr>\n",
              "  </thead>\n",
              "  <tbody>\n",
              "    <tr>\n",
              "      <th>0</th>\n",
              "      <td>female</td>\n",
              "      <td>group B</td>\n",
              "      <td>bachelor's degree</td>\n",
              "      <td>standard</td>\n",
              "      <td>none</td>\n",
              "      <td>72</td>\n",
              "      <td>72</td>\n",
              "      <td>74</td>\n",
              "    </tr>\n",
              "    <tr>\n",
              "      <th>1</th>\n",
              "      <td>female</td>\n",
              "      <td>group C</td>\n",
              "      <td>some college</td>\n",
              "      <td>standard</td>\n",
              "      <td>completed</td>\n",
              "      <td>69</td>\n",
              "      <td>90</td>\n",
              "      <td>88</td>\n",
              "    </tr>\n",
              "    <tr>\n",
              "      <th>2</th>\n",
              "      <td>female</td>\n",
              "      <td>group B</td>\n",
              "      <td>master's degree</td>\n",
              "      <td>standard</td>\n",
              "      <td>none</td>\n",
              "      <td>90</td>\n",
              "      <td>95</td>\n",
              "      <td>93</td>\n",
              "    </tr>\n",
              "    <tr>\n",
              "      <th>3</th>\n",
              "      <td>male</td>\n",
              "      <td>group A</td>\n",
              "      <td>associate's degree</td>\n",
              "      <td>free/reduced</td>\n",
              "      <td>none</td>\n",
              "      <td>47</td>\n",
              "      <td>57</td>\n",
              "      <td>44</td>\n",
              "    </tr>\n",
              "    <tr>\n",
              "      <th>4</th>\n",
              "      <td>male</td>\n",
              "      <td>group C</td>\n",
              "      <td>some college</td>\n",
              "      <td>standard</td>\n",
              "      <td>none</td>\n",
              "      <td>76</td>\n",
              "      <td>78</td>\n",
              "      <td>75</td>\n",
              "    </tr>\n",
              "  </tbody>\n",
              "</table>\n",
              "</div>\n",
              "      <button class=\"colab-df-convert\" onclick=\"convertToInteractive('df-80ebb8b6-6c7e-4736-a99d-05897b5aed13')\"\n",
              "              title=\"Convert this dataframe to an interactive table.\"\n",
              "              style=\"display:none;\">\n",
              "        \n",
              "  <svg xmlns=\"http://www.w3.org/2000/svg\" height=\"24px\"viewBox=\"0 0 24 24\"\n",
              "       width=\"24px\">\n",
              "    <path d=\"M0 0h24v24H0V0z\" fill=\"none\"/>\n",
              "    <path d=\"M18.56 5.44l.94 2.06.94-2.06 2.06-.94-2.06-.94-.94-2.06-.94 2.06-2.06.94zm-11 1L8.5 8.5l.94-2.06 2.06-.94-2.06-.94L8.5 2.5l-.94 2.06-2.06.94zm10 10l.94 2.06.94-2.06 2.06-.94-2.06-.94-.94-2.06-.94 2.06-2.06.94z\"/><path d=\"M17.41 7.96l-1.37-1.37c-.4-.4-.92-.59-1.43-.59-.52 0-1.04.2-1.43.59L10.3 9.45l-7.72 7.72c-.78.78-.78 2.05 0 2.83L4 21.41c.39.39.9.59 1.41.59.51 0 1.02-.2 1.41-.59l7.78-7.78 2.81-2.81c.8-.78.8-2.07 0-2.86zM5.41 20L4 18.59l7.72-7.72 1.47 1.35L5.41 20z\"/>\n",
              "  </svg>\n",
              "      </button>\n",
              "      \n",
              "  <style>\n",
              "    .colab-df-container {\n",
              "      display:flex;\n",
              "      flex-wrap:wrap;\n",
              "      gap: 12px;\n",
              "    }\n",
              "\n",
              "    .colab-df-convert {\n",
              "      background-color: #E8F0FE;\n",
              "      border: none;\n",
              "      border-radius: 50%;\n",
              "      cursor: pointer;\n",
              "      display: none;\n",
              "      fill: #1967D2;\n",
              "      height: 32px;\n",
              "      padding: 0 0 0 0;\n",
              "      width: 32px;\n",
              "    }\n",
              "\n",
              "    .colab-df-convert:hover {\n",
              "      background-color: #E2EBFA;\n",
              "      box-shadow: 0px 1px 2px rgba(60, 64, 67, 0.3), 0px 1px 3px 1px rgba(60, 64, 67, 0.15);\n",
              "      fill: #174EA6;\n",
              "    }\n",
              "\n",
              "    [theme=dark] .colab-df-convert {\n",
              "      background-color: #3B4455;\n",
              "      fill: #D2E3FC;\n",
              "    }\n",
              "\n",
              "    [theme=dark] .colab-df-convert:hover {\n",
              "      background-color: #434B5C;\n",
              "      box-shadow: 0px 1px 3px 1px rgba(0, 0, 0, 0.15);\n",
              "      filter: drop-shadow(0px 1px 2px rgba(0, 0, 0, 0.3));\n",
              "      fill: #FFFFFF;\n",
              "    }\n",
              "  </style>\n",
              "\n",
              "      <script>\n",
              "        const buttonEl =\n",
              "          document.querySelector('#df-80ebb8b6-6c7e-4736-a99d-05897b5aed13 button.colab-df-convert');\n",
              "        buttonEl.style.display =\n",
              "          google.colab.kernel.accessAllowed ? 'block' : 'none';\n",
              "\n",
              "        async function convertToInteractive(key) {\n",
              "          const element = document.querySelector('#df-80ebb8b6-6c7e-4736-a99d-05897b5aed13');\n",
              "          const dataTable =\n",
              "            await google.colab.kernel.invokeFunction('convertToInteractive',\n",
              "                                                     [key], {});\n",
              "          if (!dataTable) return;\n",
              "\n",
              "          const docLinkHtml = 'Like what you see? Visit the ' +\n",
              "            '<a target=\"_blank\" href=https://colab.research.google.com/notebooks/data_table.ipynb>data table notebook</a>'\n",
              "            + ' to learn more about interactive tables.';\n",
              "          element.innerHTML = '';\n",
              "          dataTable['output_type'] = 'display_data';\n",
              "          await google.colab.output.renderOutput(dataTable, element);\n",
              "          const docLink = document.createElement('div');\n",
              "          docLink.innerHTML = docLinkHtml;\n",
              "          element.appendChild(docLink);\n",
              "        }\n",
              "      </script>\n",
              "    </div>\n",
              "  </div>\n",
              "  "
            ],
            "text/plain": [
              "   gender race/ethnicity  ... reading score writing score\n",
              "0  female        group B  ...            72            74\n",
              "1  female        group C  ...            90            88\n",
              "2  female        group B  ...            95            93\n",
              "3    male        group A  ...            57            44\n",
              "4    male        group C  ...            78            75\n",
              "\n",
              "[5 rows x 8 columns]"
            ]
          },
          "metadata": {},
          "execution_count": 56
        }
      ],
      "source": [
        "df=pd.read_csv('StudentsPerformance.csv')\n",
        "df.head()"
      ]
    },
    {
      "cell_type": "code",
      "execution_count": null,
      "metadata": {
        "colab": {
          "base_uri": "https://localhost:8080/"
        },
        "id": "jOjPlAviBfhu",
        "outputId": "d4a36bab-5a27-452a-8d59-11cfecf3c6c5"
      },
      "outputs": [
        {
          "output_type": "stream",
          "name": "stdout",
          "text": [
            "<class 'pandas.core.frame.DataFrame'>\n",
            "RangeIndex: 1000 entries, 0 to 999\n",
            "Data columns (total 8 columns):\n",
            " #   Column                       Non-Null Count  Dtype \n",
            "---  ------                       --------------  ----- \n",
            " 0   gender                       1000 non-null   object\n",
            " 1   race/ethnicity               1000 non-null   object\n",
            " 2   parental level of education  1000 non-null   object\n",
            " 3   lunch                        1000 non-null   object\n",
            " 4   test preparation course      1000 non-null   object\n",
            " 5   math score                   1000 non-null   int64 \n",
            " 6   reading score                1000 non-null   int64 \n",
            " 7   writing score                1000 non-null   int64 \n",
            "dtypes: int64(3), object(5)\n",
            "memory usage: 62.6+ KB\n"
          ]
        }
      ],
      "source": [
        "df.info()"
      ]
    },
    {
      "cell_type": "markdown",
      "metadata": {
        "id": "a4MrMXtcBfhw"
      },
      "source": [
        "## Oredering Categorical ordinal data"
      ]
    },
    {
      "cell_type": "code",
      "execution_count": null,
      "metadata": {
        "colab": {
          "base_uri": "https://localhost:8080/"
        },
        "id": "LzYmpUePBfhx",
        "outputId": "098b3886-b183-4f98-c658-43b6ce7d544b"
      },
      "outputs": [
        {
          "output_type": "execute_result",
          "data": {
            "text/plain": [
              "array([\"bachelor's degree\", 'some college', \"master's degree\",\n",
              "       \"associate's degree\", 'high school', 'some high school'],\n",
              "      dtype=object)"
            ]
          },
          "metadata": {},
          "execution_count": 58
        }
      ],
      "source": [
        "df['parental level of education'].unique()"
      ]
    },
    {
      "cell_type": "code",
      "execution_count": null,
      "metadata": {
        "id": "HH1G7QcSBfhz"
      },
      "outputs": [],
      "source": [
        "cat_type=pd.api.types.CategoricalDtype(categories=['some high school','high school','some college',\"associate's degree\",\"bachelor's degree\",\"master's degree\"],ordered=True)\n",
        "df['parental level of education']=df['parental level of education'].astype(cat_type)"
      ]
    },
    {
      "cell_type": "code",
      "execution_count": null,
      "metadata": {
        "colab": {
          "base_uri": "https://localhost:8080/"
        },
        "id": "2L4H2X3pBfh1",
        "outputId": "efb17204-3fbd-4f0c-9231-a41deab3aa78"
      },
      "outputs": [
        {
          "output_type": "execute_result",
          "data": {
            "text/plain": [
              "array(['standard', 'free/reduced'], dtype=object)"
            ]
          },
          "metadata": {},
          "execution_count": 60
        }
      ],
      "source": [
        "df['lunch'].unique()"
      ]
    },
    {
      "cell_type": "code",
      "execution_count": null,
      "metadata": {
        "id": "ThcIdO9BBfh2"
      },
      "outputs": [],
      "source": [
        "cat_type=pd.api.types.CategoricalDtype(categories=['free/reduced','standard'],ordered=True)\n",
        "df['lunch']=df['lunch'].astype(cat_type)"
      ]
    },
    {
      "cell_type": "code",
      "execution_count": null,
      "metadata": {
        "colab": {
          "base_uri": "https://localhost:8080/",
          "height": 206
        },
        "id": "UJY-OHL0Bfh4",
        "outputId": "933c1e49-7988-4da1-af0a-c6205093bd39"
      },
      "outputs": [
        {
          "output_type": "execute_result",
          "data": {
            "text/html": [
              "\n",
              "  <div id=\"df-1b886c95-db88-46e0-bf9a-fa39c11e2957\">\n",
              "    <div class=\"colab-df-container\">\n",
              "      <div>\n",
              "<style scoped>\n",
              "    .dataframe tbody tr th:only-of-type {\n",
              "        vertical-align: middle;\n",
              "    }\n",
              "\n",
              "    .dataframe tbody tr th {\n",
              "        vertical-align: top;\n",
              "    }\n",
              "\n",
              "    .dataframe thead th {\n",
              "        text-align: right;\n",
              "    }\n",
              "</style>\n",
              "<table border=\"1\" class=\"dataframe\">\n",
              "  <thead>\n",
              "    <tr style=\"text-align: right;\">\n",
              "      <th></th>\n",
              "      <th>gender</th>\n",
              "      <th>race/ethnicity</th>\n",
              "      <th>parental level of education</th>\n",
              "      <th>lunch</th>\n",
              "      <th>test preparation course</th>\n",
              "      <th>math score</th>\n",
              "      <th>reading score</th>\n",
              "      <th>writing score</th>\n",
              "    </tr>\n",
              "  </thead>\n",
              "  <tbody>\n",
              "    <tr>\n",
              "      <th>0</th>\n",
              "      <td>female</td>\n",
              "      <td>group B</td>\n",
              "      <td>bachelor's degree</td>\n",
              "      <td>standard</td>\n",
              "      <td>none</td>\n",
              "      <td>72</td>\n",
              "      <td>72</td>\n",
              "      <td>74</td>\n",
              "    </tr>\n",
              "    <tr>\n",
              "      <th>1</th>\n",
              "      <td>female</td>\n",
              "      <td>group C</td>\n",
              "      <td>some college</td>\n",
              "      <td>standard</td>\n",
              "      <td>completed</td>\n",
              "      <td>69</td>\n",
              "      <td>90</td>\n",
              "      <td>88</td>\n",
              "    </tr>\n",
              "    <tr>\n",
              "      <th>2</th>\n",
              "      <td>female</td>\n",
              "      <td>group B</td>\n",
              "      <td>master's degree</td>\n",
              "      <td>standard</td>\n",
              "      <td>none</td>\n",
              "      <td>90</td>\n",
              "      <td>95</td>\n",
              "      <td>93</td>\n",
              "    </tr>\n",
              "    <tr>\n",
              "      <th>3</th>\n",
              "      <td>male</td>\n",
              "      <td>group A</td>\n",
              "      <td>associate's degree</td>\n",
              "      <td>free/reduced</td>\n",
              "      <td>none</td>\n",
              "      <td>47</td>\n",
              "      <td>57</td>\n",
              "      <td>44</td>\n",
              "    </tr>\n",
              "    <tr>\n",
              "      <th>4</th>\n",
              "      <td>male</td>\n",
              "      <td>group C</td>\n",
              "      <td>some college</td>\n",
              "      <td>standard</td>\n",
              "      <td>none</td>\n",
              "      <td>76</td>\n",
              "      <td>78</td>\n",
              "      <td>75</td>\n",
              "    </tr>\n",
              "  </tbody>\n",
              "</table>\n",
              "</div>\n",
              "      <button class=\"colab-df-convert\" onclick=\"convertToInteractive('df-1b886c95-db88-46e0-bf9a-fa39c11e2957')\"\n",
              "              title=\"Convert this dataframe to an interactive table.\"\n",
              "              style=\"display:none;\">\n",
              "        \n",
              "  <svg xmlns=\"http://www.w3.org/2000/svg\" height=\"24px\"viewBox=\"0 0 24 24\"\n",
              "       width=\"24px\">\n",
              "    <path d=\"M0 0h24v24H0V0z\" fill=\"none\"/>\n",
              "    <path d=\"M18.56 5.44l.94 2.06.94-2.06 2.06-.94-2.06-.94-.94-2.06-.94 2.06-2.06.94zm-11 1L8.5 8.5l.94-2.06 2.06-.94-2.06-.94L8.5 2.5l-.94 2.06-2.06.94zm10 10l.94 2.06.94-2.06 2.06-.94-2.06-.94-.94-2.06-.94 2.06-2.06.94z\"/><path d=\"M17.41 7.96l-1.37-1.37c-.4-.4-.92-.59-1.43-.59-.52 0-1.04.2-1.43.59L10.3 9.45l-7.72 7.72c-.78.78-.78 2.05 0 2.83L4 21.41c.39.39.9.59 1.41.59.51 0 1.02-.2 1.41-.59l7.78-7.78 2.81-2.81c.8-.78.8-2.07 0-2.86zM5.41 20L4 18.59l7.72-7.72 1.47 1.35L5.41 20z\"/>\n",
              "  </svg>\n",
              "      </button>\n",
              "      \n",
              "  <style>\n",
              "    .colab-df-container {\n",
              "      display:flex;\n",
              "      flex-wrap:wrap;\n",
              "      gap: 12px;\n",
              "    }\n",
              "\n",
              "    .colab-df-convert {\n",
              "      background-color: #E8F0FE;\n",
              "      border: none;\n",
              "      border-radius: 50%;\n",
              "      cursor: pointer;\n",
              "      display: none;\n",
              "      fill: #1967D2;\n",
              "      height: 32px;\n",
              "      padding: 0 0 0 0;\n",
              "      width: 32px;\n",
              "    }\n",
              "\n",
              "    .colab-df-convert:hover {\n",
              "      background-color: #E2EBFA;\n",
              "      box-shadow: 0px 1px 2px rgba(60, 64, 67, 0.3), 0px 1px 3px 1px rgba(60, 64, 67, 0.15);\n",
              "      fill: #174EA6;\n",
              "    }\n",
              "\n",
              "    [theme=dark] .colab-df-convert {\n",
              "      background-color: #3B4455;\n",
              "      fill: #D2E3FC;\n",
              "    }\n",
              "\n",
              "    [theme=dark] .colab-df-convert:hover {\n",
              "      background-color: #434B5C;\n",
              "      box-shadow: 0px 1px 3px 1px rgba(0, 0, 0, 0.15);\n",
              "      filter: drop-shadow(0px 1px 2px rgba(0, 0, 0, 0.3));\n",
              "      fill: #FFFFFF;\n",
              "    }\n",
              "  </style>\n",
              "\n",
              "      <script>\n",
              "        const buttonEl =\n",
              "          document.querySelector('#df-1b886c95-db88-46e0-bf9a-fa39c11e2957 button.colab-df-convert');\n",
              "        buttonEl.style.display =\n",
              "          google.colab.kernel.accessAllowed ? 'block' : 'none';\n",
              "\n",
              "        async function convertToInteractive(key) {\n",
              "          const element = document.querySelector('#df-1b886c95-db88-46e0-bf9a-fa39c11e2957');\n",
              "          const dataTable =\n",
              "            await google.colab.kernel.invokeFunction('convertToInteractive',\n",
              "                                                     [key], {});\n",
              "          if (!dataTable) return;\n",
              "\n",
              "          const docLinkHtml = 'Like what you see? Visit the ' +\n",
              "            '<a target=\"_blank\" href=https://colab.research.google.com/notebooks/data_table.ipynb>data table notebook</a>'\n",
              "            + ' to learn more about interactive tables.';\n",
              "          element.innerHTML = '';\n",
              "          dataTable['output_type'] = 'display_data';\n",
              "          await google.colab.output.renderOutput(dataTable, element);\n",
              "          const docLink = document.createElement('div');\n",
              "          docLink.innerHTML = docLinkHtml;\n",
              "          element.appendChild(docLink);\n",
              "        }\n",
              "      </script>\n",
              "    </div>\n",
              "  </div>\n",
              "  "
            ],
            "text/plain": [
              "   gender race/ethnicity  ... reading score writing score\n",
              "0  female        group B  ...            72            74\n",
              "1  female        group C  ...            90            88\n",
              "2  female        group B  ...            95            93\n",
              "3    male        group A  ...            57            44\n",
              "4    male        group C  ...            78            75\n",
              "\n",
              "[5 rows x 8 columns]"
            ]
          },
          "metadata": {},
          "execution_count": 62
        }
      ],
      "source": [
        "df.head()"
      ]
    },
    {
      "cell_type": "markdown",
      "metadata": {
        "id": "xk04McVxBfh5"
      },
      "source": [
        "# Engineering a new feature"
      ]
    },
    {
      "cell_type": "code",
      "execution_count": null,
      "metadata": {
        "colab": {
          "base_uri": "https://localhost:8080/",
          "height": 206
        },
        "id": "1CUWjDDbBfh6",
        "outputId": "03c286ea-41d1-45b0-b361-ec227a448cfd"
      },
      "outputs": [
        {
          "output_type": "execute_result",
          "data": {
            "text/html": [
              "\n",
              "  <div id=\"df-4243fcc8-c9c1-4abe-b33b-e05b17ebd530\">\n",
              "    <div class=\"colab-df-container\">\n",
              "      <div>\n",
              "<style scoped>\n",
              "    .dataframe tbody tr th:only-of-type {\n",
              "        vertical-align: middle;\n",
              "    }\n",
              "\n",
              "    .dataframe tbody tr th {\n",
              "        vertical-align: top;\n",
              "    }\n",
              "\n",
              "    .dataframe thead th {\n",
              "        text-align: right;\n",
              "    }\n",
              "</style>\n",
              "<table border=\"1\" class=\"dataframe\">\n",
              "  <thead>\n",
              "    <tr style=\"text-align: right;\">\n",
              "      <th></th>\n",
              "      <th>gender</th>\n",
              "      <th>race/ethnicity</th>\n",
              "      <th>parental level of education</th>\n",
              "      <th>lunch</th>\n",
              "      <th>test preparation course</th>\n",
              "      <th>math score</th>\n",
              "      <th>reading score</th>\n",
              "      <th>writing score</th>\n",
              "      <th>percentage</th>\n",
              "    </tr>\n",
              "  </thead>\n",
              "  <tbody>\n",
              "    <tr>\n",
              "      <th>0</th>\n",
              "      <td>female</td>\n",
              "      <td>group B</td>\n",
              "      <td>bachelor's degree</td>\n",
              "      <td>standard</td>\n",
              "      <td>none</td>\n",
              "      <td>72</td>\n",
              "      <td>72</td>\n",
              "      <td>74</td>\n",
              "      <td>72.666667</td>\n",
              "    </tr>\n",
              "    <tr>\n",
              "      <th>1</th>\n",
              "      <td>female</td>\n",
              "      <td>group C</td>\n",
              "      <td>some college</td>\n",
              "      <td>standard</td>\n",
              "      <td>completed</td>\n",
              "      <td>69</td>\n",
              "      <td>90</td>\n",
              "      <td>88</td>\n",
              "      <td>82.333333</td>\n",
              "    </tr>\n",
              "    <tr>\n",
              "      <th>2</th>\n",
              "      <td>female</td>\n",
              "      <td>group B</td>\n",
              "      <td>master's degree</td>\n",
              "      <td>standard</td>\n",
              "      <td>none</td>\n",
              "      <td>90</td>\n",
              "      <td>95</td>\n",
              "      <td>93</td>\n",
              "      <td>92.666667</td>\n",
              "    </tr>\n",
              "    <tr>\n",
              "      <th>3</th>\n",
              "      <td>male</td>\n",
              "      <td>group A</td>\n",
              "      <td>associate's degree</td>\n",
              "      <td>free/reduced</td>\n",
              "      <td>none</td>\n",
              "      <td>47</td>\n",
              "      <td>57</td>\n",
              "      <td>44</td>\n",
              "      <td>49.333333</td>\n",
              "    </tr>\n",
              "    <tr>\n",
              "      <th>4</th>\n",
              "      <td>male</td>\n",
              "      <td>group C</td>\n",
              "      <td>some college</td>\n",
              "      <td>standard</td>\n",
              "      <td>none</td>\n",
              "      <td>76</td>\n",
              "      <td>78</td>\n",
              "      <td>75</td>\n",
              "      <td>76.333333</td>\n",
              "    </tr>\n",
              "  </tbody>\n",
              "</table>\n",
              "</div>\n",
              "      <button class=\"colab-df-convert\" onclick=\"convertToInteractive('df-4243fcc8-c9c1-4abe-b33b-e05b17ebd530')\"\n",
              "              title=\"Convert this dataframe to an interactive table.\"\n",
              "              style=\"display:none;\">\n",
              "        \n",
              "  <svg xmlns=\"http://www.w3.org/2000/svg\" height=\"24px\"viewBox=\"0 0 24 24\"\n",
              "       width=\"24px\">\n",
              "    <path d=\"M0 0h24v24H0V0z\" fill=\"none\"/>\n",
              "    <path d=\"M18.56 5.44l.94 2.06.94-2.06 2.06-.94-2.06-.94-.94-2.06-.94 2.06-2.06.94zm-11 1L8.5 8.5l.94-2.06 2.06-.94-2.06-.94L8.5 2.5l-.94 2.06-2.06.94zm10 10l.94 2.06.94-2.06 2.06-.94-2.06-.94-.94-2.06-.94 2.06-2.06.94z\"/><path d=\"M17.41 7.96l-1.37-1.37c-.4-.4-.92-.59-1.43-.59-.52 0-1.04.2-1.43.59L10.3 9.45l-7.72 7.72c-.78.78-.78 2.05 0 2.83L4 21.41c.39.39.9.59 1.41.59.51 0 1.02-.2 1.41-.59l7.78-7.78 2.81-2.81c.8-.78.8-2.07 0-2.86zM5.41 20L4 18.59l7.72-7.72 1.47 1.35L5.41 20z\"/>\n",
              "  </svg>\n",
              "      </button>\n",
              "      \n",
              "  <style>\n",
              "    .colab-df-container {\n",
              "      display:flex;\n",
              "      flex-wrap:wrap;\n",
              "      gap: 12px;\n",
              "    }\n",
              "\n",
              "    .colab-df-convert {\n",
              "      background-color: #E8F0FE;\n",
              "      border: none;\n",
              "      border-radius: 50%;\n",
              "      cursor: pointer;\n",
              "      display: none;\n",
              "      fill: #1967D2;\n",
              "      height: 32px;\n",
              "      padding: 0 0 0 0;\n",
              "      width: 32px;\n",
              "    }\n",
              "\n",
              "    .colab-df-convert:hover {\n",
              "      background-color: #E2EBFA;\n",
              "      box-shadow: 0px 1px 2px rgba(60, 64, 67, 0.3), 0px 1px 3px 1px rgba(60, 64, 67, 0.15);\n",
              "      fill: #174EA6;\n",
              "    }\n",
              "\n",
              "    [theme=dark] .colab-df-convert {\n",
              "      background-color: #3B4455;\n",
              "      fill: #D2E3FC;\n",
              "    }\n",
              "\n",
              "    [theme=dark] .colab-df-convert:hover {\n",
              "      background-color: #434B5C;\n",
              "      box-shadow: 0px 1px 3px 1px rgba(0, 0, 0, 0.15);\n",
              "      filter: drop-shadow(0px 1px 2px rgba(0, 0, 0, 0.3));\n",
              "      fill: #FFFFFF;\n",
              "    }\n",
              "  </style>\n",
              "\n",
              "      <script>\n",
              "        const buttonEl =\n",
              "          document.querySelector('#df-4243fcc8-c9c1-4abe-b33b-e05b17ebd530 button.colab-df-convert');\n",
              "        buttonEl.style.display =\n",
              "          google.colab.kernel.accessAllowed ? 'block' : 'none';\n",
              "\n",
              "        async function convertToInteractive(key) {\n",
              "          const element = document.querySelector('#df-4243fcc8-c9c1-4abe-b33b-e05b17ebd530');\n",
              "          const dataTable =\n",
              "            await google.colab.kernel.invokeFunction('convertToInteractive',\n",
              "                                                     [key], {});\n",
              "          if (!dataTable) return;\n",
              "\n",
              "          const docLinkHtml = 'Like what you see? Visit the ' +\n",
              "            '<a target=\"_blank\" href=https://colab.research.google.com/notebooks/data_table.ipynb>data table notebook</a>'\n",
              "            + ' to learn more about interactive tables.';\n",
              "          element.innerHTML = '';\n",
              "          dataTable['output_type'] = 'display_data';\n",
              "          await google.colab.output.renderOutput(dataTable, element);\n",
              "          const docLink = document.createElement('div');\n",
              "          docLink.innerHTML = docLinkHtml;\n",
              "          element.appendChild(docLink);\n",
              "        }\n",
              "      </script>\n",
              "    </div>\n",
              "  </div>\n",
              "  "
            ],
            "text/plain": [
              "   gender race/ethnicity  ... writing score percentage\n",
              "0  female        group B  ...            74  72.666667\n",
              "1  female        group C  ...            88  82.333333\n",
              "2  female        group B  ...            93  92.666667\n",
              "3    male        group A  ...            44  49.333333\n",
              "4    male        group C  ...            75  76.333333\n",
              "\n",
              "[5 rows x 9 columns]"
            ]
          },
          "metadata": {},
          "execution_count": 63
        }
      ],
      "source": [
        "df['percentage']=(df['math score']+df['reading score']+df['writing score'])/3\n",
        "df.head()"
      ]
    },
    {
      "cell_type": "markdown",
      "metadata": {
        "id": "NoeWv01OBfh8"
      },
      "source": [
        "# Exploratory Analysis"
      ]
    },
    {
      "cell_type": "markdown",
      "metadata": {
        "id": "SGBCFur5Bfh9"
      },
      "source": [
        "## Univariate Analysis"
      ]
    },
    {
      "cell_type": "markdown",
      "metadata": {
        "id": "WlrjLRSXBfh-"
      },
      "source": [
        "### The frequency of diffrent parent level education\n",
        "#### this plot is plotted to inform about the diffrent parental levels of education and their frequency in data sets"
      ]
    },
    {
      "cell_type": "code",
      "execution_count": null,
      "metadata": {
        "colab": {
          "base_uri": "https://localhost:8080/",
          "height": 542
        },
        "id": "v_IxE3LrBfh_",
        "outputId": "a2e4f06d-6620-463f-c8c8-c971b9350bf2"
      },
      "outputs": [
        {
          "output_type": "display_data",
          "data": {
            "text/html": [
              "<html>\n",
              "<head><meta charset=\"utf-8\" /></head>\n",
              "<body>\n",
              "    <div>\n",
              "            <script src=\"https://cdnjs.cloudflare.com/ajax/libs/mathjax/2.7.5/MathJax.js?config=TeX-AMS-MML_SVG\"></script><script type=\"text/javascript\">if (window.MathJax) {MathJax.Hub.Config({SVG: {font: \"STIX-Web\"}});}</script>\n",
              "                <script type=\"text/javascript\">window.PlotlyConfig = {MathJaxConfig: 'local'};</script>\n",
              "        <script src=\"https://cdn.plot.ly/plotly-latest.min.js\"></script>    \n",
              "            <div id=\"57d85163-6528-40f9-94a0-9604713efb0f\" class=\"plotly-graph-div\" style=\"height:525px; width:100%;\"></div>\n",
              "            <script type=\"text/javascript\">\n",
              "                \n",
              "                    window.PLOTLYENV=window.PLOTLYENV || {};\n",
              "                    \n",
              "                if (document.getElementById(\"57d85163-6528-40f9-94a0-9604713efb0f\")) {\n",
              "                    Plotly.newPlot(\n",
              "                        '57d85163-6528-40f9-94a0-9604713efb0f',\n",
              "                        [{\"alignmentgroup\": \"True\", \"bingroup\": \"x\", \"hoverlabel\": {\"namelength\": 0}, \"hovertemplate\": \"parental level of education=%{x}<br>count=%{y}\", \"legendgroup\": \"\", \"marker\": {\"color\": \"#636efa\"}, \"name\": \"\", \"offsetgroup\": \"\", \"orientation\": \"v\", \"showlegend\": false, \"type\": \"histogram\", \"x\": [\"bachelor's degree\", \"some college\", \"master's degree\", \"associate's degree\", \"some college\", \"associate's degree\", \"some college\", \"some college\", \"high school\", \"high school\", \"associate's degree\", \"associate's degree\", \"high school\", \"some college\", \"master's degree\", \"some high school\", \"high school\", \"some high school\", \"master's degree\", \"associate's degree\", \"high school\", \"some college\", \"some college\", \"some high school\", \"bachelor's degree\", \"master's degree\", \"some college\", \"bachelor's degree\", \"high school\", \"master's degree\", \"some college\", \"some college\", \"master's degree\", \"some college\", \"some college\", \"associate's degree\", \"associate's degree\", \"some high school\", \"associate's degree\", \"associate's degree\", \"associate's degree\", \"associate's degree\", \"associate's degree\", \"some college\", \"associate's degree\", \"associate's degree\", \"associate's degree\", \"high school\", \"associate's degree\", \"high school\", \"some college\", \"associate's degree\", \"some college\", \"high school\", \"some high school\", \"high school\", \"associate's degree\", \"associate's degree\", \"some college\", \"some high school\", \"bachelor's degree\", \"some high school\", \"associate's degree\", \"associate's degree\", \"some high school\", \"some high school\", \"some high school\", \"some college\", \"associate's degree\", \"associate's degree\", \"some college\", \"some college\", \"associate's degree\", \"some high school\", \"some high school\", \"associate's degree\", \"some high school\", \"bachelor's degree\", \"some high school\", \"master's degree\", \"associate's degree\", \"high school\", \"some college\", \"associate's degree\", \"high school\", \"some college\", \"some college\", \"associate's degree\", \"some college\", \"some high school\", \"bachelor's degree\", \"high school\", \"high school\", \"associate's degree\", \"some college\", \"associate's degree\", \"some high school\", \"some college\", \"some college\", \"bachelor's degree\", \"some college\", \"bachelor's degree\", \"associate's degree\", \"high school\", \"some college\", \"some college\", \"master's degree\", \"associate's degree\", \"associate's degree\", \"some high school\", \"associate's degree\", \"high school\", \"associate's degree\", \"some college\", \"bachelor's degree\", \"high school\", \"bachelor's degree\", \"bachelor's degree\", \"some high school\", \"some college\", \"bachelor's degree\", \"associate's degree\", \"some college\", \"high school\", \"some college\", \"high school\", \"some high school\", \"some college\", \"master's degree\", \"bachelor's degree\", \"master's degree\", \"some high school\", \"some college\", \"some college\", \"bachelor's degree\", \"bachelor's degree\", \"some high school\", \"high school\", \"associate's degree\", \"some college\", \"some high school\", \"some college\", \"some college\", \"high school\", \"some college\", \"some college\", \"some high school\", \"associate's degree\", \"bachelor's degree\", \"associate's degree\", \"some high school\", \"bachelor's degree\", \"associate's degree\", \"bachelor's degree\", \"some high school\", \"some college\", \"high school\", \"some college\", \"associate's degree\", \"associate's degree\", \"associate's degree\", \"some college\", \"master's degree\", \"high school\", \"master's degree\", \"bachelor's degree\", \"high school\", \"master's degree\", \"high school\", \"some college\", \"high school\", \"some high school\", \"some college\", \"associate's degree\", \"bachelor's degree\", \"master's degree\", \"high school\", \"associate's degree\", \"master's degree\", \"some high school\", \"master's degree\", \"some college\", \"high school\", \"associate's degree\", \"some high school\", \"associate's degree\", \"high school\", \"some high school\", \"some high school\", \"bachelor's degree\", \"associate's degree\", \"some college\", \"some high school\", \"some college\", \"master's degree\", \"associate's degree\", \"some high school\", \"high school\", \"some college\", \"bachelor's degree\", \"associate's degree\", \"some college\", \"associate's degree\", \"associate's degree\", \"some college\", \"some high school\", \"bachelor's degree\", \"high school\", \"some college\", \"some college\", \"some high school\", \"some college\", \"high school\", \"associate's degree\", \"high school\", \"some high school\", \"associate's degree\", \"high school\", \"high school\", \"some high school\", \"high school\", \"associate's degree\", \"some high school\", \"some high school\", \"associate's degree\", \"master's degree\", \"some college\", \"high school\", \"some high school\", \"some college\", \"some college\", \"associate's degree\", \"bachelor's degree\", \"some high school\", \"bachelor's degree\", \"associate's degree\", \"bachelor's degree\", \"some high school\", \"some college\", \"associate's degree\", \"high school\", \"bachelor's degree\", \"high school\", \"some college\", \"some high school\", \"associate's degree\", \"associate's degree\", \"high school\", \"high school\", \"high school\", \"some high school\", \"some college\", \"some high school\", \"master's degree\", \"high school\", \"some college\", \"associate's degree\", \"associate's degree\", \"some college\", \"master's degree\", \"some high school\", \"some college\", \"some high school\", \"high school\", \"high school\", \"some high school\", \"bachelor's degree\", \"high school\", \"associate's degree\", \"some college\", \"bachelor's degree\", \"some college\", \"associate's degree\", \"some college\", \"some college\", \"bachelor's degree\", \"some high school\", \"high school\", \"some high school\", \"bachelor's degree\", \"high school\", \"high school\", \"bachelor's degree\", \"some college\", \"some high school\", \"associate's degree\", \"associate's degree\", \"some high school\", \"bachelor's degree\", \"some high school\", \"associate's degree\", \"some high school\", \"some high school\", \"bachelor's degree\", \"high school\", \"associate's degree\", \"some high school\", \"associate's degree\", \"high school\", \"associate's degree\", \"some college\", \"some high school\", \"associate's degree\", \"associate's degree\", \"associate's degree\", \"some college\", \"some college\", \"some high school\", \"associate's degree\", \"high school\", \"associate's degree\", \"bachelor's degree\", \"bachelor's degree\", \"associate's degree\", \"bachelor's degree\", \"high school\", \"master's degree\", \"associate's degree\", \"bachelor's degree\", \"associate's degree\", \"high school\", \"high school\", \"some college\", \"some high school\", \"high school\", \"some college\", \"some college\", \"some college\", \"associate's degree\", \"some high school\", \"high school\", \"associate's degree\", \"associate's degree\", \"associate's degree\", \"bachelor's degree\", \"some college\", \"some high school\", \"associate's degree\", \"some high school\", \"some high school\", \"high school\", \"high school\", \"high school\", \"associate's degree\", \"some college\", \"high school\", \"some college\", \"bachelor's degree\", \"high school\", \"associate's degree\", \"bachelor's degree\", \"some college\", \"some college\", \"associate's degree\", \"some college\", \"bachelor's degree\", \"associate's degree\", \"some college\", \"some college\", \"some college\", \"high school\", \"some high school\", \"some college\", \"some high school\", \"some college\", \"bachelor's degree\", \"high school\", \"bachelor's degree\", \"some high school\", \"some high school\", \"some college\", \"some college\", \"some high school\", \"some college\", \"bachelor's degree\", \"associate's degree\", \"some high school\", \"master's degree\", \"some high school\", \"bachelor's degree\", \"associate's degree\", \"associate's degree\", \"master's degree\", \"some high school\", \"some high school\", \"some college\", \"bachelor's degree\", \"associate's degree\", \"high school\", \"master's degree\", \"some high school\", \"some college\", \"some college\", \"associate's degree\", \"some high school\", \"high school\", \"high school\", \"associate's degree\", \"some high school\", \"some high school\", \"some high school\", \"some college\", \"some college\", \"high school\", \"high school\", \"some high school\", \"associate's degree\", \"associate's degree\", \"high school\", \"associate's degree\", \"master's degree\", \"some college\", \"associate's degree\", \"some high school\", \"bachelor's degree\", \"high school\", \"bachelor's degree\", \"associate's degree\", \"some college\", \"high school\", \"associate's degree\", \"high school\", \"master's degree\", \"some high school\", \"some college\", \"some college\", \"bachelor's degree\", \"some high school\", \"some high school\", \"some high school\", \"associate's degree\", \"high school\", \"high school\", \"some high school\", \"some high school\", \"some college\", \"associate's degree\", \"associate's degree\", \"high school\", \"some high school\", \"some college\", \"high school\", \"some high school\", \"associate's degree\", \"some high school\", \"some high school\", \"some college\", \"high school\", \"high school\", \"associate's degree\", \"some college\", \"some college\", \"associate's degree\", \"some college\", \"associate's degree\", \"bachelor's degree\", \"bachelor's degree\", \"associate's degree\", \"bachelor's degree\", \"high school\", \"bachelor's degree\", \"some college\", \"some college\", \"some college\", \"bachelor's degree\", \"some college\", \"associate's degree\", \"high school\", \"high school\", \"some college\", \"associate's degree\", \"high school\", \"associate's degree\", \"some high school\", \"associate's degree\", \"bachelor's degree\", \"bachelor's degree\", \"associate's degree\", \"master's degree\", \"associate's degree\", \"high school\", \"associate's degree\", \"some college\", \"high school\", \"associate's degree\", \"high school\", \"some college\", \"associate's degree\", \"some high school\", \"associate's degree\", \"associate's degree\", \"associate's degree\", \"some college\", \"bachelor's degree\", \"high school\", \"high school\", \"some college\", \"some college\", \"some high school\", \"some college\", \"master's degree\", \"associate's degree\", \"some college\", \"associate's degree\", \"master's degree\", \"some high school\", \"high school\", \"bachelor's degree\", \"master's degree\", \"bachelor's degree\", \"some college\", \"some high school\", \"some high school\", \"some high school\", \"master's degree\", \"some high school\", \"some college\", \"some college\", \"some high school\", \"high school\", \"some college\", \"associate's degree\", \"bachelor's degree\", \"master's degree\", \"high school\", \"some college\", \"some high school\", \"high school\", \"bachelor's degree\", \"associate's degree\", \"associate's degree\", \"some high school\", \"associate's degree\", \"associate's degree\", \"high school\", \"bachelor's degree\", \"associate's degree\", \"high school\", \"bachelor's degree\", \"associate's degree\", \"high school\", \"associate's degree\", \"associate's degree\", \"associate's degree\", \"master's degree\", \"some high school\", \"some high school\", \"high school\", \"high school\", \"master's degree\", \"some high school\", \"bachelor's degree\", \"associate's degree\", \"some college\", \"associate's degree\", \"some college\", \"associate's degree\", \"master's degree\", \"associate's degree\", \"some high school\", \"some college\", \"some college\", \"bachelor's degree\", \"some college\", \"bachelor's degree\", \"associate's degree\", \"bachelor's degree\", \"master's degree\", \"high school\", \"bachelor's degree\", \"some college\", \"bachelor's degree\", \"some college\", \"high school\", \"high school\", \"associate's degree\", \"some college\", \"high school\", \"some college\", \"master's degree\", \"some high school\", \"some high school\", \"bachelor's degree\", \"associate's degree\", \"some college\", \"associate's degree\", \"high school\", \"bachelor's degree\", \"some college\", \"some high school\", \"some college\", \"some high school\", \"bachelor's degree\", \"high school\", \"bachelor's degree\", \"bachelor's degree\", \"high school\", \"some high school\", \"high school\", \"some high school\", \"master's degree\", \"high school\", \"some college\", \"high school\", \"master's degree\", \"some high school\", \"associate's degree\", \"master's degree\", \"some college\", \"associate's degree\", \"some college\", \"some college\", \"bachelor's degree\", \"associate's degree\", \"associate's degree\", \"high school\", \"bachelor's degree\", \"bachelor's degree\", \"master's degree\", \"associate's degree\", \"high school\", \"bachelor's degree\", \"high school\", \"some college\", \"bachelor's degree\", \"some college\", \"associate's degree\", \"associate's degree\", \"some college\", \"some high school\", \"some college\", \"high school\", \"bachelor's degree\", \"high school\", \"some high school\", \"high school\", \"high school\", \"some high school\", \"some college\", \"associate's degree\", \"high school\", \"associate's degree\", \"some high school\", \"high school\", \"high school\", \"bachelor's degree\", \"associate's degree\", \"high school\", \"high school\", \"some college\", \"some high school\", \"high school\", \"some college\", \"associate's degree\", \"some high school\", \"some college\", \"associate's degree\", \"some high school\", \"associate's degree\", \"associate's degree\", \"some college\", \"some high school\", \"some college\", \"high school\", \"associate's degree\", \"some high school\", \"some college\", \"bachelor's degree\", \"some college\", \"associate's degree\", \"high school\", \"associate's degree\", \"some college\", \"associate's degree\", \"high school\", \"some college\", \"some college\", \"some high school\", \"associate's degree\", \"some college\", \"high school\", \"high school\", \"high school\", \"some high school\", \"some college\", \"master's degree\", \"some college\", \"associate's degree\", \"high school\", \"some college\", \"associate's degree\", \"associate's degree\", \"bachelor's degree\", \"associate's degree\", \"some high school\", \"some college\", \"associate's degree\", \"bachelor's degree\", \"associate's degree\", \"high school\", \"bachelor's degree\", \"some high school\", \"bachelor's degree\", \"some college\", \"some high school\", \"bachelor's degree\", \"high school\", \"some college\", \"high school\", \"associate's degree\", \"some college\", \"some high school\", \"some college\", \"master's degree\", \"some high school\", \"associate's degree\", \"associate's degree\", \"associate's degree\", \"high school\", \"associate's degree\", \"some college\", \"some high school\", \"some high school\", \"high school\", \"some college\", \"some college\", \"associate's degree\", \"some high school\", \"high school\", \"some college\", \"associate's degree\", \"some high school\", \"some college\", \"some high school\", \"some college\", \"master's degree\", \"associate's degree\", \"some college\", \"associate's degree\", \"high school\", \"bachelor's degree\", \"associate's degree\", \"high school\", \"associate's degree\", \"some college\", \"associate's degree\", \"high school\", \"some college\", \"bachelor's degree\", \"some college\", \"some high school\", \"some college\", \"master's degree\", \"some high school\", \"associate's degree\", \"associate's degree\", \"some college\", \"bachelor's degree\", \"some college\", \"some college\", \"high school\", \"some high school\", \"some high school\", \"high school\", \"some college\", \"high school\", \"high school\", \"high school\", \"some high school\", \"some college\", \"high school\", \"bachelor's degree\", \"some high school\", \"bachelor's degree\", \"some college\", \"some high school\", \"high school\", \"some college\", \"some college\", \"associate's degree\", \"associate's degree\", \"master's degree\", \"high school\", \"associate's degree\", \"bachelor's degree\", \"some high school\", \"some high school\", \"some college\", \"associate's degree\", \"master's degree\", \"high school\", \"some college\", \"high school\", \"some high school\", \"high school\", \"associate's degree\", \"high school\", \"associate's degree\", \"some college\", \"associate's degree\", \"some high school\", \"some high school\", \"associate's degree\", \"some college\", \"some college\", \"some college\", \"some college\", \"high school\", \"high school\", \"bachelor's degree\", \"some high school\", \"high school\", \"master's degree\", \"some high school\", \"high school\", \"some high school\", \"bachelor's degree\", \"bachelor's degree\", \"high school\", \"some high school\", \"some high school\", \"bachelor's degree\", \"some college\", \"high school\", \"some high school\", \"high school\", \"associate's degree\", \"some high school\", \"some high school\", \"some high school\", \"some college\", \"bachelor's degree\", \"bachelor's degree\", \"high school\", \"some college\", \"high school\", \"high school\", \"high school\", \"associate's degree\", \"associate's degree\", \"high school\", \"some high school\", \"high school\", \"some college\", \"some high school\", \"master's degree\", \"master's degree\", \"high school\", \"high school\", \"associate's degree\", \"master's degree\", \"high school\", \"some college\", \"some high school\", \"some high school\", \"bachelor's degree\", \"some college\", \"bachelor's degree\", \"high school\", \"associate's degree\", \"associate's degree\", \"master's degree\", \"bachelor's degree\", \"some college\", \"associate's degree\", \"some college\", \"high school\", \"associate's degree\", \"associate's degree\", \"associate's degree\", \"high school\", \"some college\", \"associate's degree\", \"associate's degree\", \"bachelor's degree\", \"some college\", \"some college\", \"some high school\", \"some high school\", \"associate's degree\", \"bachelor's degree\", \"bachelor's degree\", \"high school\", \"bachelor's degree\", \"associate's degree\", \"associate's degree\", \"associate's degree\", \"high school\", \"some college\", \"high school\", \"some college\", \"associate's degree\", \"master's degree\", \"some high school\", \"associate's degree\", \"some high school\", \"high school\", \"some high school\", \"associate's degree\", \"some high school\", \"master's degree\", \"master's degree\", \"high school\", \"bachelor's degree\", \"some high school\", \"some college\", \"high school\", \"some college\", \"bachelor's degree\", \"bachelor's degree\", \"bachelor's degree\", \"some college\", \"bachelor's degree\", \"bachelor's degree\", \"associate's degree\", \"some college\", \"bachelor's degree\", \"high school\", \"associate's degree\", \"some college\", \"high school\", \"high school\", \"high school\", \"associate's degree\", \"high school\", \"some high school\", \"associate's degree\", \"high school\", \"associate's degree\", \"some high school\", \"some college\", \"some college\", \"associate's degree\", \"bachelor's degree\", \"associate's degree\", \"some college\", \"associate's degree\", \"high school\", \"some college\", \"some high school\", \"master's degree\", \"master's degree\", \"high school\", \"some high school\", \"high school\", \"associate's degree\", \"high school\", \"some college\", \"some high school\", \"high school\", \"high school\", \"some college\", \"some high school\", \"high school\", \"some college\", \"associate's degree\", \"some college\", \"master's degree\", \"high school\", \"high school\", \"some college\", \"some high school\", \"associate's degree\", \"some high school\", \"some college\", \"some college\", \"some high school\", \"some college\", \"associate's degree\", \"bachelor's degree\", \"bachelor's degree\", \"some high school\", \"high school\", \"some college\", \"some college\", \"some college\", \"some college\", \"associate's degree\", \"high school\", \"associate's degree\", \"high school\", \"some high school\", \"some high school\", \"some college\", \"some high school\", \"high school\", \"associate's degree\", \"some high school\", \"some high school\", \"some college\", \"high school\", \"some high school\", \"associate's degree\", \"bachelor's degree\", \"high school\", \"master's degree\", \"high school\", \"high school\", \"some college\", \"some college\"], \"xaxis\": \"x\", \"yaxis\": \"y\"}],\n",
              "                        {\"barmode\": \"relative\", \"legend\": {\"tracegroupgap\": 0}, \"margin\": {\"t\": 60}, \"template\": {\"data\": {\"bar\": [{\"error_x\": {\"color\": \"#2a3f5f\"}, \"error_y\": {\"color\": \"#2a3f5f\"}, \"marker\": {\"line\": {\"color\": \"#E5ECF6\", \"width\": 0.5}}, \"type\": \"bar\"}], \"barpolar\": [{\"marker\": {\"line\": {\"color\": \"#E5ECF6\", \"width\": 0.5}}, \"type\": \"barpolar\"}], \"carpet\": [{\"aaxis\": {\"endlinecolor\": \"#2a3f5f\", \"gridcolor\": \"white\", \"linecolor\": \"white\", \"minorgridcolor\": \"white\", \"startlinecolor\": \"#2a3f5f\"}, \"baxis\": {\"endlinecolor\": \"#2a3f5f\", \"gridcolor\": \"white\", \"linecolor\": \"white\", \"minorgridcolor\": \"white\", \"startlinecolor\": \"#2a3f5f\"}, \"type\": \"carpet\"}], \"choropleth\": [{\"colorbar\": {\"outlinewidth\": 0, \"ticks\": \"\"}, \"type\": \"choropleth\"}], \"contour\": [{\"colorbar\": {\"outlinewidth\": 0, \"ticks\": \"\"}, \"colorscale\": [[0.0, \"#0d0887\"], [0.1111111111111111, \"#46039f\"], [0.2222222222222222, \"#7201a8\"], [0.3333333333333333, \"#9c179e\"], [0.4444444444444444, \"#bd3786\"], [0.5555555555555556, \"#d8576b\"], [0.6666666666666666, \"#ed7953\"], [0.7777777777777778, \"#fb9f3a\"], [0.8888888888888888, \"#fdca26\"], [1.0, \"#f0f921\"]], \"type\": \"contour\"}], \"contourcarpet\": [{\"colorbar\": {\"outlinewidth\": 0, \"ticks\": \"\"}, \"type\": \"contourcarpet\"}], \"heatmap\": [{\"colorbar\": {\"outlinewidth\": 0, \"ticks\": \"\"}, \"colorscale\": [[0.0, \"#0d0887\"], [0.1111111111111111, \"#46039f\"], [0.2222222222222222, \"#7201a8\"], [0.3333333333333333, \"#9c179e\"], [0.4444444444444444, \"#bd3786\"], [0.5555555555555556, \"#d8576b\"], [0.6666666666666666, \"#ed7953\"], [0.7777777777777778, \"#fb9f3a\"], [0.8888888888888888, \"#fdca26\"], [1.0, \"#f0f921\"]], \"type\": \"heatmap\"}], \"heatmapgl\": [{\"colorbar\": {\"outlinewidth\": 0, \"ticks\": \"\"}, \"colorscale\": [[0.0, \"#0d0887\"], [0.1111111111111111, \"#46039f\"], [0.2222222222222222, \"#7201a8\"], [0.3333333333333333, \"#9c179e\"], [0.4444444444444444, \"#bd3786\"], [0.5555555555555556, \"#d8576b\"], [0.6666666666666666, \"#ed7953\"], [0.7777777777777778, \"#fb9f3a\"], [0.8888888888888888, \"#fdca26\"], [1.0, \"#f0f921\"]], \"type\": \"heatmapgl\"}], \"histogram\": [{\"marker\": {\"colorbar\": {\"outlinewidth\": 0, \"ticks\": \"\"}}, \"type\": \"histogram\"}], \"histogram2d\": [{\"colorbar\": {\"outlinewidth\": 0, \"ticks\": \"\"}, \"colorscale\": [[0.0, \"#0d0887\"], [0.1111111111111111, \"#46039f\"], [0.2222222222222222, \"#7201a8\"], [0.3333333333333333, \"#9c179e\"], [0.4444444444444444, \"#bd3786\"], [0.5555555555555556, \"#d8576b\"], [0.6666666666666666, \"#ed7953\"], [0.7777777777777778, \"#fb9f3a\"], [0.8888888888888888, \"#fdca26\"], [1.0, \"#f0f921\"]], \"type\": \"histogram2d\"}], \"histogram2dcontour\": [{\"colorbar\": {\"outlinewidth\": 0, \"ticks\": \"\"}, \"colorscale\": [[0.0, \"#0d0887\"], [0.1111111111111111, \"#46039f\"], [0.2222222222222222, \"#7201a8\"], [0.3333333333333333, \"#9c179e\"], [0.4444444444444444, \"#bd3786\"], [0.5555555555555556, \"#d8576b\"], [0.6666666666666666, \"#ed7953\"], [0.7777777777777778, \"#fb9f3a\"], [0.8888888888888888, \"#fdca26\"], [1.0, \"#f0f921\"]], \"type\": \"histogram2dcontour\"}], \"mesh3d\": [{\"colorbar\": {\"outlinewidth\": 0, \"ticks\": \"\"}, \"type\": \"mesh3d\"}], \"parcoords\": [{\"line\": {\"colorbar\": {\"outlinewidth\": 0, \"ticks\": \"\"}}, \"type\": \"parcoords\"}], \"pie\": [{\"automargin\": true, \"type\": \"pie\"}], \"scatter\": [{\"marker\": {\"colorbar\": {\"outlinewidth\": 0, \"ticks\": \"\"}}, \"type\": \"scatter\"}], \"scatter3d\": [{\"line\": {\"colorbar\": {\"outlinewidth\": 0, \"ticks\": \"\"}}, \"marker\": {\"colorbar\": {\"outlinewidth\": 0, \"ticks\": \"\"}}, \"type\": \"scatter3d\"}], \"scattercarpet\": [{\"marker\": {\"colorbar\": {\"outlinewidth\": 0, \"ticks\": \"\"}}, \"type\": \"scattercarpet\"}], \"scattergeo\": [{\"marker\": {\"colorbar\": {\"outlinewidth\": 0, \"ticks\": \"\"}}, \"type\": \"scattergeo\"}], \"scattergl\": [{\"marker\": {\"colorbar\": {\"outlinewidth\": 0, \"ticks\": \"\"}}, \"type\": \"scattergl\"}], \"scattermapbox\": [{\"marker\": {\"colorbar\": {\"outlinewidth\": 0, \"ticks\": \"\"}}, \"type\": \"scattermapbox\"}], \"scatterpolar\": [{\"marker\": {\"colorbar\": {\"outlinewidth\": 0, \"ticks\": \"\"}}, \"type\": \"scatterpolar\"}], \"scatterpolargl\": [{\"marker\": {\"colorbar\": {\"outlinewidth\": 0, \"ticks\": \"\"}}, \"type\": \"scatterpolargl\"}], \"scatterternary\": [{\"marker\": {\"colorbar\": {\"outlinewidth\": 0, \"ticks\": \"\"}}, \"type\": \"scatterternary\"}], \"surface\": [{\"colorbar\": {\"outlinewidth\": 0, \"ticks\": \"\"}, \"colorscale\": [[0.0, \"#0d0887\"], [0.1111111111111111, \"#46039f\"], [0.2222222222222222, \"#7201a8\"], [0.3333333333333333, \"#9c179e\"], [0.4444444444444444, \"#bd3786\"], [0.5555555555555556, \"#d8576b\"], [0.6666666666666666, \"#ed7953\"], [0.7777777777777778, \"#fb9f3a\"], [0.8888888888888888, \"#fdca26\"], [1.0, \"#f0f921\"]], \"type\": \"surface\"}], \"table\": [{\"cells\": {\"fill\": {\"color\": \"#EBF0F8\"}, \"line\": {\"color\": \"white\"}}, \"header\": {\"fill\": {\"color\": \"#C8D4E3\"}, \"line\": {\"color\": \"white\"}}, \"type\": \"table\"}]}, \"layout\": {\"annotationdefaults\": {\"arrowcolor\": \"#2a3f5f\", \"arrowhead\": 0, \"arrowwidth\": 1}, \"coloraxis\": {\"colorbar\": {\"outlinewidth\": 0, \"ticks\": \"\"}}, \"colorscale\": {\"diverging\": [[0, \"#8e0152\"], [0.1, \"#c51b7d\"], [0.2, \"#de77ae\"], [0.3, \"#f1b6da\"], [0.4, \"#fde0ef\"], [0.5, \"#f7f7f7\"], [0.6, \"#e6f5d0\"], [0.7, \"#b8e186\"], [0.8, \"#7fbc41\"], [0.9, \"#4d9221\"], [1, \"#276419\"]], \"sequential\": [[0.0, \"#0d0887\"], [0.1111111111111111, \"#46039f\"], [0.2222222222222222, \"#7201a8\"], [0.3333333333333333, \"#9c179e\"], [0.4444444444444444, \"#bd3786\"], [0.5555555555555556, \"#d8576b\"], [0.6666666666666666, \"#ed7953\"], [0.7777777777777778, \"#fb9f3a\"], [0.8888888888888888, \"#fdca26\"], [1.0, \"#f0f921\"]], \"sequentialminus\": [[0.0, \"#0d0887\"], [0.1111111111111111, \"#46039f\"], [0.2222222222222222, \"#7201a8\"], [0.3333333333333333, \"#9c179e\"], [0.4444444444444444, \"#bd3786\"], [0.5555555555555556, \"#d8576b\"], [0.6666666666666666, \"#ed7953\"], [0.7777777777777778, \"#fb9f3a\"], [0.8888888888888888, \"#fdca26\"], [1.0, \"#f0f921\"]]}, \"colorway\": [\"#636efa\", \"#EF553B\", \"#00cc96\", \"#ab63fa\", \"#FFA15A\", \"#19d3f3\", \"#FF6692\", \"#B6E880\", \"#FF97FF\", \"#FECB52\"], \"font\": {\"color\": \"#2a3f5f\"}, \"geo\": {\"bgcolor\": \"white\", \"lakecolor\": \"white\", \"landcolor\": \"#E5ECF6\", \"showlakes\": true, \"showland\": true, \"subunitcolor\": \"white\"}, \"hoverlabel\": {\"align\": \"left\"}, \"hovermode\": \"closest\", \"mapbox\": {\"style\": \"light\"}, \"paper_bgcolor\": \"white\", \"plot_bgcolor\": \"#E5ECF6\", \"polar\": {\"angularaxis\": {\"gridcolor\": \"white\", \"linecolor\": \"white\", \"ticks\": \"\"}, \"bgcolor\": \"#E5ECF6\", \"radialaxis\": {\"gridcolor\": \"white\", \"linecolor\": \"white\", \"ticks\": \"\"}}, \"scene\": {\"xaxis\": {\"backgroundcolor\": \"#E5ECF6\", \"gridcolor\": \"white\", \"gridwidth\": 2, \"linecolor\": \"white\", \"showbackground\": true, \"ticks\": \"\", \"zerolinecolor\": \"white\"}, \"yaxis\": {\"backgroundcolor\": \"#E5ECF6\", \"gridcolor\": \"white\", \"gridwidth\": 2, \"linecolor\": \"white\", \"showbackground\": true, \"ticks\": \"\", \"zerolinecolor\": \"white\"}, \"zaxis\": {\"backgroundcolor\": \"#E5ECF6\", \"gridcolor\": \"white\", \"gridwidth\": 2, \"linecolor\": \"white\", \"showbackground\": true, \"ticks\": \"\", \"zerolinecolor\": \"white\"}}, \"shapedefaults\": {\"line\": {\"color\": \"#2a3f5f\"}}, \"ternary\": {\"aaxis\": {\"gridcolor\": \"white\", \"linecolor\": \"white\", \"ticks\": \"\"}, \"baxis\": {\"gridcolor\": \"white\", \"linecolor\": \"white\", \"ticks\": \"\"}, \"bgcolor\": \"#E5ECF6\", \"caxis\": {\"gridcolor\": \"white\", \"linecolor\": \"white\", \"ticks\": \"\"}}, \"title\": {\"x\": 0.05}, \"xaxis\": {\"automargin\": true, \"gridcolor\": \"white\", \"linecolor\": \"white\", \"ticks\": \"\", \"title\": {\"standoff\": 15}, \"zerolinecolor\": \"white\", \"zerolinewidth\": 2}, \"yaxis\": {\"automargin\": true, \"gridcolor\": \"white\", \"linecolor\": \"white\", \"ticks\": \"\", \"title\": {\"standoff\": 15}, \"zerolinecolor\": \"white\", \"zerolinewidth\": 2}}}, \"xaxis\": {\"anchor\": \"y\", \"domain\": [0.0, 1.0], \"title\": {\"text\": \"parental level of education\"}}, \"yaxis\": {\"anchor\": \"x\", \"domain\": [0.0, 1.0], \"title\": {\"text\": \"count\"}}},\n",
              "                        {\"responsive\": true}\n",
              "                    ).then(function(){\n",
              "                            \n",
              "var gd = document.getElementById('57d85163-6528-40f9-94a0-9604713efb0f');\n",
              "var x = new MutationObserver(function (mutations, observer) {{\n",
              "        var display = window.getComputedStyle(gd).display;\n",
              "        if (!display || display === 'none') {{\n",
              "            console.log([gd, 'removed!']);\n",
              "            Plotly.purge(gd);\n",
              "            observer.disconnect();\n",
              "        }}\n",
              "}});\n",
              "\n",
              "// Listen for the removal of the full notebook cells\n",
              "var notebookContainer = gd.closest('#notebook-container');\n",
              "if (notebookContainer) {{\n",
              "    x.observe(notebookContainer, {childList: true});\n",
              "}}\n",
              "\n",
              "// Listen for the clearing of the current output cell\n",
              "var outputEl = gd.closest('.output');\n",
              "if (outputEl) {{\n",
              "    x.observe(outputEl, {childList: true});\n",
              "}}\n",
              "\n",
              "                        })\n",
              "                };\n",
              "                \n",
              "            </script>\n",
              "        </div>\n",
              "</body>\n",
              "</html>"
            ]
          },
          "metadata": {}
        }
      ],
      "source": [
        "fig = px.histogram(df,x=\"parental level of education\")\n",
        "fig.show()"
      ]
    },
    {
      "cell_type": "markdown",
      "metadata": {
        "id": "qKutM3idBfiB"
      },
      "source": [
        "### The frequency of diffrent races or groups\n",
        "#### This plot is constructed to determine the minor and most commpn races in the dataset to be analyzed later to determine is there any bias or discrimination against certain races  "
      ]
    },
    {
      "cell_type": "code",
      "execution_count": null,
      "metadata": {
        "colab": {
          "base_uri": "https://localhost:8080/",
          "height": 542
        },
        "id": "jhGtPjNVFd3g",
        "outputId": "3d32e634-4a6e-4da4-d3d0-6ec8a798b2ff"
      },
      "outputs": [
        {
          "output_type": "display_data",
          "data": {
            "text/html": [
              "<html>\n",
              "<head><meta charset=\"utf-8\" /></head>\n",
              "<body>\n",
              "    <div>\n",
              "            <script src=\"https://cdnjs.cloudflare.com/ajax/libs/mathjax/2.7.5/MathJax.js?config=TeX-AMS-MML_SVG\"></script><script type=\"text/javascript\">if (window.MathJax) {MathJax.Hub.Config({SVG: {font: \"STIX-Web\"}});}</script>\n",
              "                <script type=\"text/javascript\">window.PlotlyConfig = {MathJaxConfig: 'local'};</script>\n",
              "        <script src=\"https://cdn.plot.ly/plotly-latest.min.js\"></script>    \n",
              "            <div id=\"c58fe67c-58ad-42a5-95bf-9dda40f9b76c\" class=\"plotly-graph-div\" style=\"height:525px; width:100%;\"></div>\n",
              "            <script type=\"text/javascript\">\n",
              "                \n",
              "                    window.PLOTLYENV=window.PLOTLYENV || {};\n",
              "                    \n",
              "                if (document.getElementById(\"c58fe67c-58ad-42a5-95bf-9dda40f9b76c\")) {\n",
              "                    Plotly.newPlot(\n",
              "                        'c58fe67c-58ad-42a5-95bf-9dda40f9b76c',\n",
              "                        [{\"alignmentgroup\": \"True\", \"bingroup\": \"x\", \"hoverlabel\": {\"namelength\": 0}, \"hovertemplate\": \"race/ethnicity=%{x}<br>count=%{y}\", \"legendgroup\": \"\", \"marker\": {\"color\": \"#636efa\"}, \"name\": \"\", \"offsetgroup\": \"\", \"orientation\": \"v\", \"showlegend\": false, \"type\": \"histogram\", \"x\": [\"group B\", \"group C\", \"group B\", \"group A\", \"group C\", \"group B\", \"group B\", \"group B\", \"group D\", \"group B\", \"group C\", \"group D\", \"group B\", \"group A\", \"group A\", \"group C\", \"group C\", \"group B\", \"group C\", \"group C\", \"group D\", \"group B\", \"group D\", \"group C\", \"group D\", \"group A\", \"group B\", \"group C\", \"group C\", \"group D\", \"group D\", \"group B\", \"group E\", \"group D\", \"group E\", \"group E\", \"group D\", \"group D\", \"group D\", \"group B\", \"group C\", \"group C\", \"group B\", \"group B\", \"group E\", \"group B\", \"group A\", \"group C\", \"group D\", \"group C\", \"group E\", \"group E\", \"group C\", \"group D\", \"group C\", \"group C\", \"group E\", \"group D\", \"group D\", \"group C\", \"group E\", \"group A\", \"group A\", \"group C\", \"group D\", \"group B\", \"group D\", \"group C\", \"group B\", \"group C\", \"group D\", \"group D\", \"group A\", \"group C\", \"group C\", \"group B\", \"group E\", \"group A\", \"group D\", \"group E\", \"group B\", \"group B\", \"group A\", \"group E\", \"group D\", \"group C\", \"group C\", \"group D\", \"group A\", \"group D\", \"group C\", \"group C\", \"group C\", \"group C\", \"group B\", \"group C\", \"group B\", \"group E\", \"group D\", \"group D\", \"group B\", \"group D\", \"group D\", \"group B\", \"group C\", \"group C\", \"group D\", \"group E\", \"group B\", \"group B\", \"group D\", \"group C\", \"group A\", \"group D\", \"group E\", \"group C\", \"group B\", \"group D\", \"group D\", \"group C\", \"group C\", \"group B\", \"group C\", \"group D\", \"group E\", \"group B\", \"group B\", \"group D\", \"group D\", \"group A\", \"group D\", \"group C\", \"group E\", \"group C\", \"group D\", \"group C\", \"group B\", \"group E\", \"group C\", \"group D\", \"group D\", \"group C\", \"group E\", \"group A\", \"group D\", \"group C\", \"group B\", \"group C\", \"group D\", \"group E\", \"group A\", \"group A\", \"group B\", \"group D\", \"group D\", \"group C\", \"group E\", \"group B\", \"group B\", \"group D\", \"group B\", \"group E\", \"group B\", \"group C\", \"group E\", \"group C\", \"group C\", \"group B\", \"group B\", \"group C\", \"group A\", \"group E\", \"group D\", \"group C\", \"group C\", \"group C\", \"group B\", \"group C\", \"group B\", \"group D\", \"group C\", \"group C\", \"group E\", \"group D\", \"group C\", \"group C\", \"group E\", \"group D\", \"group B\", \"group C\", \"group E\", \"group D\", \"group B\", \"group D\", \"group C\", \"group D\", \"group C\", \"group E\", \"group B\", \"group B\", \"group C\", \"group D\", \"group C\", \"group B\", \"group C\", \"group D\", \"group E\", \"group E\", \"group B\", \"group B\", \"group D\", \"group C\", \"group C\", \"group C\", \"group E\", \"group B\", \"group E\", \"group C\", \"group B\", \"group B\", \"group D\", \"group B\", \"group C\", \"group D\", \"group B\", \"group E\", \"group C\", \"group D\", \"group A\", \"group C\", \"group D\", \"group C\", \"group B\", \"group E\", \"group C\", \"group D\", \"group D\", \"group D\", \"group B\", \"group C\", \"group D\", \"group E\", \"group D\", \"group E\", \"group D\", \"group C\", \"group E\", \"group B\", \"group B\", \"group C\", \"group A\", \"group D\", \"group B\", \"group D\", \"group D\", \"group E\", \"group C\", \"group C\", \"group B\", \"group C\", \"group C\", \"group C\", \"group C\", \"group E\", \"group D\", \"group D\", \"group C\", \"group D\", \"group D\", \"group E\", \"group C\", \"group C\", \"group D\", \"group D\", \"group B\", \"group C\", \"group C\", \"group E\", \"group C\", \"group B\", \"group D\", \"group D\", \"group D\", \"group D\", \"group B\", \"group B\", \"group E\", \"group B\", \"group B\", \"group E\", \"group C\", \"group D\", \"group C\", \"group E\", \"group D\", \"group B\", \"group A\", \"group E\", \"group C\", \"group D\", \"group A\", \"group D\", \"group C\", \"group B\", \"group C\", \"group A\", \"group E\", \"group C\", \"group B\", \"group D\", \"group B\", \"group B\", \"group D\", \"group C\", \"group C\", \"group C\", \"group D\", \"group C\", \"group B\", \"group D\", \"group C\", \"group E\", \"group C\", \"group C\", \"group C\", \"group C\", \"group C\", \"group A\", \"group C\", \"group B\", \"group C\", \"group C\", \"group E\", \"group B\", \"group C\", \"group B\", \"group D\", \"group C\", \"group B\", \"group D\", \"group C\", \"group C\", \"group B\", \"group D\", \"group D\", \"group C\", \"group B\", \"group C\", \"group D\", \"group E\", \"group B\", \"group E\", \"group C\", \"group C\", \"group C\", \"group B\", \"group A\", \"group C\", \"group D\", \"group D\", \"group B\", \"group B\", \"group C\", \"group D\", \"group C\", \"group A\", \"group C\", \"group C\", \"group A\", \"group D\", \"group E\", \"group C\", \"group D\", \"group D\", \"group D\", \"group E\", \"group D\", \"group D\", \"group A\", \"group A\", \"group B\", \"group C\", \"group C\", \"group E\", \"group A\", \"group E\", \"group E\", \"group C\", \"group D\", \"group D\", \"group E\", \"group D\", \"group E\", \"group C\", \"group C\", \"group A\", \"group B\", \"group C\", \"group B\", \"group D\", \"group C\", \"group A\", \"group A\", \"group D\", \"group C\", \"group C\", \"group B\", \"group B\", \"group D\", \"group D\", \"group D\", \"group E\", \"group D\", \"group B\", \"group C\", \"group E\", \"group C\", \"group C\", \"group D\", \"group E\", \"group C\", \"group D\", \"group D\", \"group A\", \"group B\", \"group C\", \"group C\", \"group C\", \"group A\", \"group C\", \"group C\", \"group C\", \"group C\", \"group A\", \"group C\", \"group C\", \"group D\", \"group D\", \"group C\", \"group D\", \"group C\", \"group D\", \"group A\", \"group B\", \"group A\", \"group C\", \"group D\", \"group C\", \"group B\", \"group B\", \"group C\", \"group E\", \"group C\", \"group C\", \"group C\", \"group C\", \"group D\", \"group D\", \"group E\", \"group B\", \"group C\", \"group B\", \"group E\", \"group C\", \"group A\", \"group C\", \"group D\", \"group A\", \"group A\", \"group C\", \"group C\", \"group C\", \"group C\", \"group D\", \"group B\", \"group D\", \"group E\", \"group D\", \"group D\", \"group E\", \"group B\", \"group D\", \"group C\", \"group A\", \"group B\", \"group C\", \"group D\", \"group C\", \"group B\", \"group A\", \"group A\", \"group C\", \"group C\", \"group C\", \"group B\", \"group D\", \"group C\", \"group D\", \"group B\", \"group E\", \"group D\", \"group B\", \"group C\", \"group E\", \"group D\", \"group B\", \"group A\", \"group B\", \"group C\", \"group C\", \"group D\", \"group A\", \"group D\", \"group B\", \"group B\", \"group C\", \"group D\", \"group E\", \"group D\", \"group B\", \"group D\", \"group C\", \"group D\", \"group C\", \"group C\", \"group E\", \"group C\", \"group C\", \"group D\", \"group C\", \"group C\", \"group C\", \"group E\", \"group E\", \"group B\", \"group C\", \"group C\", \"group D\", \"group E\", \"group A\", \"group C\", \"group D\", \"group C\", \"group D\", \"group D\", \"group E\", \"group A\", \"group C\", \"group C\", \"group C\", \"group C\", \"group B\", \"group B\", \"group D\", \"group E\", \"group C\", \"group C\", \"group C\", \"group B\", \"group D\", \"group D\", \"group C\", \"group C\", \"group D\", \"group B\", \"group B\", \"group E\", \"group D\", \"group B\", \"group D\", \"group B\", \"group A\", \"group C\", \"group C\", \"group E\", \"group A\", \"group A\", \"group B\", \"group B\", \"group D\", \"group D\", \"group E\", \"group D\", \"group D\", \"group D\", \"group C\", \"group A\", \"group C\", \"group C\", \"group A\", \"group C\", \"group A\", \"group E\", \"group E\", \"group C\", \"group C\", \"group B\", \"group A\", \"group D\", \"group D\", \"group D\", \"group C\", \"group E\", \"group D\", \"group D\", \"group C\", \"group C\", \"group C\", \"group E\", \"group B\", \"group D\", \"group C\", \"group C\", \"group C\", \"group A\", \"group C\", \"group E\", \"group D\", \"group D\", \"group C\", \"group C\", \"group B\", \"group C\", \"group A\", \"group E\", \"group D\", \"group B\", \"group D\", \"group D\", \"group C\", \"group D\", \"group B\", \"group B\", \"group C\", \"group D\", \"group A\", \"group B\", \"group D\", \"group E\", \"group D\", \"group D\", \"group D\", \"group B\", \"group E\", \"group B\", \"group B\", \"group D\", \"group E\", \"group B\", \"group D\", \"group C\", \"group A\", \"group D\", \"group A\", \"group B\", \"group B\", \"group C\", \"group D\", \"group D\", \"group D\", \"group C\", \"group C\", \"group D\", \"group C\", \"group D\", \"group C\", \"group C\", \"group B\", \"group C\", \"group D\", \"group C\", \"group D\", \"group C\", \"group C\", \"group D\", \"group B\", \"group E\", \"group C\", \"group D\", \"group D\", \"group D\", \"group B\", \"group B\", \"group C\", \"group B\", \"group E\", \"group E\", \"group D\", \"group A\", \"group E\", \"group C\", \"group E\", \"group C\", \"group D\", \"group C\", \"group D\", \"group C\", \"group A\", \"group D\", \"group C\", \"group E\", \"group B\", \"group A\", \"group D\", \"group B\", \"group A\", \"group D\", \"group C\", \"group D\", \"group D\", \"group C\", \"group E\", \"group D\", \"group D\", \"group B\", \"group B\", \"group C\", \"group C\", \"group C\", \"group E\", \"group C\", \"group D\", \"group B\", \"group C\", \"group B\", \"group E\", \"group E\", \"group E\", \"group D\", \"group C\", \"group B\", \"group A\", \"group C\", \"group D\", \"group E\", \"group C\", \"group C\", \"group B\", \"group D\", \"group C\", \"group D\", \"group A\", \"group C\", \"group C\", \"group B\", \"group D\", \"group D\", \"group C\", \"group C\", \"group B\", \"group D\", \"group E\", \"group C\", \"group C\", \"group C\", \"group E\", \"group D\", \"group E\", \"group D\", \"group B\", \"group C\", \"group D\", \"group D\", \"group B\", \"group D\", \"group B\", \"group C\", \"group B\", \"group D\", \"group A\", \"group B\", \"group D\", \"group B\", \"group C\", \"group B\", \"group B\", \"group B\", \"group C\", \"group A\", \"group E\", \"group D\", \"group B\", \"group B\", \"group C\", \"group C\", \"group B\", \"group E\", \"group B\", \"group C\", \"group C\", \"group B\", \"group D\", \"group D\", \"group E\", \"group B\", \"group E\", \"group D\", \"group E\", \"group E\", \"group C\", \"group C\", \"group C\", \"group E\", \"group B\", \"group C\", \"group A\", \"group D\", \"group E\", \"group C\", \"group B\", \"group A\", \"group A\", \"group C\", \"group E\", \"group C\", \"group B\", \"group A\", \"group D\", \"group B\", \"group C\", \"group A\", \"group D\", \"group E\", \"group B\", \"group C\", \"group C\", \"group C\", \"group C\", \"group D\", \"group B\", \"group A\", \"group C\", \"group A\", \"group B\", \"group B\", \"group C\", \"group E\", \"group A\", \"group B\", \"group C\", \"group D\", \"group C\", \"group B\", \"group B\", \"group D\", \"group E\", \"group C\", \"group D\", \"group C\", \"group D\", \"group C\", \"group A\", \"group E\", \"group E\", \"group C\", \"group B\", \"group B\", \"group C\", \"group B\", \"group C\", \"group C\", \"group E\", \"group D\", \"group C\", \"group C\", \"group D\", \"group C\", \"group B\", \"group E\", \"group C\", \"group B\", \"group C\", \"group B\", \"group E\", \"group C\", \"group C\", \"group D\", \"group C\", \"group D\", \"group D\", \"group C\", \"group E\", \"group B\", \"group D\", \"group E\", \"group C\", \"group E\", \"group C\", \"group D\", \"group D\", \"group E\", \"group E\", \"group A\", \"group D\", \"group E\", \"group E\", \"group B\", \"group B\", \"group D\", \"group D\", \"group D\", \"group C\", \"group A\", \"group D\", \"group D\", \"group D\", \"group B\", \"group D\", \"group C\", \"group E\", \"group D\", \"group A\", \"group C\", \"group C\", \"group B\", \"group E\", \"group E\", \"group C\", \"group C\", \"group B\", \"group D\", \"group C\", \"group D\", \"group B\", \"group D\", \"group E\", \"group E\", \"group D\", \"group E\", \"group C\", \"group C\", \"group D\", \"group D\", \"group C\", \"group C\", \"group D\", \"group A\", \"group E\", \"group D\", \"group D\", \"group C\", \"group D\", \"group C\", \"group A\", \"group B\", \"group C\", \"group B\", \"group D\", \"group B\", \"group E\", \"group E\", \"group D\", \"group E\", \"group C\", \"group C\", \"group E\", \"group C\", \"group D\", \"group D\", \"group C\", \"group A\", \"group D\", \"group E\", \"group C\", \"group D\", \"group D\", \"group A\", \"group C\", \"group E\", \"group B\", \"group D\", \"group C\", \"group A\", \"group D\", \"group A\", \"group C\", \"group B\", \"group C\", \"group D\", \"group C\", \"group B\", \"group D\", \"group B\", \"group A\", \"group C\", \"group A\", \"group C\", \"group E\", \"group A\", \"group D\", \"group E\", \"group B\", \"group D\", \"group D\", \"group A\", \"group E\", \"group C\", \"group C\", \"group D\", \"group D\"], \"xaxis\": \"x\", \"yaxis\": \"y\"}],\n",
              "                        {\"barmode\": \"relative\", \"legend\": {\"tracegroupgap\": 0}, \"margin\": {\"t\": 60}, \"template\": {\"data\": {\"bar\": [{\"error_x\": {\"color\": \"#2a3f5f\"}, \"error_y\": {\"color\": \"#2a3f5f\"}, \"marker\": {\"line\": {\"color\": \"#E5ECF6\", \"width\": 0.5}}, \"type\": \"bar\"}], \"barpolar\": [{\"marker\": {\"line\": {\"color\": \"#E5ECF6\", \"width\": 0.5}}, \"type\": \"barpolar\"}], \"carpet\": [{\"aaxis\": {\"endlinecolor\": \"#2a3f5f\", \"gridcolor\": \"white\", \"linecolor\": \"white\", \"minorgridcolor\": \"white\", \"startlinecolor\": \"#2a3f5f\"}, \"baxis\": {\"endlinecolor\": \"#2a3f5f\", \"gridcolor\": \"white\", \"linecolor\": \"white\", \"minorgridcolor\": \"white\", \"startlinecolor\": \"#2a3f5f\"}, \"type\": \"carpet\"}], \"choropleth\": [{\"colorbar\": {\"outlinewidth\": 0, \"ticks\": \"\"}, \"type\": \"choropleth\"}], \"contour\": [{\"colorbar\": {\"outlinewidth\": 0, \"ticks\": \"\"}, \"colorscale\": [[0.0, \"#0d0887\"], [0.1111111111111111, \"#46039f\"], [0.2222222222222222, \"#7201a8\"], [0.3333333333333333, \"#9c179e\"], [0.4444444444444444, \"#bd3786\"], [0.5555555555555556, \"#d8576b\"], [0.6666666666666666, \"#ed7953\"], [0.7777777777777778, \"#fb9f3a\"], [0.8888888888888888, \"#fdca26\"], [1.0, \"#f0f921\"]], \"type\": \"contour\"}], \"contourcarpet\": [{\"colorbar\": {\"outlinewidth\": 0, \"ticks\": \"\"}, \"type\": \"contourcarpet\"}], \"heatmap\": [{\"colorbar\": {\"outlinewidth\": 0, \"ticks\": \"\"}, \"colorscale\": [[0.0, \"#0d0887\"], [0.1111111111111111, \"#46039f\"], [0.2222222222222222, \"#7201a8\"], [0.3333333333333333, \"#9c179e\"], [0.4444444444444444, \"#bd3786\"], [0.5555555555555556, \"#d8576b\"], [0.6666666666666666, \"#ed7953\"], [0.7777777777777778, \"#fb9f3a\"], [0.8888888888888888, \"#fdca26\"], [1.0, \"#f0f921\"]], \"type\": \"heatmap\"}], \"heatmapgl\": [{\"colorbar\": {\"outlinewidth\": 0, \"ticks\": \"\"}, \"colorscale\": [[0.0, \"#0d0887\"], [0.1111111111111111, \"#46039f\"], [0.2222222222222222, \"#7201a8\"], [0.3333333333333333, \"#9c179e\"], [0.4444444444444444, \"#bd3786\"], [0.5555555555555556, \"#d8576b\"], [0.6666666666666666, \"#ed7953\"], [0.7777777777777778, \"#fb9f3a\"], [0.8888888888888888, \"#fdca26\"], [1.0, \"#f0f921\"]], \"type\": \"heatmapgl\"}], \"histogram\": [{\"marker\": {\"colorbar\": {\"outlinewidth\": 0, \"ticks\": \"\"}}, \"type\": \"histogram\"}], \"histogram2d\": [{\"colorbar\": {\"outlinewidth\": 0, \"ticks\": \"\"}, \"colorscale\": [[0.0, \"#0d0887\"], [0.1111111111111111, \"#46039f\"], [0.2222222222222222, \"#7201a8\"], [0.3333333333333333, \"#9c179e\"], [0.4444444444444444, \"#bd3786\"], [0.5555555555555556, \"#d8576b\"], [0.6666666666666666, \"#ed7953\"], [0.7777777777777778, \"#fb9f3a\"], [0.8888888888888888, \"#fdca26\"], [1.0, \"#f0f921\"]], \"type\": \"histogram2d\"}], \"histogram2dcontour\": [{\"colorbar\": {\"outlinewidth\": 0, \"ticks\": \"\"}, \"colorscale\": [[0.0, \"#0d0887\"], [0.1111111111111111, \"#46039f\"], [0.2222222222222222, \"#7201a8\"], [0.3333333333333333, \"#9c179e\"], [0.4444444444444444, \"#bd3786\"], [0.5555555555555556, \"#d8576b\"], [0.6666666666666666, \"#ed7953\"], [0.7777777777777778, \"#fb9f3a\"], [0.8888888888888888, \"#fdca26\"], [1.0, \"#f0f921\"]], \"type\": \"histogram2dcontour\"}], \"mesh3d\": [{\"colorbar\": {\"outlinewidth\": 0, \"ticks\": \"\"}, \"type\": \"mesh3d\"}], \"parcoords\": [{\"line\": {\"colorbar\": {\"outlinewidth\": 0, \"ticks\": \"\"}}, \"type\": \"parcoords\"}], \"pie\": [{\"automargin\": true, \"type\": \"pie\"}], \"scatter\": [{\"marker\": {\"colorbar\": {\"outlinewidth\": 0, \"ticks\": \"\"}}, \"type\": \"scatter\"}], \"scatter3d\": [{\"line\": {\"colorbar\": {\"outlinewidth\": 0, \"ticks\": \"\"}}, \"marker\": {\"colorbar\": {\"outlinewidth\": 0, \"ticks\": \"\"}}, \"type\": \"scatter3d\"}], \"scattercarpet\": [{\"marker\": {\"colorbar\": {\"outlinewidth\": 0, \"ticks\": \"\"}}, \"type\": \"scattercarpet\"}], \"scattergeo\": [{\"marker\": {\"colorbar\": {\"outlinewidth\": 0, \"ticks\": \"\"}}, \"type\": \"scattergeo\"}], \"scattergl\": [{\"marker\": {\"colorbar\": {\"outlinewidth\": 0, \"ticks\": \"\"}}, \"type\": \"scattergl\"}], \"scattermapbox\": [{\"marker\": {\"colorbar\": {\"outlinewidth\": 0, \"ticks\": \"\"}}, \"type\": \"scattermapbox\"}], \"scatterpolar\": [{\"marker\": {\"colorbar\": {\"outlinewidth\": 0, \"ticks\": \"\"}}, \"type\": \"scatterpolar\"}], \"scatterpolargl\": [{\"marker\": {\"colorbar\": {\"outlinewidth\": 0, \"ticks\": \"\"}}, \"type\": \"scatterpolargl\"}], \"scatterternary\": [{\"marker\": {\"colorbar\": {\"outlinewidth\": 0, \"ticks\": \"\"}}, \"type\": \"scatterternary\"}], \"surface\": [{\"colorbar\": {\"outlinewidth\": 0, \"ticks\": \"\"}, \"colorscale\": [[0.0, \"#0d0887\"], [0.1111111111111111, \"#46039f\"], [0.2222222222222222, \"#7201a8\"], [0.3333333333333333, \"#9c179e\"], [0.4444444444444444, \"#bd3786\"], [0.5555555555555556, \"#d8576b\"], [0.6666666666666666, \"#ed7953\"], [0.7777777777777778, \"#fb9f3a\"], [0.8888888888888888, \"#fdca26\"], [1.0, \"#f0f921\"]], \"type\": \"surface\"}], \"table\": [{\"cells\": {\"fill\": {\"color\": \"#EBF0F8\"}, \"line\": {\"color\": \"white\"}}, \"header\": {\"fill\": {\"color\": \"#C8D4E3\"}, \"line\": {\"color\": \"white\"}}, \"type\": \"table\"}]}, \"layout\": {\"annotationdefaults\": {\"arrowcolor\": \"#2a3f5f\", \"arrowhead\": 0, \"arrowwidth\": 1}, \"coloraxis\": {\"colorbar\": {\"outlinewidth\": 0, \"ticks\": \"\"}}, \"colorscale\": {\"diverging\": [[0, \"#8e0152\"], [0.1, \"#c51b7d\"], [0.2, \"#de77ae\"], [0.3, \"#f1b6da\"], [0.4, \"#fde0ef\"], [0.5, \"#f7f7f7\"], [0.6, \"#e6f5d0\"], [0.7, \"#b8e186\"], [0.8, \"#7fbc41\"], [0.9, \"#4d9221\"], [1, \"#276419\"]], \"sequential\": [[0.0, \"#0d0887\"], [0.1111111111111111, \"#46039f\"], [0.2222222222222222, \"#7201a8\"], [0.3333333333333333, \"#9c179e\"], [0.4444444444444444, \"#bd3786\"], [0.5555555555555556, \"#d8576b\"], [0.6666666666666666, \"#ed7953\"], [0.7777777777777778, \"#fb9f3a\"], [0.8888888888888888, \"#fdca26\"], [1.0, \"#f0f921\"]], \"sequentialminus\": [[0.0, \"#0d0887\"], [0.1111111111111111, \"#46039f\"], [0.2222222222222222, \"#7201a8\"], [0.3333333333333333, \"#9c179e\"], [0.4444444444444444, \"#bd3786\"], [0.5555555555555556, \"#d8576b\"], [0.6666666666666666, \"#ed7953\"], [0.7777777777777778, \"#fb9f3a\"], [0.8888888888888888, \"#fdca26\"], [1.0, \"#f0f921\"]]}, \"colorway\": [\"#636efa\", \"#EF553B\", \"#00cc96\", \"#ab63fa\", \"#FFA15A\", \"#19d3f3\", \"#FF6692\", \"#B6E880\", \"#FF97FF\", \"#FECB52\"], \"font\": {\"color\": \"#2a3f5f\"}, \"geo\": {\"bgcolor\": \"white\", \"lakecolor\": \"white\", \"landcolor\": \"#E5ECF6\", \"showlakes\": true, \"showland\": true, \"subunitcolor\": \"white\"}, \"hoverlabel\": {\"align\": \"left\"}, \"hovermode\": \"closest\", \"mapbox\": {\"style\": \"light\"}, \"paper_bgcolor\": \"white\", \"plot_bgcolor\": \"#E5ECF6\", \"polar\": {\"angularaxis\": {\"gridcolor\": \"white\", \"linecolor\": \"white\", \"ticks\": \"\"}, \"bgcolor\": \"#E5ECF6\", \"radialaxis\": {\"gridcolor\": \"white\", \"linecolor\": \"white\", \"ticks\": \"\"}}, \"scene\": {\"xaxis\": {\"backgroundcolor\": \"#E5ECF6\", \"gridcolor\": \"white\", \"gridwidth\": 2, \"linecolor\": \"white\", \"showbackground\": true, \"ticks\": \"\", \"zerolinecolor\": \"white\"}, \"yaxis\": {\"backgroundcolor\": \"#E5ECF6\", \"gridcolor\": \"white\", \"gridwidth\": 2, \"linecolor\": \"white\", \"showbackground\": true, \"ticks\": \"\", \"zerolinecolor\": \"white\"}, \"zaxis\": {\"backgroundcolor\": \"#E5ECF6\", \"gridcolor\": \"white\", \"gridwidth\": 2, \"linecolor\": \"white\", \"showbackground\": true, \"ticks\": \"\", \"zerolinecolor\": \"white\"}}, \"shapedefaults\": {\"line\": {\"color\": \"#2a3f5f\"}}, \"ternary\": {\"aaxis\": {\"gridcolor\": \"white\", \"linecolor\": \"white\", \"ticks\": \"\"}, \"baxis\": {\"gridcolor\": \"white\", \"linecolor\": \"white\", \"ticks\": \"\"}, \"bgcolor\": \"#E5ECF6\", \"caxis\": {\"gridcolor\": \"white\", \"linecolor\": \"white\", \"ticks\": \"\"}}, \"title\": {\"x\": 0.05}, \"xaxis\": {\"automargin\": true, \"gridcolor\": \"white\", \"linecolor\": \"white\", \"ticks\": \"\", \"title\": {\"standoff\": 15}, \"zerolinecolor\": \"white\", \"zerolinewidth\": 2}, \"yaxis\": {\"automargin\": true, \"gridcolor\": \"white\", \"linecolor\": \"white\", \"ticks\": \"\", \"title\": {\"standoff\": 15}, \"zerolinecolor\": \"white\", \"zerolinewidth\": 2}}}, \"xaxis\": {\"anchor\": \"y\", \"domain\": [0.0, 1.0], \"title\": {\"text\": \"race/ethnicity\"}}, \"yaxis\": {\"anchor\": \"x\", \"domain\": [0.0, 1.0], \"title\": {\"text\": \"count\"}}},\n",
              "                        {\"responsive\": true}\n",
              "                    ).then(function(){\n",
              "                            \n",
              "var gd = document.getElementById('c58fe67c-58ad-42a5-95bf-9dda40f9b76c');\n",
              "var x = new MutationObserver(function (mutations, observer) {{\n",
              "        var display = window.getComputedStyle(gd).display;\n",
              "        if (!display || display === 'none') {{\n",
              "            console.log([gd, 'removed!']);\n",
              "            Plotly.purge(gd);\n",
              "            observer.disconnect();\n",
              "        }}\n",
              "}});\n",
              "\n",
              "// Listen for the removal of the full notebook cells\n",
              "var notebookContainer = gd.closest('#notebook-container');\n",
              "if (notebookContainer) {{\n",
              "    x.observe(notebookContainer, {childList: true});\n",
              "}}\n",
              "\n",
              "// Listen for the clearing of the current output cell\n",
              "var outputEl = gd.closest('.output');\n",
              "if (outputEl) {{\n",
              "    x.observe(outputEl, {childList: true});\n",
              "}}\n",
              "\n",
              "                        })\n",
              "                };\n",
              "                \n",
              "            </script>\n",
              "        </div>\n",
              "</body>\n",
              "</html>"
            ]
          },
          "metadata": {}
        }
      ],
      "source": [
        "fig = px.histogram(df, x=\"race/ethnicity\")\n",
        "fig.show()"
      ]
    },
    {
      "cell_type": "markdown",
      "metadata": {
        "id": "Vc-2R7m0BfiD"
      },
      "source": [
        "### The Distribution of reading scores\n",
        "#### This plot is constructed to find out the distribution of reading scores , most common score ranges and most uncommon score ranges"
      ]
    },
    {
      "cell_type": "code",
      "execution_count": null,
      "metadata": {
        "colab": {
          "base_uri": "https://localhost:8080/",
          "height": 542
        },
        "id": "6ObnrpMdBfiF",
        "outputId": "1cf8051f-5e13-4112-ce4f-4f972b406be8"
      },
      "outputs": [
        {
          "output_type": "display_data",
          "data": {
            "text/html": [
              "<html>\n",
              "<head><meta charset=\"utf-8\" /></head>\n",
              "<body>\n",
              "    <div>\n",
              "            <script src=\"https://cdnjs.cloudflare.com/ajax/libs/mathjax/2.7.5/MathJax.js?config=TeX-AMS-MML_SVG\"></script><script type=\"text/javascript\">if (window.MathJax) {MathJax.Hub.Config({SVG: {font: \"STIX-Web\"}});}</script>\n",
              "                <script type=\"text/javascript\">window.PlotlyConfig = {MathJaxConfig: 'local'};</script>\n",
              "        <script src=\"https://cdn.plot.ly/plotly-latest.min.js\"></script>    \n",
              "            <div id=\"ad90c4b7-ba83-4d0d-ac5e-676533681b1a\" class=\"plotly-graph-div\" style=\"height:525px; width:100%;\"></div>\n",
              "            <script type=\"text/javascript\">\n",
              "                \n",
              "                    window.PLOTLYENV=window.PLOTLYENV || {};\n",
              "                    \n",
              "                if (document.getElementById(\"ad90c4b7-ba83-4d0d-ac5e-676533681b1a\")) {\n",
              "                    Plotly.newPlot(\n",
              "                        'ad90c4b7-ba83-4d0d-ac5e-676533681b1a',\n",
              "                        [{\"alignmentgroup\": \"True\", \"bingroup\": \"x\", \"hoverlabel\": {\"namelength\": 0}, \"hovertemplate\": \"reading score=%{x}<br>count=%{y}\", \"legendgroup\": \"\", \"marker\": {\"color\": \"#636efa\"}, \"name\": \"\", \"offsetgroup\": \"\", \"orientation\": \"v\", \"showlegend\": false, \"type\": \"histogram\", \"x\": [72, 90, 95, 57, 78, 83, 95, 43, 64, 60, 54, 52, 81, 72, 53, 75, 89, 32, 42, 58, 69, 75, 54, 73, 71, 74, 54, 69, 70, 70, 74, 65, 72, 42, 87, 81, 81, 64, 90, 56, 61, 73, 58, 65, 56, 54, 65, 71, 74, 84, 55, 69, 44, 78, 84, 41, 85, 55, 59, 17, 74, 39, 61, 80, 58, 64, 37, 72, 58, 64, 63, 55, 51, 57, 49, 41, 26, 78, 74, 68, 49, 45, 47, 64, 39, 80, 83, 71, 70, 86, 72, 34, 79, 45, 86, 81, 66, 72, 67, 67, 67, 74, 91, 44, 86, 67, 100, 63, 76, 64, 89, 55, 53, 58, 100, 77, 85, 82, 63, 69, 92, 89, 93, 57, 80, 95, 68, 77, 82, 49, 84, 37, 74, 81, 79, 55, 54, 55, 66, 61, 72, 62, 55, 43, 73, 39, 84, 68, 75, 100, 67, 67, 70, 49, 67, 89, 74, 60, 86, 62, 78, 88, 53, 53, 92, 100, 51, 76, 83, 75, 73, 88, 86, 67, 51, 91, 54, 77, 70, 100, 68, 64, 50, 69, 52, 67, 76, 66, 52, 88, 65, 83, 64, 62, 84, 55, 69, 56, 53, 79, 84, 81, 77, 69, 41, 71, 62, 80, 81, 61, 79, 28, 62, 51, 91, 83, 86, 42, 77, 56, 68, 85, 65, 80, 66, 56, 72, 50, 72, 95, 64, 43, 86, 87, 82, 75, 66, 60, 52, 80, 68, 83, 52, 51, 74, 76, 76, 70, 64, 60, 49, 83, 70, 80, 52, 73, 73, 77, 75, 81, 79, 79, 50, 93, 73, 42, 75, 72, 92, 76, 63, 49, 53, 70, 85, 78, 92, 63, 86, 56, 52, 48, 79, 78, 46, 82, 82, 89, 75, 76, 70, 73, 60, 73, 77, 62, 41, 74, 46, 87, 78, 54, 84, 76, 75, 67, 87, 52, 71, 57, 76, 60, 61, 67, 64, 66, 82, 72, 71, 65, 79, 86, 81, 53, 46, 90, 61, 23, 75, 55, 60, 37, 56, 78, 93, 68, 70, 51, 38, 55, 61, 73, 76, 72, 73, 80, 61, 94, 74, 74, 65, 57, 78, 58, 71, 72, 61, 66, 62, 90, 62, 84, 58, 34, 60, 58, 58, 66, 64, 84, 77, 73, 74, 97, 70, 43, 90, 95, 83, 64, 86, 100, 81, 49, 43, 76, 73, 78, 64, 70, 67, 68, 67, 54, 74, 45, 67, 89, 63, 59, 54, 43, 65, 99, 59, 73, 65, 80, 57, 84, 71, 83, 66, 67, 72, 73, 74, 73, 59, 56, 93, 58, 58, 85, 39, 67, 83, 71, 59, 63, 66, 72, 56, 59, 66, 48, 68, 66, 56, 88, 81, 81, 73, 83, 82, 74, 66, 81, 46, 73, 85, 92, 77, 58, 61, 56, 89, 54, 100, 65, 58, 54, 70, 90, 58, 87, 31, 67, 88, 74, 85, 69, 86, 67, 90, 76, 62, 68, 64, 71, 71, 59, 68, 52, 52, 74, 47, 75, 53, 82, 85, 64, 83, 88, 64, 64, 48, 78, 69, 71, 79, 87, 61, 89, 59, 82, 70, 59, 78, 92, 71, 50, 49, 61, 97, 87, 89, 74, 78, 78, 49, 86, 58, 59, 52, 60, 61, 53, 41, 74, 67, 54, 61, 88, 69, 83, 60, 66, 66, 92, 69, 82, 77, 95, 63, 83, 100, 67, 67, 72, 76, 90, 48, 62, 45, 39, 72, 67, 70, 66, 75, 74, 90, 80, 51, 43, 100, 71, 48, 68, 75, 96, 62, 66, 81, 55, 51, 91, 56, 61, 97, 79, 73, 75, 77, 76, 73, 63, 64, 66, 57, 62, 68, 76, 100, 79, 24, 54, 77, 82, 60, 29, 78, 57, 89, 72, 84, 58, 64, 63, 60, 59, 90, 77, 93, 68, 45, 78, 81, 73, 61, 63, 51, 96, 58, 97, 70, 48, 57, 51, 64, 60, 74, 88, 84, 74, 80, 92, 76, 74, 52, 88, 81, 79, 65, 81, 70, 62, 53, 79, 56, 80, 86, 70, 79, 67, 67, 66, 60, 87, 77, 66, 71, 69, 63, 60, 73, 85, 74, 72, 76, 57, 78, 84, 77, 64, 78, 82, 75, 61, 72, 68, 55, 40, 66, 99, 75, 78, 58, 90, 53, 76, 74, 77, 63, 89, 82, 72, 78, 66, 81, 67, 84, 64, 63, 72, 34, 59, 87, 61, 84, 85, 100, 81, 70, 94, 78, 96, 76, 73, 72, 59, 90, 48, 43, 74, 75, 51, 92, 39, 77, 46, 89, 47, 58, 57, 79, 66, 71, 60, 73, 57, 84, 73, 55, 79, 75, 64, 60, 84, 69, 72, 77, 90, 55, 95, 58, 68, 59, 77, 72, 58, 81, 62, 63, 72, 75, 62, 71, 60, 48, 73, 67, 78, 65, 58, 72, 44, 79, 85, 56, 90, 85, 59, 81, 51, 79, 38, 65, 65, 62, 66, 74, 84, 52, 68, 70, 84, 60, 55, 73, 80, 94, 85, 76, 81, 74, 45, 75, 54, 31, 47, 64, 84, 80, 86, 59, 70, 72, 91, 90, 90, 52, 87, 58, 67, 68, 69, 86, 54, 60, 86, 60, 82, 50, 64, 64, 82, 57, 77, 52, 58, 44, 77, 65, 85, 85, 54, 72, 75, 67, 68, 85, 67, 64, 97, 68, 79, 49, 73, 62, 86, 42, 71, 93, 82, 53, 42, 74, 51, 58, 72, 84, 90, 62, 64, 82, 61, 72, 76, 64, 70, 73, 46, 51, 76, 100, 72, 65, 51, 85, 92, 67, 74, 62, 34, 29, 78, 54, 78, 84, 78, 48, 100, 84, 77, 48, 84, 75, 64, 42, 84, 61, 62, 61, 70, 100, 61, 77, 96, 70, 53, 66, 65, 70, 64, 56, 61, 43, 56, 74, 57, 71, 75, 87, 63, 57, 58, 81, 68, 66, 91, 66, 62, 68, 61, 82, 58, 50, 75, 73, 77, 74, 52, 69, 57, 87, 100, 63, 81, 58, 54, 100, 76, 57, 70, 68, 63, 76, 84, 100, 72, 50, 65, 63, 82, 62, 65, 41, 95, 24, 78, 85, 87, 75, 51, 59, 75, 45, 86, 81, 82, 76, 72, 63, 99, 55, 71, 78, 86], \"xaxis\": \"x\", \"yaxis\": \"y\"}],\n",
              "                        {\"barmode\": \"relative\", \"legend\": {\"tracegroupgap\": 0}, \"margin\": {\"t\": 60}, \"template\": {\"data\": {\"bar\": [{\"error_x\": {\"color\": \"#2a3f5f\"}, \"error_y\": {\"color\": \"#2a3f5f\"}, \"marker\": {\"line\": {\"color\": \"#E5ECF6\", \"width\": 0.5}}, \"type\": \"bar\"}], \"barpolar\": [{\"marker\": {\"line\": {\"color\": \"#E5ECF6\", \"width\": 0.5}}, \"type\": \"barpolar\"}], \"carpet\": [{\"aaxis\": {\"endlinecolor\": \"#2a3f5f\", \"gridcolor\": \"white\", \"linecolor\": \"white\", \"minorgridcolor\": \"white\", \"startlinecolor\": \"#2a3f5f\"}, \"baxis\": {\"endlinecolor\": \"#2a3f5f\", \"gridcolor\": \"white\", \"linecolor\": \"white\", \"minorgridcolor\": \"white\", \"startlinecolor\": \"#2a3f5f\"}, \"type\": \"carpet\"}], \"choropleth\": [{\"colorbar\": {\"outlinewidth\": 0, \"ticks\": \"\"}, \"type\": \"choropleth\"}], \"contour\": [{\"colorbar\": {\"outlinewidth\": 0, \"ticks\": \"\"}, \"colorscale\": [[0.0, \"#0d0887\"], [0.1111111111111111, \"#46039f\"], [0.2222222222222222, \"#7201a8\"], [0.3333333333333333, \"#9c179e\"], [0.4444444444444444, \"#bd3786\"], [0.5555555555555556, \"#d8576b\"], [0.6666666666666666, \"#ed7953\"], [0.7777777777777778, \"#fb9f3a\"], [0.8888888888888888, \"#fdca26\"], [1.0, \"#f0f921\"]], \"type\": \"contour\"}], \"contourcarpet\": [{\"colorbar\": {\"outlinewidth\": 0, \"ticks\": \"\"}, \"type\": \"contourcarpet\"}], \"heatmap\": [{\"colorbar\": {\"outlinewidth\": 0, \"ticks\": \"\"}, \"colorscale\": [[0.0, \"#0d0887\"], [0.1111111111111111, \"#46039f\"], [0.2222222222222222, \"#7201a8\"], [0.3333333333333333, \"#9c179e\"], [0.4444444444444444, \"#bd3786\"], [0.5555555555555556, \"#d8576b\"], [0.6666666666666666, \"#ed7953\"], [0.7777777777777778, \"#fb9f3a\"], [0.8888888888888888, \"#fdca26\"], [1.0, \"#f0f921\"]], \"type\": \"heatmap\"}], \"heatmapgl\": [{\"colorbar\": {\"outlinewidth\": 0, \"ticks\": \"\"}, \"colorscale\": [[0.0, \"#0d0887\"], [0.1111111111111111, \"#46039f\"], [0.2222222222222222, \"#7201a8\"], [0.3333333333333333, \"#9c179e\"], [0.4444444444444444, \"#bd3786\"], [0.5555555555555556, \"#d8576b\"], [0.6666666666666666, \"#ed7953\"], [0.7777777777777778, \"#fb9f3a\"], [0.8888888888888888, \"#fdca26\"], [1.0, \"#f0f921\"]], \"type\": \"heatmapgl\"}], \"histogram\": [{\"marker\": {\"colorbar\": {\"outlinewidth\": 0, \"ticks\": \"\"}}, \"type\": \"histogram\"}], \"histogram2d\": [{\"colorbar\": {\"outlinewidth\": 0, \"ticks\": \"\"}, \"colorscale\": [[0.0, \"#0d0887\"], [0.1111111111111111, \"#46039f\"], [0.2222222222222222, \"#7201a8\"], [0.3333333333333333, \"#9c179e\"], [0.4444444444444444, \"#bd3786\"], [0.5555555555555556, \"#d8576b\"], [0.6666666666666666, \"#ed7953\"], [0.7777777777777778, \"#fb9f3a\"], [0.8888888888888888, \"#fdca26\"], [1.0, \"#f0f921\"]], \"type\": \"histogram2d\"}], \"histogram2dcontour\": [{\"colorbar\": {\"outlinewidth\": 0, \"ticks\": \"\"}, \"colorscale\": [[0.0, \"#0d0887\"], [0.1111111111111111, \"#46039f\"], [0.2222222222222222, \"#7201a8\"], [0.3333333333333333, \"#9c179e\"], [0.4444444444444444, \"#bd3786\"], [0.5555555555555556, \"#d8576b\"], [0.6666666666666666, \"#ed7953\"], [0.7777777777777778, \"#fb9f3a\"], [0.8888888888888888, \"#fdca26\"], [1.0, \"#f0f921\"]], \"type\": \"histogram2dcontour\"}], \"mesh3d\": [{\"colorbar\": {\"outlinewidth\": 0, \"ticks\": \"\"}, \"type\": \"mesh3d\"}], \"parcoords\": [{\"line\": {\"colorbar\": {\"outlinewidth\": 0, \"ticks\": \"\"}}, \"type\": \"parcoords\"}], \"pie\": [{\"automargin\": true, \"type\": \"pie\"}], \"scatter\": [{\"marker\": {\"colorbar\": {\"outlinewidth\": 0, \"ticks\": \"\"}}, \"type\": \"scatter\"}], \"scatter3d\": [{\"line\": {\"colorbar\": {\"outlinewidth\": 0, \"ticks\": \"\"}}, \"marker\": {\"colorbar\": {\"outlinewidth\": 0, \"ticks\": \"\"}}, \"type\": \"scatter3d\"}], \"scattercarpet\": [{\"marker\": {\"colorbar\": {\"outlinewidth\": 0, \"ticks\": \"\"}}, \"type\": \"scattercarpet\"}], \"scattergeo\": [{\"marker\": {\"colorbar\": {\"outlinewidth\": 0, \"ticks\": \"\"}}, \"type\": \"scattergeo\"}], \"scattergl\": [{\"marker\": {\"colorbar\": {\"outlinewidth\": 0, \"ticks\": \"\"}}, \"type\": \"scattergl\"}], \"scattermapbox\": [{\"marker\": {\"colorbar\": {\"outlinewidth\": 0, \"ticks\": \"\"}}, \"type\": \"scattermapbox\"}], \"scatterpolar\": [{\"marker\": {\"colorbar\": {\"outlinewidth\": 0, \"ticks\": \"\"}}, \"type\": \"scatterpolar\"}], \"scatterpolargl\": [{\"marker\": {\"colorbar\": {\"outlinewidth\": 0, \"ticks\": \"\"}}, \"type\": \"scatterpolargl\"}], \"scatterternary\": [{\"marker\": {\"colorbar\": {\"outlinewidth\": 0, \"ticks\": \"\"}}, \"type\": \"scatterternary\"}], \"surface\": [{\"colorbar\": {\"outlinewidth\": 0, \"ticks\": \"\"}, \"colorscale\": [[0.0, \"#0d0887\"], [0.1111111111111111, \"#46039f\"], [0.2222222222222222, \"#7201a8\"], [0.3333333333333333, \"#9c179e\"], [0.4444444444444444, \"#bd3786\"], [0.5555555555555556, \"#d8576b\"], [0.6666666666666666, \"#ed7953\"], [0.7777777777777778, \"#fb9f3a\"], [0.8888888888888888, \"#fdca26\"], [1.0, \"#f0f921\"]], \"type\": \"surface\"}], \"table\": [{\"cells\": {\"fill\": {\"color\": \"#EBF0F8\"}, \"line\": {\"color\": \"white\"}}, \"header\": {\"fill\": {\"color\": \"#C8D4E3\"}, \"line\": {\"color\": \"white\"}}, \"type\": \"table\"}]}, \"layout\": {\"annotationdefaults\": {\"arrowcolor\": \"#2a3f5f\", \"arrowhead\": 0, \"arrowwidth\": 1}, \"coloraxis\": {\"colorbar\": {\"outlinewidth\": 0, \"ticks\": \"\"}}, \"colorscale\": {\"diverging\": [[0, \"#8e0152\"], [0.1, \"#c51b7d\"], [0.2, \"#de77ae\"], [0.3, \"#f1b6da\"], [0.4, \"#fde0ef\"], [0.5, \"#f7f7f7\"], [0.6, \"#e6f5d0\"], [0.7, \"#b8e186\"], [0.8, \"#7fbc41\"], [0.9, \"#4d9221\"], [1, \"#276419\"]], \"sequential\": [[0.0, \"#0d0887\"], [0.1111111111111111, \"#46039f\"], [0.2222222222222222, \"#7201a8\"], [0.3333333333333333, \"#9c179e\"], [0.4444444444444444, \"#bd3786\"], [0.5555555555555556, \"#d8576b\"], [0.6666666666666666, \"#ed7953\"], [0.7777777777777778, \"#fb9f3a\"], [0.8888888888888888, \"#fdca26\"], [1.0, \"#f0f921\"]], \"sequentialminus\": [[0.0, \"#0d0887\"], [0.1111111111111111, \"#46039f\"], [0.2222222222222222, \"#7201a8\"], [0.3333333333333333, \"#9c179e\"], [0.4444444444444444, \"#bd3786\"], [0.5555555555555556, \"#d8576b\"], [0.6666666666666666, \"#ed7953\"], [0.7777777777777778, \"#fb9f3a\"], [0.8888888888888888, \"#fdca26\"], [1.0, \"#f0f921\"]]}, \"colorway\": [\"#636efa\", \"#EF553B\", \"#00cc96\", \"#ab63fa\", \"#FFA15A\", \"#19d3f3\", \"#FF6692\", \"#B6E880\", \"#FF97FF\", \"#FECB52\"], \"font\": {\"color\": \"#2a3f5f\"}, \"geo\": {\"bgcolor\": \"white\", \"lakecolor\": \"white\", \"landcolor\": \"#E5ECF6\", \"showlakes\": true, \"showland\": true, \"subunitcolor\": \"white\"}, \"hoverlabel\": {\"align\": \"left\"}, \"hovermode\": \"closest\", \"mapbox\": {\"style\": \"light\"}, \"paper_bgcolor\": \"white\", \"plot_bgcolor\": \"#E5ECF6\", \"polar\": {\"angularaxis\": {\"gridcolor\": \"white\", \"linecolor\": \"white\", \"ticks\": \"\"}, \"bgcolor\": \"#E5ECF6\", \"radialaxis\": {\"gridcolor\": \"white\", \"linecolor\": \"white\", \"ticks\": \"\"}}, \"scene\": {\"xaxis\": {\"backgroundcolor\": \"#E5ECF6\", \"gridcolor\": \"white\", \"gridwidth\": 2, \"linecolor\": \"white\", \"showbackground\": true, \"ticks\": \"\", \"zerolinecolor\": \"white\"}, \"yaxis\": {\"backgroundcolor\": \"#E5ECF6\", \"gridcolor\": \"white\", \"gridwidth\": 2, \"linecolor\": \"white\", \"showbackground\": true, \"ticks\": \"\", \"zerolinecolor\": \"white\"}, \"zaxis\": {\"backgroundcolor\": \"#E5ECF6\", \"gridcolor\": \"white\", \"gridwidth\": 2, \"linecolor\": \"white\", \"showbackground\": true, \"ticks\": \"\", \"zerolinecolor\": \"white\"}}, \"shapedefaults\": {\"line\": {\"color\": \"#2a3f5f\"}}, \"ternary\": {\"aaxis\": {\"gridcolor\": \"white\", \"linecolor\": \"white\", \"ticks\": \"\"}, \"baxis\": {\"gridcolor\": \"white\", \"linecolor\": \"white\", \"ticks\": \"\"}, \"bgcolor\": \"#E5ECF6\", \"caxis\": {\"gridcolor\": \"white\", \"linecolor\": \"white\", \"ticks\": \"\"}}, \"title\": {\"x\": 0.05}, \"xaxis\": {\"automargin\": true, \"gridcolor\": \"white\", \"linecolor\": \"white\", \"ticks\": \"\", \"title\": {\"standoff\": 15}, \"zerolinecolor\": \"white\", \"zerolinewidth\": 2}, \"yaxis\": {\"automargin\": true, \"gridcolor\": \"white\", \"linecolor\": \"white\", \"ticks\": \"\", \"title\": {\"standoff\": 15}, \"zerolinecolor\": \"white\", \"zerolinewidth\": 2}}}, \"xaxis\": {\"anchor\": \"y\", \"domain\": [0.0, 1.0], \"title\": {\"text\": \"reading score\"}}, \"yaxis\": {\"anchor\": \"x\", \"domain\": [0.0, 1.0], \"title\": {\"text\": \"count\"}}},\n",
              "                        {\"responsive\": true}\n",
              "                    ).then(function(){\n",
              "                            \n",
              "var gd = document.getElementById('ad90c4b7-ba83-4d0d-ac5e-676533681b1a');\n",
              "var x = new MutationObserver(function (mutations, observer) {{\n",
              "        var display = window.getComputedStyle(gd).display;\n",
              "        if (!display || display === 'none') {{\n",
              "            console.log([gd, 'removed!']);\n",
              "            Plotly.purge(gd);\n",
              "            observer.disconnect();\n",
              "        }}\n",
              "}});\n",
              "\n",
              "// Listen for the removal of the full notebook cells\n",
              "var notebookContainer = gd.closest('#notebook-container');\n",
              "if (notebookContainer) {{\n",
              "    x.observe(notebookContainer, {childList: true});\n",
              "}}\n",
              "\n",
              "// Listen for the clearing of the current output cell\n",
              "var outputEl = gd.closest('.output');\n",
              "if (outputEl) {{\n",
              "    x.observe(outputEl, {childList: true});\n",
              "}}\n",
              "\n",
              "                        })\n",
              "                };\n",
              "                \n",
              "            </script>\n",
              "        </div>\n",
              "</body>\n",
              "</html>"
            ]
          },
          "metadata": {}
        }
      ],
      "source": [
        "fig = px.histogram(df, x=\"reading score\")\n",
        "fig.show()"
      ]
    },
    {
      "cell_type": "markdown",
      "metadata": {
        "id": "Lo78Q_XpBfiH"
      },
      "source": [
        "### The distribution of writing scores\n",
        "#### This plot is constructed to find out the distribution of writing scores , most common score ranges and most uncommon score ranges"
      ]
    },
    {
      "cell_type": "code",
      "execution_count": null,
      "metadata": {
        "colab": {
          "base_uri": "https://localhost:8080/",
          "height": 542
        },
        "id": "WRMgaQ9mBfiI",
        "outputId": "a7bbd74a-8574-4501-adde-180c38a4111b"
      },
      "outputs": [
        {
          "output_type": "display_data",
          "data": {
            "text/html": [
              "<html>\n",
              "<head><meta charset=\"utf-8\" /></head>\n",
              "<body>\n",
              "    <div>\n",
              "            <script src=\"https://cdnjs.cloudflare.com/ajax/libs/mathjax/2.7.5/MathJax.js?config=TeX-AMS-MML_SVG\"></script><script type=\"text/javascript\">if (window.MathJax) {MathJax.Hub.Config({SVG: {font: \"STIX-Web\"}});}</script>\n",
              "                <script type=\"text/javascript\">window.PlotlyConfig = {MathJaxConfig: 'local'};</script>\n",
              "        <script src=\"https://cdn.plot.ly/plotly-latest.min.js\"></script>    \n",
              "            <div id=\"33a79edf-abc4-4d3f-8986-3ce3df2e1696\" class=\"plotly-graph-div\" style=\"height:525px; width:100%;\"></div>\n",
              "            <script type=\"text/javascript\">\n",
              "                \n",
              "                    window.PLOTLYENV=window.PLOTLYENV || {};\n",
              "                    \n",
              "                if (document.getElementById(\"33a79edf-abc4-4d3f-8986-3ce3df2e1696\")) {\n",
              "                    Plotly.newPlot(\n",
              "                        '33a79edf-abc4-4d3f-8986-3ce3df2e1696',\n",
              "                        [{\"alignmentgroup\": \"True\", \"bingroup\": \"x\", \"hoverlabel\": {\"namelength\": 0}, \"hovertemplate\": \"writing score=%{x}<br>count=%{y}\", \"legendgroup\": \"\", \"marker\": {\"color\": \"#636efa\"}, \"name\": \"\", \"offsetgroup\": \"\", \"orientation\": \"v\", \"showlegend\": false, \"type\": \"histogram\", \"x\": [74, 88, 93, 44, 75, 78, 92, 39, 67, 50, 52, 43, 73, 70, 58, 78, 86, 28, 46, 61, 63, 70, 53, 73, 80, 72, 55, 75, 65, 75, 74, 61, 65, 38, 82, 79, 83, 59, 88, 57, 54, 68, 65, 66, 54, 57, 62, 76, 76, 82, 48, 68, 42, 75, 87, 43, 86, 49, 58, 10, 72, 34, 55, 71, 59, 61, 37, 74, 56, 57, 73, 63, 48, 56, 41, 38, 22, 81, 72, 68, 50, 45, 54, 63, 34, 82, 88, 74, 67, 82, 74, 36, 71, 50, 92, 82, 62, 70, 62, 62, 67, 74, 89, 47, 90, 72, 100, 64, 70, 72, 98, 49, 47, 54, 100, 74, 82, 79, 61, 65, 89, 92, 93, 56, 73, 86, 67, 74, 74, 51, 82, 40, 70, 84, 75, 48, 41, 56, 67, 69, 71, 64, 54, 47, 78, 33, 75, 66, 81, 93, 69, 68, 66, 47, 61, 88, 78, 60, 87, 64, 74, 85, 52, 49, 91, 100, 51, 78, 78, 70, 74, 78, 81, 70, 54, 87, 58, 77, 62, 100, 75, 66, 47, 70, 49, 65, 65, 68, 45, 87, 69, 79, 66, 62, 85, 52, 65, 51, 55, 76, 86, 77, 69, 68, 42, 78, 62, 76, 76, 66, 79, 27, 60, 56, 81, 75, 88, 39, 70, 56, 74, 73, 62, 75, 73, 54, 71, 54, 64, 94, 66, 42, 83, 78, 84, 77, 67, 74, 51, 80, 66, 83, 55, 43, 69, 71, 74, 68, 62, 53, 49, 83, 70, 72, 52, 70, 68, 77, 78, 81, 77, 78, 51, 90, 68, 41, 81, 77, 95, 70, 61, 42, 58, 71, 76, 73, 93, 75, 80, 57, 42, 46, 84, 78, 46, 82, 88, 82, 76, 77, 68, 70, 57, 75, 80, 60, 43, 68, 50, 75, 81, 52, 81, 64, 83, 69, 81, 44, 67, 52, 80, 57, 68, 69, 75, 65, 91, 78, 69, 63, 84, 79, 80, 53, 43, 94, 62, 19, 77, 51, 61, 35, 53, 81, 95, 66, 69, 43, 27, 60, 52, 63, 74, 67, 67, 75, 57, 95, 66, 76, 69, 52, 80, 57, 70, 70, 61, 69, 61, 89, 59, 78, 58, 32, 58, 60, 53, 61, 58, 85, 71, 70, 72, 96, 73, 41, 82, 100, 77, 62, 83, 95, 71, 45, 43, 75, 70, 67, 64, 75, 59, 77, 67, 56, 77, 41, 63, 95, 57, 54, 67, 43, 55, 100, 62, 68, 63, 77, 56, 85, 74, 78, 60, 67, 79, 69, 68, 67, 62, 54, 93, 64, 67, 80, 34, 62, 86, 65, 53, 54, 59, 70, 55, 50, 66, 53, 64, 73, 51, 82, 79, 80, 69, 76, 73, 77, 60, 80, 42, 72, 85, 97, 74, 49, 62, 47, 89, 48, 100, 68, 55, 45, 76, 91, 62, 91, 38, 65, 85, 76, 90, 74, 84, 61, 91, 83, 66, 72, 70, 67, 68, 56, 61, 46, 54, 71, 56, 74, 57, 82, 76, 70, 90, 90, 68, 66, 52, 76, 68, 72, 82, 92, 54, 92, 54, 80, 66, 54, 77, 87, 73, 43, 52, 62, 94, 85, 84, 73, 78, 79, 52, 84, 57, 50, 49, 59, 60, 43, 47, 70, 73, 53, 58, 94, 68, 83, 58, 62, 71, 86, 68, 80, 79, 89, 66, 80, 97, 64, 64, 69, 65, 88, 50, 64, 40, 33, 79, 66, 70, 62, 79, 74, 92, 80, 46, 45, 100, 78, 47, 67, 70, 92, 56, 64, 71, 53, 52, 89, 58, 68, 96, 80, 78, 80, 77, 76, 73, 62, 65, 65, 54, 50, 64, 73, 99, 72, 15, 48, 73, 81, 63, 30, 80, 51, 90, 62, 82, 54, 62, 65, 63, 66, 91, 74, 93, 72, 38, 83, 84, 68, 54, 56, 52, 86, 62, 99, 63, 46, 46, 55, 70, 65, 81, 85, 80, 64, 81, 88, 74, 73, 51, 90, 79, 80, 60, 81, 65, 68, 55, 81, 53, 76, 98, 74, 79, 67, 64, 61, 58, 85, 73, 63, 69, 67, 63, 60, 71, 87, 61, 77, 68, 50, 76, 84, 78, 66, 76, 76, 78, 60, 74, 60, 54, 44, 68, 100, 68, 73, 44, 83, 53, 78, 81, 73, 56, 86, 90, 70, 79, 59, 82, 72, 87, 67, 64, 65, 36, 52, 79, 58, 90, 85, 99, 84, 74, 87, 72, 99, 74, 80, 70, 59, 88, 42, 41, 71, 77, 57, 84, 37, 80, 43, 94, 44, 57, 59, 84, 73, 73, 55, 72, 56, 82, 72, 47, 74, 71, 68, 59, 86, 68, 65, 75, 85, 53, 92, 52, 72, 65, 77, 64, 54, 86, 63, 59, 72, 77, 60, 75, 57, 49, 74, 72, 79, 60, 55, 70, 43, 82, 82, 57, 84, 82, 62, 79, 44, 77, 32, 61, 61, 60, 70, 69, 77, 51, 73, 70, 81, 54, 57, 68, 73, 95, 87, 78, 74, 75, 40, 69, 51, 36, 49, 67, 76, 83, 87, 64, 76, 68, 88, 92, 93, 51, 82, 52, 58, 70, 76, 81, 53, 57, 89, 58, 89, 45, 74, 57, 79, 53, 73, 46, 51, 36, 76, 64, 84, 85, 50, 68, 69, 67, 63, 93, 61, 55, 96, 65, 81, 46, 72, 53, 87, 38, 80, 91, 88, 52, 41, 72, 51, 47, 76, 78, 82, 61, 66, 84, 54, 80, 74, 66, 70, 71, 44, 54, 80, 95, 59, 74, 48, 91, 85, 73, 75, 69, 38, 27, 79, 63, 82, 89, 74, 41, 100, 84, 77, 51, 91, 72, 70, 48, 82, 66, 66, 55, 66, 100, 52, 80, 91, 67, 46, 66, 65, 69, 60, 52, 71, 44, 51, 70, 62, 73, 74, 90, 58, 53, 57, 85, 69, 72, 96, 64, 61, 61, 58, 80, 60, 52, 73, 71, 83, 72, 54, 69, 62, 81, 100, 59, 71, 64, 53, 100, 75, 58, 72, 64, 60, 67, 80, 100, 69, 60, 61, 67, 77, 60, 58, 48, 94, 23, 78, 86, 91, 82, 54, 51, 76, 45, 83, 75, 78, 76, 74, 62, 95, 55, 65, 77, 86], \"xaxis\": \"x\", \"yaxis\": \"y\"}],\n",
              "                        {\"barmode\": \"relative\", \"legend\": {\"tracegroupgap\": 0}, \"margin\": {\"t\": 60}, \"template\": {\"data\": {\"bar\": [{\"error_x\": {\"color\": \"#2a3f5f\"}, \"error_y\": {\"color\": \"#2a3f5f\"}, \"marker\": {\"line\": {\"color\": \"#E5ECF6\", \"width\": 0.5}}, \"type\": \"bar\"}], \"barpolar\": [{\"marker\": {\"line\": {\"color\": \"#E5ECF6\", \"width\": 0.5}}, \"type\": \"barpolar\"}], \"carpet\": [{\"aaxis\": {\"endlinecolor\": \"#2a3f5f\", \"gridcolor\": \"white\", \"linecolor\": \"white\", \"minorgridcolor\": \"white\", \"startlinecolor\": \"#2a3f5f\"}, \"baxis\": {\"endlinecolor\": \"#2a3f5f\", \"gridcolor\": \"white\", \"linecolor\": \"white\", \"minorgridcolor\": \"white\", \"startlinecolor\": \"#2a3f5f\"}, \"type\": \"carpet\"}], \"choropleth\": [{\"colorbar\": {\"outlinewidth\": 0, \"ticks\": \"\"}, \"type\": \"choropleth\"}], \"contour\": [{\"colorbar\": {\"outlinewidth\": 0, \"ticks\": \"\"}, \"colorscale\": [[0.0, \"#0d0887\"], [0.1111111111111111, \"#46039f\"], [0.2222222222222222, \"#7201a8\"], [0.3333333333333333, \"#9c179e\"], [0.4444444444444444, \"#bd3786\"], [0.5555555555555556, \"#d8576b\"], [0.6666666666666666, \"#ed7953\"], [0.7777777777777778, \"#fb9f3a\"], [0.8888888888888888, \"#fdca26\"], [1.0, \"#f0f921\"]], \"type\": \"contour\"}], \"contourcarpet\": [{\"colorbar\": {\"outlinewidth\": 0, \"ticks\": \"\"}, \"type\": \"contourcarpet\"}], \"heatmap\": [{\"colorbar\": {\"outlinewidth\": 0, \"ticks\": \"\"}, \"colorscale\": [[0.0, \"#0d0887\"], [0.1111111111111111, \"#46039f\"], [0.2222222222222222, \"#7201a8\"], [0.3333333333333333, \"#9c179e\"], [0.4444444444444444, \"#bd3786\"], [0.5555555555555556, \"#d8576b\"], [0.6666666666666666, \"#ed7953\"], [0.7777777777777778, \"#fb9f3a\"], [0.8888888888888888, \"#fdca26\"], [1.0, \"#f0f921\"]], \"type\": \"heatmap\"}], \"heatmapgl\": [{\"colorbar\": {\"outlinewidth\": 0, \"ticks\": \"\"}, \"colorscale\": [[0.0, \"#0d0887\"], [0.1111111111111111, \"#46039f\"], [0.2222222222222222, \"#7201a8\"], [0.3333333333333333, \"#9c179e\"], [0.4444444444444444, \"#bd3786\"], [0.5555555555555556, \"#d8576b\"], [0.6666666666666666, \"#ed7953\"], [0.7777777777777778, \"#fb9f3a\"], [0.8888888888888888, \"#fdca26\"], [1.0, \"#f0f921\"]], \"type\": \"heatmapgl\"}], \"histogram\": [{\"marker\": {\"colorbar\": {\"outlinewidth\": 0, \"ticks\": \"\"}}, \"type\": \"histogram\"}], \"histogram2d\": [{\"colorbar\": {\"outlinewidth\": 0, \"ticks\": \"\"}, \"colorscale\": [[0.0, \"#0d0887\"], [0.1111111111111111, \"#46039f\"], [0.2222222222222222, \"#7201a8\"], [0.3333333333333333, \"#9c179e\"], [0.4444444444444444, \"#bd3786\"], [0.5555555555555556, \"#d8576b\"], [0.6666666666666666, \"#ed7953\"], [0.7777777777777778, \"#fb9f3a\"], [0.8888888888888888, \"#fdca26\"], [1.0, \"#f0f921\"]], \"type\": \"histogram2d\"}], \"histogram2dcontour\": [{\"colorbar\": {\"outlinewidth\": 0, \"ticks\": \"\"}, \"colorscale\": [[0.0, \"#0d0887\"], [0.1111111111111111, \"#46039f\"], [0.2222222222222222, \"#7201a8\"], [0.3333333333333333, \"#9c179e\"], [0.4444444444444444, \"#bd3786\"], [0.5555555555555556, \"#d8576b\"], [0.6666666666666666, \"#ed7953\"], [0.7777777777777778, \"#fb9f3a\"], [0.8888888888888888, \"#fdca26\"], [1.0, \"#f0f921\"]], \"type\": \"histogram2dcontour\"}], \"mesh3d\": [{\"colorbar\": {\"outlinewidth\": 0, \"ticks\": \"\"}, \"type\": \"mesh3d\"}], \"parcoords\": [{\"line\": {\"colorbar\": {\"outlinewidth\": 0, \"ticks\": \"\"}}, \"type\": \"parcoords\"}], \"pie\": [{\"automargin\": true, \"type\": \"pie\"}], \"scatter\": [{\"marker\": {\"colorbar\": {\"outlinewidth\": 0, \"ticks\": \"\"}}, \"type\": \"scatter\"}], \"scatter3d\": [{\"line\": {\"colorbar\": {\"outlinewidth\": 0, \"ticks\": \"\"}}, \"marker\": {\"colorbar\": {\"outlinewidth\": 0, \"ticks\": \"\"}}, \"type\": \"scatter3d\"}], \"scattercarpet\": [{\"marker\": {\"colorbar\": {\"outlinewidth\": 0, \"ticks\": \"\"}}, \"type\": \"scattercarpet\"}], \"scattergeo\": [{\"marker\": {\"colorbar\": {\"outlinewidth\": 0, \"ticks\": \"\"}}, \"type\": \"scattergeo\"}], \"scattergl\": [{\"marker\": {\"colorbar\": {\"outlinewidth\": 0, \"ticks\": \"\"}}, \"type\": \"scattergl\"}], \"scattermapbox\": [{\"marker\": {\"colorbar\": {\"outlinewidth\": 0, \"ticks\": \"\"}}, \"type\": \"scattermapbox\"}], \"scatterpolar\": [{\"marker\": {\"colorbar\": {\"outlinewidth\": 0, \"ticks\": \"\"}}, \"type\": \"scatterpolar\"}], \"scatterpolargl\": [{\"marker\": {\"colorbar\": {\"outlinewidth\": 0, \"ticks\": \"\"}}, \"type\": \"scatterpolargl\"}], \"scatterternary\": [{\"marker\": {\"colorbar\": {\"outlinewidth\": 0, \"ticks\": \"\"}}, \"type\": \"scatterternary\"}], \"surface\": [{\"colorbar\": {\"outlinewidth\": 0, \"ticks\": \"\"}, \"colorscale\": [[0.0, \"#0d0887\"], [0.1111111111111111, \"#46039f\"], [0.2222222222222222, \"#7201a8\"], [0.3333333333333333, \"#9c179e\"], [0.4444444444444444, \"#bd3786\"], [0.5555555555555556, \"#d8576b\"], [0.6666666666666666, \"#ed7953\"], [0.7777777777777778, \"#fb9f3a\"], [0.8888888888888888, \"#fdca26\"], [1.0, \"#f0f921\"]], \"type\": \"surface\"}], \"table\": [{\"cells\": {\"fill\": {\"color\": \"#EBF0F8\"}, \"line\": {\"color\": \"white\"}}, \"header\": {\"fill\": {\"color\": \"#C8D4E3\"}, \"line\": {\"color\": \"white\"}}, \"type\": \"table\"}]}, \"layout\": {\"annotationdefaults\": {\"arrowcolor\": \"#2a3f5f\", \"arrowhead\": 0, \"arrowwidth\": 1}, \"coloraxis\": {\"colorbar\": {\"outlinewidth\": 0, \"ticks\": \"\"}}, \"colorscale\": {\"diverging\": [[0, \"#8e0152\"], [0.1, \"#c51b7d\"], [0.2, \"#de77ae\"], [0.3, \"#f1b6da\"], [0.4, \"#fde0ef\"], [0.5, \"#f7f7f7\"], [0.6, \"#e6f5d0\"], [0.7, \"#b8e186\"], [0.8, \"#7fbc41\"], [0.9, \"#4d9221\"], [1, \"#276419\"]], \"sequential\": [[0.0, \"#0d0887\"], [0.1111111111111111, \"#46039f\"], [0.2222222222222222, \"#7201a8\"], [0.3333333333333333, \"#9c179e\"], [0.4444444444444444, \"#bd3786\"], [0.5555555555555556, \"#d8576b\"], [0.6666666666666666, \"#ed7953\"], [0.7777777777777778, \"#fb9f3a\"], [0.8888888888888888, \"#fdca26\"], [1.0, \"#f0f921\"]], \"sequentialminus\": [[0.0, \"#0d0887\"], [0.1111111111111111, \"#46039f\"], [0.2222222222222222, \"#7201a8\"], [0.3333333333333333, \"#9c179e\"], [0.4444444444444444, \"#bd3786\"], [0.5555555555555556, \"#d8576b\"], [0.6666666666666666, \"#ed7953\"], [0.7777777777777778, \"#fb9f3a\"], [0.8888888888888888, \"#fdca26\"], [1.0, \"#f0f921\"]]}, \"colorway\": [\"#636efa\", \"#EF553B\", \"#00cc96\", \"#ab63fa\", \"#FFA15A\", \"#19d3f3\", \"#FF6692\", \"#B6E880\", \"#FF97FF\", \"#FECB52\"], \"font\": {\"color\": \"#2a3f5f\"}, \"geo\": {\"bgcolor\": \"white\", \"lakecolor\": \"white\", \"landcolor\": \"#E5ECF6\", \"showlakes\": true, \"showland\": true, \"subunitcolor\": \"white\"}, \"hoverlabel\": {\"align\": \"left\"}, \"hovermode\": \"closest\", \"mapbox\": {\"style\": \"light\"}, \"paper_bgcolor\": \"white\", \"plot_bgcolor\": \"#E5ECF6\", \"polar\": {\"angularaxis\": {\"gridcolor\": \"white\", \"linecolor\": \"white\", \"ticks\": \"\"}, \"bgcolor\": \"#E5ECF6\", \"radialaxis\": {\"gridcolor\": \"white\", \"linecolor\": \"white\", \"ticks\": \"\"}}, \"scene\": {\"xaxis\": {\"backgroundcolor\": \"#E5ECF6\", \"gridcolor\": \"white\", \"gridwidth\": 2, \"linecolor\": \"white\", \"showbackground\": true, \"ticks\": \"\", \"zerolinecolor\": \"white\"}, \"yaxis\": {\"backgroundcolor\": \"#E5ECF6\", \"gridcolor\": \"white\", \"gridwidth\": 2, \"linecolor\": \"white\", \"showbackground\": true, \"ticks\": \"\", \"zerolinecolor\": \"white\"}, \"zaxis\": {\"backgroundcolor\": \"#E5ECF6\", \"gridcolor\": \"white\", \"gridwidth\": 2, \"linecolor\": \"white\", \"showbackground\": true, \"ticks\": \"\", \"zerolinecolor\": \"white\"}}, \"shapedefaults\": {\"line\": {\"color\": \"#2a3f5f\"}}, \"ternary\": {\"aaxis\": {\"gridcolor\": \"white\", \"linecolor\": \"white\", \"ticks\": \"\"}, \"baxis\": {\"gridcolor\": \"white\", \"linecolor\": \"white\", \"ticks\": \"\"}, \"bgcolor\": \"#E5ECF6\", \"caxis\": {\"gridcolor\": \"white\", \"linecolor\": \"white\", \"ticks\": \"\"}}, \"title\": {\"x\": 0.05}, \"xaxis\": {\"automargin\": true, \"gridcolor\": \"white\", \"linecolor\": \"white\", \"ticks\": \"\", \"title\": {\"standoff\": 15}, \"zerolinecolor\": \"white\", \"zerolinewidth\": 2}, \"yaxis\": {\"automargin\": true, \"gridcolor\": \"white\", \"linecolor\": \"white\", \"ticks\": \"\", \"title\": {\"standoff\": 15}, \"zerolinecolor\": \"white\", \"zerolinewidth\": 2}}}, \"xaxis\": {\"anchor\": \"y\", \"domain\": [0.0, 1.0], \"title\": {\"text\": \"writing score\"}}, \"yaxis\": {\"anchor\": \"x\", \"domain\": [0.0, 1.0], \"title\": {\"text\": \"count\"}}},\n",
              "                        {\"responsive\": true}\n",
              "                    ).then(function(){\n",
              "                            \n",
              "var gd = document.getElementById('33a79edf-abc4-4d3f-8986-3ce3df2e1696');\n",
              "var x = new MutationObserver(function (mutations, observer) {{\n",
              "        var display = window.getComputedStyle(gd).display;\n",
              "        if (!display || display === 'none') {{\n",
              "            console.log([gd, 'removed!']);\n",
              "            Plotly.purge(gd);\n",
              "            observer.disconnect();\n",
              "        }}\n",
              "}});\n",
              "\n",
              "// Listen for the removal of the full notebook cells\n",
              "var notebookContainer = gd.closest('#notebook-container');\n",
              "if (notebookContainer) {{\n",
              "    x.observe(notebookContainer, {childList: true});\n",
              "}}\n",
              "\n",
              "// Listen for the clearing of the current output cell\n",
              "var outputEl = gd.closest('.output');\n",
              "if (outputEl) {{\n",
              "    x.observe(outputEl, {childList: true});\n",
              "}}\n",
              "\n",
              "                        })\n",
              "                };\n",
              "                \n",
              "            </script>\n",
              "        </div>\n",
              "</body>\n",
              "</html>"
            ]
          },
          "metadata": {}
        }
      ],
      "source": [
        "fig = px.histogram(df, x=\"writing score\")\n",
        "fig.show()"
      ]
    },
    {
      "cell_type": "markdown",
      "metadata": {
        "id": "7GOyelHYBfiK"
      },
      "source": [
        "### The distribution of math scores\n",
        "#### This plot is constructed to find out the distribution of math scores , most common score ranges and most uncommon score ranges"
      ]
    },
    {
      "cell_type": "code",
      "execution_count": null,
      "metadata": {
        "colab": {
          "base_uri": "https://localhost:8080/",
          "height": 542
        },
        "id": "0L4Ji7qqBfiL",
        "outputId": "ea20fbf6-775c-4db3-d7a0-86b2ab4dc3a6"
      },
      "outputs": [
        {
          "output_type": "display_data",
          "data": {
            "text/html": [
              "<html>\n",
              "<head><meta charset=\"utf-8\" /></head>\n",
              "<body>\n",
              "    <div>\n",
              "            <script src=\"https://cdnjs.cloudflare.com/ajax/libs/mathjax/2.7.5/MathJax.js?config=TeX-AMS-MML_SVG\"></script><script type=\"text/javascript\">if (window.MathJax) {MathJax.Hub.Config({SVG: {font: \"STIX-Web\"}});}</script>\n",
              "                <script type=\"text/javascript\">window.PlotlyConfig = {MathJaxConfig: 'local'};</script>\n",
              "        <script src=\"https://cdn.plot.ly/plotly-latest.min.js\"></script>    \n",
              "            <div id=\"2251a982-c478-486f-88b5-dcac9a21af84\" class=\"plotly-graph-div\" style=\"height:525px; width:100%;\"></div>\n",
              "            <script type=\"text/javascript\">\n",
              "                \n",
              "                    window.PLOTLYENV=window.PLOTLYENV || {};\n",
              "                    \n",
              "                if (document.getElementById(\"2251a982-c478-486f-88b5-dcac9a21af84\")) {\n",
              "                    Plotly.newPlot(\n",
              "                        '2251a982-c478-486f-88b5-dcac9a21af84',\n",
              "                        [{\"alignmentgroup\": \"True\", \"bingroup\": \"x\", \"hoverlabel\": {\"namelength\": 0}, \"hovertemplate\": \"math score=%{x}<br>count=%{y}\", \"legendgroup\": \"\", \"marker\": {\"color\": \"#636efa\"}, \"name\": \"\", \"offsetgroup\": \"\", \"orientation\": \"v\", \"showlegend\": false, \"type\": \"histogram\", \"x\": [72, 69, 90, 47, 76, 71, 88, 40, 64, 38, 58, 40, 65, 78, 50, 69, 88, 18, 46, 54, 66, 65, 44, 69, 74, 73, 69, 67, 70, 62, 69, 63, 56, 40, 97, 81, 74, 50, 75, 57, 55, 58, 53, 59, 50, 65, 55, 66, 57, 82, 53, 77, 53, 88, 71, 33, 82, 52, 58, 0, 79, 39, 62, 69, 59, 67, 45, 60, 61, 39, 58, 63, 41, 61, 49, 44, 30, 80, 61, 62, 47, 49, 50, 72, 42, 73, 76, 71, 58, 73, 65, 27, 71, 43, 79, 78, 65, 63, 58, 65, 79, 68, 85, 60, 98, 58, 87, 66, 52, 70, 77, 62, 54, 51, 99, 84, 75, 78, 51, 55, 79, 91, 88, 63, 83, 87, 72, 65, 82, 51, 89, 53, 87, 75, 74, 58, 51, 70, 59, 71, 76, 59, 42, 57, 88, 22, 88, 73, 68, 100, 62, 77, 59, 54, 62, 70, 66, 60, 61, 66, 82, 75, 49, 52, 81, 96, 53, 58, 68, 67, 72, 94, 79, 63, 43, 81, 46, 71, 52, 97, 62, 46, 50, 65, 45, 65, 80, 62, 48, 77, 66, 76, 62, 77, 69, 61, 59, 55, 45, 78, 67, 65, 69, 57, 59, 74, 82, 81, 74, 58, 80, 35, 42, 60, 87, 84, 83, 34, 66, 61, 56, 87, 55, 86, 52, 45, 72, 57, 68, 88, 76, 46, 67, 92, 83, 80, 63, 64, 54, 84, 73, 80, 56, 59, 75, 85, 89, 58, 65, 68, 47, 71, 60, 80, 54, 62, 64, 78, 70, 65, 64, 79, 44, 99, 76, 59, 63, 69, 88, 71, 69, 58, 47, 65, 88, 83, 85, 59, 65, 73, 53, 45, 73, 70, 37, 81, 97, 67, 88, 77, 76, 86, 63, 65, 78, 67, 46, 71, 40, 90, 81, 56, 67, 80, 74, 69, 99, 51, 53, 49, 73, 66, 67, 68, 59, 71, 77, 83, 63, 56, 67, 75, 71, 43, 41, 82, 61, 28, 82, 41, 71, 47, 62, 90, 83, 61, 76, 49, 24, 35, 58, 61, 69, 67, 79, 72, 62, 77, 75, 87, 52, 66, 63, 46, 59, 61, 63, 42, 59, 80, 58, 85, 52, 27, 59, 49, 69, 61, 44, 73, 84, 45, 74, 82, 59, 46, 80, 85, 71, 66, 80, 87, 79, 38, 38, 67, 64, 57, 62, 73, 73, 77, 76, 57, 65, 48, 50, 85, 74, 60, 59, 53, 49, 88, 54, 63, 65, 82, 52, 87, 70, 84, 71, 63, 51, 84, 71, 74, 68, 57, 82, 57, 47, 59, 41, 62, 86, 69, 65, 68, 64, 61, 61, 47, 73, 50, 75, 75, 70, 89, 67, 78, 59, 73, 79, 67, 69, 86, 47, 81, 64, 100, 65, 65, 53, 37, 79, 53, 100, 72, 53, 54, 71, 77, 75, 84, 26, 72, 77, 91, 83, 63, 68, 59, 90, 71, 76, 80, 55, 76, 73, 52, 68, 59, 49, 70, 61, 60, 64, 79, 65, 64, 83, 81, 54, 68, 54, 59, 66, 76, 74, 94, 63, 95, 40, 82, 68, 55, 79, 86, 76, 64, 62, 54, 77, 76, 74, 66, 66, 67, 71, 91, 69, 54, 53, 68, 56, 36, 29, 62, 68, 47, 62, 79, 73, 66, 51, 51, 85, 97, 75, 79, 81, 82, 64, 78, 92, 72, 62, 79, 79, 87, 40, 77, 53, 32, 55, 61, 53, 73, 74, 63, 96, 63, 48, 48, 92, 61, 63, 68, 71, 91, 53, 50, 74, 40, 61, 81, 48, 53, 81, 77, 63, 73, 69, 65, 55, 44, 54, 48, 58, 71, 68, 74, 92, 56, 30, 53, 69, 65, 54, 29, 76, 60, 84, 75, 85, 40, 61, 58, 69, 58, 94, 65, 82, 60, 37, 88, 95, 65, 35, 62, 58, 100, 61, 100, 69, 61, 49, 44, 67, 79, 66, 75, 84, 71, 67, 80, 86, 76, 41, 74, 72, 74, 70, 65, 59, 64, 50, 69, 51, 68, 85, 65, 73, 62, 77, 69, 43, 90, 74, 73, 55, 65, 80, 50, 63, 77, 73, 81, 66, 52, 69, 65, 69, 50, 73, 70, 81, 63, 67, 60, 62, 29, 62, 94, 85, 77, 53, 93, 49, 73, 66, 77, 49, 79, 75, 59, 57, 66, 79, 57, 87, 63, 59, 62, 46, 66, 89, 42, 93, 80, 98, 81, 60, 76, 73, 96, 76, 91, 62, 55, 74, 50, 47, 81, 65, 68, 73, 53, 68, 55, 87, 55, 53, 67, 92, 53, 81, 61, 80, 37, 81, 59, 55, 72, 69, 69, 50, 87, 71, 68, 79, 77, 58, 84, 55, 70, 52, 69, 53, 48, 78, 62, 60, 74, 58, 76, 68, 58, 52, 75, 52, 62, 66, 49, 66, 35, 72, 94, 46, 77, 76, 52, 91, 32, 72, 19, 68, 52, 48, 60, 66, 89, 42, 57, 70, 70, 69, 52, 67, 76, 87, 82, 73, 75, 64, 41, 90, 59, 51, 45, 54, 87, 72, 94, 45, 61, 60, 77, 85, 78, 49, 71, 48, 62, 56, 65, 69, 68, 61, 74, 64, 77, 58, 60, 73, 75, 58, 66, 39, 64, 23, 74, 40, 90, 91, 64, 59, 80, 71, 61, 87, 82, 62, 97, 75, 65, 52, 87, 53, 81, 39, 71, 97, 82, 59, 61, 78, 49, 59, 70, 82, 90, 43, 80, 81, 57, 59, 64, 63, 71, 64, 55, 51, 62, 93, 54, 69, 44, 86, 85, 50, 88, 59, 32, 36, 63, 67, 65, 85, 73, 34, 93, 67, 88, 57, 79, 67, 70, 50, 69, 52, 47, 46, 68, 100, 44, 57, 91, 69, 35, 72, 54, 74, 74, 64, 65, 46, 48, 67, 62, 61, 70, 98, 70, 67, 57, 85, 77, 72, 78, 81, 61, 58, 54, 82, 49, 49, 57, 94, 75, 74, 58, 62, 72, 84, 92, 45, 75, 56, 48, 100, 65, 72, 62, 66, 63, 68, 75, 89, 78, 53, 49, 54, 64, 60, 62, 55, 91, 8, 81, 79, 78, 74, 57, 40, 81, 44, 67, 86, 65, 55, 62, 63, 88, 62, 59, 68, 77], \"xaxis\": \"x\", \"yaxis\": \"y\"}],\n",
              "                        {\"barmode\": \"relative\", \"legend\": {\"tracegroupgap\": 0}, \"margin\": {\"t\": 60}, \"template\": {\"data\": {\"bar\": [{\"error_x\": {\"color\": \"#2a3f5f\"}, \"error_y\": {\"color\": \"#2a3f5f\"}, \"marker\": {\"line\": {\"color\": \"#E5ECF6\", \"width\": 0.5}}, \"type\": \"bar\"}], \"barpolar\": [{\"marker\": {\"line\": {\"color\": \"#E5ECF6\", \"width\": 0.5}}, \"type\": \"barpolar\"}], \"carpet\": [{\"aaxis\": {\"endlinecolor\": \"#2a3f5f\", \"gridcolor\": \"white\", \"linecolor\": \"white\", \"minorgridcolor\": \"white\", \"startlinecolor\": \"#2a3f5f\"}, \"baxis\": {\"endlinecolor\": \"#2a3f5f\", \"gridcolor\": \"white\", \"linecolor\": \"white\", \"minorgridcolor\": \"white\", \"startlinecolor\": \"#2a3f5f\"}, \"type\": \"carpet\"}], \"choropleth\": [{\"colorbar\": {\"outlinewidth\": 0, \"ticks\": \"\"}, \"type\": \"choropleth\"}], \"contour\": [{\"colorbar\": {\"outlinewidth\": 0, \"ticks\": \"\"}, \"colorscale\": [[0.0, \"#0d0887\"], [0.1111111111111111, \"#46039f\"], [0.2222222222222222, \"#7201a8\"], [0.3333333333333333, \"#9c179e\"], [0.4444444444444444, \"#bd3786\"], [0.5555555555555556, \"#d8576b\"], [0.6666666666666666, \"#ed7953\"], [0.7777777777777778, \"#fb9f3a\"], [0.8888888888888888, \"#fdca26\"], [1.0, \"#f0f921\"]], \"type\": \"contour\"}], \"contourcarpet\": [{\"colorbar\": {\"outlinewidth\": 0, \"ticks\": \"\"}, \"type\": \"contourcarpet\"}], \"heatmap\": [{\"colorbar\": {\"outlinewidth\": 0, \"ticks\": \"\"}, \"colorscale\": [[0.0, \"#0d0887\"], [0.1111111111111111, \"#46039f\"], [0.2222222222222222, \"#7201a8\"], [0.3333333333333333, \"#9c179e\"], [0.4444444444444444, \"#bd3786\"], [0.5555555555555556, \"#d8576b\"], [0.6666666666666666, \"#ed7953\"], [0.7777777777777778, \"#fb9f3a\"], [0.8888888888888888, \"#fdca26\"], [1.0, \"#f0f921\"]], \"type\": \"heatmap\"}], \"heatmapgl\": [{\"colorbar\": {\"outlinewidth\": 0, \"ticks\": \"\"}, \"colorscale\": [[0.0, \"#0d0887\"], [0.1111111111111111, \"#46039f\"], [0.2222222222222222, \"#7201a8\"], [0.3333333333333333, \"#9c179e\"], [0.4444444444444444, \"#bd3786\"], [0.5555555555555556, \"#d8576b\"], [0.6666666666666666, \"#ed7953\"], [0.7777777777777778, \"#fb9f3a\"], [0.8888888888888888, \"#fdca26\"], [1.0, \"#f0f921\"]], \"type\": \"heatmapgl\"}], \"histogram\": [{\"marker\": {\"colorbar\": {\"outlinewidth\": 0, \"ticks\": \"\"}}, \"type\": \"histogram\"}], \"histogram2d\": [{\"colorbar\": {\"outlinewidth\": 0, \"ticks\": \"\"}, \"colorscale\": [[0.0, \"#0d0887\"], [0.1111111111111111, \"#46039f\"], [0.2222222222222222, \"#7201a8\"], [0.3333333333333333, \"#9c179e\"], [0.4444444444444444, \"#bd3786\"], [0.5555555555555556, \"#d8576b\"], [0.6666666666666666, \"#ed7953\"], [0.7777777777777778, \"#fb9f3a\"], [0.8888888888888888, \"#fdca26\"], [1.0, \"#f0f921\"]], \"type\": \"histogram2d\"}], \"histogram2dcontour\": [{\"colorbar\": {\"outlinewidth\": 0, \"ticks\": \"\"}, \"colorscale\": [[0.0, \"#0d0887\"], [0.1111111111111111, \"#46039f\"], [0.2222222222222222, \"#7201a8\"], [0.3333333333333333, \"#9c179e\"], [0.4444444444444444, \"#bd3786\"], [0.5555555555555556, \"#d8576b\"], [0.6666666666666666, \"#ed7953\"], [0.7777777777777778, \"#fb9f3a\"], [0.8888888888888888, \"#fdca26\"], [1.0, \"#f0f921\"]], \"type\": \"histogram2dcontour\"}], \"mesh3d\": [{\"colorbar\": {\"outlinewidth\": 0, \"ticks\": \"\"}, \"type\": \"mesh3d\"}], \"parcoords\": [{\"line\": {\"colorbar\": {\"outlinewidth\": 0, \"ticks\": \"\"}}, \"type\": \"parcoords\"}], \"pie\": [{\"automargin\": true, \"type\": \"pie\"}], \"scatter\": [{\"marker\": {\"colorbar\": {\"outlinewidth\": 0, \"ticks\": \"\"}}, \"type\": \"scatter\"}], \"scatter3d\": [{\"line\": {\"colorbar\": {\"outlinewidth\": 0, \"ticks\": \"\"}}, \"marker\": {\"colorbar\": {\"outlinewidth\": 0, \"ticks\": \"\"}}, \"type\": \"scatter3d\"}], \"scattercarpet\": [{\"marker\": {\"colorbar\": {\"outlinewidth\": 0, \"ticks\": \"\"}}, \"type\": \"scattercarpet\"}], \"scattergeo\": [{\"marker\": {\"colorbar\": {\"outlinewidth\": 0, \"ticks\": \"\"}}, \"type\": \"scattergeo\"}], \"scattergl\": [{\"marker\": {\"colorbar\": {\"outlinewidth\": 0, \"ticks\": \"\"}}, \"type\": \"scattergl\"}], \"scattermapbox\": [{\"marker\": {\"colorbar\": {\"outlinewidth\": 0, \"ticks\": \"\"}}, \"type\": \"scattermapbox\"}], \"scatterpolar\": [{\"marker\": {\"colorbar\": {\"outlinewidth\": 0, \"ticks\": \"\"}}, \"type\": \"scatterpolar\"}], \"scatterpolargl\": [{\"marker\": {\"colorbar\": {\"outlinewidth\": 0, \"ticks\": \"\"}}, \"type\": \"scatterpolargl\"}], \"scatterternary\": [{\"marker\": {\"colorbar\": {\"outlinewidth\": 0, \"ticks\": \"\"}}, \"type\": \"scatterternary\"}], \"surface\": [{\"colorbar\": {\"outlinewidth\": 0, \"ticks\": \"\"}, \"colorscale\": [[0.0, \"#0d0887\"], [0.1111111111111111, \"#46039f\"], [0.2222222222222222, \"#7201a8\"], [0.3333333333333333, \"#9c179e\"], [0.4444444444444444, \"#bd3786\"], [0.5555555555555556, \"#d8576b\"], [0.6666666666666666, \"#ed7953\"], [0.7777777777777778, \"#fb9f3a\"], [0.8888888888888888, \"#fdca26\"], [1.0, \"#f0f921\"]], \"type\": \"surface\"}], \"table\": [{\"cells\": {\"fill\": {\"color\": \"#EBF0F8\"}, \"line\": {\"color\": \"white\"}}, \"header\": {\"fill\": {\"color\": \"#C8D4E3\"}, \"line\": {\"color\": \"white\"}}, \"type\": \"table\"}]}, \"layout\": {\"annotationdefaults\": {\"arrowcolor\": \"#2a3f5f\", \"arrowhead\": 0, \"arrowwidth\": 1}, \"coloraxis\": {\"colorbar\": {\"outlinewidth\": 0, \"ticks\": \"\"}}, \"colorscale\": {\"diverging\": [[0, \"#8e0152\"], [0.1, \"#c51b7d\"], [0.2, \"#de77ae\"], [0.3, \"#f1b6da\"], [0.4, \"#fde0ef\"], [0.5, \"#f7f7f7\"], [0.6, \"#e6f5d0\"], [0.7, \"#b8e186\"], [0.8, \"#7fbc41\"], [0.9, \"#4d9221\"], [1, \"#276419\"]], \"sequential\": [[0.0, \"#0d0887\"], [0.1111111111111111, \"#46039f\"], [0.2222222222222222, \"#7201a8\"], [0.3333333333333333, \"#9c179e\"], [0.4444444444444444, \"#bd3786\"], [0.5555555555555556, \"#d8576b\"], [0.6666666666666666, \"#ed7953\"], [0.7777777777777778, \"#fb9f3a\"], [0.8888888888888888, \"#fdca26\"], [1.0, \"#f0f921\"]], \"sequentialminus\": [[0.0, \"#0d0887\"], [0.1111111111111111, \"#46039f\"], [0.2222222222222222, \"#7201a8\"], [0.3333333333333333, \"#9c179e\"], [0.4444444444444444, \"#bd3786\"], [0.5555555555555556, \"#d8576b\"], [0.6666666666666666, \"#ed7953\"], [0.7777777777777778, \"#fb9f3a\"], [0.8888888888888888, \"#fdca26\"], [1.0, \"#f0f921\"]]}, \"colorway\": [\"#636efa\", \"#EF553B\", \"#00cc96\", \"#ab63fa\", \"#FFA15A\", \"#19d3f3\", \"#FF6692\", \"#B6E880\", \"#FF97FF\", \"#FECB52\"], \"font\": {\"color\": \"#2a3f5f\"}, \"geo\": {\"bgcolor\": \"white\", \"lakecolor\": \"white\", \"landcolor\": \"#E5ECF6\", \"showlakes\": true, \"showland\": true, \"subunitcolor\": \"white\"}, \"hoverlabel\": {\"align\": \"left\"}, \"hovermode\": \"closest\", \"mapbox\": {\"style\": \"light\"}, \"paper_bgcolor\": \"white\", \"plot_bgcolor\": \"#E5ECF6\", \"polar\": {\"angularaxis\": {\"gridcolor\": \"white\", \"linecolor\": \"white\", \"ticks\": \"\"}, \"bgcolor\": \"#E5ECF6\", \"radialaxis\": {\"gridcolor\": \"white\", \"linecolor\": \"white\", \"ticks\": \"\"}}, \"scene\": {\"xaxis\": {\"backgroundcolor\": \"#E5ECF6\", \"gridcolor\": \"white\", \"gridwidth\": 2, \"linecolor\": \"white\", \"showbackground\": true, \"ticks\": \"\", \"zerolinecolor\": \"white\"}, \"yaxis\": {\"backgroundcolor\": \"#E5ECF6\", \"gridcolor\": \"white\", \"gridwidth\": 2, \"linecolor\": \"white\", \"showbackground\": true, \"ticks\": \"\", \"zerolinecolor\": \"white\"}, \"zaxis\": {\"backgroundcolor\": \"#E5ECF6\", \"gridcolor\": \"white\", \"gridwidth\": 2, \"linecolor\": \"white\", \"showbackground\": true, \"ticks\": \"\", \"zerolinecolor\": \"white\"}}, \"shapedefaults\": {\"line\": {\"color\": \"#2a3f5f\"}}, \"ternary\": {\"aaxis\": {\"gridcolor\": \"white\", \"linecolor\": \"white\", \"ticks\": \"\"}, \"baxis\": {\"gridcolor\": \"white\", \"linecolor\": \"white\", \"ticks\": \"\"}, \"bgcolor\": \"#E5ECF6\", \"caxis\": {\"gridcolor\": \"white\", \"linecolor\": \"white\", \"ticks\": \"\"}}, \"title\": {\"x\": 0.05}, \"xaxis\": {\"automargin\": true, \"gridcolor\": \"white\", \"linecolor\": \"white\", \"ticks\": \"\", \"title\": {\"standoff\": 15}, \"zerolinecolor\": \"white\", \"zerolinewidth\": 2}, \"yaxis\": {\"automargin\": true, \"gridcolor\": \"white\", \"linecolor\": \"white\", \"ticks\": \"\", \"title\": {\"standoff\": 15}, \"zerolinecolor\": \"white\", \"zerolinewidth\": 2}}}, \"xaxis\": {\"anchor\": \"y\", \"domain\": [0.0, 1.0], \"title\": {\"text\": \"math score\"}}, \"yaxis\": {\"anchor\": \"x\", \"domain\": [0.0, 1.0], \"title\": {\"text\": \"count\"}}},\n",
              "                        {\"responsive\": true}\n",
              "                    ).then(function(){\n",
              "                            \n",
              "var gd = document.getElementById('2251a982-c478-486f-88b5-dcac9a21af84');\n",
              "var x = new MutationObserver(function (mutations, observer) {{\n",
              "        var display = window.getComputedStyle(gd).display;\n",
              "        if (!display || display === 'none') {{\n",
              "            console.log([gd, 'removed!']);\n",
              "            Plotly.purge(gd);\n",
              "            observer.disconnect();\n",
              "        }}\n",
              "}});\n",
              "\n",
              "// Listen for the removal of the full notebook cells\n",
              "var notebookContainer = gd.closest('#notebook-container');\n",
              "if (notebookContainer) {{\n",
              "    x.observe(notebookContainer, {childList: true});\n",
              "}}\n",
              "\n",
              "// Listen for the clearing of the current output cell\n",
              "var outputEl = gd.closest('.output');\n",
              "if (outputEl) {{\n",
              "    x.observe(outputEl, {childList: true});\n",
              "}}\n",
              "\n",
              "                        })\n",
              "                };\n",
              "                \n",
              "            </script>\n",
              "        </div>\n",
              "</body>\n",
              "</html>"
            ]
          },
          "metadata": {}
        }
      ],
      "source": [
        "fig = px.histogram(df, x=\"math score\")\n",
        "fig.show()"
      ]
    },
    {
      "cell_type": "markdown",
      "metadata": {
        "id": "IAmJXHv9BfiM"
      },
      "source": [
        "## Bivariate Data Exploration"
      ]
    },
    {
      "cell_type": "markdown",
      "metadata": {
        "id": "BG-fMR9uNpf4"
      },
      "source": [
        "## Figuring out which gender scores higher in math"
      ]
    },
    {
      "cell_type": "code",
      "execution_count": null,
      "metadata": {
        "colab": {
          "base_uri": "https://localhost:8080/",
          "height": 542
        },
        "id": "83FtRIacNCSz",
        "outputId": "31f7e21c-bc89-4938-e250-b5db0a3183d6"
      },
      "outputs": [
        {
          "output_type": "display_data",
          "data": {
            "text/html": [
              "<html>\n",
              "<head><meta charset=\"utf-8\" /></head>\n",
              "<body>\n",
              "    <div>\n",
              "            <script src=\"https://cdnjs.cloudflare.com/ajax/libs/mathjax/2.7.5/MathJax.js?config=TeX-AMS-MML_SVG\"></script><script type=\"text/javascript\">if (window.MathJax) {MathJax.Hub.Config({SVG: {font: \"STIX-Web\"}});}</script>\n",
              "                <script type=\"text/javascript\">window.PlotlyConfig = {MathJaxConfig: 'local'};</script>\n",
              "        <script src=\"https://cdn.plot.ly/plotly-latest.min.js\"></script>    \n",
              "            <div id=\"f5248340-edce-475a-8174-5a039ed17dee\" class=\"plotly-graph-div\" style=\"height:525px; width:100%;\"></div>\n",
              "            <script type=\"text/javascript\">\n",
              "                \n",
              "                    window.PLOTLYENV=window.PLOTLYENV || {};\n",
              "                    \n",
              "                if (document.getElementById(\"f5248340-edce-475a-8174-5a039ed17dee\")) {\n",
              "                    Plotly.newPlot(\n",
              "                        'f5248340-edce-475a-8174-5a039ed17dee',\n",
              "                        [{\"alignmentgroup\": \"True\", \"bingroup\": \"x\", \"hoverlabel\": {\"namelength\": 0}, \"hovertemplate\": \"gender=female<br>math score=%{x}<br>count=%{y}\", \"legendgroup\": \"gender=female\", \"marker\": {\"color\": \"#636efa\"}, \"name\": \"gender=female\", \"offsetgroup\": \"gender=female\", \"orientation\": \"v\", \"showlegend\": true, \"type\": \"histogram\", \"x\": [72, 69, 90, 71, 88, 38, 65, 50, 69, 18, 54, 65, 69, 67, 62, 69, 63, 56, 74, 50, 75, 58, 53, 50, 55, 66, 57, 71, 33, 82, 0, 69, 59, 60, 39, 58, 41, 61, 62, 47, 73, 76, 71, 58, 73, 65, 79, 63, 58, 65, 85, 58, 87, 52, 70, 77, 51, 99, 75, 78, 51, 55, 79, 88, 87, 51, 75, 59, 76, 59, 42, 22, 68, 59, 70, 66, 61, 75, 81, 96, 58, 68, 67, 79, 63, 43, 81, 46, 71, 52, 97, 46, 50, 65, 77, 66, 62, 69, 45, 78, 67, 65, 57, 74, 58, 42, 83, 34, 56, 55, 52, 45, 72, 88, 67, 64, 80, 56, 58, 65, 71, 60, 62, 64, 70, 65, 64, 44, 99, 63, 69, 88, 71, 47, 65, 85, 59, 65, 73, 70, 37, 67, 65, 67, 74, 53, 49, 73, 68, 59, 77, 56, 67, 75, 71, 43, 41, 82, 41, 83, 61, 24, 35, 61, 69, 72, 77, 52, 63, 46, 59, 61, 42, 80, 58, 52, 27, 44, 73, 45, 82, 59, 80, 85, 71, 80, 38, 38, 67, 64, 57, 62, 77, 65, 50, 85, 59, 49, 88, 54, 63, 82, 52, 70, 51, 82, 57, 47, 59, 62, 61, 47, 67, 78, 59, 73, 67, 64, 100, 65, 53, 79, 100, 71, 77, 84, 26, 77, 83, 63, 68, 59, 90, 71, 55, 52, 49, 60, 65, 64, 83, 81, 54, 54, 59, 66, 74, 94, 95, 40, 82, 86, 54, 77, 76, 74, 66, 66, 67, 91, 36, 29, 62, 68, 47, 79, 66, 51, 81, 82, 64, 92, 62, 40, 32, 55, 53, 74, 63, 63, 92, 61, 53, 50, 74, 81, 48, 53, 81, 77, 63, 73, 69, 65, 55, 44, 54, 48, 74, 92, 56, 69, 65, 54, 29, 76, 85, 40, 61, 58, 58, 65, 82, 60, 37, 35, 61, 44, 66, 75, 67, 80, 76, 74, 72, 74, 65, 59, 64, 50, 69, 68, 85, 65, 73, 62, 43, 55, 65, 50, 63, 77, 66, 69, 65, 69, 50, 73, 70, 67, 29, 94, 49, 73, 66, 77, 49, 79, 75, 59, 57, 79, 57, 63, 59, 42, 80, 98, 60, 76, 96, 76, 62, 74, 65, 73, 68, 87, 53, 53, 37, 81, 59, 50, 77, 84, 52, 53, 48, 62, 74, 58, 68, 52, 62, 49, 66, 35, 72, 46, 77, 76, 52, 32, 72, 19, 52, 48, 60, 42, 57, 70, 52, 87, 82, 73, 64, 41, 54, 72, 45, 60, 77, 85, 78, 71, 48, 56, 65, 69, 61, 74, 77, 60, 75, 66, 39, 23, 40, 59, 61, 87, 97, 65, 53, 81, 71, 70, 43, 59, 64, 71, 64, 51, 62, 93, 69, 86, 85, 50, 59, 32, 63, 65, 73, 34, 93, 67, 79, 67, 69, 52, 47, 46, 68, 44, 57, 35, 54, 65, 48, 57, 78, 58, 54, 49, 57, 75, 74, 62, 92, 45, 56, 48, 100, 65, 62, 68, 75, 89, 53, 49, 54, 64, 91, 8, 78, 74, 40, 44, 67, 65, 55, 62, 88, 59, 68, 77], \"xaxis\": \"x\", \"yaxis\": \"y\"}, {\"alignmentgroup\": \"True\", \"bingroup\": \"x\", \"hoverlabel\": {\"namelength\": 0}, \"hovertemplate\": \"gender=male<br>math score=%{x}<br>count=%{y}\", \"legendgroup\": \"gender=male\", \"marker\": {\"color\": \"#EF553B\"}, \"name\": \"gender=male\", \"offsetgroup\": \"gender=male\", \"orientation\": \"v\", \"showlegend\": true, \"type\": \"histogram\", \"x\": [47, 76, 40, 64, 58, 40, 78, 88, 46, 66, 44, 74, 73, 69, 70, 40, 97, 81, 57, 55, 59, 65, 82, 53, 77, 53, 88, 52, 58, 79, 39, 62, 67, 45, 61, 63, 61, 49, 44, 30, 80, 49, 50, 72, 42, 27, 71, 43, 78, 65, 79, 68, 60, 98, 66, 62, 54, 84, 91, 63, 83, 72, 65, 82, 89, 53, 87, 74, 58, 51, 70, 71, 57, 88, 88, 73, 100, 62, 77, 54, 62, 60, 66, 82, 49, 52, 53, 72, 94, 62, 45, 65, 80, 62, 48, 76, 77, 61, 59, 55, 69, 59, 74, 82, 81, 80, 35, 60, 87, 84, 66, 61, 87, 86, 57, 68, 76, 46, 92, 83, 80, 63, 54, 84, 73, 59, 75, 85, 89, 68, 47, 80, 54, 78, 79, 76, 59, 69, 58, 88, 83, 73, 53, 45, 81, 97, 88, 77, 76, 86, 63, 78, 67, 46, 71, 40, 90, 81, 56, 80, 69, 99, 51, 66, 67, 71, 83, 63, 61, 28, 82, 71, 47, 62, 90, 76, 49, 58, 67, 79, 62, 75, 87, 66, 63, 59, 85, 59, 49, 69, 61, 84, 74, 46, 66, 87, 79, 73, 73, 76, 57, 48, 74, 60, 53, 65, 87, 84, 71, 63, 84, 71, 74, 68, 57, 41, 86, 69, 65, 68, 64, 61, 73, 50, 75, 75, 70, 89, 79, 69, 86, 47, 81, 65, 37, 53, 72, 53, 54, 75, 72, 91, 76, 80, 76, 73, 68, 59, 70, 61, 64, 79, 68, 76, 63, 68, 55, 79, 76, 64, 62, 71, 69, 54, 53, 68, 56, 62, 73, 51, 85, 97, 75, 79, 78, 72, 79, 79, 87, 77, 53, 61, 73, 96, 48, 48, 63, 68, 71, 91, 40, 61, 58, 71, 68, 30, 53, 60, 84, 75, 69, 94, 88, 95, 65, 62, 58, 100, 100, 69, 61, 49, 67, 79, 84, 71, 86, 41, 70, 51, 77, 69, 90, 74, 73, 80, 73, 81, 52, 81, 63, 60, 62, 62, 85, 77, 53, 93, 66, 87, 62, 46, 66, 89, 93, 81, 73, 91, 55, 50, 47, 81, 68, 53, 55, 55, 67, 92, 81, 61, 80, 55, 72, 69, 69, 87, 71, 68, 79, 58, 55, 70, 69, 78, 60, 76, 58, 52, 75, 66, 94, 91, 68, 66, 89, 70, 69, 67, 76, 75, 90, 59, 51, 45, 87, 94, 61, 49, 62, 68, 64, 58, 73, 58, 64, 74, 90, 91, 64, 80, 71, 82, 62, 75, 52, 87, 39, 97, 82, 59, 61, 78, 49, 59, 82, 90, 80, 81, 57, 63, 55, 54, 44, 88, 36, 67, 85, 88, 57, 70, 50, 100, 91, 69, 72, 74, 74, 64, 46, 67, 62, 61, 70, 98, 70, 67, 85, 77, 72, 81, 61, 82, 49, 94, 58, 72, 84, 75, 72, 66, 63, 78, 60, 62, 55, 81, 79, 57, 81, 86, 63, 62], \"xaxis\": \"x\", \"yaxis\": \"y\"}],\n",
              "                        {\"barmode\": \"relative\", \"legend\": {\"tracegroupgap\": 0}, \"template\": {\"data\": {\"bar\": [{\"error_x\": {\"color\": \"#2a3f5f\"}, \"error_y\": {\"color\": \"#2a3f5f\"}, \"marker\": {\"line\": {\"color\": \"#E5ECF6\", \"width\": 0.5}}, \"type\": \"bar\"}], \"barpolar\": [{\"marker\": {\"line\": {\"color\": \"#E5ECF6\", \"width\": 0.5}}, \"type\": \"barpolar\"}], \"carpet\": [{\"aaxis\": {\"endlinecolor\": \"#2a3f5f\", \"gridcolor\": \"white\", \"linecolor\": \"white\", \"minorgridcolor\": \"white\", \"startlinecolor\": \"#2a3f5f\"}, \"baxis\": {\"endlinecolor\": \"#2a3f5f\", \"gridcolor\": \"white\", \"linecolor\": \"white\", \"minorgridcolor\": \"white\", \"startlinecolor\": \"#2a3f5f\"}, \"type\": \"carpet\"}], \"choropleth\": [{\"colorbar\": {\"outlinewidth\": 0, \"ticks\": \"\"}, \"type\": \"choropleth\"}], \"contour\": [{\"colorbar\": {\"outlinewidth\": 0, \"ticks\": \"\"}, \"colorscale\": [[0.0, \"#0d0887\"], [0.1111111111111111, \"#46039f\"], [0.2222222222222222, \"#7201a8\"], [0.3333333333333333, \"#9c179e\"], [0.4444444444444444, \"#bd3786\"], [0.5555555555555556, \"#d8576b\"], [0.6666666666666666, \"#ed7953\"], [0.7777777777777778, \"#fb9f3a\"], [0.8888888888888888, \"#fdca26\"], [1.0, \"#f0f921\"]], \"type\": \"contour\"}], \"contourcarpet\": [{\"colorbar\": {\"outlinewidth\": 0, \"ticks\": \"\"}, \"type\": \"contourcarpet\"}], \"heatmap\": [{\"colorbar\": {\"outlinewidth\": 0, \"ticks\": \"\"}, \"colorscale\": [[0.0, \"#0d0887\"], [0.1111111111111111, \"#46039f\"], [0.2222222222222222, \"#7201a8\"], [0.3333333333333333, \"#9c179e\"], [0.4444444444444444, \"#bd3786\"], [0.5555555555555556, \"#d8576b\"], [0.6666666666666666, \"#ed7953\"], [0.7777777777777778, \"#fb9f3a\"], [0.8888888888888888, \"#fdca26\"], [1.0, \"#f0f921\"]], \"type\": \"heatmap\"}], \"heatmapgl\": [{\"colorbar\": {\"outlinewidth\": 0, \"ticks\": \"\"}, \"colorscale\": [[0.0, \"#0d0887\"], [0.1111111111111111, \"#46039f\"], [0.2222222222222222, \"#7201a8\"], [0.3333333333333333, \"#9c179e\"], [0.4444444444444444, \"#bd3786\"], [0.5555555555555556, \"#d8576b\"], [0.6666666666666666, \"#ed7953\"], [0.7777777777777778, \"#fb9f3a\"], [0.8888888888888888, \"#fdca26\"], [1.0, \"#f0f921\"]], \"type\": \"heatmapgl\"}], \"histogram\": [{\"marker\": {\"colorbar\": {\"outlinewidth\": 0, \"ticks\": \"\"}}, \"type\": \"histogram\"}], \"histogram2d\": [{\"colorbar\": {\"outlinewidth\": 0, \"ticks\": \"\"}, \"colorscale\": [[0.0, \"#0d0887\"], [0.1111111111111111, \"#46039f\"], [0.2222222222222222, \"#7201a8\"], [0.3333333333333333, \"#9c179e\"], [0.4444444444444444, \"#bd3786\"], [0.5555555555555556, \"#d8576b\"], [0.6666666666666666, \"#ed7953\"], [0.7777777777777778, \"#fb9f3a\"], [0.8888888888888888, \"#fdca26\"], [1.0, \"#f0f921\"]], \"type\": \"histogram2d\"}], \"histogram2dcontour\": [{\"colorbar\": {\"outlinewidth\": 0, \"ticks\": \"\"}, \"colorscale\": [[0.0, \"#0d0887\"], [0.1111111111111111, \"#46039f\"], [0.2222222222222222, \"#7201a8\"], [0.3333333333333333, \"#9c179e\"], [0.4444444444444444, \"#bd3786\"], [0.5555555555555556, \"#d8576b\"], [0.6666666666666666, \"#ed7953\"], [0.7777777777777778, \"#fb9f3a\"], [0.8888888888888888, \"#fdca26\"], [1.0, \"#f0f921\"]], \"type\": \"histogram2dcontour\"}], \"mesh3d\": [{\"colorbar\": {\"outlinewidth\": 0, \"ticks\": \"\"}, \"type\": \"mesh3d\"}], \"parcoords\": [{\"line\": {\"colorbar\": {\"outlinewidth\": 0, \"ticks\": \"\"}}, \"type\": \"parcoords\"}], \"pie\": [{\"automargin\": true, \"type\": \"pie\"}], \"scatter\": [{\"marker\": {\"colorbar\": {\"outlinewidth\": 0, \"ticks\": \"\"}}, \"type\": \"scatter\"}], \"scatter3d\": [{\"line\": {\"colorbar\": {\"outlinewidth\": 0, \"ticks\": \"\"}}, \"marker\": {\"colorbar\": {\"outlinewidth\": 0, \"ticks\": \"\"}}, \"type\": \"scatter3d\"}], \"scattercarpet\": [{\"marker\": {\"colorbar\": {\"outlinewidth\": 0, \"ticks\": \"\"}}, \"type\": \"scattercarpet\"}], \"scattergeo\": [{\"marker\": {\"colorbar\": {\"outlinewidth\": 0, \"ticks\": \"\"}}, \"type\": \"scattergeo\"}], \"scattergl\": [{\"marker\": {\"colorbar\": {\"outlinewidth\": 0, \"ticks\": \"\"}}, \"type\": \"scattergl\"}], \"scattermapbox\": [{\"marker\": {\"colorbar\": {\"outlinewidth\": 0, \"ticks\": \"\"}}, \"type\": \"scattermapbox\"}], \"scatterpolar\": [{\"marker\": {\"colorbar\": {\"outlinewidth\": 0, \"ticks\": \"\"}}, \"type\": \"scatterpolar\"}], \"scatterpolargl\": [{\"marker\": {\"colorbar\": {\"outlinewidth\": 0, \"ticks\": \"\"}}, \"type\": \"scatterpolargl\"}], \"scatterternary\": [{\"marker\": {\"colorbar\": {\"outlinewidth\": 0, \"ticks\": \"\"}}, \"type\": \"scatterternary\"}], \"surface\": [{\"colorbar\": {\"outlinewidth\": 0, \"ticks\": \"\"}, \"colorscale\": [[0.0, \"#0d0887\"], [0.1111111111111111, \"#46039f\"], [0.2222222222222222, \"#7201a8\"], [0.3333333333333333, \"#9c179e\"], [0.4444444444444444, \"#bd3786\"], [0.5555555555555556, \"#d8576b\"], [0.6666666666666666, \"#ed7953\"], [0.7777777777777778, \"#fb9f3a\"], [0.8888888888888888, \"#fdca26\"], [1.0, \"#f0f921\"]], \"type\": \"surface\"}], \"table\": [{\"cells\": {\"fill\": {\"color\": \"#EBF0F8\"}, \"line\": {\"color\": \"white\"}}, \"header\": {\"fill\": {\"color\": \"#C8D4E3\"}, \"line\": {\"color\": \"white\"}}, \"type\": \"table\"}]}, \"layout\": {\"annotationdefaults\": {\"arrowcolor\": \"#2a3f5f\", \"arrowhead\": 0, \"arrowwidth\": 1}, \"coloraxis\": {\"colorbar\": {\"outlinewidth\": 0, \"ticks\": \"\"}}, \"colorscale\": {\"diverging\": [[0, \"#8e0152\"], [0.1, \"#c51b7d\"], [0.2, \"#de77ae\"], [0.3, \"#f1b6da\"], [0.4, \"#fde0ef\"], [0.5, \"#f7f7f7\"], [0.6, \"#e6f5d0\"], [0.7, \"#b8e186\"], [0.8, \"#7fbc41\"], [0.9, \"#4d9221\"], [1, \"#276419\"]], \"sequential\": [[0.0, \"#0d0887\"], [0.1111111111111111, \"#46039f\"], [0.2222222222222222, \"#7201a8\"], [0.3333333333333333, \"#9c179e\"], [0.4444444444444444, \"#bd3786\"], [0.5555555555555556, \"#d8576b\"], [0.6666666666666666, \"#ed7953\"], [0.7777777777777778, \"#fb9f3a\"], [0.8888888888888888, \"#fdca26\"], [1.0, \"#f0f921\"]], \"sequentialminus\": [[0.0, \"#0d0887\"], [0.1111111111111111, \"#46039f\"], [0.2222222222222222, \"#7201a8\"], [0.3333333333333333, \"#9c179e\"], [0.4444444444444444, \"#bd3786\"], [0.5555555555555556, \"#d8576b\"], [0.6666666666666666, \"#ed7953\"], [0.7777777777777778, \"#fb9f3a\"], [0.8888888888888888, \"#fdca26\"], [1.0, \"#f0f921\"]]}, \"colorway\": [\"#636efa\", \"#EF553B\", \"#00cc96\", \"#ab63fa\", \"#FFA15A\", \"#19d3f3\", \"#FF6692\", \"#B6E880\", \"#FF97FF\", \"#FECB52\"], \"font\": {\"color\": \"#2a3f5f\"}, \"geo\": {\"bgcolor\": \"white\", \"lakecolor\": \"white\", \"landcolor\": \"#E5ECF6\", \"showlakes\": true, \"showland\": true, \"subunitcolor\": \"white\"}, \"hoverlabel\": {\"align\": \"left\"}, \"hovermode\": \"closest\", \"mapbox\": {\"style\": \"light\"}, \"paper_bgcolor\": \"white\", \"plot_bgcolor\": \"#E5ECF6\", \"polar\": {\"angularaxis\": {\"gridcolor\": \"white\", \"linecolor\": \"white\", \"ticks\": \"\"}, \"bgcolor\": \"#E5ECF6\", \"radialaxis\": {\"gridcolor\": \"white\", \"linecolor\": \"white\", \"ticks\": \"\"}}, \"scene\": {\"xaxis\": {\"backgroundcolor\": \"#E5ECF6\", \"gridcolor\": \"white\", \"gridwidth\": 2, \"linecolor\": \"white\", \"showbackground\": true, \"ticks\": \"\", \"zerolinecolor\": \"white\"}, \"yaxis\": {\"backgroundcolor\": \"#E5ECF6\", \"gridcolor\": \"white\", \"gridwidth\": 2, \"linecolor\": \"white\", \"showbackground\": true, \"ticks\": \"\", \"zerolinecolor\": \"white\"}, \"zaxis\": {\"backgroundcolor\": \"#E5ECF6\", \"gridcolor\": \"white\", \"gridwidth\": 2, \"linecolor\": \"white\", \"showbackground\": true, \"ticks\": \"\", \"zerolinecolor\": \"white\"}}, \"shapedefaults\": {\"line\": {\"color\": \"#2a3f5f\"}}, \"ternary\": {\"aaxis\": {\"gridcolor\": \"white\", \"linecolor\": \"white\", \"ticks\": \"\"}, \"baxis\": {\"gridcolor\": \"white\", \"linecolor\": \"white\", \"ticks\": \"\"}, \"bgcolor\": \"#E5ECF6\", \"caxis\": {\"gridcolor\": \"white\", \"linecolor\": \"white\", \"ticks\": \"\"}}, \"title\": {\"x\": 0.05}, \"xaxis\": {\"automargin\": true, \"gridcolor\": \"white\", \"linecolor\": \"white\", \"ticks\": \"\", \"title\": {\"standoff\": 15}, \"zerolinecolor\": \"white\", \"zerolinewidth\": 2}, \"yaxis\": {\"automargin\": true, \"gridcolor\": \"white\", \"linecolor\": \"white\", \"ticks\": \"\", \"title\": {\"standoff\": 15}, \"zerolinecolor\": \"white\", \"zerolinewidth\": 2}}}, \"title\": {\"text\": \"<b>gender vs math score</b>\"}, \"xaxis\": {\"anchor\": \"y\", \"domain\": [0.0, 1.0], \"title\": {\"text\": \"math score\"}}, \"yaxis\": {\"anchor\": \"x\", \"domain\": [0.0, 1.0], \"title\": {\"text\": \"count\"}}},\n",
              "                        {\"responsive\": true}\n",
              "                    ).then(function(){\n",
              "                            \n",
              "var gd = document.getElementById('f5248340-edce-475a-8174-5a039ed17dee');\n",
              "var x = new MutationObserver(function (mutations, observer) {{\n",
              "        var display = window.getComputedStyle(gd).display;\n",
              "        if (!display || display === 'none') {{\n",
              "            console.log([gd, 'removed!']);\n",
              "            Plotly.purge(gd);\n",
              "            observer.disconnect();\n",
              "        }}\n",
              "}});\n",
              "\n",
              "// Listen for the removal of the full notebook cells\n",
              "var notebookContainer = gd.closest('#notebook-container');\n",
              "if (notebookContainer) {{\n",
              "    x.observe(notebookContainer, {childList: true});\n",
              "}}\n",
              "\n",
              "// Listen for the clearing of the current output cell\n",
              "var outputEl = gd.closest('.output');\n",
              "if (outputEl) {{\n",
              "    x.observe(outputEl, {childList: true});\n",
              "}}\n",
              "\n",
              "                        })\n",
              "                };\n",
              "                \n",
              "            </script>\n",
              "        </div>\n",
              "</body>\n",
              "</html>"
            ]
          },
          "metadata": {}
        }
      ],
      "source": [
        "fig = px.histogram(data_frame = df,\n",
        "             x ='math score',\n",
        "             color=\"gender\", title=\"<b>gender vs math score</b>\",   \n",
        ")\n",
        "fig.show()"
      ]
    },
    {
      "cell_type": "markdown",
      "metadata": {
        "id": "jM7cISHgNYEN"
      },
      "source": [
        "Males tend to get more high scores in math than females"
      ]
    },
    {
      "cell_type": "markdown",
      "metadata": {
        "id": "FiWPbky_N1Rm"
      },
      "source": [
        "## Figuring out which gender scores higher in writing"
      ]
    },
    {
      "cell_type": "code",
      "execution_count": null,
      "metadata": {
        "colab": {
          "base_uri": "https://localhost:8080/",
          "height": 542
        },
        "id": "_NGBwz1WNlFW",
        "outputId": "ee48cccf-1abe-44bd-fbff-6cecddaf3dfc"
      },
      "outputs": [
        {
          "output_type": "display_data",
          "data": {
            "text/html": [
              "<html>\n",
              "<head><meta charset=\"utf-8\" /></head>\n",
              "<body>\n",
              "    <div>\n",
              "            <script src=\"https://cdnjs.cloudflare.com/ajax/libs/mathjax/2.7.5/MathJax.js?config=TeX-AMS-MML_SVG\"></script><script type=\"text/javascript\">if (window.MathJax) {MathJax.Hub.Config({SVG: {font: \"STIX-Web\"}});}</script>\n",
              "                <script type=\"text/javascript\">window.PlotlyConfig = {MathJaxConfig: 'local'};</script>\n",
              "        <script src=\"https://cdn.plot.ly/plotly-latest.min.js\"></script>    \n",
              "            <div id=\"c2a2955c-89c3-423e-add1-87a4de448a75\" class=\"plotly-graph-div\" style=\"height:525px; width:100%;\"></div>\n",
              "            <script type=\"text/javascript\">\n",
              "                \n",
              "                    window.PLOTLYENV=window.PLOTLYENV || {};\n",
              "                    \n",
              "                if (document.getElementById(\"c2a2955c-89c3-423e-add1-87a4de448a75\")) {\n",
              "                    Plotly.newPlot(\n",
              "                        'c2a2955c-89c3-423e-add1-87a4de448a75',\n",
              "                        [{\"alignmentgroup\": \"True\", \"bingroup\": \"x\", \"hoverlabel\": {\"namelength\": 0}, \"hovertemplate\": \"gender=female<br>writing score=%{x}<br>count=%{y}\", \"legendgroup\": \"gender=female\", \"marker\": {\"color\": \"#636efa\"}, \"name\": \"gender=female\", \"offsetgroup\": \"gender=female\", \"orientation\": \"v\", \"showlegend\": true, \"type\": \"histogram\", \"x\": [74, 88, 93, 78, 92, 50, 73, 58, 78, 28, 61, 70, 73, 75, 75, 74, 61, 65, 83, 59, 88, 68, 65, 54, 62, 76, 76, 87, 43, 86, 10, 71, 59, 74, 57, 73, 48, 72, 68, 50, 82, 88, 74, 67, 82, 74, 92, 70, 62, 62, 89, 72, 100, 70, 72, 98, 54, 100, 82, 79, 61, 65, 89, 93, 86, 51, 84, 67, 71, 64, 54, 33, 81, 66, 88, 78, 87, 85, 91, 100, 78, 78, 70, 81, 70, 54, 87, 58, 77, 62, 100, 66, 47, 70, 87, 69, 66, 85, 55, 76, 86, 77, 68, 76, 66, 60, 88, 39, 74, 62, 73, 54, 71, 94, 83, 74, 83, 55, 68, 62, 83, 70, 70, 68, 78, 81, 77, 51, 90, 81, 77, 95, 70, 58, 71, 93, 75, 80, 84, 78, 46, 82, 75, 81, 83, 67, 52, 80, 69, 75, 91, 63, 84, 79, 80, 53, 43, 94, 51, 95, 66, 27, 60, 63, 74, 75, 95, 69, 80, 57, 70, 70, 69, 89, 59, 58, 32, 58, 85, 70, 96, 73, 82, 100, 77, 83, 45, 43, 75, 70, 67, 64, 77, 77, 63, 95, 67, 55, 100, 62, 68, 77, 56, 74, 79, 93, 64, 67, 80, 62, 70, 50, 79, 80, 69, 76, 77, 85, 97, 74, 62, 89, 100, 76, 91, 91, 38, 85, 90, 74, 84, 61, 91, 83, 70, 56, 54, 74, 76, 70, 90, 90, 68, 52, 76, 68, 82, 92, 92, 54, 80, 87, 62, 94, 85, 84, 73, 78, 79, 84, 43, 47, 70, 73, 53, 94, 83, 62, 79, 89, 66, 97, 64, 50, 33, 79, 70, 79, 74, 80, 100, 78, 56, 64, 71, 89, 58, 68, 96, 80, 78, 80, 77, 76, 73, 62, 65, 65, 73, 99, 72, 73, 81, 63, 30, 80, 82, 54, 62, 65, 66, 74, 93, 72, 38, 54, 62, 55, 81, 85, 81, 88, 73, 90, 79, 80, 81, 65, 68, 55, 81, 76, 98, 74, 79, 67, 58, 69, 67, 60, 71, 87, 68, 76, 84, 78, 66, 76, 76, 74, 44, 100, 53, 78, 81, 73, 56, 86, 90, 70, 79, 82, 72, 67, 64, 58, 85, 99, 74, 87, 99, 74, 70, 88, 77, 84, 80, 94, 57, 73, 56, 82, 72, 59, 85, 92, 65, 64, 54, 63, 72, 77, 75, 72, 79, 55, 70, 43, 82, 57, 84, 82, 62, 44, 77, 32, 61, 60, 70, 51, 73, 81, 57, 95, 87, 78, 75, 40, 67, 83, 64, 68, 88, 92, 93, 82, 52, 70, 76, 81, 57, 89, 89, 74, 79, 73, 46, 36, 64, 68, 63, 93, 96, 81, 53, 87, 80, 76, 61, 80, 74, 70, 71, 54, 80, 95, 74, 91, 85, 73, 69, 38, 79, 82, 74, 41, 100, 84, 91, 72, 82, 66, 66, 55, 66, 52, 80, 46, 65, 71, 51, 57, 96, 61, 58, 60, 73, 83, 72, 69, 100, 59, 64, 53, 100, 75, 72, 67, 80, 100, 60, 61, 67, 77, 94, 23, 91, 82, 51, 45, 83, 78, 76, 74, 95, 65, 77, 86], \"xaxis\": \"x\", \"yaxis\": \"y\"}, {\"alignmentgroup\": \"True\", \"bingroup\": \"x\", \"hoverlabel\": {\"namelength\": 0}, \"hovertemplate\": \"gender=male<br>writing score=%{x}<br>count=%{y}\", \"legendgroup\": \"gender=male\", \"marker\": {\"color\": \"#EF553B\"}, \"name\": \"gender=male\", \"offsetgroup\": \"gender=male\", \"orientation\": \"v\", \"showlegend\": true, \"type\": \"histogram\", \"x\": [44, 75, 39, 67, 52, 43, 70, 86, 46, 63, 53, 80, 72, 55, 65, 38, 82, 79, 57, 54, 66, 57, 82, 48, 68, 42, 75, 49, 58, 72, 34, 55, 61, 37, 56, 63, 56, 41, 38, 22, 81, 45, 54, 63, 34, 36, 71, 50, 82, 62, 67, 74, 47, 90, 64, 49, 47, 74, 92, 56, 73, 67, 74, 74, 82, 40, 70, 75, 48, 41, 56, 69, 47, 78, 75, 66, 93, 69, 68, 47, 61, 60, 64, 74, 52, 49, 51, 74, 78, 75, 49, 65, 65, 68, 45, 79, 62, 52, 65, 51, 69, 42, 78, 62, 76, 79, 27, 56, 81, 75, 70, 56, 73, 75, 54, 64, 66, 42, 78, 84, 77, 67, 51, 80, 66, 43, 69, 71, 74, 53, 49, 72, 52, 77, 78, 68, 41, 61, 42, 76, 73, 57, 42, 46, 82, 88, 76, 77, 68, 70, 57, 80, 60, 43, 68, 50, 75, 81, 52, 64, 69, 81, 44, 57, 68, 65, 78, 69, 62, 19, 77, 61, 35, 53, 81, 69, 43, 52, 67, 67, 57, 66, 76, 52, 61, 61, 78, 58, 60, 53, 61, 71, 72, 41, 62, 95, 71, 75, 59, 67, 56, 41, 57, 54, 43, 63, 85, 78, 60, 67, 69, 68, 67, 62, 54, 34, 86, 65, 53, 54, 59, 55, 66, 53, 64, 73, 51, 82, 73, 60, 80, 42, 72, 49, 47, 48, 68, 55, 45, 62, 65, 76, 66, 72, 67, 68, 61, 46, 71, 56, 57, 82, 66, 72, 54, 66, 54, 77, 73, 43, 52, 52, 57, 50, 49, 59, 60, 58, 68, 58, 71, 86, 68, 80, 80, 64, 69, 65, 88, 64, 40, 66, 62, 92, 46, 45, 47, 67, 70, 92, 53, 52, 54, 50, 64, 15, 48, 51, 90, 62, 63, 91, 83, 84, 68, 56, 52, 86, 99, 63, 46, 46, 70, 65, 80, 64, 74, 51, 60, 53, 64, 61, 85, 73, 63, 63, 61, 77, 50, 78, 60, 60, 54, 68, 68, 73, 44, 83, 59, 87, 65, 36, 52, 79, 90, 84, 72, 80, 59, 42, 41, 71, 57, 37, 43, 44, 59, 84, 73, 55, 72, 47, 74, 71, 68, 86, 68, 65, 75, 53, 52, 72, 77, 86, 59, 60, 57, 49, 74, 60, 82, 79, 61, 69, 77, 70, 54, 68, 73, 74, 69, 51, 36, 49, 76, 87, 76, 51, 58, 53, 58, 45, 57, 53, 51, 76, 84, 85, 50, 69, 67, 61, 55, 65, 46, 72, 38, 91, 88, 52, 41, 72, 51, 47, 78, 82, 66, 84, 54, 66, 44, 59, 48, 75, 27, 63, 89, 77, 51, 70, 48, 100, 91, 67, 66, 69, 60, 52, 44, 70, 62, 73, 74, 90, 58, 53, 85, 69, 72, 64, 61, 80, 52, 71, 54, 62, 81, 71, 58, 64, 60, 69, 60, 58, 48, 78, 86, 54, 76, 75, 62, 55], \"xaxis\": \"x\", \"yaxis\": \"y\"}],\n",
              "                        {\"barmode\": \"relative\", \"legend\": {\"tracegroupgap\": 0}, \"template\": {\"data\": {\"bar\": [{\"error_x\": {\"color\": \"#2a3f5f\"}, \"error_y\": {\"color\": \"#2a3f5f\"}, \"marker\": {\"line\": {\"color\": \"#E5ECF6\", \"width\": 0.5}}, \"type\": \"bar\"}], \"barpolar\": [{\"marker\": {\"line\": {\"color\": \"#E5ECF6\", \"width\": 0.5}}, \"type\": \"barpolar\"}], \"carpet\": [{\"aaxis\": {\"endlinecolor\": \"#2a3f5f\", \"gridcolor\": \"white\", \"linecolor\": \"white\", \"minorgridcolor\": \"white\", \"startlinecolor\": \"#2a3f5f\"}, \"baxis\": {\"endlinecolor\": \"#2a3f5f\", \"gridcolor\": \"white\", \"linecolor\": \"white\", \"minorgridcolor\": \"white\", \"startlinecolor\": \"#2a3f5f\"}, \"type\": \"carpet\"}], \"choropleth\": [{\"colorbar\": {\"outlinewidth\": 0, \"ticks\": \"\"}, \"type\": \"choropleth\"}], \"contour\": [{\"colorbar\": {\"outlinewidth\": 0, \"ticks\": \"\"}, \"colorscale\": [[0.0, \"#0d0887\"], [0.1111111111111111, \"#46039f\"], [0.2222222222222222, \"#7201a8\"], [0.3333333333333333, \"#9c179e\"], [0.4444444444444444, \"#bd3786\"], [0.5555555555555556, \"#d8576b\"], [0.6666666666666666, \"#ed7953\"], [0.7777777777777778, \"#fb9f3a\"], [0.8888888888888888, \"#fdca26\"], [1.0, \"#f0f921\"]], \"type\": \"contour\"}], \"contourcarpet\": [{\"colorbar\": {\"outlinewidth\": 0, \"ticks\": \"\"}, \"type\": \"contourcarpet\"}], \"heatmap\": [{\"colorbar\": {\"outlinewidth\": 0, \"ticks\": \"\"}, \"colorscale\": [[0.0, \"#0d0887\"], [0.1111111111111111, \"#46039f\"], [0.2222222222222222, \"#7201a8\"], [0.3333333333333333, \"#9c179e\"], [0.4444444444444444, \"#bd3786\"], [0.5555555555555556, \"#d8576b\"], [0.6666666666666666, \"#ed7953\"], [0.7777777777777778, \"#fb9f3a\"], [0.8888888888888888, \"#fdca26\"], [1.0, \"#f0f921\"]], \"type\": \"heatmap\"}], \"heatmapgl\": [{\"colorbar\": {\"outlinewidth\": 0, \"ticks\": \"\"}, \"colorscale\": [[0.0, \"#0d0887\"], [0.1111111111111111, \"#46039f\"], [0.2222222222222222, \"#7201a8\"], [0.3333333333333333, \"#9c179e\"], [0.4444444444444444, \"#bd3786\"], [0.5555555555555556, \"#d8576b\"], [0.6666666666666666, \"#ed7953\"], [0.7777777777777778, \"#fb9f3a\"], [0.8888888888888888, \"#fdca26\"], [1.0, \"#f0f921\"]], \"type\": \"heatmapgl\"}], \"histogram\": [{\"marker\": {\"colorbar\": {\"outlinewidth\": 0, \"ticks\": \"\"}}, \"type\": \"histogram\"}], \"histogram2d\": [{\"colorbar\": {\"outlinewidth\": 0, \"ticks\": \"\"}, \"colorscale\": [[0.0, \"#0d0887\"], [0.1111111111111111, \"#46039f\"], [0.2222222222222222, \"#7201a8\"], [0.3333333333333333, \"#9c179e\"], [0.4444444444444444, \"#bd3786\"], [0.5555555555555556, \"#d8576b\"], [0.6666666666666666, \"#ed7953\"], [0.7777777777777778, \"#fb9f3a\"], [0.8888888888888888, \"#fdca26\"], [1.0, \"#f0f921\"]], \"type\": \"histogram2d\"}], \"histogram2dcontour\": [{\"colorbar\": {\"outlinewidth\": 0, \"ticks\": \"\"}, \"colorscale\": [[0.0, \"#0d0887\"], [0.1111111111111111, \"#46039f\"], [0.2222222222222222, \"#7201a8\"], [0.3333333333333333, \"#9c179e\"], [0.4444444444444444, \"#bd3786\"], [0.5555555555555556, \"#d8576b\"], [0.6666666666666666, \"#ed7953\"], [0.7777777777777778, \"#fb9f3a\"], [0.8888888888888888, \"#fdca26\"], [1.0, \"#f0f921\"]], \"type\": \"histogram2dcontour\"}], \"mesh3d\": [{\"colorbar\": {\"outlinewidth\": 0, \"ticks\": \"\"}, \"type\": \"mesh3d\"}], \"parcoords\": [{\"line\": {\"colorbar\": {\"outlinewidth\": 0, \"ticks\": \"\"}}, \"type\": \"parcoords\"}], \"pie\": [{\"automargin\": true, \"type\": \"pie\"}], \"scatter\": [{\"marker\": {\"colorbar\": {\"outlinewidth\": 0, \"ticks\": \"\"}}, \"type\": \"scatter\"}], \"scatter3d\": [{\"line\": {\"colorbar\": {\"outlinewidth\": 0, \"ticks\": \"\"}}, \"marker\": {\"colorbar\": {\"outlinewidth\": 0, \"ticks\": \"\"}}, \"type\": \"scatter3d\"}], \"scattercarpet\": [{\"marker\": {\"colorbar\": {\"outlinewidth\": 0, \"ticks\": \"\"}}, \"type\": \"scattercarpet\"}], \"scattergeo\": [{\"marker\": {\"colorbar\": {\"outlinewidth\": 0, \"ticks\": \"\"}}, \"type\": \"scattergeo\"}], \"scattergl\": [{\"marker\": {\"colorbar\": {\"outlinewidth\": 0, \"ticks\": \"\"}}, \"type\": \"scattergl\"}], \"scattermapbox\": [{\"marker\": {\"colorbar\": {\"outlinewidth\": 0, \"ticks\": \"\"}}, \"type\": \"scattermapbox\"}], \"scatterpolar\": [{\"marker\": {\"colorbar\": {\"outlinewidth\": 0, \"ticks\": \"\"}}, \"type\": \"scatterpolar\"}], \"scatterpolargl\": [{\"marker\": {\"colorbar\": {\"outlinewidth\": 0, \"ticks\": \"\"}}, \"type\": \"scatterpolargl\"}], \"scatterternary\": [{\"marker\": {\"colorbar\": {\"outlinewidth\": 0, \"ticks\": \"\"}}, \"type\": \"scatterternary\"}], \"surface\": [{\"colorbar\": {\"outlinewidth\": 0, \"ticks\": \"\"}, \"colorscale\": [[0.0, \"#0d0887\"], [0.1111111111111111, \"#46039f\"], [0.2222222222222222, \"#7201a8\"], [0.3333333333333333, \"#9c179e\"], [0.4444444444444444, \"#bd3786\"], [0.5555555555555556, \"#d8576b\"], [0.6666666666666666, \"#ed7953\"], [0.7777777777777778, \"#fb9f3a\"], [0.8888888888888888, \"#fdca26\"], [1.0, \"#f0f921\"]], \"type\": \"surface\"}], \"table\": [{\"cells\": {\"fill\": {\"color\": \"#EBF0F8\"}, \"line\": {\"color\": \"white\"}}, \"header\": {\"fill\": {\"color\": \"#C8D4E3\"}, \"line\": {\"color\": \"white\"}}, \"type\": \"table\"}]}, \"layout\": {\"annotationdefaults\": {\"arrowcolor\": \"#2a3f5f\", \"arrowhead\": 0, \"arrowwidth\": 1}, \"coloraxis\": {\"colorbar\": {\"outlinewidth\": 0, \"ticks\": \"\"}}, \"colorscale\": {\"diverging\": [[0, \"#8e0152\"], [0.1, \"#c51b7d\"], [0.2, \"#de77ae\"], [0.3, \"#f1b6da\"], [0.4, \"#fde0ef\"], [0.5, \"#f7f7f7\"], [0.6, \"#e6f5d0\"], [0.7, \"#b8e186\"], [0.8, \"#7fbc41\"], [0.9, \"#4d9221\"], [1, \"#276419\"]], \"sequential\": [[0.0, \"#0d0887\"], [0.1111111111111111, \"#46039f\"], [0.2222222222222222, \"#7201a8\"], [0.3333333333333333, \"#9c179e\"], [0.4444444444444444, \"#bd3786\"], [0.5555555555555556, \"#d8576b\"], [0.6666666666666666, \"#ed7953\"], [0.7777777777777778, \"#fb9f3a\"], [0.8888888888888888, \"#fdca26\"], [1.0, \"#f0f921\"]], \"sequentialminus\": [[0.0, \"#0d0887\"], [0.1111111111111111, \"#46039f\"], [0.2222222222222222, \"#7201a8\"], [0.3333333333333333, \"#9c179e\"], [0.4444444444444444, \"#bd3786\"], [0.5555555555555556, \"#d8576b\"], [0.6666666666666666, \"#ed7953\"], [0.7777777777777778, \"#fb9f3a\"], [0.8888888888888888, \"#fdca26\"], [1.0, \"#f0f921\"]]}, \"colorway\": [\"#636efa\", \"#EF553B\", \"#00cc96\", \"#ab63fa\", \"#FFA15A\", \"#19d3f3\", \"#FF6692\", \"#B6E880\", \"#FF97FF\", \"#FECB52\"], \"font\": {\"color\": \"#2a3f5f\"}, \"geo\": {\"bgcolor\": \"white\", \"lakecolor\": \"white\", \"landcolor\": \"#E5ECF6\", \"showlakes\": true, \"showland\": true, \"subunitcolor\": \"white\"}, \"hoverlabel\": {\"align\": \"left\"}, \"hovermode\": \"closest\", \"mapbox\": {\"style\": \"light\"}, \"paper_bgcolor\": \"white\", \"plot_bgcolor\": \"#E5ECF6\", \"polar\": {\"angularaxis\": {\"gridcolor\": \"white\", \"linecolor\": \"white\", \"ticks\": \"\"}, \"bgcolor\": \"#E5ECF6\", \"radialaxis\": {\"gridcolor\": \"white\", \"linecolor\": \"white\", \"ticks\": \"\"}}, \"scene\": {\"xaxis\": {\"backgroundcolor\": \"#E5ECF6\", \"gridcolor\": \"white\", \"gridwidth\": 2, \"linecolor\": \"white\", \"showbackground\": true, \"ticks\": \"\", \"zerolinecolor\": \"white\"}, \"yaxis\": {\"backgroundcolor\": \"#E5ECF6\", \"gridcolor\": \"white\", \"gridwidth\": 2, \"linecolor\": \"white\", \"showbackground\": true, \"ticks\": \"\", \"zerolinecolor\": \"white\"}, \"zaxis\": {\"backgroundcolor\": \"#E5ECF6\", \"gridcolor\": \"white\", \"gridwidth\": 2, \"linecolor\": \"white\", \"showbackground\": true, \"ticks\": \"\", \"zerolinecolor\": \"white\"}}, \"shapedefaults\": {\"line\": {\"color\": \"#2a3f5f\"}}, \"ternary\": {\"aaxis\": {\"gridcolor\": \"white\", \"linecolor\": \"white\", \"ticks\": \"\"}, \"baxis\": {\"gridcolor\": \"white\", \"linecolor\": \"white\", \"ticks\": \"\"}, \"bgcolor\": \"#E5ECF6\", \"caxis\": {\"gridcolor\": \"white\", \"linecolor\": \"white\", \"ticks\": \"\"}}, \"title\": {\"x\": 0.05}, \"xaxis\": {\"automargin\": true, \"gridcolor\": \"white\", \"linecolor\": \"white\", \"ticks\": \"\", \"title\": {\"standoff\": 15}, \"zerolinecolor\": \"white\", \"zerolinewidth\": 2}, \"yaxis\": {\"automargin\": true, \"gridcolor\": \"white\", \"linecolor\": \"white\", \"ticks\": \"\", \"title\": {\"standoff\": 15}, \"zerolinecolor\": \"white\", \"zerolinewidth\": 2}}}, \"title\": {\"text\": \"<b>gender vs writing score</b>\"}, \"xaxis\": {\"anchor\": \"y\", \"domain\": [0.0, 1.0], \"title\": {\"text\": \"writing score\"}}, \"yaxis\": {\"anchor\": \"x\", \"domain\": [0.0, 1.0], \"title\": {\"text\": \"count\"}}},\n",
              "                        {\"responsive\": true}\n",
              "                    ).then(function(){\n",
              "                            \n",
              "var gd = document.getElementById('c2a2955c-89c3-423e-add1-87a4de448a75');\n",
              "var x = new MutationObserver(function (mutations, observer) {{\n",
              "        var display = window.getComputedStyle(gd).display;\n",
              "        if (!display || display === 'none') {{\n",
              "            console.log([gd, 'removed!']);\n",
              "            Plotly.purge(gd);\n",
              "            observer.disconnect();\n",
              "        }}\n",
              "}});\n",
              "\n",
              "// Listen for the removal of the full notebook cells\n",
              "var notebookContainer = gd.closest('#notebook-container');\n",
              "if (notebookContainer) {{\n",
              "    x.observe(notebookContainer, {childList: true});\n",
              "}}\n",
              "\n",
              "// Listen for the clearing of the current output cell\n",
              "var outputEl = gd.closest('.output');\n",
              "if (outputEl) {{\n",
              "    x.observe(outputEl, {childList: true});\n",
              "}}\n",
              "\n",
              "                        })\n",
              "                };\n",
              "                \n",
              "            </script>\n",
              "        </div>\n",
              "</body>\n",
              "</html>"
            ]
          },
          "metadata": {}
        }
      ],
      "source": [
        "fig = px.histogram(data_frame = df,\n",
        "             x ='writing score',\n",
        "             color=\"gender\", title=\"<b>gender vs writing score</b>\",   \n",
        ")\n",
        "fig.show()"
      ]
    },
    {
      "cell_type": "markdown",
      "metadata": {
        "id": "OoXoJvPoOFJz"
      },
      "source": [
        "Males tend to get more high scores in math than females"
      ]
    },
    {
      "cell_type": "markdown",
      "metadata": {
        "id": "f2yzVrkHOlIv"
      },
      "source": [
        "#### Figuring out which gender scores higher in reading test"
      ]
    },
    {
      "cell_type": "code",
      "execution_count": null,
      "metadata": {
        "colab": {
          "base_uri": "https://localhost:8080/",
          "height": 542
        },
        "id": "eZ1VESEYOqZ1",
        "outputId": "2cafdc60-d970-48be-dff3-916bce6de7b1"
      },
      "outputs": [
        {
          "output_type": "display_data",
          "data": {
            "text/html": [
              "<html>\n",
              "<head><meta charset=\"utf-8\" /></head>\n",
              "<body>\n",
              "    <div>\n",
              "            <script src=\"https://cdnjs.cloudflare.com/ajax/libs/mathjax/2.7.5/MathJax.js?config=TeX-AMS-MML_SVG\"></script><script type=\"text/javascript\">if (window.MathJax) {MathJax.Hub.Config({SVG: {font: \"STIX-Web\"}});}</script>\n",
              "                <script type=\"text/javascript\">window.PlotlyConfig = {MathJaxConfig: 'local'};</script>\n",
              "        <script src=\"https://cdn.plot.ly/plotly-latest.min.js\"></script>    \n",
              "            <div id=\"351028eb-08fc-4390-904d-29bc7fa05a5b\" class=\"plotly-graph-div\" style=\"height:525px; width:100%;\"></div>\n",
              "            <script type=\"text/javascript\">\n",
              "                \n",
              "                    window.PLOTLYENV=window.PLOTLYENV || {};\n",
              "                    \n",
              "                if (document.getElementById(\"351028eb-08fc-4390-904d-29bc7fa05a5b\")) {\n",
              "                    Plotly.newPlot(\n",
              "                        '351028eb-08fc-4390-904d-29bc7fa05a5b',\n",
              "                        [{\"alignmentgroup\": \"True\", \"bingroup\": \"x\", \"hoverlabel\": {\"namelength\": 0}, \"hovertemplate\": \"gender=female<br>reading score=%{x}<br>count=%{y}\", \"legendgroup\": \"gender=female\", \"marker\": {\"color\": \"#636efa\"}, \"name\": \"gender=female\", \"offsetgroup\": \"gender=female\", \"orientation\": \"v\", \"showlegend\": true, \"type\": \"histogram\", \"x\": [72, 90, 95, 83, 95, 60, 81, 53, 75, 32, 58, 75, 73, 69, 70, 74, 65, 72, 81, 64, 90, 73, 58, 56, 65, 71, 74, 84, 41, 85, 17, 80, 58, 72, 64, 63, 51, 74, 68, 49, 80, 83, 71, 70, 86, 72, 86, 72, 67, 67, 91, 67, 100, 76, 64, 89, 58, 100, 85, 82, 63, 69, 92, 93, 95, 49, 81, 66, 72, 62, 55, 39, 75, 70, 89, 74, 86, 88, 92, 100, 76, 83, 75, 86, 67, 51, 91, 54, 77, 70, 100, 64, 50, 69, 88, 65, 64, 84, 53, 79, 84, 81, 69, 81, 61, 62, 86, 42, 68, 65, 66, 56, 72, 95, 86, 60, 83, 52, 70, 64, 83, 70, 73, 73, 75, 81, 79, 50, 93, 75, 72, 92, 76, 53, 70, 92, 63, 86, 79, 78, 46, 89, 73, 84, 75, 71, 57, 76, 67, 64, 82, 65, 79, 86, 81, 53, 46, 90, 55, 93, 68, 38, 55, 73, 76, 80, 94, 65, 78, 58, 71, 72, 66, 90, 62, 58, 34, 64, 84, 73, 97, 70, 90, 95, 83, 86, 49, 43, 76, 73, 78, 64, 68, 74, 67, 89, 54, 65, 99, 59, 73, 80, 57, 71, 72, 93, 58, 58, 85, 67, 72, 59, 81, 81, 73, 83, 74, 85, 92, 77, 61, 89, 100, 70, 90, 87, 31, 88, 85, 69, 86, 67, 90, 76, 64, 59, 52, 75, 85, 64, 83, 88, 64, 48, 78, 69, 79, 87, 89, 59, 82, 92, 61, 97, 87, 89, 74, 78, 78, 86, 53, 41, 74, 67, 54, 88, 83, 66, 77, 95, 63, 100, 67, 48, 39, 72, 70, 75, 74, 80, 100, 71, 62, 66, 81, 91, 56, 61, 97, 79, 73, 75, 77, 76, 73, 63, 64, 66, 76, 100, 79, 77, 82, 60, 29, 78, 84, 58, 64, 63, 59, 77, 93, 68, 45, 61, 58, 51, 74, 88, 80, 92, 74, 88, 81, 79, 81, 70, 62, 53, 79, 80, 86, 70, 79, 67, 60, 71, 69, 60, 73, 85, 76, 78, 84, 77, 64, 78, 82, 72, 40, 99, 53, 76, 74, 77, 63, 89, 82, 72, 78, 81, 67, 64, 63, 61, 85, 100, 70, 94, 96, 76, 72, 90, 75, 92, 77, 89, 58, 66, 57, 84, 73, 60, 90, 95, 59, 72, 58, 62, 72, 75, 71, 67, 78, 58, 72, 44, 79, 56, 90, 85, 59, 51, 79, 38, 65, 62, 66, 52, 68, 84, 55, 94, 85, 76, 74, 45, 64, 80, 59, 72, 91, 90, 90, 87, 58, 68, 69, 86, 60, 86, 82, 64, 82, 77, 52, 44, 65, 72, 68, 85, 97, 79, 62, 86, 71, 72, 62, 72, 76, 70, 73, 51, 76, 100, 65, 85, 92, 67, 62, 34, 78, 78, 78, 48, 100, 84, 84, 75, 84, 61, 62, 61, 70, 61, 77, 53, 65, 61, 56, 58, 91, 68, 61, 58, 75, 77, 74, 69, 100, 63, 58, 54, 100, 76, 70, 76, 84, 100, 50, 65, 63, 82, 95, 24, 87, 75, 59, 45, 86, 82, 76, 72, 99, 71, 78, 86], \"xaxis\": \"x\", \"yaxis\": \"y\"}, {\"alignmentgroup\": \"True\", \"bingroup\": \"x\", \"hoverlabel\": {\"namelength\": 0}, \"hovertemplate\": \"gender=male<br>reading score=%{x}<br>count=%{y}\", \"legendgroup\": \"gender=male\", \"marker\": {\"color\": \"#EF553B\"}, \"name\": \"gender=male\", \"offsetgroup\": \"gender=male\", \"orientation\": \"v\", \"showlegend\": true, \"type\": \"histogram\", \"x\": [57, 78, 43, 64, 54, 52, 72, 89, 42, 69, 54, 71, 74, 54, 70, 42, 87, 81, 56, 61, 65, 54, 84, 55, 69, 44, 78, 55, 59, 74, 39, 61, 64, 37, 58, 55, 57, 49, 41, 26, 78, 45, 47, 64, 39, 34, 79, 45, 81, 66, 67, 74, 44, 86, 63, 55, 53, 77, 89, 57, 80, 68, 77, 82, 84, 37, 74, 79, 55, 54, 55, 61, 43, 73, 84, 68, 100, 67, 67, 49, 67, 60, 62, 78, 53, 53, 51, 73, 88, 68, 52, 67, 76, 66, 52, 83, 62, 55, 69, 56, 77, 41, 71, 62, 80, 79, 28, 51, 91, 83, 77, 56, 85, 80, 50, 72, 64, 43, 87, 82, 75, 66, 52, 80, 68, 51, 74, 76, 76, 60, 49, 80, 52, 77, 79, 73, 42, 63, 49, 85, 78, 56, 52, 48, 82, 82, 75, 76, 70, 73, 60, 77, 62, 41, 74, 46, 87, 78, 54, 76, 67, 87, 52, 60, 61, 66, 72, 71, 61, 23, 75, 60, 37, 56, 78, 70, 51, 61, 72, 73, 61, 74, 74, 57, 61, 62, 84, 60, 58, 58, 66, 77, 74, 43, 64, 100, 81, 70, 67, 67, 54, 45, 63, 59, 43, 65, 84, 83, 66, 67, 73, 74, 73, 59, 56, 39, 83, 71, 59, 63, 66, 56, 66, 48, 68, 66, 56, 88, 82, 66, 81, 46, 73, 58, 56, 54, 65, 58, 54, 58, 67, 74, 62, 68, 71, 71, 68, 52, 74, 47, 53, 82, 64, 71, 61, 70, 59, 78, 71, 50, 49, 49, 58, 59, 52, 60, 61, 61, 69, 60, 66, 92, 69, 82, 83, 67, 72, 76, 90, 62, 45, 67, 66, 90, 51, 43, 48, 68, 75, 96, 55, 51, 57, 62, 68, 24, 54, 57, 89, 72, 60, 90, 78, 81, 73, 63, 51, 96, 97, 70, 48, 57, 64, 60, 84, 74, 76, 52, 65, 56, 67, 66, 87, 77, 66, 63, 74, 72, 57, 75, 61, 68, 55, 66, 75, 78, 58, 90, 66, 84, 72, 34, 59, 87, 84, 81, 78, 73, 59, 48, 43, 74, 51, 39, 46, 47, 57, 79, 71, 60, 73, 55, 79, 75, 64, 84, 69, 72, 77, 55, 58, 68, 77, 81, 63, 62, 60, 48, 73, 65, 85, 81, 65, 74, 84, 70, 60, 73, 80, 81, 75, 54, 31, 47, 84, 86, 70, 52, 67, 54, 60, 50, 64, 57, 58, 77, 85, 85, 54, 75, 67, 67, 64, 68, 49, 73, 42, 93, 82, 53, 42, 74, 51, 58, 84, 90, 64, 82, 61, 64, 46, 72, 51, 74, 29, 54, 84, 77, 48, 64, 42, 100, 96, 70, 66, 70, 64, 56, 43, 74, 57, 71, 75, 87, 63, 57, 81, 68, 66, 66, 62, 82, 50, 73, 52, 57, 87, 81, 57, 68, 63, 72, 62, 65, 41, 78, 85, 51, 75, 81, 63, 55], \"xaxis\": \"x\", \"yaxis\": \"y\"}],\n",
              "                        {\"barmode\": \"relative\", \"legend\": {\"tracegroupgap\": 0}, \"template\": {\"data\": {\"bar\": [{\"error_x\": {\"color\": \"#2a3f5f\"}, \"error_y\": {\"color\": \"#2a3f5f\"}, \"marker\": {\"line\": {\"color\": \"#E5ECF6\", \"width\": 0.5}}, \"type\": \"bar\"}], \"barpolar\": [{\"marker\": {\"line\": {\"color\": \"#E5ECF6\", \"width\": 0.5}}, \"type\": \"barpolar\"}], \"carpet\": [{\"aaxis\": {\"endlinecolor\": \"#2a3f5f\", \"gridcolor\": \"white\", \"linecolor\": \"white\", \"minorgridcolor\": \"white\", \"startlinecolor\": \"#2a3f5f\"}, \"baxis\": {\"endlinecolor\": \"#2a3f5f\", \"gridcolor\": \"white\", \"linecolor\": \"white\", \"minorgridcolor\": \"white\", \"startlinecolor\": \"#2a3f5f\"}, \"type\": \"carpet\"}], \"choropleth\": [{\"colorbar\": {\"outlinewidth\": 0, \"ticks\": \"\"}, \"type\": \"choropleth\"}], \"contour\": [{\"colorbar\": {\"outlinewidth\": 0, \"ticks\": \"\"}, \"colorscale\": [[0.0, \"#0d0887\"], [0.1111111111111111, \"#46039f\"], [0.2222222222222222, \"#7201a8\"], [0.3333333333333333, \"#9c179e\"], [0.4444444444444444, \"#bd3786\"], [0.5555555555555556, \"#d8576b\"], [0.6666666666666666, \"#ed7953\"], [0.7777777777777778, \"#fb9f3a\"], [0.8888888888888888, \"#fdca26\"], [1.0, \"#f0f921\"]], \"type\": \"contour\"}], \"contourcarpet\": [{\"colorbar\": {\"outlinewidth\": 0, \"ticks\": \"\"}, \"type\": \"contourcarpet\"}], \"heatmap\": [{\"colorbar\": {\"outlinewidth\": 0, \"ticks\": \"\"}, \"colorscale\": [[0.0, \"#0d0887\"], [0.1111111111111111, \"#46039f\"], [0.2222222222222222, \"#7201a8\"], [0.3333333333333333, \"#9c179e\"], [0.4444444444444444, \"#bd3786\"], [0.5555555555555556, \"#d8576b\"], [0.6666666666666666, \"#ed7953\"], [0.7777777777777778, \"#fb9f3a\"], [0.8888888888888888, \"#fdca26\"], [1.0, \"#f0f921\"]], \"type\": \"heatmap\"}], \"heatmapgl\": [{\"colorbar\": {\"outlinewidth\": 0, \"ticks\": \"\"}, \"colorscale\": [[0.0, \"#0d0887\"], [0.1111111111111111, \"#46039f\"], [0.2222222222222222, \"#7201a8\"], [0.3333333333333333, \"#9c179e\"], [0.4444444444444444, \"#bd3786\"], [0.5555555555555556, \"#d8576b\"], [0.6666666666666666, \"#ed7953\"], [0.7777777777777778, \"#fb9f3a\"], [0.8888888888888888, \"#fdca26\"], [1.0, \"#f0f921\"]], \"type\": \"heatmapgl\"}], \"histogram\": [{\"marker\": {\"colorbar\": {\"outlinewidth\": 0, \"ticks\": \"\"}}, \"type\": \"histogram\"}], \"histogram2d\": [{\"colorbar\": {\"outlinewidth\": 0, \"ticks\": \"\"}, \"colorscale\": [[0.0, \"#0d0887\"], [0.1111111111111111, \"#46039f\"], [0.2222222222222222, \"#7201a8\"], [0.3333333333333333, \"#9c179e\"], [0.4444444444444444, \"#bd3786\"], [0.5555555555555556, \"#d8576b\"], [0.6666666666666666, \"#ed7953\"], [0.7777777777777778, \"#fb9f3a\"], [0.8888888888888888, \"#fdca26\"], [1.0, \"#f0f921\"]], \"type\": \"histogram2d\"}], \"histogram2dcontour\": [{\"colorbar\": {\"outlinewidth\": 0, \"ticks\": \"\"}, \"colorscale\": [[0.0, \"#0d0887\"], [0.1111111111111111, \"#46039f\"], [0.2222222222222222, \"#7201a8\"], [0.3333333333333333, \"#9c179e\"], [0.4444444444444444, \"#bd3786\"], [0.5555555555555556, \"#d8576b\"], [0.6666666666666666, \"#ed7953\"], [0.7777777777777778, \"#fb9f3a\"], [0.8888888888888888, \"#fdca26\"], [1.0, \"#f0f921\"]], \"type\": \"histogram2dcontour\"}], \"mesh3d\": [{\"colorbar\": {\"outlinewidth\": 0, \"ticks\": \"\"}, \"type\": \"mesh3d\"}], \"parcoords\": [{\"line\": {\"colorbar\": {\"outlinewidth\": 0, \"ticks\": \"\"}}, \"type\": \"parcoords\"}], \"pie\": [{\"automargin\": true, \"type\": \"pie\"}], \"scatter\": [{\"marker\": {\"colorbar\": {\"outlinewidth\": 0, \"ticks\": \"\"}}, \"type\": \"scatter\"}], \"scatter3d\": [{\"line\": {\"colorbar\": {\"outlinewidth\": 0, \"ticks\": \"\"}}, \"marker\": {\"colorbar\": {\"outlinewidth\": 0, \"ticks\": \"\"}}, \"type\": \"scatter3d\"}], \"scattercarpet\": [{\"marker\": {\"colorbar\": {\"outlinewidth\": 0, \"ticks\": \"\"}}, \"type\": \"scattercarpet\"}], \"scattergeo\": [{\"marker\": {\"colorbar\": {\"outlinewidth\": 0, \"ticks\": \"\"}}, \"type\": \"scattergeo\"}], \"scattergl\": [{\"marker\": {\"colorbar\": {\"outlinewidth\": 0, \"ticks\": \"\"}}, \"type\": \"scattergl\"}], \"scattermapbox\": [{\"marker\": {\"colorbar\": {\"outlinewidth\": 0, \"ticks\": \"\"}}, \"type\": \"scattermapbox\"}], \"scatterpolar\": [{\"marker\": {\"colorbar\": {\"outlinewidth\": 0, \"ticks\": \"\"}}, \"type\": \"scatterpolar\"}], \"scatterpolargl\": [{\"marker\": {\"colorbar\": {\"outlinewidth\": 0, \"ticks\": \"\"}}, \"type\": \"scatterpolargl\"}], \"scatterternary\": [{\"marker\": {\"colorbar\": {\"outlinewidth\": 0, \"ticks\": \"\"}}, \"type\": \"scatterternary\"}], \"surface\": [{\"colorbar\": {\"outlinewidth\": 0, \"ticks\": \"\"}, \"colorscale\": [[0.0, \"#0d0887\"], [0.1111111111111111, \"#46039f\"], [0.2222222222222222, \"#7201a8\"], [0.3333333333333333, \"#9c179e\"], [0.4444444444444444, \"#bd3786\"], [0.5555555555555556, \"#d8576b\"], [0.6666666666666666, \"#ed7953\"], [0.7777777777777778, \"#fb9f3a\"], [0.8888888888888888, \"#fdca26\"], [1.0, \"#f0f921\"]], \"type\": \"surface\"}], \"table\": [{\"cells\": {\"fill\": {\"color\": \"#EBF0F8\"}, \"line\": {\"color\": \"white\"}}, \"header\": {\"fill\": {\"color\": \"#C8D4E3\"}, \"line\": {\"color\": \"white\"}}, \"type\": \"table\"}]}, \"layout\": {\"annotationdefaults\": {\"arrowcolor\": \"#2a3f5f\", \"arrowhead\": 0, \"arrowwidth\": 1}, \"coloraxis\": {\"colorbar\": {\"outlinewidth\": 0, \"ticks\": \"\"}}, \"colorscale\": {\"diverging\": [[0, \"#8e0152\"], [0.1, \"#c51b7d\"], [0.2, \"#de77ae\"], [0.3, \"#f1b6da\"], [0.4, \"#fde0ef\"], [0.5, \"#f7f7f7\"], [0.6, \"#e6f5d0\"], [0.7, \"#b8e186\"], [0.8, \"#7fbc41\"], [0.9, \"#4d9221\"], [1, \"#276419\"]], \"sequential\": [[0.0, \"#0d0887\"], [0.1111111111111111, \"#46039f\"], [0.2222222222222222, \"#7201a8\"], [0.3333333333333333, \"#9c179e\"], [0.4444444444444444, \"#bd3786\"], [0.5555555555555556, \"#d8576b\"], [0.6666666666666666, \"#ed7953\"], [0.7777777777777778, \"#fb9f3a\"], [0.8888888888888888, \"#fdca26\"], [1.0, \"#f0f921\"]], \"sequentialminus\": [[0.0, \"#0d0887\"], [0.1111111111111111, \"#46039f\"], [0.2222222222222222, \"#7201a8\"], [0.3333333333333333, \"#9c179e\"], [0.4444444444444444, \"#bd3786\"], [0.5555555555555556, \"#d8576b\"], [0.6666666666666666, \"#ed7953\"], [0.7777777777777778, \"#fb9f3a\"], [0.8888888888888888, \"#fdca26\"], [1.0, \"#f0f921\"]]}, \"colorway\": [\"#636efa\", \"#EF553B\", \"#00cc96\", \"#ab63fa\", \"#FFA15A\", \"#19d3f3\", \"#FF6692\", \"#B6E880\", \"#FF97FF\", \"#FECB52\"], \"font\": {\"color\": \"#2a3f5f\"}, \"geo\": {\"bgcolor\": \"white\", \"lakecolor\": \"white\", \"landcolor\": \"#E5ECF6\", \"showlakes\": true, \"showland\": true, \"subunitcolor\": \"white\"}, \"hoverlabel\": {\"align\": \"left\"}, \"hovermode\": \"closest\", \"mapbox\": {\"style\": \"light\"}, \"paper_bgcolor\": \"white\", \"plot_bgcolor\": \"#E5ECF6\", \"polar\": {\"angularaxis\": {\"gridcolor\": \"white\", \"linecolor\": \"white\", \"ticks\": \"\"}, \"bgcolor\": \"#E5ECF6\", \"radialaxis\": {\"gridcolor\": \"white\", \"linecolor\": \"white\", \"ticks\": \"\"}}, \"scene\": {\"xaxis\": {\"backgroundcolor\": \"#E5ECF6\", \"gridcolor\": \"white\", \"gridwidth\": 2, \"linecolor\": \"white\", \"showbackground\": true, \"ticks\": \"\", \"zerolinecolor\": \"white\"}, \"yaxis\": {\"backgroundcolor\": \"#E5ECF6\", \"gridcolor\": \"white\", \"gridwidth\": 2, \"linecolor\": \"white\", \"showbackground\": true, \"ticks\": \"\", \"zerolinecolor\": \"white\"}, \"zaxis\": {\"backgroundcolor\": \"#E5ECF6\", \"gridcolor\": \"white\", \"gridwidth\": 2, \"linecolor\": \"white\", \"showbackground\": true, \"ticks\": \"\", \"zerolinecolor\": \"white\"}}, \"shapedefaults\": {\"line\": {\"color\": \"#2a3f5f\"}}, \"ternary\": {\"aaxis\": {\"gridcolor\": \"white\", \"linecolor\": \"white\", \"ticks\": \"\"}, \"baxis\": {\"gridcolor\": \"white\", \"linecolor\": \"white\", \"ticks\": \"\"}, \"bgcolor\": \"#E5ECF6\", \"caxis\": {\"gridcolor\": \"white\", \"linecolor\": \"white\", \"ticks\": \"\"}}, \"title\": {\"x\": 0.05}, \"xaxis\": {\"automargin\": true, \"gridcolor\": \"white\", \"linecolor\": \"white\", \"ticks\": \"\", \"title\": {\"standoff\": 15}, \"zerolinecolor\": \"white\", \"zerolinewidth\": 2}, \"yaxis\": {\"automargin\": true, \"gridcolor\": \"white\", \"linecolor\": \"white\", \"ticks\": \"\", \"title\": {\"standoff\": 15}, \"zerolinecolor\": \"white\", \"zerolinewidth\": 2}}}, \"title\": {\"text\": \"<b>gender vs reading score</b>\"}, \"xaxis\": {\"anchor\": \"y\", \"domain\": [0.0, 1.0], \"title\": {\"text\": \"reading score\"}}, \"yaxis\": {\"anchor\": \"x\", \"domain\": [0.0, 1.0], \"title\": {\"text\": \"count\"}}},\n",
              "                        {\"responsive\": true}\n",
              "                    ).then(function(){\n",
              "                            \n",
              "var gd = document.getElementById('351028eb-08fc-4390-904d-29bc7fa05a5b');\n",
              "var x = new MutationObserver(function (mutations, observer) {{\n",
              "        var display = window.getComputedStyle(gd).display;\n",
              "        if (!display || display === 'none') {{\n",
              "            console.log([gd, 'removed!']);\n",
              "            Plotly.purge(gd);\n",
              "            observer.disconnect();\n",
              "        }}\n",
              "}});\n",
              "\n",
              "// Listen for the removal of the full notebook cells\n",
              "var notebookContainer = gd.closest('#notebook-container');\n",
              "if (notebookContainer) {{\n",
              "    x.observe(notebookContainer, {childList: true});\n",
              "}}\n",
              "\n",
              "// Listen for the clearing of the current output cell\n",
              "var outputEl = gd.closest('.output');\n",
              "if (outputEl) {{\n",
              "    x.observe(outputEl, {childList: true});\n",
              "}}\n",
              "\n",
              "                        })\n",
              "                };\n",
              "                \n",
              "            </script>\n",
              "        </div>\n",
              "</body>\n",
              "</html>"
            ]
          },
          "metadata": {}
        }
      ],
      "source": [
        "fig = px.histogram(data_frame = df,\n",
        "             x ='reading score',\n",
        "             color=\"gender\", title=\"<b>gender vs reading score</b>\",   \n",
        ")\n",
        "fig.show()"
      ]
    },
    {
      "cell_type": "markdown",
      "metadata": {
        "id": "MvU4kYgXO3EA"
      },
      "source": [
        "Males tend to get more high scores in math than females"
      ]
    },
    {
      "cell_type": "markdown",
      "metadata": {
        "id": "zKj9qcrBBfiN"
      },
      "source": [
        "### figuring out the effect of test preparation course status on reading score"
      ]
    },
    {
      "cell_type": "code",
      "execution_count": null,
      "metadata": {
        "colab": {
          "base_uri": "https://localhost:8080/",
          "height": 1000
        },
        "id": "nBipPQUrBfiO",
        "outputId": "25dd7309-28e3-4fbd-fbb0-2d221c8735a4"
      },
      "outputs": [
        {
          "output_type": "display_data",
          "data": {
            "text/html": [
              "<html>\n",
              "<head><meta charset=\"utf-8\" /></head>\n",
              "<body>\n",
              "    <div>\n",
              "            <script src=\"https://cdnjs.cloudflare.com/ajax/libs/mathjax/2.7.5/MathJax.js?config=TeX-AMS-MML_SVG\"></script><script type=\"text/javascript\">if (window.MathJax) {MathJax.Hub.Config({SVG: {font: \"STIX-Web\"}});}</script>\n",
              "                <script type=\"text/javascript\">window.PlotlyConfig = {MathJaxConfig: 'local'};</script>\n",
              "        <script src=\"https://cdn.plot.ly/plotly-latest.min.js\"></script>    \n",
              "            <div id=\"23483f82-a1aa-40e1-9b74-cd8e287380d2\" class=\"plotly-graph-div\" style=\"height:525px; width:100%;\"></div>\n",
              "            <script type=\"text/javascript\">\n",
              "                \n",
              "                    window.PLOTLYENV=window.PLOTLYENV || {};\n",
              "                    \n",
              "                if (document.getElementById(\"23483f82-a1aa-40e1-9b74-cd8e287380d2\")) {\n",
              "                    Plotly.newPlot(\n",
              "                        '23483f82-a1aa-40e1-9b74-cd8e287380d2',\n",
              "                        [{\"alignmentgroup\": \"True\", \"hoverlabel\": {\"namelength\": 0}, \"hovertemplate\": \"test preparation course=%{x}<br>reading score=%{y}\", \"legendgroup\": \"\", \"marker\": {\"color\": \"#636efa\"}, \"name\": \"\", \"notched\": false, \"offsetgroup\": \"\", \"orientation\": \"v\", \"showlegend\": false, \"type\": \"box\", \"x\": [\"none\", \"completed\", \"none\", \"none\", \"none\", \"none\", \"completed\", \"none\", \"completed\", \"none\", \"none\", \"none\", \"none\", \"completed\", \"none\", \"none\", \"none\", \"none\", \"completed\", \"none\", \"none\", \"completed\", \"none\", \"none\", \"completed\", \"none\", \"none\", \"none\", \"none\", \"none\", \"none\", \"none\", \"none\", \"none\", \"none\", \"completed\", \"none\", \"none\", \"completed\", \"none\", \"none\", \"none\", \"none\", \"completed\", \"none\", \"none\", \"completed\", \"none\", \"completed\", \"completed\", \"none\", \"completed\", \"none\", \"none\", \"completed\", \"none\", \"completed\", \"none\", \"completed\", \"none\", \"completed\", \"none\", \"none\", \"none\", \"none\", \"none\", \"none\", \"none\", \"none\", \"none\", \"completed\", \"completed\", \"none\", \"none\", \"none\", \"none\", \"none\", \"completed\", \"completed\", \"none\", \"none\", \"none\", \"completed\", \"none\", \"none\", \"none\", \"none\", \"none\", \"none\", \"none\", \"none\", \"none\", \"none\", \"completed\", \"none\", \"completed\", \"completed\", \"completed\", \"none\", \"none\", \"none\", \"completed\", \"none\", \"completed\", \"completed\", \"none\", \"none\", \"completed\", \"none\", \"none\", \"completed\", \"none\", \"none\", \"none\", \"completed\", \"none\", \"none\", \"none\", \"none\", \"none\", \"completed\", \"completed\", \"completed\", \"none\", \"none\", \"none\", \"none\", \"completed\", \"none\", \"none\", \"none\", \"completed\", \"completed\", \"completed\", \"completed\", \"none\", \"completed\", \"none\", \"none\", \"completed\", \"none\", \"none\", \"completed\", \"none\", \"none\", \"none\", \"none\", \"none\", \"completed\", \"completed\", \"completed\", \"none\", \"completed\", \"none\", \"none\", \"completed\", \"completed\", \"none\", \"completed\", \"none\", \"completed\", \"completed\", \"none\", \"none\", \"none\", \"completed\", \"completed\", \"completed\", \"completed\", \"completed\", \"completed\", \"none\", \"none\", \"none\", \"completed\", \"completed\", \"completed\", \"completed\", \"completed\", \"completed\", \"completed\", \"none\", \"none\", \"none\", \"completed\", \"completed\", \"none\", \"completed\", \"none\", \"none\", \"none\", \"completed\", \"none\", \"completed\", \"completed\", \"none\", \"completed\", \"none\", \"none\", \"none\", \"completed\", \"none\", \"none\", \"none\", \"none\", \"completed\", \"none\", \"completed\", \"none\", \"none\", \"completed\", \"none\", \"none\", \"completed\", \"completed\", \"completed\", \"completed\", \"none\", \"none\", \"completed\", \"completed\", \"none\", \"none\", \"none\", \"completed\", \"none\", \"none\", \"none\", \"none\", \"completed\", \"none\", \"none\", \"none\", \"none\", \"completed\", \"none\", \"none\", \"completed\", \"none\", \"none\", \"completed\", \"none\", \"none\", \"none\", \"none\", \"none\", \"none\", \"completed\", \"none\", \"none\", \"completed\", \"none\", \"completed\", \"none\", \"none\", \"none\", \"none\", \"completed\", \"none\", \"completed\", \"completed\", \"completed\", \"none\", \"none\", \"none\", \"none\", \"none\", \"none\", \"completed\", \"none\", \"none\", \"none\", \"none\", \"none\", \"completed\", \"none\", \"completed\", \"completed\", \"none\", \"none\", \"none\", \"none\", \"none\", \"completed\", \"none\", \"completed\", \"completed\", \"none\", \"none\", \"completed\", \"none\", \"none\", \"completed\", \"none\", \"completed\", \"none\", \"completed\", \"completed\", \"completed\", \"none\", \"completed\", \"none\", \"completed\", \"none\", \"completed\", \"none\", \"completed\", \"none\", \"none\", \"none\", \"none\", \"none\", \"completed\", \"completed\", \"completed\", \"none\", \"completed\", \"none\", \"none\", \"none\", \"completed\", \"none\", \"none\", \"none\", \"none\", \"none\", \"none\", \"none\", \"completed\", \"none\", \"none\", \"none\", \"completed\", \"none\", \"none\", \"none\", \"completed\", \"none\", \"none\", \"completed\", \"none\", \"none\", \"completed\", \"completed\", \"none\", \"none\", \"none\", \"completed\", \"none\", \"none\", \"none\", \"none\", \"completed\", \"none\", \"none\", \"none\", \"none\", \"completed\", \"none\", \"none\", \"none\", \"completed\", \"none\", \"none\", \"none\", \"completed\", \"completed\", \"none\", \"none\", \"none\", \"none\", \"completed\", \"none\", \"completed\", \"none\", \"none\", \"none\", \"completed\", \"none\", \"none\", \"none\", \"completed\", \"none\", \"none\", \"none\", \"none\", \"none\", \"none\", \"none\", \"none\", \"completed\", \"none\", \"none\", \"completed\", \"completed\", \"none\", \"none\", \"none\", \"none\", \"none\", \"completed\", \"none\", \"none\", \"completed\", \"none\", \"none\", \"completed\", \"none\", \"completed\", \"completed\", \"completed\", \"completed\", \"none\", \"completed\", \"completed\", \"none\", \"completed\", \"none\", \"none\", \"completed\", \"completed\", \"completed\", \"completed\", \"completed\", \"none\", \"none\", \"none\", \"none\", \"none\", \"none\", \"none\", \"none\", \"none\", \"none\", \"none\", \"completed\", \"none\", \"none\", \"none\", \"completed\", \"completed\", \"none\", \"none\", \"none\", \"none\", \"completed\", \"none\", \"completed\", \"none\", \"none\", \"completed\", \"none\", \"none\", \"none\", \"none\", \"none\", \"none\", \"none\", \"none\", \"completed\", \"none\", \"none\", \"none\", \"none\", \"completed\", \"none\", \"none\", \"completed\", \"completed\", \"none\", \"completed\", \"none\", \"completed\", \"none\", \"completed\", \"completed\", \"completed\", \"none\", \"none\", \"none\", \"completed\", \"none\", \"none\", \"none\", \"none\", \"none\", \"none\", \"none\", \"completed\", \"completed\", \"none\", \"none\", \"none\", \"none\", \"none\", \"completed\", \"none\", \"completed\", \"none\", \"none\", \"none\", \"completed\", \"none\", \"completed\", \"none\", \"none\", \"none\", \"none\", \"none\", \"none\", \"none\", \"none\", \"none\", \"completed\", \"completed\", \"completed\", \"none\", \"completed\", \"completed\", \"completed\", \"none\", \"none\", \"none\", \"none\", \"completed\", \"none\", \"completed\", \"none\", \"none\", \"none\", \"completed\", \"none\", \"completed\", \"completed\", \"completed\", \"completed\", \"completed\", \"none\", \"completed\", \"completed\", \"completed\", \"completed\", \"none\", \"none\", \"none\", \"completed\", \"completed\", \"completed\", \"none\", \"none\", \"none\", \"completed\", \"none\", \"none\", \"none\", \"none\", \"completed\", \"none\", \"none\", \"none\", \"completed\", \"none\", \"completed\", \"completed\", \"none\", \"none\", \"completed\", \"completed\", \"none\", \"none\", \"completed\", \"none\", \"none\", \"completed\", \"none\", \"completed\", \"completed\", \"none\", \"completed\", \"none\", \"none\", \"none\", \"none\", \"completed\", \"none\", \"none\", \"none\", \"none\", \"none\", \"none\", \"none\", \"none\", \"none\", \"none\", \"completed\", \"completed\", \"none\", \"none\", \"none\", \"none\", \"none\", \"none\", \"none\", \"none\", \"completed\", \"none\", \"none\", \"none\", \"none\", \"none\", \"completed\", \"none\", \"completed\", \"none\", \"none\", \"none\", \"none\", \"none\", \"none\", \"completed\", \"none\", \"none\", \"completed\", \"completed\", \"none\", \"completed\", \"completed\", \"none\", \"none\", \"completed\", \"none\", \"none\", \"completed\", \"none\", \"none\", \"none\", \"completed\", \"completed\", \"none\", \"none\", \"none\", \"completed\", \"none\", \"completed\", \"none\", \"completed\", \"none\", \"none\", \"none\", \"completed\", \"completed\", \"completed\", \"completed\", \"completed\", \"none\", \"none\", \"none\", \"none\", \"none\", \"none\", \"none\", \"none\", \"none\", \"none\", \"none\", \"completed\", \"completed\", \"none\", \"none\", \"completed\", \"none\", \"none\", \"none\", \"completed\", \"completed\", \"completed\", \"completed\", \"completed\", \"none\", \"none\", \"none\", \"none\", \"none\", \"completed\", \"completed\", \"completed\", \"completed\", \"none\", \"none\", \"none\", \"none\", \"none\", \"completed\", \"none\", \"none\", \"none\", \"completed\", \"none\", \"completed\", \"none\", \"completed\", \"none\", \"completed\", \"none\", \"completed\", \"none\", \"none\", \"none\", \"none\", \"completed\", \"completed\", \"completed\", \"none\", \"none\", \"completed\", \"completed\", \"completed\", \"completed\", \"none\", \"completed\", \"none\", \"completed\", \"completed\", \"none\", \"none\", \"completed\", \"completed\", \"completed\", \"none\", \"none\", \"completed\", \"none\", \"completed\", \"none\", \"none\", \"none\", \"none\", \"completed\", \"none\", \"none\", \"none\", \"none\", \"none\", \"completed\", \"none\", \"none\", \"none\", \"none\", \"none\", \"completed\", \"completed\", \"none\", \"completed\", \"completed\", \"none\", \"none\", \"none\", \"completed\", \"completed\", \"completed\", \"none\", \"none\", \"completed\", \"none\", \"none\", \"none\", \"completed\", \"completed\", \"none\", \"none\", \"none\", \"none\", \"completed\", \"none\", \"none\", \"none\", \"none\", \"none\", \"completed\", \"completed\", \"none\", \"none\", \"completed\", \"completed\", \"completed\", \"completed\", \"none\", \"none\", \"none\", \"none\", \"none\", \"none\", \"none\", \"completed\", \"none\", \"completed\", \"none\", \"none\", \"none\", \"none\", \"completed\", \"completed\", \"none\", \"none\", \"none\", \"none\", \"none\", \"none\", \"none\", \"none\", \"none\", \"none\", \"completed\", \"completed\", \"none\", \"completed\", \"none\", \"completed\", \"none\", \"none\", \"completed\", \"none\", \"completed\", \"none\", \"none\", \"none\", \"completed\", \"none\", \"completed\", \"none\", \"none\", \"completed\", \"none\", \"completed\", \"none\", \"completed\", \"none\", \"completed\", \"completed\", \"none\", \"none\", \"none\", \"completed\", \"completed\", \"completed\", \"none\", \"completed\", \"none\", \"none\", \"none\", \"none\", \"none\", \"none\", \"none\", \"none\", \"none\", \"none\", \"none\", \"completed\", \"none\", \"none\", \"none\", \"completed\", \"completed\", \"none\", \"completed\", \"none\", \"none\", \"completed\", \"none\", \"none\", \"completed\", \"completed\", \"none\", \"none\", \"none\", \"none\", \"none\", \"none\", \"none\", \"completed\", \"completed\", \"none\", \"none\", \"none\", \"completed\", \"completed\", \"none\", \"none\", \"none\", \"completed\", \"none\", \"none\", \"completed\", \"none\", \"none\", \"none\", \"completed\", \"completed\", \"completed\", \"none\", \"none\", \"completed\", \"completed\", \"none\", \"none\", \"none\", \"completed\", \"none\", \"completed\", \"none\", \"none\", \"completed\", \"completed\", \"none\", \"none\", \"completed\", \"none\", \"completed\", \"completed\", \"none\", \"none\", \"none\", \"none\", \"none\", \"completed\", \"none\", \"completed\", \"completed\", \"none\", \"completed\", \"none\", \"completed\", \"completed\", \"completed\", \"none\", \"none\", \"none\", \"completed\", \"completed\", \"completed\", \"none\", \"none\", \"completed\", \"none\", \"none\", \"none\", \"none\", \"completed\", \"completed\", \"none\", \"completed\", \"none\", \"completed\", \"none\", \"none\", \"none\", \"none\", \"none\", \"none\", \"none\", \"none\", \"none\", \"completed\", \"none\", \"none\", \"completed\", \"none\", \"none\", \"none\", \"none\", \"completed\", \"completed\", \"none\", \"none\", \"completed\", \"completed\", \"none\", \"completed\", \"none\", \"none\", \"none\", \"completed\", \"completed\", \"none\", \"none\", \"none\", \"completed\", \"none\", \"completed\", \"completed\", \"completed\", \"none\", \"none\", \"none\", \"completed\", \"none\", \"completed\", \"completed\", \"none\"], \"x0\": \" \", \"xaxis\": \"x\", \"y\": [72, 90, 95, 57, 78, 83, 95, 43, 64, 60, 54, 52, 81, 72, 53, 75, 89, 32, 42, 58, 69, 75, 54, 73, 71, 74, 54, 69, 70, 70, 74, 65, 72, 42, 87, 81, 81, 64, 90, 56, 61, 73, 58, 65, 56, 54, 65, 71, 74, 84, 55, 69, 44, 78, 84, 41, 85, 55, 59, 17, 74, 39, 61, 80, 58, 64, 37, 72, 58, 64, 63, 55, 51, 57, 49, 41, 26, 78, 74, 68, 49, 45, 47, 64, 39, 80, 83, 71, 70, 86, 72, 34, 79, 45, 86, 81, 66, 72, 67, 67, 67, 74, 91, 44, 86, 67, 100, 63, 76, 64, 89, 55, 53, 58, 100, 77, 85, 82, 63, 69, 92, 89, 93, 57, 80, 95, 68, 77, 82, 49, 84, 37, 74, 81, 79, 55, 54, 55, 66, 61, 72, 62, 55, 43, 73, 39, 84, 68, 75, 100, 67, 67, 70, 49, 67, 89, 74, 60, 86, 62, 78, 88, 53, 53, 92, 100, 51, 76, 83, 75, 73, 88, 86, 67, 51, 91, 54, 77, 70, 100, 68, 64, 50, 69, 52, 67, 76, 66, 52, 88, 65, 83, 64, 62, 84, 55, 69, 56, 53, 79, 84, 81, 77, 69, 41, 71, 62, 80, 81, 61, 79, 28, 62, 51, 91, 83, 86, 42, 77, 56, 68, 85, 65, 80, 66, 56, 72, 50, 72, 95, 64, 43, 86, 87, 82, 75, 66, 60, 52, 80, 68, 83, 52, 51, 74, 76, 76, 70, 64, 60, 49, 83, 70, 80, 52, 73, 73, 77, 75, 81, 79, 79, 50, 93, 73, 42, 75, 72, 92, 76, 63, 49, 53, 70, 85, 78, 92, 63, 86, 56, 52, 48, 79, 78, 46, 82, 82, 89, 75, 76, 70, 73, 60, 73, 77, 62, 41, 74, 46, 87, 78, 54, 84, 76, 75, 67, 87, 52, 71, 57, 76, 60, 61, 67, 64, 66, 82, 72, 71, 65, 79, 86, 81, 53, 46, 90, 61, 23, 75, 55, 60, 37, 56, 78, 93, 68, 70, 51, 38, 55, 61, 73, 76, 72, 73, 80, 61, 94, 74, 74, 65, 57, 78, 58, 71, 72, 61, 66, 62, 90, 62, 84, 58, 34, 60, 58, 58, 66, 64, 84, 77, 73, 74, 97, 70, 43, 90, 95, 83, 64, 86, 100, 81, 49, 43, 76, 73, 78, 64, 70, 67, 68, 67, 54, 74, 45, 67, 89, 63, 59, 54, 43, 65, 99, 59, 73, 65, 80, 57, 84, 71, 83, 66, 67, 72, 73, 74, 73, 59, 56, 93, 58, 58, 85, 39, 67, 83, 71, 59, 63, 66, 72, 56, 59, 66, 48, 68, 66, 56, 88, 81, 81, 73, 83, 82, 74, 66, 81, 46, 73, 85, 92, 77, 58, 61, 56, 89, 54, 100, 65, 58, 54, 70, 90, 58, 87, 31, 67, 88, 74, 85, 69, 86, 67, 90, 76, 62, 68, 64, 71, 71, 59, 68, 52, 52, 74, 47, 75, 53, 82, 85, 64, 83, 88, 64, 64, 48, 78, 69, 71, 79, 87, 61, 89, 59, 82, 70, 59, 78, 92, 71, 50, 49, 61, 97, 87, 89, 74, 78, 78, 49, 86, 58, 59, 52, 60, 61, 53, 41, 74, 67, 54, 61, 88, 69, 83, 60, 66, 66, 92, 69, 82, 77, 95, 63, 83, 100, 67, 67, 72, 76, 90, 48, 62, 45, 39, 72, 67, 70, 66, 75, 74, 90, 80, 51, 43, 100, 71, 48, 68, 75, 96, 62, 66, 81, 55, 51, 91, 56, 61, 97, 79, 73, 75, 77, 76, 73, 63, 64, 66, 57, 62, 68, 76, 100, 79, 24, 54, 77, 82, 60, 29, 78, 57, 89, 72, 84, 58, 64, 63, 60, 59, 90, 77, 93, 68, 45, 78, 81, 73, 61, 63, 51, 96, 58, 97, 70, 48, 57, 51, 64, 60, 74, 88, 84, 74, 80, 92, 76, 74, 52, 88, 81, 79, 65, 81, 70, 62, 53, 79, 56, 80, 86, 70, 79, 67, 67, 66, 60, 87, 77, 66, 71, 69, 63, 60, 73, 85, 74, 72, 76, 57, 78, 84, 77, 64, 78, 82, 75, 61, 72, 68, 55, 40, 66, 99, 75, 78, 58, 90, 53, 76, 74, 77, 63, 89, 82, 72, 78, 66, 81, 67, 84, 64, 63, 72, 34, 59, 87, 61, 84, 85, 100, 81, 70, 94, 78, 96, 76, 73, 72, 59, 90, 48, 43, 74, 75, 51, 92, 39, 77, 46, 89, 47, 58, 57, 79, 66, 71, 60, 73, 57, 84, 73, 55, 79, 75, 64, 60, 84, 69, 72, 77, 90, 55, 95, 58, 68, 59, 77, 72, 58, 81, 62, 63, 72, 75, 62, 71, 60, 48, 73, 67, 78, 65, 58, 72, 44, 79, 85, 56, 90, 85, 59, 81, 51, 79, 38, 65, 65, 62, 66, 74, 84, 52, 68, 70, 84, 60, 55, 73, 80, 94, 85, 76, 81, 74, 45, 75, 54, 31, 47, 64, 84, 80, 86, 59, 70, 72, 91, 90, 90, 52, 87, 58, 67, 68, 69, 86, 54, 60, 86, 60, 82, 50, 64, 64, 82, 57, 77, 52, 58, 44, 77, 65, 85, 85, 54, 72, 75, 67, 68, 85, 67, 64, 97, 68, 79, 49, 73, 62, 86, 42, 71, 93, 82, 53, 42, 74, 51, 58, 72, 84, 90, 62, 64, 82, 61, 72, 76, 64, 70, 73, 46, 51, 76, 100, 72, 65, 51, 85, 92, 67, 74, 62, 34, 29, 78, 54, 78, 84, 78, 48, 100, 84, 77, 48, 84, 75, 64, 42, 84, 61, 62, 61, 70, 100, 61, 77, 96, 70, 53, 66, 65, 70, 64, 56, 61, 43, 56, 74, 57, 71, 75, 87, 63, 57, 58, 81, 68, 66, 91, 66, 62, 68, 61, 82, 58, 50, 75, 73, 77, 74, 52, 69, 57, 87, 100, 63, 81, 58, 54, 100, 76, 57, 70, 68, 63, 76, 84, 100, 72, 50, 65, 63, 82, 62, 65, 41, 95, 24, 78, 85, 87, 75, 51, 59, 75, 45, 86, 81, 82, 76, 72, 63, 99, 55, 71, 78, 86], \"y0\": \" \", \"yaxis\": \"y\"}],\n",
              "                        {\"boxmode\": \"group\", \"legend\": {\"tracegroupgap\": 0}, \"margin\": {\"t\": 60}, \"template\": {\"data\": {\"bar\": [{\"error_x\": {\"color\": \"#2a3f5f\"}, \"error_y\": {\"color\": \"#2a3f5f\"}, \"marker\": {\"line\": {\"color\": \"#E5ECF6\", \"width\": 0.5}}, \"type\": \"bar\"}], \"barpolar\": [{\"marker\": {\"line\": {\"color\": \"#E5ECF6\", \"width\": 0.5}}, \"type\": \"barpolar\"}], \"carpet\": [{\"aaxis\": {\"endlinecolor\": \"#2a3f5f\", \"gridcolor\": \"white\", \"linecolor\": \"white\", \"minorgridcolor\": \"white\", \"startlinecolor\": \"#2a3f5f\"}, \"baxis\": {\"endlinecolor\": \"#2a3f5f\", \"gridcolor\": \"white\", \"linecolor\": \"white\", \"minorgridcolor\": \"white\", \"startlinecolor\": \"#2a3f5f\"}, \"type\": \"carpet\"}], \"choropleth\": [{\"colorbar\": {\"outlinewidth\": 0, \"ticks\": \"\"}, \"type\": \"choropleth\"}], \"contour\": [{\"colorbar\": {\"outlinewidth\": 0, \"ticks\": \"\"}, \"colorscale\": [[0.0, \"#0d0887\"], [0.1111111111111111, \"#46039f\"], [0.2222222222222222, \"#7201a8\"], [0.3333333333333333, \"#9c179e\"], [0.4444444444444444, \"#bd3786\"], [0.5555555555555556, \"#d8576b\"], [0.6666666666666666, \"#ed7953\"], [0.7777777777777778, \"#fb9f3a\"], [0.8888888888888888, \"#fdca26\"], [1.0, \"#f0f921\"]], \"type\": \"contour\"}], \"contourcarpet\": [{\"colorbar\": {\"outlinewidth\": 0, \"ticks\": \"\"}, \"type\": \"contourcarpet\"}], \"heatmap\": [{\"colorbar\": {\"outlinewidth\": 0, \"ticks\": \"\"}, \"colorscale\": [[0.0, \"#0d0887\"], [0.1111111111111111, \"#46039f\"], [0.2222222222222222, \"#7201a8\"], [0.3333333333333333, \"#9c179e\"], [0.4444444444444444, \"#bd3786\"], [0.5555555555555556, \"#d8576b\"], [0.6666666666666666, \"#ed7953\"], [0.7777777777777778, \"#fb9f3a\"], [0.8888888888888888, \"#fdca26\"], [1.0, \"#f0f921\"]], \"type\": \"heatmap\"}], \"heatmapgl\": [{\"colorbar\": {\"outlinewidth\": 0, \"ticks\": \"\"}, \"colorscale\": [[0.0, \"#0d0887\"], [0.1111111111111111, \"#46039f\"], [0.2222222222222222, \"#7201a8\"], [0.3333333333333333, \"#9c179e\"], [0.4444444444444444, \"#bd3786\"], [0.5555555555555556, \"#d8576b\"], [0.6666666666666666, \"#ed7953\"], [0.7777777777777778, \"#fb9f3a\"], [0.8888888888888888, \"#fdca26\"], [1.0, \"#f0f921\"]], \"type\": \"heatmapgl\"}], \"histogram\": [{\"marker\": {\"colorbar\": {\"outlinewidth\": 0, \"ticks\": \"\"}}, \"type\": \"histogram\"}], \"histogram2d\": [{\"colorbar\": {\"outlinewidth\": 0, \"ticks\": \"\"}, \"colorscale\": [[0.0, \"#0d0887\"], [0.1111111111111111, \"#46039f\"], [0.2222222222222222, \"#7201a8\"], [0.3333333333333333, \"#9c179e\"], [0.4444444444444444, \"#bd3786\"], [0.5555555555555556, \"#d8576b\"], [0.6666666666666666, \"#ed7953\"], [0.7777777777777778, \"#fb9f3a\"], [0.8888888888888888, \"#fdca26\"], [1.0, \"#f0f921\"]], \"type\": \"histogram2d\"}], \"histogram2dcontour\": [{\"colorbar\": {\"outlinewidth\": 0, \"ticks\": \"\"}, \"colorscale\": [[0.0, \"#0d0887\"], [0.1111111111111111, \"#46039f\"], [0.2222222222222222, \"#7201a8\"], [0.3333333333333333, \"#9c179e\"], [0.4444444444444444, \"#bd3786\"], [0.5555555555555556, \"#d8576b\"], [0.6666666666666666, \"#ed7953\"], [0.7777777777777778, \"#fb9f3a\"], [0.8888888888888888, \"#fdca26\"], [1.0, \"#f0f921\"]], \"type\": \"histogram2dcontour\"}], \"mesh3d\": [{\"colorbar\": {\"outlinewidth\": 0, \"ticks\": \"\"}, \"type\": \"mesh3d\"}], \"parcoords\": [{\"line\": {\"colorbar\": {\"outlinewidth\": 0, \"ticks\": \"\"}}, \"type\": \"parcoords\"}], \"pie\": [{\"automargin\": true, \"type\": \"pie\"}], \"scatter\": [{\"marker\": {\"colorbar\": {\"outlinewidth\": 0, \"ticks\": \"\"}}, \"type\": \"scatter\"}], \"scatter3d\": [{\"line\": {\"colorbar\": {\"outlinewidth\": 0, \"ticks\": \"\"}}, \"marker\": {\"colorbar\": {\"outlinewidth\": 0, \"ticks\": \"\"}}, \"type\": \"scatter3d\"}], \"scattercarpet\": [{\"marker\": {\"colorbar\": {\"outlinewidth\": 0, \"ticks\": \"\"}}, \"type\": \"scattercarpet\"}], \"scattergeo\": [{\"marker\": {\"colorbar\": {\"outlinewidth\": 0, \"ticks\": \"\"}}, \"type\": \"scattergeo\"}], \"scattergl\": [{\"marker\": {\"colorbar\": {\"outlinewidth\": 0, \"ticks\": \"\"}}, \"type\": \"scattergl\"}], \"scattermapbox\": [{\"marker\": {\"colorbar\": {\"outlinewidth\": 0, \"ticks\": \"\"}}, \"type\": \"scattermapbox\"}], \"scatterpolar\": [{\"marker\": {\"colorbar\": {\"outlinewidth\": 0, \"ticks\": \"\"}}, \"type\": \"scatterpolar\"}], \"scatterpolargl\": [{\"marker\": {\"colorbar\": {\"outlinewidth\": 0, \"ticks\": \"\"}}, \"type\": \"scatterpolargl\"}], \"scatterternary\": [{\"marker\": {\"colorbar\": {\"outlinewidth\": 0, \"ticks\": \"\"}}, \"type\": \"scatterternary\"}], \"surface\": [{\"colorbar\": {\"outlinewidth\": 0, \"ticks\": \"\"}, \"colorscale\": [[0.0, \"#0d0887\"], [0.1111111111111111, \"#46039f\"], [0.2222222222222222, \"#7201a8\"], [0.3333333333333333, \"#9c179e\"], [0.4444444444444444, \"#bd3786\"], [0.5555555555555556, \"#d8576b\"], [0.6666666666666666, \"#ed7953\"], [0.7777777777777778, \"#fb9f3a\"], [0.8888888888888888, \"#fdca26\"], [1.0, \"#f0f921\"]], \"type\": \"surface\"}], \"table\": [{\"cells\": {\"fill\": {\"color\": \"#EBF0F8\"}, \"line\": {\"color\": \"white\"}}, \"header\": {\"fill\": {\"color\": \"#C8D4E3\"}, \"line\": {\"color\": \"white\"}}, \"type\": \"table\"}]}, \"layout\": {\"annotationdefaults\": {\"arrowcolor\": \"#2a3f5f\", \"arrowhead\": 0, \"arrowwidth\": 1}, \"coloraxis\": {\"colorbar\": {\"outlinewidth\": 0, \"ticks\": \"\"}}, \"colorscale\": {\"diverging\": [[0, \"#8e0152\"], [0.1, \"#c51b7d\"], [0.2, \"#de77ae\"], [0.3, \"#f1b6da\"], [0.4, \"#fde0ef\"], [0.5, \"#f7f7f7\"], [0.6, \"#e6f5d0\"], [0.7, \"#b8e186\"], [0.8, \"#7fbc41\"], [0.9, \"#4d9221\"], [1, \"#276419\"]], \"sequential\": [[0.0, \"#0d0887\"], [0.1111111111111111, \"#46039f\"], [0.2222222222222222, \"#7201a8\"], [0.3333333333333333, \"#9c179e\"], [0.4444444444444444, \"#bd3786\"], [0.5555555555555556, \"#d8576b\"], [0.6666666666666666, \"#ed7953\"], [0.7777777777777778, \"#fb9f3a\"], [0.8888888888888888, \"#fdca26\"], [1.0, \"#f0f921\"]], \"sequentialminus\": [[0.0, \"#0d0887\"], [0.1111111111111111, \"#46039f\"], [0.2222222222222222, \"#7201a8\"], [0.3333333333333333, \"#9c179e\"], [0.4444444444444444, \"#bd3786\"], [0.5555555555555556, \"#d8576b\"], [0.6666666666666666, \"#ed7953\"], [0.7777777777777778, \"#fb9f3a\"], [0.8888888888888888, \"#fdca26\"], [1.0, \"#f0f921\"]]}, \"colorway\": [\"#636efa\", \"#EF553B\", \"#00cc96\", \"#ab63fa\", \"#FFA15A\", \"#19d3f3\", \"#FF6692\", \"#B6E880\", \"#FF97FF\", \"#FECB52\"], \"font\": {\"color\": \"#2a3f5f\"}, \"geo\": {\"bgcolor\": \"white\", \"lakecolor\": \"white\", \"landcolor\": \"#E5ECF6\", \"showlakes\": true, \"showland\": true, \"subunitcolor\": \"white\"}, \"hoverlabel\": {\"align\": \"left\"}, \"hovermode\": \"closest\", \"mapbox\": {\"style\": \"light\"}, \"paper_bgcolor\": \"white\", \"plot_bgcolor\": \"#E5ECF6\", \"polar\": {\"angularaxis\": {\"gridcolor\": \"white\", \"linecolor\": \"white\", \"ticks\": \"\"}, \"bgcolor\": \"#E5ECF6\", \"radialaxis\": {\"gridcolor\": \"white\", \"linecolor\": \"white\", \"ticks\": \"\"}}, \"scene\": {\"xaxis\": {\"backgroundcolor\": \"#E5ECF6\", \"gridcolor\": \"white\", \"gridwidth\": 2, \"linecolor\": \"white\", \"showbackground\": true, \"ticks\": \"\", \"zerolinecolor\": \"white\"}, \"yaxis\": {\"backgroundcolor\": \"#E5ECF6\", \"gridcolor\": \"white\", \"gridwidth\": 2, \"linecolor\": \"white\", \"showbackground\": true, \"ticks\": \"\", \"zerolinecolor\": \"white\"}, \"zaxis\": {\"backgroundcolor\": \"#E5ECF6\", \"gridcolor\": \"white\", \"gridwidth\": 2, \"linecolor\": \"white\", \"showbackground\": true, \"ticks\": \"\", \"zerolinecolor\": \"white\"}}, \"shapedefaults\": {\"line\": {\"color\": \"#2a3f5f\"}}, \"ternary\": {\"aaxis\": {\"gridcolor\": \"white\", \"linecolor\": \"white\", \"ticks\": \"\"}, \"baxis\": {\"gridcolor\": \"white\", \"linecolor\": \"white\", \"ticks\": \"\"}, \"bgcolor\": \"#E5ECF6\", \"caxis\": {\"gridcolor\": \"white\", \"linecolor\": \"white\", \"ticks\": \"\"}}, \"title\": {\"x\": 0.05}, \"xaxis\": {\"automargin\": true, \"gridcolor\": \"white\", \"linecolor\": \"white\", \"ticks\": \"\", \"title\": {\"standoff\": 15}, \"zerolinecolor\": \"white\", \"zerolinewidth\": 2}, \"yaxis\": {\"automargin\": true, \"gridcolor\": \"white\", \"linecolor\": \"white\", \"ticks\": \"\", \"title\": {\"standoff\": 15}, \"zerolinecolor\": \"white\", \"zerolinewidth\": 2}}}, \"xaxis\": {\"anchor\": \"y\", \"domain\": [0.0, 1.0], \"title\": {\"text\": \"test preparation course\"}}, \"yaxis\": {\"anchor\": \"x\", \"domain\": [0.0, 1.0], \"title\": {\"text\": \"reading score\"}}},\n",
              "                        {\"responsive\": true}\n",
              "                    ).then(function(){\n",
              "                            \n",
              "var gd = document.getElementById('23483f82-a1aa-40e1-9b74-cd8e287380d2');\n",
              "var x = new MutationObserver(function (mutations, observer) {{\n",
              "        var display = window.getComputedStyle(gd).display;\n",
              "        if (!display || display === 'none') {{\n",
              "            console.log([gd, 'removed!']);\n",
              "            Plotly.purge(gd);\n",
              "            observer.disconnect();\n",
              "        }}\n",
              "}});\n",
              "\n",
              "// Listen for the removal of the full notebook cells\n",
              "var notebookContainer = gd.closest('#notebook-container');\n",
              "if (notebookContainer) {{\n",
              "    x.observe(notebookContainer, {childList: true});\n",
              "}}\n",
              "\n",
              "// Listen for the clearing of the current output cell\n",
              "var outputEl = gd.closest('.output');\n",
              "if (outputEl) {{\n",
              "    x.observe(outputEl, {childList: true});\n",
              "}}\n",
              "\n",
              "                        })\n",
              "                };\n",
              "                \n",
              "            </script>\n",
              "        </div>\n",
              "</body>\n",
              "</html>"
            ]
          },
          "metadata": {}
        },
        {
          "output_type": "display_data",
          "data": {
            "text/html": [
              "<html>\n",
              "<head><meta charset=\"utf-8\" /></head>\n",
              "<body>\n",
              "    <div>\n",
              "            <script src=\"https://cdnjs.cloudflare.com/ajax/libs/mathjax/2.7.5/MathJax.js?config=TeX-AMS-MML_SVG\"></script><script type=\"text/javascript\">if (window.MathJax) {MathJax.Hub.Config({SVG: {font: \"STIX-Web\"}});}</script>\n",
              "                <script type=\"text/javascript\">window.PlotlyConfig = {MathJaxConfig: 'local'};</script>\n",
              "        <script src=\"https://cdn.plot.ly/plotly-latest.min.js\"></script>    \n",
              "            <div id=\"52405706-884a-4bb4-a96c-ce0c014143ce\" class=\"plotly-graph-div\" style=\"height:525px; width:100%;\"></div>\n",
              "            <script type=\"text/javascript\">\n",
              "                \n",
              "                    window.PLOTLYENV=window.PLOTLYENV || {};\n",
              "                    \n",
              "                if (document.getElementById(\"52405706-884a-4bb4-a96c-ce0c014143ce\")) {\n",
              "                    Plotly.newPlot(\n",
              "                        '52405706-884a-4bb4-a96c-ce0c014143ce',\n",
              "                        [{\"alignmentgroup\": \"True\", \"bingroup\": \"x\", \"hoverlabel\": {\"namelength\": 0}, \"hovertemplate\": \"test preparation course=none<br>reading score=%{x}<br>count=%{y}\", \"legendgroup\": \"test preparation course=none\", \"marker\": {\"color\": \"#636efa\"}, \"name\": \"test preparation course=none\", \"offsetgroup\": \"test preparation course=none\", \"orientation\": \"v\", \"showlegend\": true, \"type\": \"histogram\", \"x\": [72, 95, 57, 78, 83, 43, 60, 54, 52, 81, 53, 75, 89, 32, 58, 69, 54, 73, 74, 54, 69, 70, 70, 74, 65, 72, 42, 87, 81, 64, 56, 61, 73, 58, 56, 54, 71, 55, 44, 78, 41, 55, 17, 39, 61, 80, 58, 64, 37, 72, 58, 64, 51, 57, 49, 41, 26, 68, 49, 45, 64, 39, 80, 83, 71, 70, 86, 72, 34, 79, 86, 67, 67, 67, 91, 67, 100, 76, 64, 55, 53, 58, 77, 85, 82, 63, 69, 57, 80, 95, 68, 82, 49, 84, 55, 55, 66, 72, 62, 43, 73, 39, 84, 68, 67, 49, 67, 60, 62, 53, 53, 92, 88, 86, 67, 64, 50, 69, 76, 52, 88, 65, 64, 55, 56, 53, 79, 81, 77, 69, 41, 62, 81, 61, 28, 62, 42, 77, 85, 65, 80, 56, 72, 50, 72, 64, 43, 86, 87, 75, 66, 52, 80, 83, 52, 51, 74, 76, 76, 64, 60, 83, 80, 52, 73, 73, 75, 50, 93, 73, 42, 75, 72, 76, 63, 49, 53, 70, 78, 86, 56, 52, 48, 79, 46, 89, 75, 70, 73, 73, 62, 87, 54, 76, 67, 52, 71, 57, 76, 60, 66, 72, 71, 65, 86, 81, 53, 46, 90, 61, 23, 55, 60, 37, 78, 93, 68, 51, 38, 61, 73, 73, 80, 61, 74, 74, 65, 57, 58, 71, 72, 61, 62, 90, 62, 58, 34, 60, 66, 64, 84, 77, 74, 70, 43, 90, 83, 64, 86, 81, 49, 43, 76, 73, 78, 64, 70, 68, 67, 45, 67, 89, 63, 59, 43, 65, 59, 73, 80, 66, 73, 73, 59, 39, 67, 83, 71, 59, 63, 66, 72, 56, 59, 66, 68, 66, 56, 81, 73, 83, 82, 66, 46, 73, 92, 77, 58, 61, 56, 89, 54, 100, 58, 54, 70, 90, 87, 31, 74, 69, 67, 68, 64, 71, 59, 68, 52, 52, 74, 47, 75, 85, 64, 83, 88, 64, 48, 69, 71, 79, 61, 59, 82, 70, 59, 78, 92, 71, 50, 49, 89, 49, 86, 58, 59, 60, 53, 41, 74, 54, 66, 77, 95, 63, 67, 72, 76, 48, 62, 45, 39, 67, 70, 66, 74, 51, 43, 48, 68, 96, 62, 81, 91, 61, 97, 79, 73, 77, 76, 73, 63, 64, 66, 57, 62, 68, 76, 24, 54, 77, 82, 60, 29, 78, 57, 72, 84, 58, 64, 63, 59, 77, 93, 68, 45, 78, 81, 61, 63, 58, 48, 57, 64, 60, 88, 84, 74, 76, 74, 52, 81, 65, 70, 62, 53, 79, 67, 67, 66, 60, 87, 77, 66, 71, 69, 63, 85, 74, 76, 57, 78, 75, 61, 72, 68, 55, 78, 58, 90, 53, 76, 77, 63, 89, 72, 66, 67, 64, 72, 34, 59, 87, 100, 81, 76, 72, 48, 43, 92, 39, 46, 47, 58, 57, 79, 71, 60, 73, 57, 84, 55, 79, 75, 64, 60, 72, 55, 95, 58, 72, 58, 62, 63, 72, 71, 60, 48, 73, 78, 65, 58, 72, 44, 56, 90, 79, 38, 65, 65, 62, 66, 74, 52, 70, 84, 60, 55, 94, 85, 76, 81, 74, 45, 75, 54, 31, 47, 80, 59, 72, 91, 90, 87, 58, 67, 69, 54, 60, 60, 50, 64, 77, 52, 58, 85, 54, 72, 75, 67, 68, 85, 67, 64, 97, 68, 79, 73, 62, 86, 93, 53, 42, 51, 58, 90, 62, 64, 82, 61, 72, 76, 73, 46, 51, 72, 65, 51, 92, 67, 62, 34, 29, 84, 78, 84, 77, 48, 75, 42, 84, 61, 70, 61, 70, 53, 66, 65, 70, 56, 56, 57, 63, 57, 58, 91, 66, 68, 61, 82, 58, 73, 74, 69, 57, 87, 100, 63, 81, 58, 54, 100, 57, 70, 63, 76, 84, 100, 65, 63, 65, 95, 24, 78, 75, 51, 59, 45, 76, 72, 63, 55, 86], \"xaxis\": \"x\", \"yaxis\": \"y\"}, {\"alignmentgroup\": \"True\", \"bingroup\": \"x\", \"hoverlabel\": {\"namelength\": 0}, \"hovertemplate\": \"test preparation course=completed<br>reading score=%{x}<br>count=%{y}\", \"legendgroup\": \"test preparation course=completed\", \"marker\": {\"color\": \"#EF553B\"}, \"name\": \"test preparation course=completed\", \"offsetgroup\": \"test preparation course=completed\", \"orientation\": \"v\", \"showlegend\": true, \"type\": \"histogram\", \"x\": [90, 95, 64, 72, 42, 75, 71, 81, 90, 65, 65, 74, 84, 69, 84, 85, 59, 74, 63, 55, 78, 74, 47, 45, 81, 66, 72, 74, 44, 86, 63, 89, 100, 92, 89, 93, 77, 37, 74, 81, 79, 54, 61, 55, 75, 100, 67, 70, 89, 74, 86, 78, 88, 100, 51, 76, 83, 75, 73, 51, 91, 54, 77, 70, 100, 68, 52, 67, 66, 83, 62, 84, 69, 84, 71, 80, 79, 51, 91, 83, 86, 56, 68, 66, 95, 82, 60, 68, 70, 49, 70, 77, 81, 79, 79, 92, 85, 92, 63, 78, 82, 82, 76, 60, 77, 41, 74, 46, 78, 84, 75, 87, 61, 67, 64, 82, 79, 75, 56, 70, 55, 76, 72, 94, 78, 66, 84, 58, 58, 73, 97, 95, 100, 67, 54, 74, 54, 99, 65, 57, 84, 71, 83, 67, 72, 74, 56, 93, 58, 58, 85, 48, 88, 81, 74, 81, 85, 65, 58, 67, 88, 85, 86, 90, 76, 62, 71, 53, 82, 64, 78, 87, 89, 61, 97, 87, 74, 78, 78, 52, 61, 67, 61, 88, 69, 83, 60, 66, 92, 69, 82, 83, 100, 67, 90, 72, 75, 90, 80, 100, 71, 75, 66, 55, 51, 56, 75, 100, 79, 89, 60, 90, 73, 51, 96, 97, 70, 51, 74, 80, 92, 88, 79, 81, 79, 56, 80, 86, 70, 60, 73, 72, 84, 77, 64, 78, 82, 40, 66, 99, 75, 74, 82, 78, 81, 84, 63, 61, 84, 85, 70, 94, 78, 96, 73, 59, 90, 74, 75, 51, 77, 89, 66, 73, 84, 69, 77, 90, 68, 59, 77, 81, 75, 62, 67, 79, 85, 85, 59, 81, 51, 84, 68, 73, 80, 64, 84, 86, 70, 90, 52, 68, 86, 86, 82, 64, 82, 57, 44, 77, 65, 85, 49, 42, 71, 82, 74, 72, 84, 64, 70, 76, 100, 85, 74, 78, 54, 78, 48, 100, 84, 64, 61, 62, 100, 77, 96, 64, 61, 43, 74, 71, 75, 87, 81, 68, 66, 62, 50, 75, 77, 52, 76, 68, 72, 50, 82, 62, 41, 85, 87, 75, 86, 81, 82, 99, 71, 78], \"xaxis\": \"x\", \"yaxis\": \"y\"}],\n",
              "                        {\"barmode\": \"relative\", \"legend\": {\"tracegroupgap\": 0}, \"template\": {\"data\": {\"bar\": [{\"error_x\": {\"color\": \"#2a3f5f\"}, \"error_y\": {\"color\": \"#2a3f5f\"}, \"marker\": {\"line\": {\"color\": \"#E5ECF6\", \"width\": 0.5}}, \"type\": \"bar\"}], \"barpolar\": [{\"marker\": {\"line\": {\"color\": \"#E5ECF6\", \"width\": 0.5}}, \"type\": \"barpolar\"}], \"carpet\": [{\"aaxis\": {\"endlinecolor\": \"#2a3f5f\", \"gridcolor\": \"white\", \"linecolor\": \"white\", \"minorgridcolor\": \"white\", \"startlinecolor\": \"#2a3f5f\"}, \"baxis\": {\"endlinecolor\": \"#2a3f5f\", \"gridcolor\": \"white\", \"linecolor\": \"white\", \"minorgridcolor\": \"white\", \"startlinecolor\": \"#2a3f5f\"}, \"type\": \"carpet\"}], \"choropleth\": [{\"colorbar\": {\"outlinewidth\": 0, \"ticks\": \"\"}, \"type\": \"choropleth\"}], \"contour\": [{\"colorbar\": {\"outlinewidth\": 0, \"ticks\": \"\"}, \"colorscale\": [[0.0, \"#0d0887\"], [0.1111111111111111, \"#46039f\"], [0.2222222222222222, \"#7201a8\"], [0.3333333333333333, \"#9c179e\"], [0.4444444444444444, \"#bd3786\"], [0.5555555555555556, \"#d8576b\"], [0.6666666666666666, \"#ed7953\"], [0.7777777777777778, \"#fb9f3a\"], [0.8888888888888888, \"#fdca26\"], [1.0, \"#f0f921\"]], \"type\": \"contour\"}], \"contourcarpet\": [{\"colorbar\": {\"outlinewidth\": 0, \"ticks\": \"\"}, \"type\": \"contourcarpet\"}], \"heatmap\": [{\"colorbar\": {\"outlinewidth\": 0, \"ticks\": \"\"}, \"colorscale\": [[0.0, \"#0d0887\"], [0.1111111111111111, \"#46039f\"], [0.2222222222222222, \"#7201a8\"], [0.3333333333333333, \"#9c179e\"], [0.4444444444444444, \"#bd3786\"], [0.5555555555555556, \"#d8576b\"], [0.6666666666666666, \"#ed7953\"], [0.7777777777777778, \"#fb9f3a\"], [0.8888888888888888, \"#fdca26\"], [1.0, \"#f0f921\"]], \"type\": \"heatmap\"}], \"heatmapgl\": [{\"colorbar\": {\"outlinewidth\": 0, \"ticks\": \"\"}, \"colorscale\": [[0.0, \"#0d0887\"], [0.1111111111111111, \"#46039f\"], [0.2222222222222222, \"#7201a8\"], [0.3333333333333333, \"#9c179e\"], [0.4444444444444444, \"#bd3786\"], [0.5555555555555556, \"#d8576b\"], [0.6666666666666666, \"#ed7953\"], [0.7777777777777778, \"#fb9f3a\"], [0.8888888888888888, \"#fdca26\"], [1.0, \"#f0f921\"]], \"type\": \"heatmapgl\"}], \"histogram\": [{\"marker\": {\"colorbar\": {\"outlinewidth\": 0, \"ticks\": \"\"}}, \"type\": \"histogram\"}], \"histogram2d\": [{\"colorbar\": {\"outlinewidth\": 0, \"ticks\": \"\"}, \"colorscale\": [[0.0, \"#0d0887\"], [0.1111111111111111, \"#46039f\"], [0.2222222222222222, \"#7201a8\"], [0.3333333333333333, \"#9c179e\"], [0.4444444444444444, \"#bd3786\"], [0.5555555555555556, \"#d8576b\"], [0.6666666666666666, \"#ed7953\"], [0.7777777777777778, \"#fb9f3a\"], [0.8888888888888888, \"#fdca26\"], [1.0, \"#f0f921\"]], \"type\": \"histogram2d\"}], \"histogram2dcontour\": [{\"colorbar\": {\"outlinewidth\": 0, \"ticks\": \"\"}, \"colorscale\": [[0.0, \"#0d0887\"], [0.1111111111111111, \"#46039f\"], [0.2222222222222222, \"#7201a8\"], [0.3333333333333333, \"#9c179e\"], [0.4444444444444444, \"#bd3786\"], [0.5555555555555556, \"#d8576b\"], [0.6666666666666666, \"#ed7953\"], [0.7777777777777778, \"#fb9f3a\"], [0.8888888888888888, \"#fdca26\"], [1.0, \"#f0f921\"]], \"type\": \"histogram2dcontour\"}], \"mesh3d\": [{\"colorbar\": {\"outlinewidth\": 0, \"ticks\": \"\"}, \"type\": \"mesh3d\"}], \"parcoords\": [{\"line\": {\"colorbar\": {\"outlinewidth\": 0, \"ticks\": \"\"}}, \"type\": \"parcoords\"}], \"pie\": [{\"automargin\": true, \"type\": \"pie\"}], \"scatter\": [{\"marker\": {\"colorbar\": {\"outlinewidth\": 0, \"ticks\": \"\"}}, \"type\": \"scatter\"}], \"scatter3d\": [{\"line\": {\"colorbar\": {\"outlinewidth\": 0, \"ticks\": \"\"}}, \"marker\": {\"colorbar\": {\"outlinewidth\": 0, \"ticks\": \"\"}}, \"type\": \"scatter3d\"}], \"scattercarpet\": [{\"marker\": {\"colorbar\": {\"outlinewidth\": 0, \"ticks\": \"\"}}, \"type\": \"scattercarpet\"}], \"scattergeo\": [{\"marker\": {\"colorbar\": {\"outlinewidth\": 0, \"ticks\": \"\"}}, \"type\": \"scattergeo\"}], \"scattergl\": [{\"marker\": {\"colorbar\": {\"outlinewidth\": 0, \"ticks\": \"\"}}, \"type\": \"scattergl\"}], \"scattermapbox\": [{\"marker\": {\"colorbar\": {\"outlinewidth\": 0, \"ticks\": \"\"}}, \"type\": \"scattermapbox\"}], \"scatterpolar\": [{\"marker\": {\"colorbar\": {\"outlinewidth\": 0, \"ticks\": \"\"}}, \"type\": \"scatterpolar\"}], \"scatterpolargl\": [{\"marker\": {\"colorbar\": {\"outlinewidth\": 0, \"ticks\": \"\"}}, \"type\": \"scatterpolargl\"}], \"scatterternary\": [{\"marker\": {\"colorbar\": {\"outlinewidth\": 0, \"ticks\": \"\"}}, \"type\": \"scatterternary\"}], \"surface\": [{\"colorbar\": {\"outlinewidth\": 0, \"ticks\": \"\"}, \"colorscale\": [[0.0, \"#0d0887\"], [0.1111111111111111, \"#46039f\"], [0.2222222222222222, \"#7201a8\"], [0.3333333333333333, \"#9c179e\"], [0.4444444444444444, \"#bd3786\"], [0.5555555555555556, \"#d8576b\"], [0.6666666666666666, \"#ed7953\"], [0.7777777777777778, \"#fb9f3a\"], [0.8888888888888888, \"#fdca26\"], [1.0, \"#f0f921\"]], \"type\": \"surface\"}], \"table\": [{\"cells\": {\"fill\": {\"color\": \"#EBF0F8\"}, \"line\": {\"color\": \"white\"}}, \"header\": {\"fill\": {\"color\": \"#C8D4E3\"}, \"line\": {\"color\": \"white\"}}, \"type\": \"table\"}]}, \"layout\": {\"annotationdefaults\": {\"arrowcolor\": \"#2a3f5f\", \"arrowhead\": 0, \"arrowwidth\": 1}, \"coloraxis\": {\"colorbar\": {\"outlinewidth\": 0, \"ticks\": \"\"}}, \"colorscale\": {\"diverging\": [[0, \"#8e0152\"], [0.1, \"#c51b7d\"], [0.2, \"#de77ae\"], [0.3, \"#f1b6da\"], [0.4, \"#fde0ef\"], [0.5, \"#f7f7f7\"], [0.6, \"#e6f5d0\"], [0.7, \"#b8e186\"], [0.8, \"#7fbc41\"], [0.9, \"#4d9221\"], [1, \"#276419\"]], \"sequential\": [[0.0, \"#0d0887\"], [0.1111111111111111, \"#46039f\"], [0.2222222222222222, \"#7201a8\"], [0.3333333333333333, \"#9c179e\"], [0.4444444444444444, \"#bd3786\"], [0.5555555555555556, \"#d8576b\"], [0.6666666666666666, \"#ed7953\"], [0.7777777777777778, \"#fb9f3a\"], [0.8888888888888888, \"#fdca26\"], [1.0, \"#f0f921\"]], \"sequentialminus\": [[0.0, \"#0d0887\"], [0.1111111111111111, \"#46039f\"], [0.2222222222222222, \"#7201a8\"], [0.3333333333333333, \"#9c179e\"], [0.4444444444444444, \"#bd3786\"], [0.5555555555555556, \"#d8576b\"], [0.6666666666666666, \"#ed7953\"], [0.7777777777777778, \"#fb9f3a\"], [0.8888888888888888, \"#fdca26\"], [1.0, \"#f0f921\"]]}, \"colorway\": [\"#636efa\", \"#EF553B\", \"#00cc96\", \"#ab63fa\", \"#FFA15A\", \"#19d3f3\", \"#FF6692\", \"#B6E880\", \"#FF97FF\", \"#FECB52\"], \"font\": {\"color\": \"#2a3f5f\"}, \"geo\": {\"bgcolor\": \"white\", \"lakecolor\": \"white\", \"landcolor\": \"#E5ECF6\", \"showlakes\": true, \"showland\": true, \"subunitcolor\": \"white\"}, \"hoverlabel\": {\"align\": \"left\"}, \"hovermode\": \"closest\", \"mapbox\": {\"style\": \"light\"}, \"paper_bgcolor\": \"white\", \"plot_bgcolor\": \"#E5ECF6\", \"polar\": {\"angularaxis\": {\"gridcolor\": \"white\", \"linecolor\": \"white\", \"ticks\": \"\"}, \"bgcolor\": \"#E5ECF6\", \"radialaxis\": {\"gridcolor\": \"white\", \"linecolor\": \"white\", \"ticks\": \"\"}}, \"scene\": {\"xaxis\": {\"backgroundcolor\": \"#E5ECF6\", \"gridcolor\": \"white\", \"gridwidth\": 2, \"linecolor\": \"white\", \"showbackground\": true, \"ticks\": \"\", \"zerolinecolor\": \"white\"}, \"yaxis\": {\"backgroundcolor\": \"#E5ECF6\", \"gridcolor\": \"white\", \"gridwidth\": 2, \"linecolor\": \"white\", \"showbackground\": true, \"ticks\": \"\", \"zerolinecolor\": \"white\"}, \"zaxis\": {\"backgroundcolor\": \"#E5ECF6\", \"gridcolor\": \"white\", \"gridwidth\": 2, \"linecolor\": \"white\", \"showbackground\": true, \"ticks\": \"\", \"zerolinecolor\": \"white\"}}, \"shapedefaults\": {\"line\": {\"color\": \"#2a3f5f\"}}, \"ternary\": {\"aaxis\": {\"gridcolor\": \"white\", \"linecolor\": \"white\", \"ticks\": \"\"}, \"baxis\": {\"gridcolor\": \"white\", \"linecolor\": \"white\", \"ticks\": \"\"}, \"bgcolor\": \"#E5ECF6\", \"caxis\": {\"gridcolor\": \"white\", \"linecolor\": \"white\", \"ticks\": \"\"}}, \"title\": {\"x\": 0.05}, \"xaxis\": {\"automargin\": true, \"gridcolor\": \"white\", \"linecolor\": \"white\", \"ticks\": \"\", \"title\": {\"standoff\": 15}, \"zerolinecolor\": \"white\", \"zerolinewidth\": 2}, \"yaxis\": {\"automargin\": true, \"gridcolor\": \"white\", \"linecolor\": \"white\", \"ticks\": \"\", \"title\": {\"standoff\": 15}, \"zerolinecolor\": \"white\", \"zerolinewidth\": 2}}}, \"title\": {\"text\": \"<b>test preparation course vs reading score</b>\"}, \"xaxis\": {\"anchor\": \"y\", \"domain\": [0.0, 1.0], \"title\": {\"text\": \"reading score\"}}, \"yaxis\": {\"anchor\": \"x\", \"domain\": [0.0, 1.0], \"title\": {\"text\": \"count\"}}},\n",
              "                        {\"responsive\": true}\n",
              "                    ).then(function(){\n",
              "                            \n",
              "var gd = document.getElementById('52405706-884a-4bb4-a96c-ce0c014143ce');\n",
              "var x = new MutationObserver(function (mutations, observer) {{\n",
              "        var display = window.getComputedStyle(gd).display;\n",
              "        if (!display || display === 'none') {{\n",
              "            console.log([gd, 'removed!']);\n",
              "            Plotly.purge(gd);\n",
              "            observer.disconnect();\n",
              "        }}\n",
              "}});\n",
              "\n",
              "// Listen for the removal of the full notebook cells\n",
              "var notebookContainer = gd.closest('#notebook-container');\n",
              "if (notebookContainer) {{\n",
              "    x.observe(notebookContainer, {childList: true});\n",
              "}}\n",
              "\n",
              "// Listen for the clearing of the current output cell\n",
              "var outputEl = gd.closest('.output');\n",
              "if (outputEl) {{\n",
              "    x.observe(outputEl, {childList: true});\n",
              "}}\n",
              "\n",
              "                        })\n",
              "                };\n",
              "                \n",
              "            </script>\n",
              "        </div>\n",
              "</body>\n",
              "</html>"
            ]
          },
          "metadata": {}
        }
      ],
      "source": [
        "fig = px.box(df, x=\"test preparation course\", y=\"reading score\")\n",
        "fig.show()\n",
        "\n",
        "\n",
        "fig = px.histogram(data_frame = df,\n",
        "             x ='reading score',\n",
        "             color=\"test preparation course\", title=\"<b>test preparation course vs reading score</b>\",   \n",
        ")\n",
        "fig.show()"
      ]
    },
    {
      "cell_type": "markdown",
      "metadata": {
        "id": "yyCKB_jlBfiP"
      },
      "source": [
        "### we can see a higher interquartile range of people who took the course than people who didn't in reading scores which indicates improved reading scores for people who took the course"
      ]
    },
    {
      "cell_type": "markdown",
      "metadata": {
        "id": "6aHmFhSRBfiQ"
      },
      "source": [
        "### figuring out the effect of test preparation course status on writing score"
      ]
    },
    {
      "cell_type": "code",
      "execution_count": null,
      "metadata": {
        "colab": {
          "base_uri": "https://localhost:8080/",
          "height": 1000
        },
        "id": "g2oUE82KHtiL",
        "outputId": "16dc5833-a06e-450a-8ad1-51f7468eee8b"
      },
      "outputs": [
        {
          "output_type": "display_data",
          "data": {
            "text/html": [
              "<html>\n",
              "<head><meta charset=\"utf-8\" /></head>\n",
              "<body>\n",
              "    <div>\n",
              "            <script src=\"https://cdnjs.cloudflare.com/ajax/libs/mathjax/2.7.5/MathJax.js?config=TeX-AMS-MML_SVG\"></script><script type=\"text/javascript\">if (window.MathJax) {MathJax.Hub.Config({SVG: {font: \"STIX-Web\"}});}</script>\n",
              "                <script type=\"text/javascript\">window.PlotlyConfig = {MathJaxConfig: 'local'};</script>\n",
              "        <script src=\"https://cdn.plot.ly/plotly-latest.min.js\"></script>    \n",
              "            <div id=\"878f029a-3246-40e1-b043-f2c1ab99b182\" class=\"plotly-graph-div\" style=\"height:525px; width:100%;\"></div>\n",
              "            <script type=\"text/javascript\">\n",
              "                \n",
              "                    window.PLOTLYENV=window.PLOTLYENV || {};\n",
              "                    \n",
              "                if (document.getElementById(\"878f029a-3246-40e1-b043-f2c1ab99b182\")) {\n",
              "                    Plotly.newPlot(\n",
              "                        '878f029a-3246-40e1-b043-f2c1ab99b182',\n",
              "                        [{\"alignmentgroup\": \"True\", \"hoverlabel\": {\"namelength\": 0}, \"hovertemplate\": \"test preparation course=%{x}<br>writing score=%{y}\", \"legendgroup\": \"\", \"marker\": {\"color\": \"#636efa\"}, \"name\": \"\", \"notched\": false, \"offsetgroup\": \"\", \"orientation\": \"v\", \"showlegend\": false, \"type\": \"box\", \"x\": [\"none\", \"completed\", \"none\", \"none\", \"none\", \"none\", \"completed\", \"none\", \"completed\", \"none\", \"none\", \"none\", \"none\", \"completed\", \"none\", \"none\", \"none\", \"none\", \"completed\", \"none\", \"none\", \"completed\", \"none\", \"none\", \"completed\", \"none\", \"none\", \"none\", \"none\", \"none\", \"none\", \"none\", \"none\", \"none\", \"none\", \"completed\", \"none\", \"none\", \"completed\", \"none\", \"none\", \"none\", \"none\", \"completed\", \"none\", \"none\", \"completed\", \"none\", \"completed\", \"completed\", \"none\", \"completed\", \"none\", \"none\", \"completed\", \"none\", \"completed\", \"none\", \"completed\", \"none\", \"completed\", \"none\", \"none\", \"none\", \"none\", \"none\", \"none\", \"none\", \"none\", \"none\", \"completed\", \"completed\", \"none\", \"none\", \"none\", \"none\", \"none\", \"completed\", \"completed\", \"none\", \"none\", \"none\", \"completed\", \"none\", \"none\", \"none\", \"none\", \"none\", \"none\", \"none\", \"none\", \"none\", \"none\", \"completed\", \"none\", \"completed\", \"completed\", \"completed\", \"none\", \"none\", \"none\", \"completed\", \"none\", \"completed\", \"completed\", \"none\", \"none\", \"completed\", \"none\", \"none\", \"completed\", \"none\", \"none\", \"none\", \"completed\", \"none\", \"none\", \"none\", \"none\", \"none\", \"completed\", \"completed\", \"completed\", \"none\", \"none\", \"none\", \"none\", \"completed\", \"none\", \"none\", \"none\", \"completed\", \"completed\", \"completed\", \"completed\", \"none\", \"completed\", \"none\", \"none\", \"completed\", \"none\", \"none\", \"completed\", \"none\", \"none\", \"none\", \"none\", \"none\", \"completed\", \"completed\", \"completed\", \"none\", \"completed\", \"none\", \"none\", \"completed\", \"completed\", \"none\", \"completed\", \"none\", \"completed\", \"completed\", \"none\", \"none\", \"none\", \"completed\", \"completed\", \"completed\", \"completed\", \"completed\", \"completed\", \"none\", \"none\", \"none\", \"completed\", \"completed\", \"completed\", \"completed\", \"completed\", \"completed\", \"completed\", \"none\", \"none\", \"none\", \"completed\", \"completed\", \"none\", \"completed\", \"none\", \"none\", \"none\", \"completed\", \"none\", \"completed\", \"completed\", \"none\", \"completed\", \"none\", \"none\", \"none\", \"completed\", \"none\", \"none\", \"none\", \"none\", \"completed\", \"none\", \"completed\", \"none\", \"none\", \"completed\", \"none\", \"none\", \"completed\", \"completed\", \"completed\", \"completed\", \"none\", \"none\", \"completed\", \"completed\", \"none\", \"none\", \"none\", \"completed\", \"none\", \"none\", \"none\", \"none\", \"completed\", \"none\", \"none\", \"none\", \"none\", \"completed\", \"none\", \"none\", \"completed\", \"none\", \"none\", \"completed\", \"none\", \"none\", \"none\", \"none\", \"none\", \"none\", \"completed\", \"none\", \"none\", \"completed\", \"none\", \"completed\", \"none\", \"none\", \"none\", \"none\", \"completed\", \"none\", \"completed\", \"completed\", \"completed\", \"none\", \"none\", \"none\", \"none\", \"none\", \"none\", \"completed\", \"none\", \"none\", \"none\", \"none\", \"none\", \"completed\", \"none\", \"completed\", \"completed\", \"none\", \"none\", \"none\", \"none\", \"none\", \"completed\", \"none\", \"completed\", \"completed\", \"none\", \"none\", \"completed\", \"none\", \"none\", \"completed\", \"none\", \"completed\", \"none\", \"completed\", \"completed\", \"completed\", \"none\", \"completed\", \"none\", \"completed\", \"none\", \"completed\", \"none\", \"completed\", \"none\", \"none\", \"none\", \"none\", \"none\", \"completed\", \"completed\", \"completed\", \"none\", \"completed\", \"none\", \"none\", \"none\", \"completed\", \"none\", \"none\", \"none\", \"none\", \"none\", \"none\", \"none\", \"completed\", \"none\", \"none\", \"none\", \"completed\", \"none\", \"none\", \"none\", \"completed\", \"none\", \"none\", \"completed\", \"none\", \"none\", \"completed\", \"completed\", \"none\", \"none\", \"none\", \"completed\", \"none\", \"none\", \"none\", \"none\", \"completed\", \"none\", \"none\", \"none\", \"none\", \"completed\", \"none\", \"none\", \"none\", \"completed\", \"none\", \"none\", \"none\", \"completed\", \"completed\", \"none\", \"none\", \"none\", \"none\", \"completed\", \"none\", \"completed\", \"none\", \"none\", \"none\", \"completed\", \"none\", \"none\", \"none\", \"completed\", \"none\", \"none\", \"none\", \"none\", \"none\", \"none\", \"none\", \"none\", \"completed\", \"none\", \"none\", \"completed\", \"completed\", \"none\", \"none\", \"none\", \"none\", \"none\", \"completed\", \"none\", \"none\", \"completed\", \"none\", \"none\", \"completed\", \"none\", \"completed\", \"completed\", \"completed\", \"completed\", \"none\", \"completed\", \"completed\", \"none\", \"completed\", \"none\", \"none\", \"completed\", \"completed\", \"completed\", \"completed\", \"completed\", \"none\", \"none\", \"none\", \"none\", \"none\", \"none\", \"none\", \"none\", \"none\", \"none\", \"none\", \"completed\", \"none\", \"none\", \"none\", \"completed\", \"completed\", \"none\", \"none\", \"none\", \"none\", \"completed\", \"none\", \"completed\", \"none\", \"none\", \"completed\", \"none\", \"none\", \"none\", \"none\", \"none\", \"none\", \"none\", \"none\", \"completed\", \"none\", \"none\", \"none\", \"none\", \"completed\", \"none\", \"none\", \"completed\", \"completed\", \"none\", \"completed\", \"none\", \"completed\", \"none\", \"completed\", \"completed\", \"completed\", \"none\", \"none\", \"none\", \"completed\", \"none\", \"none\", \"none\", \"none\", \"none\", \"none\", \"none\", \"completed\", \"completed\", \"none\", \"none\", \"none\", \"none\", \"none\", \"completed\", \"none\", \"completed\", \"none\", \"none\", \"none\", \"completed\", \"none\", \"completed\", \"none\", \"none\", \"none\", \"none\", \"none\", \"none\", \"none\", \"none\", \"none\", \"completed\", \"completed\", \"completed\", \"none\", \"completed\", \"completed\", \"completed\", \"none\", \"none\", \"none\", \"none\", \"completed\", \"none\", \"completed\", \"none\", \"none\", \"none\", \"completed\", \"none\", \"completed\", \"completed\", \"completed\", \"completed\", \"completed\", \"none\", \"completed\", \"completed\", \"completed\", \"completed\", \"none\", \"none\", \"none\", \"completed\", \"completed\", \"completed\", \"none\", \"none\", \"none\", \"completed\", \"none\", \"none\", \"none\", \"none\", \"completed\", \"none\", \"none\", \"none\", \"completed\", \"none\", \"completed\", \"completed\", \"none\", \"none\", \"completed\", \"completed\", \"none\", \"none\", \"completed\", \"none\", \"none\", \"completed\", \"none\", \"completed\", \"completed\", \"none\", \"completed\", \"none\", \"none\", \"none\", \"none\", \"completed\", \"none\", \"none\", \"none\", \"none\", \"none\", \"none\", \"none\", \"none\", \"none\", \"none\", \"completed\", \"completed\", \"none\", \"none\", \"none\", \"none\", \"none\", \"none\", \"none\", \"none\", \"completed\", \"none\", \"none\", \"none\", \"none\", \"none\", \"completed\", \"none\", \"completed\", \"none\", \"none\", \"none\", \"none\", \"none\", \"none\", \"completed\", \"none\", \"none\", \"completed\", \"completed\", \"none\", \"completed\", \"completed\", \"none\", \"none\", \"completed\", \"none\", \"none\", \"completed\", \"none\", \"none\", \"none\", \"completed\", \"completed\", \"none\", \"none\", \"none\", \"completed\", \"none\", \"completed\", \"none\", \"completed\", \"none\", \"none\", \"none\", \"completed\", \"completed\", \"completed\", \"completed\", \"completed\", \"none\", \"none\", \"none\", \"none\", \"none\", \"none\", \"none\", \"none\", \"none\", \"none\", \"none\", \"completed\", \"completed\", \"none\", \"none\", \"completed\", \"none\", \"none\", \"none\", \"completed\", \"completed\", \"completed\", \"completed\", \"completed\", \"none\", \"none\", \"none\", \"none\", \"none\", \"completed\", \"completed\", \"completed\", \"completed\", \"none\", \"none\", \"none\", \"none\", \"none\", \"completed\", \"none\", \"none\", \"none\", \"completed\", \"none\", \"completed\", \"none\", \"completed\", \"none\", \"completed\", \"none\", \"completed\", \"none\", \"none\", \"none\", \"none\", \"completed\", \"completed\", \"completed\", \"none\", \"none\", \"completed\", \"completed\", \"completed\", \"completed\", \"none\", \"completed\", \"none\", \"completed\", \"completed\", \"none\", \"none\", \"completed\", \"completed\", \"completed\", \"none\", \"none\", \"completed\", \"none\", \"completed\", \"none\", \"none\", \"none\", \"none\", \"completed\", \"none\", \"none\", \"none\", \"none\", \"none\", \"completed\", \"none\", \"none\", \"none\", \"none\", \"none\", \"completed\", \"completed\", \"none\", \"completed\", \"completed\", \"none\", \"none\", \"none\", \"completed\", \"completed\", \"completed\", \"none\", \"none\", \"completed\", \"none\", \"none\", \"none\", \"completed\", \"completed\", \"none\", \"none\", \"none\", \"none\", \"completed\", \"none\", \"none\", \"none\", \"none\", \"none\", \"completed\", \"completed\", \"none\", \"none\", \"completed\", \"completed\", \"completed\", \"completed\", \"none\", \"none\", \"none\", \"none\", \"none\", \"none\", \"none\", \"completed\", \"none\", \"completed\", \"none\", \"none\", \"none\", \"none\", \"completed\", \"completed\", \"none\", \"none\", \"none\", \"none\", \"none\", \"none\", \"none\", \"none\", \"none\", \"none\", \"completed\", \"completed\", \"none\", \"completed\", \"none\", \"completed\", \"none\", \"none\", \"completed\", \"none\", \"completed\", \"none\", \"none\", \"none\", \"completed\", \"none\", \"completed\", \"none\", \"none\", \"completed\", \"none\", \"completed\", \"none\", \"completed\", \"none\", \"completed\", \"completed\", \"none\", \"none\", \"none\", \"completed\", \"completed\", \"completed\", \"none\", \"completed\", \"none\", \"none\", \"none\", \"none\", \"none\", \"none\", \"none\", \"none\", \"none\", \"none\", \"none\", \"completed\", \"none\", \"none\", \"none\", \"completed\", \"completed\", \"none\", \"completed\", \"none\", \"none\", \"completed\", \"none\", \"none\", \"completed\", \"completed\", \"none\", \"none\", \"none\", \"none\", \"none\", \"none\", \"none\", \"completed\", \"completed\", \"none\", \"none\", \"none\", \"completed\", \"completed\", \"none\", \"none\", \"none\", \"completed\", \"none\", \"none\", \"completed\", \"none\", \"none\", \"none\", \"completed\", \"completed\", \"completed\", \"none\", \"none\", \"completed\", \"completed\", \"none\", \"none\", \"none\", \"completed\", \"none\", \"completed\", \"none\", \"none\", \"completed\", \"completed\", \"none\", \"none\", \"completed\", \"none\", \"completed\", \"completed\", \"none\", \"none\", \"none\", \"none\", \"none\", \"completed\", \"none\", \"completed\", \"completed\", \"none\", \"completed\", \"none\", \"completed\", \"completed\", \"completed\", \"none\", \"none\", \"none\", \"completed\", \"completed\", \"completed\", \"none\", \"none\", \"completed\", \"none\", \"none\", \"none\", \"none\", \"completed\", \"completed\", \"none\", \"completed\", \"none\", \"completed\", \"none\", \"none\", \"none\", \"none\", \"none\", \"none\", \"none\", \"none\", \"none\", \"completed\", \"none\", \"none\", \"completed\", \"none\", \"none\", \"none\", \"none\", \"completed\", \"completed\", \"none\", \"none\", \"completed\", \"completed\", \"none\", \"completed\", \"none\", \"none\", \"none\", \"completed\", \"completed\", \"none\", \"none\", \"none\", \"completed\", \"none\", \"completed\", \"completed\", \"completed\", \"none\", \"none\", \"none\", \"completed\", \"none\", \"completed\", \"completed\", \"none\"], \"x0\": \" \", \"xaxis\": \"x\", \"y\": [74, 88, 93, 44, 75, 78, 92, 39, 67, 50, 52, 43, 73, 70, 58, 78, 86, 28, 46, 61, 63, 70, 53, 73, 80, 72, 55, 75, 65, 75, 74, 61, 65, 38, 82, 79, 83, 59, 88, 57, 54, 68, 65, 66, 54, 57, 62, 76, 76, 82, 48, 68, 42, 75, 87, 43, 86, 49, 58, 10, 72, 34, 55, 71, 59, 61, 37, 74, 56, 57, 73, 63, 48, 56, 41, 38, 22, 81, 72, 68, 50, 45, 54, 63, 34, 82, 88, 74, 67, 82, 74, 36, 71, 50, 92, 82, 62, 70, 62, 62, 67, 74, 89, 47, 90, 72, 100, 64, 70, 72, 98, 49, 47, 54, 100, 74, 82, 79, 61, 65, 89, 92, 93, 56, 73, 86, 67, 74, 74, 51, 82, 40, 70, 84, 75, 48, 41, 56, 67, 69, 71, 64, 54, 47, 78, 33, 75, 66, 81, 93, 69, 68, 66, 47, 61, 88, 78, 60, 87, 64, 74, 85, 52, 49, 91, 100, 51, 78, 78, 70, 74, 78, 81, 70, 54, 87, 58, 77, 62, 100, 75, 66, 47, 70, 49, 65, 65, 68, 45, 87, 69, 79, 66, 62, 85, 52, 65, 51, 55, 76, 86, 77, 69, 68, 42, 78, 62, 76, 76, 66, 79, 27, 60, 56, 81, 75, 88, 39, 70, 56, 74, 73, 62, 75, 73, 54, 71, 54, 64, 94, 66, 42, 83, 78, 84, 77, 67, 74, 51, 80, 66, 83, 55, 43, 69, 71, 74, 68, 62, 53, 49, 83, 70, 72, 52, 70, 68, 77, 78, 81, 77, 78, 51, 90, 68, 41, 81, 77, 95, 70, 61, 42, 58, 71, 76, 73, 93, 75, 80, 57, 42, 46, 84, 78, 46, 82, 88, 82, 76, 77, 68, 70, 57, 75, 80, 60, 43, 68, 50, 75, 81, 52, 81, 64, 83, 69, 81, 44, 67, 52, 80, 57, 68, 69, 75, 65, 91, 78, 69, 63, 84, 79, 80, 53, 43, 94, 62, 19, 77, 51, 61, 35, 53, 81, 95, 66, 69, 43, 27, 60, 52, 63, 74, 67, 67, 75, 57, 95, 66, 76, 69, 52, 80, 57, 70, 70, 61, 69, 61, 89, 59, 78, 58, 32, 58, 60, 53, 61, 58, 85, 71, 70, 72, 96, 73, 41, 82, 100, 77, 62, 83, 95, 71, 45, 43, 75, 70, 67, 64, 75, 59, 77, 67, 56, 77, 41, 63, 95, 57, 54, 67, 43, 55, 100, 62, 68, 63, 77, 56, 85, 74, 78, 60, 67, 79, 69, 68, 67, 62, 54, 93, 64, 67, 80, 34, 62, 86, 65, 53, 54, 59, 70, 55, 50, 66, 53, 64, 73, 51, 82, 79, 80, 69, 76, 73, 77, 60, 80, 42, 72, 85, 97, 74, 49, 62, 47, 89, 48, 100, 68, 55, 45, 76, 91, 62, 91, 38, 65, 85, 76, 90, 74, 84, 61, 91, 83, 66, 72, 70, 67, 68, 56, 61, 46, 54, 71, 56, 74, 57, 82, 76, 70, 90, 90, 68, 66, 52, 76, 68, 72, 82, 92, 54, 92, 54, 80, 66, 54, 77, 87, 73, 43, 52, 62, 94, 85, 84, 73, 78, 79, 52, 84, 57, 50, 49, 59, 60, 43, 47, 70, 73, 53, 58, 94, 68, 83, 58, 62, 71, 86, 68, 80, 79, 89, 66, 80, 97, 64, 64, 69, 65, 88, 50, 64, 40, 33, 79, 66, 70, 62, 79, 74, 92, 80, 46, 45, 100, 78, 47, 67, 70, 92, 56, 64, 71, 53, 52, 89, 58, 68, 96, 80, 78, 80, 77, 76, 73, 62, 65, 65, 54, 50, 64, 73, 99, 72, 15, 48, 73, 81, 63, 30, 80, 51, 90, 62, 82, 54, 62, 65, 63, 66, 91, 74, 93, 72, 38, 83, 84, 68, 54, 56, 52, 86, 62, 99, 63, 46, 46, 55, 70, 65, 81, 85, 80, 64, 81, 88, 74, 73, 51, 90, 79, 80, 60, 81, 65, 68, 55, 81, 53, 76, 98, 74, 79, 67, 64, 61, 58, 85, 73, 63, 69, 67, 63, 60, 71, 87, 61, 77, 68, 50, 76, 84, 78, 66, 76, 76, 78, 60, 74, 60, 54, 44, 68, 100, 68, 73, 44, 83, 53, 78, 81, 73, 56, 86, 90, 70, 79, 59, 82, 72, 87, 67, 64, 65, 36, 52, 79, 58, 90, 85, 99, 84, 74, 87, 72, 99, 74, 80, 70, 59, 88, 42, 41, 71, 77, 57, 84, 37, 80, 43, 94, 44, 57, 59, 84, 73, 73, 55, 72, 56, 82, 72, 47, 74, 71, 68, 59, 86, 68, 65, 75, 85, 53, 92, 52, 72, 65, 77, 64, 54, 86, 63, 59, 72, 77, 60, 75, 57, 49, 74, 72, 79, 60, 55, 70, 43, 82, 82, 57, 84, 82, 62, 79, 44, 77, 32, 61, 61, 60, 70, 69, 77, 51, 73, 70, 81, 54, 57, 68, 73, 95, 87, 78, 74, 75, 40, 69, 51, 36, 49, 67, 76, 83, 87, 64, 76, 68, 88, 92, 93, 51, 82, 52, 58, 70, 76, 81, 53, 57, 89, 58, 89, 45, 74, 57, 79, 53, 73, 46, 51, 36, 76, 64, 84, 85, 50, 68, 69, 67, 63, 93, 61, 55, 96, 65, 81, 46, 72, 53, 87, 38, 80, 91, 88, 52, 41, 72, 51, 47, 76, 78, 82, 61, 66, 84, 54, 80, 74, 66, 70, 71, 44, 54, 80, 95, 59, 74, 48, 91, 85, 73, 75, 69, 38, 27, 79, 63, 82, 89, 74, 41, 100, 84, 77, 51, 91, 72, 70, 48, 82, 66, 66, 55, 66, 100, 52, 80, 91, 67, 46, 66, 65, 69, 60, 52, 71, 44, 51, 70, 62, 73, 74, 90, 58, 53, 57, 85, 69, 72, 96, 64, 61, 61, 58, 80, 60, 52, 73, 71, 83, 72, 54, 69, 62, 81, 100, 59, 71, 64, 53, 100, 75, 58, 72, 64, 60, 67, 80, 100, 69, 60, 61, 67, 77, 60, 58, 48, 94, 23, 78, 86, 91, 82, 54, 51, 76, 45, 83, 75, 78, 76, 74, 62, 95, 55, 65, 77, 86], \"y0\": \" \", \"yaxis\": \"y\"}],\n",
              "                        {\"boxmode\": \"group\", \"legend\": {\"tracegroupgap\": 0}, \"margin\": {\"t\": 60}, \"template\": {\"data\": {\"bar\": [{\"error_x\": {\"color\": \"#2a3f5f\"}, \"error_y\": {\"color\": \"#2a3f5f\"}, \"marker\": {\"line\": {\"color\": \"#E5ECF6\", \"width\": 0.5}}, \"type\": \"bar\"}], \"barpolar\": [{\"marker\": {\"line\": {\"color\": \"#E5ECF6\", \"width\": 0.5}}, \"type\": \"barpolar\"}], \"carpet\": [{\"aaxis\": {\"endlinecolor\": \"#2a3f5f\", \"gridcolor\": \"white\", \"linecolor\": \"white\", \"minorgridcolor\": \"white\", \"startlinecolor\": \"#2a3f5f\"}, \"baxis\": {\"endlinecolor\": \"#2a3f5f\", \"gridcolor\": \"white\", \"linecolor\": \"white\", \"minorgridcolor\": \"white\", \"startlinecolor\": \"#2a3f5f\"}, \"type\": \"carpet\"}], \"choropleth\": [{\"colorbar\": {\"outlinewidth\": 0, \"ticks\": \"\"}, \"type\": \"choropleth\"}], \"contour\": [{\"colorbar\": {\"outlinewidth\": 0, \"ticks\": \"\"}, \"colorscale\": [[0.0, \"#0d0887\"], [0.1111111111111111, \"#46039f\"], [0.2222222222222222, \"#7201a8\"], [0.3333333333333333, \"#9c179e\"], [0.4444444444444444, \"#bd3786\"], [0.5555555555555556, \"#d8576b\"], [0.6666666666666666, \"#ed7953\"], [0.7777777777777778, \"#fb9f3a\"], [0.8888888888888888, \"#fdca26\"], [1.0, \"#f0f921\"]], \"type\": \"contour\"}], \"contourcarpet\": [{\"colorbar\": {\"outlinewidth\": 0, \"ticks\": \"\"}, \"type\": \"contourcarpet\"}], \"heatmap\": [{\"colorbar\": {\"outlinewidth\": 0, \"ticks\": \"\"}, \"colorscale\": [[0.0, \"#0d0887\"], [0.1111111111111111, \"#46039f\"], [0.2222222222222222, \"#7201a8\"], [0.3333333333333333, \"#9c179e\"], [0.4444444444444444, \"#bd3786\"], [0.5555555555555556, \"#d8576b\"], [0.6666666666666666, \"#ed7953\"], [0.7777777777777778, \"#fb9f3a\"], [0.8888888888888888, \"#fdca26\"], [1.0, \"#f0f921\"]], \"type\": \"heatmap\"}], \"heatmapgl\": [{\"colorbar\": {\"outlinewidth\": 0, \"ticks\": \"\"}, \"colorscale\": [[0.0, \"#0d0887\"], [0.1111111111111111, \"#46039f\"], [0.2222222222222222, \"#7201a8\"], [0.3333333333333333, \"#9c179e\"], [0.4444444444444444, \"#bd3786\"], [0.5555555555555556, \"#d8576b\"], [0.6666666666666666, \"#ed7953\"], [0.7777777777777778, \"#fb9f3a\"], [0.8888888888888888, \"#fdca26\"], [1.0, \"#f0f921\"]], \"type\": \"heatmapgl\"}], \"histogram\": [{\"marker\": {\"colorbar\": {\"outlinewidth\": 0, \"ticks\": \"\"}}, \"type\": \"histogram\"}], \"histogram2d\": [{\"colorbar\": {\"outlinewidth\": 0, \"ticks\": \"\"}, \"colorscale\": [[0.0, \"#0d0887\"], [0.1111111111111111, \"#46039f\"], [0.2222222222222222, \"#7201a8\"], [0.3333333333333333, \"#9c179e\"], [0.4444444444444444, \"#bd3786\"], [0.5555555555555556, \"#d8576b\"], [0.6666666666666666, \"#ed7953\"], [0.7777777777777778, \"#fb9f3a\"], [0.8888888888888888, \"#fdca26\"], [1.0, \"#f0f921\"]], \"type\": \"histogram2d\"}], \"histogram2dcontour\": [{\"colorbar\": {\"outlinewidth\": 0, \"ticks\": \"\"}, \"colorscale\": [[0.0, \"#0d0887\"], [0.1111111111111111, \"#46039f\"], [0.2222222222222222, \"#7201a8\"], [0.3333333333333333, \"#9c179e\"], [0.4444444444444444, \"#bd3786\"], [0.5555555555555556, \"#d8576b\"], [0.6666666666666666, \"#ed7953\"], [0.7777777777777778, \"#fb9f3a\"], [0.8888888888888888, \"#fdca26\"], [1.0, \"#f0f921\"]], \"type\": \"histogram2dcontour\"}], \"mesh3d\": [{\"colorbar\": {\"outlinewidth\": 0, \"ticks\": \"\"}, \"type\": \"mesh3d\"}], \"parcoords\": [{\"line\": {\"colorbar\": {\"outlinewidth\": 0, \"ticks\": \"\"}}, \"type\": \"parcoords\"}], \"pie\": [{\"automargin\": true, \"type\": \"pie\"}], \"scatter\": [{\"marker\": {\"colorbar\": {\"outlinewidth\": 0, \"ticks\": \"\"}}, \"type\": \"scatter\"}], \"scatter3d\": [{\"line\": {\"colorbar\": {\"outlinewidth\": 0, \"ticks\": \"\"}}, \"marker\": {\"colorbar\": {\"outlinewidth\": 0, \"ticks\": \"\"}}, \"type\": \"scatter3d\"}], \"scattercarpet\": [{\"marker\": {\"colorbar\": {\"outlinewidth\": 0, \"ticks\": \"\"}}, \"type\": \"scattercarpet\"}], \"scattergeo\": [{\"marker\": {\"colorbar\": {\"outlinewidth\": 0, \"ticks\": \"\"}}, \"type\": \"scattergeo\"}], \"scattergl\": [{\"marker\": {\"colorbar\": {\"outlinewidth\": 0, \"ticks\": \"\"}}, \"type\": \"scattergl\"}], \"scattermapbox\": [{\"marker\": {\"colorbar\": {\"outlinewidth\": 0, \"ticks\": \"\"}}, \"type\": \"scattermapbox\"}], \"scatterpolar\": [{\"marker\": {\"colorbar\": {\"outlinewidth\": 0, \"ticks\": \"\"}}, \"type\": \"scatterpolar\"}], \"scatterpolargl\": [{\"marker\": {\"colorbar\": {\"outlinewidth\": 0, \"ticks\": \"\"}}, \"type\": \"scatterpolargl\"}], \"scatterternary\": [{\"marker\": {\"colorbar\": {\"outlinewidth\": 0, \"ticks\": \"\"}}, \"type\": \"scatterternary\"}], \"surface\": [{\"colorbar\": {\"outlinewidth\": 0, \"ticks\": \"\"}, \"colorscale\": [[0.0, \"#0d0887\"], [0.1111111111111111, \"#46039f\"], [0.2222222222222222, \"#7201a8\"], [0.3333333333333333, \"#9c179e\"], [0.4444444444444444, \"#bd3786\"], [0.5555555555555556, \"#d8576b\"], [0.6666666666666666, \"#ed7953\"], [0.7777777777777778, \"#fb9f3a\"], [0.8888888888888888, \"#fdca26\"], [1.0, \"#f0f921\"]], \"type\": \"surface\"}], \"table\": [{\"cells\": {\"fill\": {\"color\": \"#EBF0F8\"}, \"line\": {\"color\": \"white\"}}, \"header\": {\"fill\": {\"color\": \"#C8D4E3\"}, \"line\": {\"color\": \"white\"}}, \"type\": \"table\"}]}, \"layout\": {\"annotationdefaults\": {\"arrowcolor\": \"#2a3f5f\", \"arrowhead\": 0, \"arrowwidth\": 1}, \"coloraxis\": {\"colorbar\": {\"outlinewidth\": 0, \"ticks\": \"\"}}, \"colorscale\": {\"diverging\": [[0, \"#8e0152\"], [0.1, \"#c51b7d\"], [0.2, \"#de77ae\"], [0.3, \"#f1b6da\"], [0.4, \"#fde0ef\"], [0.5, \"#f7f7f7\"], [0.6, \"#e6f5d0\"], [0.7, \"#b8e186\"], [0.8, \"#7fbc41\"], [0.9, \"#4d9221\"], [1, \"#276419\"]], \"sequential\": [[0.0, \"#0d0887\"], [0.1111111111111111, \"#46039f\"], [0.2222222222222222, \"#7201a8\"], [0.3333333333333333, \"#9c179e\"], [0.4444444444444444, \"#bd3786\"], [0.5555555555555556, \"#d8576b\"], [0.6666666666666666, \"#ed7953\"], [0.7777777777777778, \"#fb9f3a\"], [0.8888888888888888, \"#fdca26\"], [1.0, \"#f0f921\"]], \"sequentialminus\": [[0.0, \"#0d0887\"], [0.1111111111111111, \"#46039f\"], [0.2222222222222222, \"#7201a8\"], [0.3333333333333333, \"#9c179e\"], [0.4444444444444444, \"#bd3786\"], [0.5555555555555556, \"#d8576b\"], [0.6666666666666666, \"#ed7953\"], [0.7777777777777778, \"#fb9f3a\"], [0.8888888888888888, \"#fdca26\"], [1.0, \"#f0f921\"]]}, \"colorway\": [\"#636efa\", \"#EF553B\", \"#00cc96\", \"#ab63fa\", \"#FFA15A\", \"#19d3f3\", \"#FF6692\", \"#B6E880\", \"#FF97FF\", \"#FECB52\"], \"font\": {\"color\": \"#2a3f5f\"}, \"geo\": {\"bgcolor\": \"white\", \"lakecolor\": \"white\", \"landcolor\": \"#E5ECF6\", \"showlakes\": true, \"showland\": true, \"subunitcolor\": \"white\"}, \"hoverlabel\": {\"align\": \"left\"}, \"hovermode\": \"closest\", \"mapbox\": {\"style\": \"light\"}, \"paper_bgcolor\": \"white\", \"plot_bgcolor\": \"#E5ECF6\", \"polar\": {\"angularaxis\": {\"gridcolor\": \"white\", \"linecolor\": \"white\", \"ticks\": \"\"}, \"bgcolor\": \"#E5ECF6\", \"radialaxis\": {\"gridcolor\": \"white\", \"linecolor\": \"white\", \"ticks\": \"\"}}, \"scene\": {\"xaxis\": {\"backgroundcolor\": \"#E5ECF6\", \"gridcolor\": \"white\", \"gridwidth\": 2, \"linecolor\": \"white\", \"showbackground\": true, \"ticks\": \"\", \"zerolinecolor\": \"white\"}, \"yaxis\": {\"backgroundcolor\": \"#E5ECF6\", \"gridcolor\": \"white\", \"gridwidth\": 2, \"linecolor\": \"white\", \"showbackground\": true, \"ticks\": \"\", \"zerolinecolor\": \"white\"}, \"zaxis\": {\"backgroundcolor\": \"#E5ECF6\", \"gridcolor\": \"white\", \"gridwidth\": 2, \"linecolor\": \"white\", \"showbackground\": true, \"ticks\": \"\", \"zerolinecolor\": \"white\"}}, \"shapedefaults\": {\"line\": {\"color\": \"#2a3f5f\"}}, \"ternary\": {\"aaxis\": {\"gridcolor\": \"white\", \"linecolor\": \"white\", \"ticks\": \"\"}, \"baxis\": {\"gridcolor\": \"white\", \"linecolor\": \"white\", \"ticks\": \"\"}, \"bgcolor\": \"#E5ECF6\", \"caxis\": {\"gridcolor\": \"white\", \"linecolor\": \"white\", \"ticks\": \"\"}}, \"title\": {\"x\": 0.05}, \"xaxis\": {\"automargin\": true, \"gridcolor\": \"white\", \"linecolor\": \"white\", \"ticks\": \"\", \"title\": {\"standoff\": 15}, \"zerolinecolor\": \"white\", \"zerolinewidth\": 2}, \"yaxis\": {\"automargin\": true, \"gridcolor\": \"white\", \"linecolor\": \"white\", \"ticks\": \"\", \"title\": {\"standoff\": 15}, \"zerolinecolor\": \"white\", \"zerolinewidth\": 2}}}, \"xaxis\": {\"anchor\": \"y\", \"domain\": [0.0, 1.0], \"title\": {\"text\": \"test preparation course\"}}, \"yaxis\": {\"anchor\": \"x\", \"domain\": [0.0, 1.0], \"title\": {\"text\": \"writing score\"}}},\n",
              "                        {\"responsive\": true}\n",
              "                    ).then(function(){\n",
              "                            \n",
              "var gd = document.getElementById('878f029a-3246-40e1-b043-f2c1ab99b182');\n",
              "var x = new MutationObserver(function (mutations, observer) {{\n",
              "        var display = window.getComputedStyle(gd).display;\n",
              "        if (!display || display === 'none') {{\n",
              "            console.log([gd, 'removed!']);\n",
              "            Plotly.purge(gd);\n",
              "            observer.disconnect();\n",
              "        }}\n",
              "}});\n",
              "\n",
              "// Listen for the removal of the full notebook cells\n",
              "var notebookContainer = gd.closest('#notebook-container');\n",
              "if (notebookContainer) {{\n",
              "    x.observe(notebookContainer, {childList: true});\n",
              "}}\n",
              "\n",
              "// Listen for the clearing of the current output cell\n",
              "var outputEl = gd.closest('.output');\n",
              "if (outputEl) {{\n",
              "    x.observe(outputEl, {childList: true});\n",
              "}}\n",
              "\n",
              "                        })\n",
              "                };\n",
              "                \n",
              "            </script>\n",
              "        </div>\n",
              "</body>\n",
              "</html>"
            ]
          },
          "metadata": {}
        },
        {
          "output_type": "display_data",
          "data": {
            "text/html": [
              "<html>\n",
              "<head><meta charset=\"utf-8\" /></head>\n",
              "<body>\n",
              "    <div>\n",
              "            <script src=\"https://cdnjs.cloudflare.com/ajax/libs/mathjax/2.7.5/MathJax.js?config=TeX-AMS-MML_SVG\"></script><script type=\"text/javascript\">if (window.MathJax) {MathJax.Hub.Config({SVG: {font: \"STIX-Web\"}});}</script>\n",
              "                <script type=\"text/javascript\">window.PlotlyConfig = {MathJaxConfig: 'local'};</script>\n",
              "        <script src=\"https://cdn.plot.ly/plotly-latest.min.js\"></script>    \n",
              "            <div id=\"1413e34c-cd16-43ad-b420-7c24da5c265a\" class=\"plotly-graph-div\" style=\"height:525px; width:100%;\"></div>\n",
              "            <script type=\"text/javascript\">\n",
              "                \n",
              "                    window.PLOTLYENV=window.PLOTLYENV || {};\n",
              "                    \n",
              "                if (document.getElementById(\"1413e34c-cd16-43ad-b420-7c24da5c265a\")) {\n",
              "                    Plotly.newPlot(\n",
              "                        '1413e34c-cd16-43ad-b420-7c24da5c265a',\n",
              "                        [{\"alignmentgroup\": \"True\", \"bingroup\": \"x\", \"hoverlabel\": {\"namelength\": 0}, \"hovertemplate\": \"test preparation course=none<br>writing score=%{x}<br>count=%{y}\", \"legendgroup\": \"test preparation course=none\", \"marker\": {\"color\": \"#636efa\"}, \"name\": \"test preparation course=none\", \"offsetgroup\": \"test preparation course=none\", \"orientation\": \"v\", \"showlegend\": true, \"type\": \"histogram\", \"x\": [74, 93, 44, 75, 78, 39, 50, 52, 43, 73, 58, 78, 86, 28, 61, 63, 53, 73, 72, 55, 75, 65, 75, 74, 61, 65, 38, 82, 83, 59, 57, 54, 68, 65, 54, 57, 76, 48, 42, 75, 43, 49, 10, 34, 55, 71, 59, 61, 37, 74, 56, 57, 48, 56, 41, 38, 22, 68, 50, 45, 63, 34, 82, 88, 74, 67, 82, 74, 36, 71, 92, 62, 62, 67, 89, 72, 100, 70, 72, 49, 47, 54, 74, 82, 79, 61, 65, 56, 73, 86, 67, 74, 51, 82, 48, 56, 67, 71, 64, 47, 78, 33, 75, 66, 68, 47, 61, 60, 64, 52, 49, 91, 78, 81, 70, 66, 47, 70, 65, 45, 87, 69, 66, 52, 51, 55, 76, 77, 69, 68, 42, 62, 76, 66, 27, 60, 39, 70, 73, 62, 75, 54, 71, 54, 64, 66, 42, 83, 78, 77, 67, 51, 80, 83, 55, 43, 69, 71, 74, 62, 53, 83, 72, 52, 70, 68, 78, 51, 90, 68, 41, 81, 77, 70, 61, 42, 58, 71, 73, 80, 57, 42, 46, 84, 46, 82, 76, 68, 70, 75, 60, 75, 52, 64, 69, 44, 67, 52, 80, 57, 65, 78, 69, 63, 79, 80, 53, 43, 94, 62, 19, 51, 61, 35, 81, 95, 66, 43, 27, 52, 63, 67, 75, 57, 66, 76, 69, 52, 57, 70, 70, 61, 61, 89, 59, 58, 32, 58, 61, 58, 85, 71, 72, 73, 41, 82, 77, 62, 83, 71, 45, 43, 75, 70, 67, 64, 75, 77, 67, 41, 63, 95, 57, 54, 43, 55, 62, 68, 77, 60, 69, 67, 62, 34, 62, 86, 65, 53, 54, 59, 70, 55, 50, 66, 64, 73, 51, 80, 69, 76, 73, 60, 42, 72, 97, 74, 49, 62, 47, 89, 48, 100, 55, 45, 76, 91, 91, 38, 76, 74, 61, 72, 70, 67, 56, 61, 46, 54, 71, 56, 74, 76, 70, 90, 90, 68, 52, 68, 72, 82, 54, 54, 80, 66, 54, 77, 87, 73, 43, 52, 84, 52, 84, 57, 50, 59, 43, 47, 70, 53, 62, 79, 89, 66, 64, 69, 65, 50, 64, 40, 33, 66, 70, 62, 74, 46, 45, 47, 67, 92, 56, 71, 89, 68, 96, 80, 78, 77, 76, 73, 62, 65, 65, 54, 50, 64, 73, 15, 48, 73, 81, 63, 30, 80, 51, 62, 82, 54, 62, 65, 66, 74, 93, 72, 38, 83, 84, 54, 56, 62, 46, 46, 70, 65, 85, 80, 64, 74, 73, 51, 79, 60, 65, 68, 55, 79, 67, 64, 61, 58, 85, 73, 63, 69, 67, 63, 87, 61, 68, 50, 76, 78, 60, 74, 60, 54, 73, 44, 83, 53, 78, 73, 56, 86, 70, 59, 72, 67, 65, 36, 52, 79, 99, 84, 74, 70, 42, 41, 84, 37, 43, 44, 57, 59, 84, 73, 55, 72, 56, 82, 47, 74, 71, 68, 59, 65, 53, 92, 52, 64, 54, 63, 59, 72, 75, 57, 49, 74, 79, 60, 55, 70, 43, 57, 84, 77, 32, 61, 61, 60, 70, 69, 51, 70, 81, 54, 57, 95, 87, 78, 74, 75, 40, 69, 51, 36, 49, 83, 64, 68, 88, 93, 82, 52, 58, 76, 53, 57, 58, 45, 57, 73, 46, 51, 84, 50, 68, 69, 67, 63, 93, 61, 55, 96, 65, 81, 72, 53, 87, 91, 52, 41, 51, 47, 82, 61, 66, 84, 54, 80, 74, 71, 44, 54, 59, 74, 48, 85, 73, 69, 38, 27, 89, 74, 84, 77, 51, 72, 48, 82, 55, 66, 52, 67, 46, 66, 65, 69, 52, 51, 62, 58, 53, 57, 96, 64, 61, 58, 80, 60, 71, 72, 69, 62, 81, 100, 59, 71, 64, 53, 100, 58, 72, 60, 67, 80, 100, 61, 67, 58, 94, 23, 78, 82, 54, 51, 45, 76, 74, 62, 55, 86], \"xaxis\": \"x\", \"yaxis\": \"y\"}, {\"alignmentgroup\": \"True\", \"bingroup\": \"x\", \"hoverlabel\": {\"namelength\": 0}, \"hovertemplate\": \"test preparation course=completed<br>writing score=%{x}<br>count=%{y}\", \"legendgroup\": \"test preparation course=completed\", \"marker\": {\"color\": \"#EF553B\"}, \"name\": \"test preparation course=completed\", \"offsetgroup\": \"test preparation course=completed\", \"orientation\": \"v\", \"showlegend\": true, \"type\": \"histogram\", \"x\": [88, 92, 67, 70, 46, 70, 80, 79, 88, 66, 62, 76, 82, 68, 87, 86, 58, 72, 73, 63, 81, 72, 54, 50, 82, 62, 70, 74, 47, 90, 64, 98, 100, 89, 92, 93, 74, 40, 70, 84, 75, 41, 69, 54, 81, 93, 69, 66, 88, 78, 87, 74, 85, 100, 51, 78, 78, 70, 74, 54, 87, 58, 77, 62, 100, 75, 49, 65, 68, 79, 62, 85, 65, 86, 78, 76, 79, 56, 81, 75, 88, 56, 74, 73, 94, 84, 74, 66, 68, 49, 70, 77, 81, 77, 78, 95, 76, 93, 75, 78, 82, 88, 77, 57, 80, 43, 68, 50, 81, 81, 83, 81, 68, 69, 75, 91, 84, 77, 53, 69, 60, 74, 67, 95, 80, 69, 78, 60, 53, 70, 96, 100, 95, 59, 56, 77, 67, 100, 63, 56, 85, 74, 78, 67, 79, 68, 54, 93, 64, 67, 80, 53, 82, 79, 77, 80, 85, 68, 62, 65, 85, 90, 84, 91, 83, 66, 68, 57, 82, 66, 76, 92, 92, 62, 94, 85, 73, 78, 79, 49, 60, 73, 58, 94, 68, 83, 58, 71, 86, 68, 80, 80, 97, 64, 88, 79, 79, 92, 80, 100, 78, 70, 64, 53, 52, 58, 80, 99, 72, 90, 63, 91, 68, 52, 86, 99, 63, 55, 81, 81, 88, 90, 80, 81, 81, 53, 76, 98, 74, 60, 71, 77, 84, 78, 66, 76, 76, 44, 68, 100, 68, 81, 90, 79, 82, 87, 64, 58, 90, 85, 74, 87, 72, 99, 80, 59, 88, 71, 77, 57, 80, 94, 73, 72, 86, 68, 75, 85, 72, 65, 77, 86, 77, 60, 72, 82, 82, 82, 62, 79, 44, 77, 73, 68, 73, 67, 76, 87, 76, 92, 51, 70, 81, 89, 89, 74, 79, 53, 36, 76, 64, 85, 46, 38, 80, 88, 72, 76, 78, 66, 70, 80, 95, 91, 75, 79, 63, 82, 41, 100, 91, 70, 66, 66, 100, 80, 91, 60, 71, 44, 70, 73, 74, 90, 85, 69, 72, 61, 52, 73, 83, 54, 75, 64, 69, 60, 77, 60, 48, 86, 91, 76, 83, 75, 78, 95, 65, 77], \"xaxis\": \"x\", \"yaxis\": \"y\"}],\n",
              "                        {\"barmode\": \"relative\", \"legend\": {\"tracegroupgap\": 0}, \"template\": {\"data\": {\"bar\": [{\"error_x\": {\"color\": \"#2a3f5f\"}, \"error_y\": {\"color\": \"#2a3f5f\"}, \"marker\": {\"line\": {\"color\": \"#E5ECF6\", \"width\": 0.5}}, \"type\": \"bar\"}], \"barpolar\": [{\"marker\": {\"line\": {\"color\": \"#E5ECF6\", \"width\": 0.5}}, \"type\": \"barpolar\"}], \"carpet\": [{\"aaxis\": {\"endlinecolor\": \"#2a3f5f\", \"gridcolor\": \"white\", \"linecolor\": \"white\", \"minorgridcolor\": \"white\", \"startlinecolor\": \"#2a3f5f\"}, \"baxis\": {\"endlinecolor\": \"#2a3f5f\", \"gridcolor\": \"white\", \"linecolor\": \"white\", \"minorgridcolor\": \"white\", \"startlinecolor\": \"#2a3f5f\"}, \"type\": \"carpet\"}], \"choropleth\": [{\"colorbar\": {\"outlinewidth\": 0, \"ticks\": \"\"}, \"type\": \"choropleth\"}], \"contour\": [{\"colorbar\": {\"outlinewidth\": 0, \"ticks\": \"\"}, \"colorscale\": [[0.0, \"#0d0887\"], [0.1111111111111111, \"#46039f\"], [0.2222222222222222, \"#7201a8\"], [0.3333333333333333, \"#9c179e\"], [0.4444444444444444, \"#bd3786\"], [0.5555555555555556, \"#d8576b\"], [0.6666666666666666, \"#ed7953\"], [0.7777777777777778, \"#fb9f3a\"], [0.8888888888888888, \"#fdca26\"], [1.0, \"#f0f921\"]], \"type\": \"contour\"}], \"contourcarpet\": [{\"colorbar\": {\"outlinewidth\": 0, \"ticks\": \"\"}, \"type\": \"contourcarpet\"}], \"heatmap\": [{\"colorbar\": {\"outlinewidth\": 0, \"ticks\": \"\"}, \"colorscale\": [[0.0, \"#0d0887\"], [0.1111111111111111, \"#46039f\"], [0.2222222222222222, \"#7201a8\"], [0.3333333333333333, \"#9c179e\"], [0.4444444444444444, \"#bd3786\"], [0.5555555555555556, \"#d8576b\"], [0.6666666666666666, \"#ed7953\"], [0.7777777777777778, \"#fb9f3a\"], [0.8888888888888888, \"#fdca26\"], [1.0, \"#f0f921\"]], \"type\": \"heatmap\"}], \"heatmapgl\": [{\"colorbar\": {\"outlinewidth\": 0, \"ticks\": \"\"}, \"colorscale\": [[0.0, \"#0d0887\"], [0.1111111111111111, \"#46039f\"], [0.2222222222222222, \"#7201a8\"], [0.3333333333333333, \"#9c179e\"], [0.4444444444444444, \"#bd3786\"], [0.5555555555555556, \"#d8576b\"], [0.6666666666666666, \"#ed7953\"], [0.7777777777777778, \"#fb9f3a\"], [0.8888888888888888, \"#fdca26\"], [1.0, \"#f0f921\"]], \"type\": \"heatmapgl\"}], \"histogram\": [{\"marker\": {\"colorbar\": {\"outlinewidth\": 0, \"ticks\": \"\"}}, \"type\": \"histogram\"}], \"histogram2d\": [{\"colorbar\": {\"outlinewidth\": 0, \"ticks\": \"\"}, \"colorscale\": [[0.0, \"#0d0887\"], [0.1111111111111111, \"#46039f\"], [0.2222222222222222, \"#7201a8\"], [0.3333333333333333, \"#9c179e\"], [0.4444444444444444, \"#bd3786\"], [0.5555555555555556, \"#d8576b\"], [0.6666666666666666, \"#ed7953\"], [0.7777777777777778, \"#fb9f3a\"], [0.8888888888888888, \"#fdca26\"], [1.0, \"#f0f921\"]], \"type\": \"histogram2d\"}], \"histogram2dcontour\": [{\"colorbar\": {\"outlinewidth\": 0, \"ticks\": \"\"}, \"colorscale\": [[0.0, \"#0d0887\"], [0.1111111111111111, \"#46039f\"], [0.2222222222222222, \"#7201a8\"], [0.3333333333333333, \"#9c179e\"], [0.4444444444444444, \"#bd3786\"], [0.5555555555555556, \"#d8576b\"], [0.6666666666666666, \"#ed7953\"], [0.7777777777777778, \"#fb9f3a\"], [0.8888888888888888, \"#fdca26\"], [1.0, \"#f0f921\"]], \"type\": \"histogram2dcontour\"}], \"mesh3d\": [{\"colorbar\": {\"outlinewidth\": 0, \"ticks\": \"\"}, \"type\": \"mesh3d\"}], \"parcoords\": [{\"line\": {\"colorbar\": {\"outlinewidth\": 0, \"ticks\": \"\"}}, \"type\": \"parcoords\"}], \"pie\": [{\"automargin\": true, \"type\": \"pie\"}], \"scatter\": [{\"marker\": {\"colorbar\": {\"outlinewidth\": 0, \"ticks\": \"\"}}, \"type\": \"scatter\"}], \"scatter3d\": [{\"line\": {\"colorbar\": {\"outlinewidth\": 0, \"ticks\": \"\"}}, \"marker\": {\"colorbar\": {\"outlinewidth\": 0, \"ticks\": \"\"}}, \"type\": \"scatter3d\"}], \"scattercarpet\": [{\"marker\": {\"colorbar\": {\"outlinewidth\": 0, \"ticks\": \"\"}}, \"type\": \"scattercarpet\"}], \"scattergeo\": [{\"marker\": {\"colorbar\": {\"outlinewidth\": 0, \"ticks\": \"\"}}, \"type\": \"scattergeo\"}], \"scattergl\": [{\"marker\": {\"colorbar\": {\"outlinewidth\": 0, \"ticks\": \"\"}}, \"type\": \"scattergl\"}], \"scattermapbox\": [{\"marker\": {\"colorbar\": {\"outlinewidth\": 0, \"ticks\": \"\"}}, \"type\": \"scattermapbox\"}], \"scatterpolar\": [{\"marker\": {\"colorbar\": {\"outlinewidth\": 0, \"ticks\": \"\"}}, \"type\": \"scatterpolar\"}], \"scatterpolargl\": [{\"marker\": {\"colorbar\": {\"outlinewidth\": 0, \"ticks\": \"\"}}, \"type\": \"scatterpolargl\"}], \"scatterternary\": [{\"marker\": {\"colorbar\": {\"outlinewidth\": 0, \"ticks\": \"\"}}, \"type\": \"scatterternary\"}], \"surface\": [{\"colorbar\": {\"outlinewidth\": 0, \"ticks\": \"\"}, \"colorscale\": [[0.0, \"#0d0887\"], [0.1111111111111111, \"#46039f\"], [0.2222222222222222, \"#7201a8\"], [0.3333333333333333, \"#9c179e\"], [0.4444444444444444, \"#bd3786\"], [0.5555555555555556, \"#d8576b\"], [0.6666666666666666, \"#ed7953\"], [0.7777777777777778, \"#fb9f3a\"], [0.8888888888888888, \"#fdca26\"], [1.0, \"#f0f921\"]], \"type\": \"surface\"}], \"table\": [{\"cells\": {\"fill\": {\"color\": \"#EBF0F8\"}, \"line\": {\"color\": \"white\"}}, \"header\": {\"fill\": {\"color\": \"#C8D4E3\"}, \"line\": {\"color\": \"white\"}}, \"type\": \"table\"}]}, \"layout\": {\"annotationdefaults\": {\"arrowcolor\": \"#2a3f5f\", \"arrowhead\": 0, \"arrowwidth\": 1}, \"coloraxis\": {\"colorbar\": {\"outlinewidth\": 0, \"ticks\": \"\"}}, \"colorscale\": {\"diverging\": [[0, \"#8e0152\"], [0.1, \"#c51b7d\"], [0.2, \"#de77ae\"], [0.3, \"#f1b6da\"], [0.4, \"#fde0ef\"], [0.5, \"#f7f7f7\"], [0.6, \"#e6f5d0\"], [0.7, \"#b8e186\"], [0.8, \"#7fbc41\"], [0.9, \"#4d9221\"], [1, \"#276419\"]], \"sequential\": [[0.0, \"#0d0887\"], [0.1111111111111111, \"#46039f\"], [0.2222222222222222, \"#7201a8\"], [0.3333333333333333, \"#9c179e\"], [0.4444444444444444, \"#bd3786\"], [0.5555555555555556, \"#d8576b\"], [0.6666666666666666, \"#ed7953\"], [0.7777777777777778, \"#fb9f3a\"], [0.8888888888888888, \"#fdca26\"], [1.0, \"#f0f921\"]], \"sequentialminus\": [[0.0, \"#0d0887\"], [0.1111111111111111, \"#46039f\"], [0.2222222222222222, \"#7201a8\"], [0.3333333333333333, \"#9c179e\"], [0.4444444444444444, \"#bd3786\"], [0.5555555555555556, \"#d8576b\"], [0.6666666666666666, \"#ed7953\"], [0.7777777777777778, \"#fb9f3a\"], [0.8888888888888888, \"#fdca26\"], [1.0, \"#f0f921\"]]}, \"colorway\": [\"#636efa\", \"#EF553B\", \"#00cc96\", \"#ab63fa\", \"#FFA15A\", \"#19d3f3\", \"#FF6692\", \"#B6E880\", \"#FF97FF\", \"#FECB52\"], \"font\": {\"color\": \"#2a3f5f\"}, \"geo\": {\"bgcolor\": \"white\", \"lakecolor\": \"white\", \"landcolor\": \"#E5ECF6\", \"showlakes\": true, \"showland\": true, \"subunitcolor\": \"white\"}, \"hoverlabel\": {\"align\": \"left\"}, \"hovermode\": \"closest\", \"mapbox\": {\"style\": \"light\"}, \"paper_bgcolor\": \"white\", \"plot_bgcolor\": \"#E5ECF6\", \"polar\": {\"angularaxis\": {\"gridcolor\": \"white\", \"linecolor\": \"white\", \"ticks\": \"\"}, \"bgcolor\": \"#E5ECF6\", \"radialaxis\": {\"gridcolor\": \"white\", \"linecolor\": \"white\", \"ticks\": \"\"}}, \"scene\": {\"xaxis\": {\"backgroundcolor\": \"#E5ECF6\", \"gridcolor\": \"white\", \"gridwidth\": 2, \"linecolor\": \"white\", \"showbackground\": true, \"ticks\": \"\", \"zerolinecolor\": \"white\"}, \"yaxis\": {\"backgroundcolor\": \"#E5ECF6\", \"gridcolor\": \"white\", \"gridwidth\": 2, \"linecolor\": \"white\", \"showbackground\": true, \"ticks\": \"\", \"zerolinecolor\": \"white\"}, \"zaxis\": {\"backgroundcolor\": \"#E5ECF6\", \"gridcolor\": \"white\", \"gridwidth\": 2, \"linecolor\": \"white\", \"showbackground\": true, \"ticks\": \"\", \"zerolinecolor\": \"white\"}}, \"shapedefaults\": {\"line\": {\"color\": \"#2a3f5f\"}}, \"ternary\": {\"aaxis\": {\"gridcolor\": \"white\", \"linecolor\": \"white\", \"ticks\": \"\"}, \"baxis\": {\"gridcolor\": \"white\", \"linecolor\": \"white\", \"ticks\": \"\"}, \"bgcolor\": \"#E5ECF6\", \"caxis\": {\"gridcolor\": \"white\", \"linecolor\": \"white\", \"ticks\": \"\"}}, \"title\": {\"x\": 0.05}, \"xaxis\": {\"automargin\": true, \"gridcolor\": \"white\", \"linecolor\": \"white\", \"ticks\": \"\", \"title\": {\"standoff\": 15}, \"zerolinecolor\": \"white\", \"zerolinewidth\": 2}, \"yaxis\": {\"automargin\": true, \"gridcolor\": \"white\", \"linecolor\": \"white\", \"ticks\": \"\", \"title\": {\"standoff\": 15}, \"zerolinecolor\": \"white\", \"zerolinewidth\": 2}}}, \"title\": {\"text\": \"<b>test preparation course vs writing score</b>\"}, \"xaxis\": {\"anchor\": \"y\", \"domain\": [0.0, 1.0], \"title\": {\"text\": \"writing score\"}}, \"yaxis\": {\"anchor\": \"x\", \"domain\": [0.0, 1.0], \"title\": {\"text\": \"count\"}}},\n",
              "                        {\"responsive\": true}\n",
              "                    ).then(function(){\n",
              "                            \n",
              "var gd = document.getElementById('1413e34c-cd16-43ad-b420-7c24da5c265a');\n",
              "var x = new MutationObserver(function (mutations, observer) {{\n",
              "        var display = window.getComputedStyle(gd).display;\n",
              "        if (!display || display === 'none') {{\n",
              "            console.log([gd, 'removed!']);\n",
              "            Plotly.purge(gd);\n",
              "            observer.disconnect();\n",
              "        }}\n",
              "}});\n",
              "\n",
              "// Listen for the removal of the full notebook cells\n",
              "var notebookContainer = gd.closest('#notebook-container');\n",
              "if (notebookContainer) {{\n",
              "    x.observe(notebookContainer, {childList: true});\n",
              "}}\n",
              "\n",
              "// Listen for the clearing of the current output cell\n",
              "var outputEl = gd.closest('.output');\n",
              "if (outputEl) {{\n",
              "    x.observe(outputEl, {childList: true});\n",
              "}}\n",
              "\n",
              "                        })\n",
              "                };\n",
              "                \n",
              "            </script>\n",
              "        </div>\n",
              "</body>\n",
              "</html>"
            ]
          },
          "metadata": {}
        }
      ],
      "source": [
        "fig = px.box(df, x=\"test preparation course\", y=\"writing score\")\n",
        "fig.show()\n",
        "\n",
        "fig = px.histogram(data_frame = df,\n",
        "             x ='writing score',\n",
        "             color=\"test preparation course\", title=\"<b>test preparation course vs writing score</b>\",   \n",
        ")\n",
        "fig.show()"
      ]
    },
    {
      "cell_type": "markdown",
      "metadata": {
        "id": "DSuyFv5nBfiT"
      },
      "source": [
        "### we can see a higher interquartile range of people who took the course than people who didn't in writing scores which indicates improved writing scores for people who took the course"
      ]
    },
    {
      "cell_type": "markdown",
      "metadata": {
        "id": "RaofIijNBfiU"
      },
      "source": [
        "### figuring out the effect of test preparation course status on math score"
      ]
    },
    {
      "cell_type": "code",
      "execution_count": null,
      "metadata": {
        "colab": {
          "base_uri": "https://localhost:8080/",
          "height": 1000
        },
        "id": "9xTeJWZoBfiU",
        "outputId": "fe6d7c67-db1a-4ee9-b8eb-746eec207146"
      },
      "outputs": [
        {
          "output_type": "display_data",
          "data": {
            "text/html": [
              "<html>\n",
              "<head><meta charset=\"utf-8\" /></head>\n",
              "<body>\n",
              "    <div>\n",
              "            <script src=\"https://cdnjs.cloudflare.com/ajax/libs/mathjax/2.7.5/MathJax.js?config=TeX-AMS-MML_SVG\"></script><script type=\"text/javascript\">if (window.MathJax) {MathJax.Hub.Config({SVG: {font: \"STIX-Web\"}});}</script>\n",
              "                <script type=\"text/javascript\">window.PlotlyConfig = {MathJaxConfig: 'local'};</script>\n",
              "        <script src=\"https://cdn.plot.ly/plotly-latest.min.js\"></script>    \n",
              "            <div id=\"f4dea472-eeeb-4d61-ad0d-a4fd23b6eac5\" class=\"plotly-graph-div\" style=\"height:525px; width:100%;\"></div>\n",
              "            <script type=\"text/javascript\">\n",
              "                \n",
              "                    window.PLOTLYENV=window.PLOTLYENV || {};\n",
              "                    \n",
              "                if (document.getElementById(\"f4dea472-eeeb-4d61-ad0d-a4fd23b6eac5\")) {\n",
              "                    Plotly.newPlot(\n",
              "                        'f4dea472-eeeb-4d61-ad0d-a4fd23b6eac5',\n",
              "                        [{\"alignmentgroup\": \"True\", \"hoverlabel\": {\"namelength\": 0}, \"hovertemplate\": \"test preparation course=%{x}<br>math score=%{y}\", \"legendgroup\": \"\", \"marker\": {\"color\": \"#636efa\"}, \"name\": \"\", \"notched\": false, \"offsetgroup\": \"\", \"orientation\": \"v\", \"showlegend\": false, \"type\": \"box\", \"x\": [\"none\", \"completed\", \"none\", \"none\", \"none\", \"none\", \"completed\", \"none\", \"completed\", \"none\", \"none\", \"none\", \"none\", \"completed\", \"none\", \"none\", \"none\", \"none\", \"completed\", \"none\", \"none\", \"completed\", \"none\", \"none\", \"completed\", \"none\", \"none\", \"none\", \"none\", \"none\", \"none\", \"none\", \"none\", \"none\", \"none\", \"completed\", \"none\", \"none\", \"completed\", \"none\", \"none\", \"none\", \"none\", \"completed\", \"none\", \"none\", \"completed\", \"none\", \"completed\", \"completed\", \"none\", \"completed\", \"none\", \"none\", \"completed\", \"none\", \"completed\", \"none\", \"completed\", \"none\", \"completed\", \"none\", \"none\", \"none\", \"none\", \"none\", \"none\", \"none\", \"none\", \"none\", \"completed\", \"completed\", \"none\", \"none\", \"none\", \"none\", \"none\", \"completed\", \"completed\", \"none\", \"none\", \"none\", \"completed\", \"none\", \"none\", \"none\", \"none\", \"none\", \"none\", \"none\", \"none\", \"none\", \"none\", \"completed\", \"none\", \"completed\", \"completed\", \"completed\", \"none\", \"none\", \"none\", \"completed\", \"none\", \"completed\", \"completed\", \"none\", \"none\", \"completed\", \"none\", \"none\", \"completed\", \"none\", \"none\", \"none\", \"completed\", \"none\", \"none\", \"none\", \"none\", \"none\", \"completed\", \"completed\", \"completed\", \"none\", \"none\", \"none\", \"none\", \"completed\", \"none\", \"none\", \"none\", \"completed\", \"completed\", \"completed\", \"completed\", \"none\", \"completed\", \"none\", \"none\", \"completed\", \"none\", \"none\", \"completed\", \"none\", \"none\", \"none\", \"none\", \"none\", \"completed\", \"completed\", \"completed\", \"none\", \"completed\", \"none\", \"none\", \"completed\", \"completed\", \"none\", \"completed\", \"none\", \"completed\", \"completed\", \"none\", \"none\", \"none\", \"completed\", \"completed\", \"completed\", \"completed\", \"completed\", \"completed\", \"none\", \"none\", \"none\", \"completed\", \"completed\", \"completed\", \"completed\", \"completed\", \"completed\", \"completed\", \"none\", \"none\", \"none\", \"completed\", \"completed\", \"none\", \"completed\", \"none\", \"none\", \"none\", \"completed\", \"none\", \"completed\", \"completed\", \"none\", \"completed\", \"none\", \"none\", \"none\", \"completed\", \"none\", \"none\", \"none\", \"none\", \"completed\", \"none\", \"completed\", \"none\", \"none\", \"completed\", \"none\", \"none\", \"completed\", \"completed\", \"completed\", \"completed\", \"none\", \"none\", \"completed\", \"completed\", \"none\", \"none\", \"none\", \"completed\", \"none\", \"none\", \"none\", \"none\", \"completed\", \"none\", \"none\", \"none\", \"none\", \"completed\", \"none\", \"none\", \"completed\", \"none\", \"none\", \"completed\", \"none\", \"none\", \"none\", \"none\", \"none\", \"none\", \"completed\", \"none\", \"none\", \"completed\", \"none\", \"completed\", \"none\", \"none\", \"none\", \"none\", \"completed\", \"none\", \"completed\", \"completed\", \"completed\", \"none\", \"none\", \"none\", \"none\", \"none\", \"none\", \"completed\", \"none\", \"none\", \"none\", \"none\", \"none\", \"completed\", \"none\", \"completed\", \"completed\", \"none\", \"none\", \"none\", \"none\", \"none\", \"completed\", \"none\", \"completed\", \"completed\", \"none\", \"none\", \"completed\", \"none\", \"none\", \"completed\", \"none\", \"completed\", \"none\", \"completed\", \"completed\", \"completed\", \"none\", \"completed\", \"none\", \"completed\", \"none\", \"completed\", \"none\", \"completed\", \"none\", \"none\", \"none\", \"none\", \"none\", \"completed\", \"completed\", \"completed\", \"none\", \"completed\", \"none\", \"none\", \"none\", \"completed\", \"none\", \"none\", \"none\", \"none\", \"none\", \"none\", \"none\", \"completed\", \"none\", \"none\", \"none\", \"completed\", \"none\", \"none\", \"none\", \"completed\", \"none\", \"none\", \"completed\", \"none\", \"none\", \"completed\", \"completed\", \"none\", \"none\", \"none\", \"completed\", \"none\", \"none\", \"none\", \"none\", \"completed\", \"none\", \"none\", \"none\", \"none\", \"completed\", \"none\", \"none\", \"none\", \"completed\", \"none\", \"none\", \"none\", \"completed\", \"completed\", \"none\", \"none\", \"none\", \"none\", \"completed\", \"none\", \"completed\", \"none\", \"none\", \"none\", \"completed\", \"none\", \"none\", \"none\", \"completed\", \"none\", \"none\", \"none\", \"none\", \"none\", \"none\", \"none\", \"none\", \"completed\", \"none\", \"none\", \"completed\", \"completed\", \"none\", \"none\", \"none\", \"none\", \"none\", \"completed\", \"none\", \"none\", \"completed\", \"none\", \"none\", \"completed\", \"none\", \"completed\", \"completed\", \"completed\", \"completed\", \"none\", \"completed\", \"completed\", \"none\", \"completed\", \"none\", \"none\", \"completed\", \"completed\", \"completed\", \"completed\", \"completed\", \"none\", \"none\", \"none\", \"none\", \"none\", \"none\", \"none\", \"none\", \"none\", \"none\", \"none\", \"completed\", \"none\", \"none\", \"none\", \"completed\", \"completed\", \"none\", \"none\", \"none\", \"none\", \"completed\", \"none\", \"completed\", \"none\", \"none\", \"completed\", \"none\", \"none\", \"none\", \"none\", \"none\", \"none\", \"none\", \"none\", \"completed\", \"none\", \"none\", \"none\", \"none\", \"completed\", \"none\", \"none\", \"completed\", \"completed\", \"none\", \"completed\", \"none\", \"completed\", \"none\", \"completed\", \"completed\", \"completed\", \"none\", \"none\", \"none\", \"completed\", \"none\", \"none\", \"none\", \"none\", \"none\", \"none\", \"none\", \"completed\", \"completed\", \"none\", \"none\", \"none\", \"none\", \"none\", \"completed\", \"none\", \"completed\", \"none\", \"none\", \"none\", \"completed\", \"none\", \"completed\", \"none\", \"none\", \"none\", \"none\", \"none\", \"none\", \"none\", \"none\", \"none\", \"completed\", \"completed\", \"completed\", \"none\", \"completed\", \"completed\", \"completed\", \"none\", \"none\", \"none\", \"none\", \"completed\", \"none\", \"completed\", \"none\", \"none\", \"none\", \"completed\", \"none\", \"completed\", \"completed\", \"completed\", \"completed\", \"completed\", \"none\", \"completed\", \"completed\", \"completed\", \"completed\", \"none\", \"none\", \"none\", \"completed\", \"completed\", \"completed\", \"none\", \"none\", \"none\", \"completed\", \"none\", \"none\", \"none\", \"none\", \"completed\", \"none\", \"none\", \"none\", \"completed\", \"none\", \"completed\", \"completed\", \"none\", \"none\", \"completed\", \"completed\", \"none\", \"none\", \"completed\", \"none\", \"none\", \"completed\", \"none\", \"completed\", \"completed\", \"none\", \"completed\", \"none\", \"none\", \"none\", \"none\", \"completed\", \"none\", \"none\", \"none\", \"none\", \"none\", \"none\", \"none\", \"none\", \"none\", \"none\", \"completed\", \"completed\", \"none\", \"none\", \"none\", \"none\", \"none\", \"none\", \"none\", \"none\", \"completed\", \"none\", \"none\", \"none\", \"none\", \"none\", \"completed\", \"none\", \"completed\", \"none\", \"none\", \"none\", \"none\", \"none\", \"none\", \"completed\", \"none\", \"none\", \"completed\", \"completed\", \"none\", \"completed\", \"completed\", \"none\", \"none\", \"completed\", \"none\", \"none\", \"completed\", \"none\", \"none\", \"none\", \"completed\", \"completed\", \"none\", \"none\", \"none\", \"completed\", \"none\", \"completed\", \"none\", \"completed\", \"none\", \"none\", \"none\", \"completed\", \"completed\", \"completed\", \"completed\", \"completed\", \"none\", \"none\", \"none\", \"none\", \"none\", \"none\", \"none\", \"none\", \"none\", \"none\", \"none\", \"completed\", \"completed\", \"none\", \"none\", \"completed\", \"none\", \"none\", \"none\", \"completed\", \"completed\", \"completed\", \"completed\", \"completed\", \"none\", \"none\", \"none\", \"none\", \"none\", \"completed\", \"completed\", \"completed\", \"completed\", \"none\", \"none\", \"none\", \"none\", \"none\", \"completed\", \"none\", \"none\", \"none\", \"completed\", \"none\", \"completed\", \"none\", \"completed\", \"none\", \"completed\", \"none\", \"completed\", \"none\", \"none\", \"none\", \"none\", \"completed\", \"completed\", \"completed\", \"none\", \"none\", \"completed\", \"completed\", \"completed\", \"completed\", \"none\", \"completed\", \"none\", \"completed\", \"completed\", \"none\", \"none\", \"completed\", \"completed\", \"completed\", \"none\", \"none\", \"completed\", \"none\", \"completed\", \"none\", \"none\", \"none\", \"none\", \"completed\", \"none\", \"none\", \"none\", \"none\", \"none\", \"completed\", \"none\", \"none\", \"none\", \"none\", \"none\", \"completed\", \"completed\", \"none\", \"completed\", \"completed\", \"none\", \"none\", \"none\", \"completed\", \"completed\", \"completed\", \"none\", \"none\", \"completed\", \"none\", \"none\", \"none\", \"completed\", \"completed\", \"none\", \"none\", \"none\", \"none\", \"completed\", \"none\", \"none\", \"none\", \"none\", \"none\", \"completed\", \"completed\", \"none\", \"none\", \"completed\", \"completed\", \"completed\", \"completed\", \"none\", \"none\", \"none\", \"none\", \"none\", \"none\", \"none\", \"completed\", \"none\", \"completed\", \"none\", \"none\", \"none\", \"none\", \"completed\", \"completed\", \"none\", \"none\", \"none\", \"none\", \"none\", \"none\", \"none\", \"none\", \"none\", \"none\", \"completed\", \"completed\", \"none\", \"completed\", \"none\", \"completed\", \"none\", \"none\", \"completed\", \"none\", \"completed\", \"none\", \"none\", \"none\", \"completed\", \"none\", \"completed\", \"none\", \"none\", \"completed\", \"none\", \"completed\", \"none\", \"completed\", \"none\", \"completed\", \"completed\", \"none\", \"none\", \"none\", \"completed\", \"completed\", \"completed\", \"none\", \"completed\", \"none\", \"none\", \"none\", \"none\", \"none\", \"none\", \"none\", \"none\", \"none\", \"none\", \"none\", \"completed\", \"none\", \"none\", \"none\", \"completed\", \"completed\", \"none\", \"completed\", \"none\", \"none\", \"completed\", \"none\", \"none\", \"completed\", \"completed\", \"none\", \"none\", \"none\", \"none\", \"none\", \"none\", \"none\", \"completed\", \"completed\", \"none\", \"none\", \"none\", \"completed\", \"completed\", \"none\", \"none\", \"none\", \"completed\", \"none\", \"none\", \"completed\", \"none\", \"none\", \"none\", \"completed\", \"completed\", \"completed\", \"none\", \"none\", \"completed\", \"completed\", \"none\", \"none\", \"none\", \"completed\", \"none\", \"completed\", \"none\", \"none\", \"completed\", \"completed\", \"none\", \"none\", \"completed\", \"none\", \"completed\", \"completed\", \"none\", \"none\", \"none\", \"none\", \"none\", \"completed\", \"none\", \"completed\", \"completed\", \"none\", \"completed\", \"none\", \"completed\", \"completed\", \"completed\", \"none\", \"none\", \"none\", \"completed\", \"completed\", \"completed\", \"none\", \"none\", \"completed\", \"none\", \"none\", \"none\", \"none\", \"completed\", \"completed\", \"none\", \"completed\", \"none\", \"completed\", \"none\", \"none\", \"none\", \"none\", \"none\", \"none\", \"none\", \"none\", \"none\", \"completed\", \"none\", \"none\", \"completed\", \"none\", \"none\", \"none\", \"none\", \"completed\", \"completed\", \"none\", \"none\", \"completed\", \"completed\", \"none\", \"completed\", \"none\", \"none\", \"none\", \"completed\", \"completed\", \"none\", \"none\", \"none\", \"completed\", \"none\", \"completed\", \"completed\", \"completed\", \"none\", \"none\", \"none\", \"completed\", \"none\", \"completed\", \"completed\", \"none\"], \"x0\": \" \", \"xaxis\": \"x\", \"y\": [72, 69, 90, 47, 76, 71, 88, 40, 64, 38, 58, 40, 65, 78, 50, 69, 88, 18, 46, 54, 66, 65, 44, 69, 74, 73, 69, 67, 70, 62, 69, 63, 56, 40, 97, 81, 74, 50, 75, 57, 55, 58, 53, 59, 50, 65, 55, 66, 57, 82, 53, 77, 53, 88, 71, 33, 82, 52, 58, 0, 79, 39, 62, 69, 59, 67, 45, 60, 61, 39, 58, 63, 41, 61, 49, 44, 30, 80, 61, 62, 47, 49, 50, 72, 42, 73, 76, 71, 58, 73, 65, 27, 71, 43, 79, 78, 65, 63, 58, 65, 79, 68, 85, 60, 98, 58, 87, 66, 52, 70, 77, 62, 54, 51, 99, 84, 75, 78, 51, 55, 79, 91, 88, 63, 83, 87, 72, 65, 82, 51, 89, 53, 87, 75, 74, 58, 51, 70, 59, 71, 76, 59, 42, 57, 88, 22, 88, 73, 68, 100, 62, 77, 59, 54, 62, 70, 66, 60, 61, 66, 82, 75, 49, 52, 81, 96, 53, 58, 68, 67, 72, 94, 79, 63, 43, 81, 46, 71, 52, 97, 62, 46, 50, 65, 45, 65, 80, 62, 48, 77, 66, 76, 62, 77, 69, 61, 59, 55, 45, 78, 67, 65, 69, 57, 59, 74, 82, 81, 74, 58, 80, 35, 42, 60, 87, 84, 83, 34, 66, 61, 56, 87, 55, 86, 52, 45, 72, 57, 68, 88, 76, 46, 67, 92, 83, 80, 63, 64, 54, 84, 73, 80, 56, 59, 75, 85, 89, 58, 65, 68, 47, 71, 60, 80, 54, 62, 64, 78, 70, 65, 64, 79, 44, 99, 76, 59, 63, 69, 88, 71, 69, 58, 47, 65, 88, 83, 85, 59, 65, 73, 53, 45, 73, 70, 37, 81, 97, 67, 88, 77, 76, 86, 63, 65, 78, 67, 46, 71, 40, 90, 81, 56, 67, 80, 74, 69, 99, 51, 53, 49, 73, 66, 67, 68, 59, 71, 77, 83, 63, 56, 67, 75, 71, 43, 41, 82, 61, 28, 82, 41, 71, 47, 62, 90, 83, 61, 76, 49, 24, 35, 58, 61, 69, 67, 79, 72, 62, 77, 75, 87, 52, 66, 63, 46, 59, 61, 63, 42, 59, 80, 58, 85, 52, 27, 59, 49, 69, 61, 44, 73, 84, 45, 74, 82, 59, 46, 80, 85, 71, 66, 80, 87, 79, 38, 38, 67, 64, 57, 62, 73, 73, 77, 76, 57, 65, 48, 50, 85, 74, 60, 59, 53, 49, 88, 54, 63, 65, 82, 52, 87, 70, 84, 71, 63, 51, 84, 71, 74, 68, 57, 82, 57, 47, 59, 41, 62, 86, 69, 65, 68, 64, 61, 61, 47, 73, 50, 75, 75, 70, 89, 67, 78, 59, 73, 79, 67, 69, 86, 47, 81, 64, 100, 65, 65, 53, 37, 79, 53, 100, 72, 53, 54, 71, 77, 75, 84, 26, 72, 77, 91, 83, 63, 68, 59, 90, 71, 76, 80, 55, 76, 73, 52, 68, 59, 49, 70, 61, 60, 64, 79, 65, 64, 83, 81, 54, 68, 54, 59, 66, 76, 74, 94, 63, 95, 40, 82, 68, 55, 79, 86, 76, 64, 62, 54, 77, 76, 74, 66, 66, 67, 71, 91, 69, 54, 53, 68, 56, 36, 29, 62, 68, 47, 62, 79, 73, 66, 51, 51, 85, 97, 75, 79, 81, 82, 64, 78, 92, 72, 62, 79, 79, 87, 40, 77, 53, 32, 55, 61, 53, 73, 74, 63, 96, 63, 48, 48, 92, 61, 63, 68, 71, 91, 53, 50, 74, 40, 61, 81, 48, 53, 81, 77, 63, 73, 69, 65, 55, 44, 54, 48, 58, 71, 68, 74, 92, 56, 30, 53, 69, 65, 54, 29, 76, 60, 84, 75, 85, 40, 61, 58, 69, 58, 94, 65, 82, 60, 37, 88, 95, 65, 35, 62, 58, 100, 61, 100, 69, 61, 49, 44, 67, 79, 66, 75, 84, 71, 67, 80, 86, 76, 41, 74, 72, 74, 70, 65, 59, 64, 50, 69, 51, 68, 85, 65, 73, 62, 77, 69, 43, 90, 74, 73, 55, 65, 80, 50, 63, 77, 73, 81, 66, 52, 69, 65, 69, 50, 73, 70, 81, 63, 67, 60, 62, 29, 62, 94, 85, 77, 53, 93, 49, 73, 66, 77, 49, 79, 75, 59, 57, 66, 79, 57, 87, 63, 59, 62, 46, 66, 89, 42, 93, 80, 98, 81, 60, 76, 73, 96, 76, 91, 62, 55, 74, 50, 47, 81, 65, 68, 73, 53, 68, 55, 87, 55, 53, 67, 92, 53, 81, 61, 80, 37, 81, 59, 55, 72, 69, 69, 50, 87, 71, 68, 79, 77, 58, 84, 55, 70, 52, 69, 53, 48, 78, 62, 60, 74, 58, 76, 68, 58, 52, 75, 52, 62, 66, 49, 66, 35, 72, 94, 46, 77, 76, 52, 91, 32, 72, 19, 68, 52, 48, 60, 66, 89, 42, 57, 70, 70, 69, 52, 67, 76, 87, 82, 73, 75, 64, 41, 90, 59, 51, 45, 54, 87, 72, 94, 45, 61, 60, 77, 85, 78, 49, 71, 48, 62, 56, 65, 69, 68, 61, 74, 64, 77, 58, 60, 73, 75, 58, 66, 39, 64, 23, 74, 40, 90, 91, 64, 59, 80, 71, 61, 87, 82, 62, 97, 75, 65, 52, 87, 53, 81, 39, 71, 97, 82, 59, 61, 78, 49, 59, 70, 82, 90, 43, 80, 81, 57, 59, 64, 63, 71, 64, 55, 51, 62, 93, 54, 69, 44, 86, 85, 50, 88, 59, 32, 36, 63, 67, 65, 85, 73, 34, 93, 67, 88, 57, 79, 67, 70, 50, 69, 52, 47, 46, 68, 100, 44, 57, 91, 69, 35, 72, 54, 74, 74, 64, 65, 46, 48, 67, 62, 61, 70, 98, 70, 67, 57, 85, 77, 72, 78, 81, 61, 58, 54, 82, 49, 49, 57, 94, 75, 74, 58, 62, 72, 84, 92, 45, 75, 56, 48, 100, 65, 72, 62, 66, 63, 68, 75, 89, 78, 53, 49, 54, 64, 60, 62, 55, 91, 8, 81, 79, 78, 74, 57, 40, 81, 44, 67, 86, 65, 55, 62, 63, 88, 62, 59, 68, 77], \"y0\": \" \", \"yaxis\": \"y\"}],\n",
              "                        {\"boxmode\": \"group\", \"legend\": {\"tracegroupgap\": 0}, \"margin\": {\"t\": 60}, \"template\": {\"data\": {\"bar\": [{\"error_x\": {\"color\": \"#2a3f5f\"}, \"error_y\": {\"color\": \"#2a3f5f\"}, \"marker\": {\"line\": {\"color\": \"#E5ECF6\", \"width\": 0.5}}, \"type\": \"bar\"}], \"barpolar\": [{\"marker\": {\"line\": {\"color\": \"#E5ECF6\", \"width\": 0.5}}, \"type\": \"barpolar\"}], \"carpet\": [{\"aaxis\": {\"endlinecolor\": \"#2a3f5f\", \"gridcolor\": \"white\", \"linecolor\": \"white\", \"minorgridcolor\": \"white\", \"startlinecolor\": \"#2a3f5f\"}, \"baxis\": {\"endlinecolor\": \"#2a3f5f\", \"gridcolor\": \"white\", \"linecolor\": \"white\", \"minorgridcolor\": \"white\", \"startlinecolor\": \"#2a3f5f\"}, \"type\": \"carpet\"}], \"choropleth\": [{\"colorbar\": {\"outlinewidth\": 0, \"ticks\": \"\"}, \"type\": \"choropleth\"}], \"contour\": [{\"colorbar\": {\"outlinewidth\": 0, \"ticks\": \"\"}, \"colorscale\": [[0.0, \"#0d0887\"], [0.1111111111111111, \"#46039f\"], [0.2222222222222222, \"#7201a8\"], [0.3333333333333333, \"#9c179e\"], [0.4444444444444444, \"#bd3786\"], [0.5555555555555556, \"#d8576b\"], [0.6666666666666666, \"#ed7953\"], [0.7777777777777778, \"#fb9f3a\"], [0.8888888888888888, \"#fdca26\"], [1.0, \"#f0f921\"]], \"type\": \"contour\"}], \"contourcarpet\": [{\"colorbar\": {\"outlinewidth\": 0, \"ticks\": \"\"}, \"type\": \"contourcarpet\"}], \"heatmap\": [{\"colorbar\": {\"outlinewidth\": 0, \"ticks\": \"\"}, \"colorscale\": [[0.0, \"#0d0887\"], [0.1111111111111111, \"#46039f\"], [0.2222222222222222, \"#7201a8\"], [0.3333333333333333, \"#9c179e\"], [0.4444444444444444, \"#bd3786\"], [0.5555555555555556, \"#d8576b\"], [0.6666666666666666, \"#ed7953\"], [0.7777777777777778, \"#fb9f3a\"], [0.8888888888888888, \"#fdca26\"], [1.0, \"#f0f921\"]], \"type\": \"heatmap\"}], \"heatmapgl\": [{\"colorbar\": {\"outlinewidth\": 0, \"ticks\": \"\"}, \"colorscale\": [[0.0, \"#0d0887\"], [0.1111111111111111, \"#46039f\"], [0.2222222222222222, \"#7201a8\"], [0.3333333333333333, \"#9c179e\"], [0.4444444444444444, \"#bd3786\"], [0.5555555555555556, \"#d8576b\"], [0.6666666666666666, \"#ed7953\"], [0.7777777777777778, \"#fb9f3a\"], [0.8888888888888888, \"#fdca26\"], [1.0, \"#f0f921\"]], \"type\": \"heatmapgl\"}], \"histogram\": [{\"marker\": {\"colorbar\": {\"outlinewidth\": 0, \"ticks\": \"\"}}, \"type\": \"histogram\"}], \"histogram2d\": [{\"colorbar\": {\"outlinewidth\": 0, \"ticks\": \"\"}, \"colorscale\": [[0.0, \"#0d0887\"], [0.1111111111111111, \"#46039f\"], [0.2222222222222222, \"#7201a8\"], [0.3333333333333333, \"#9c179e\"], [0.4444444444444444, \"#bd3786\"], [0.5555555555555556, \"#d8576b\"], [0.6666666666666666, \"#ed7953\"], [0.7777777777777778, \"#fb9f3a\"], [0.8888888888888888, \"#fdca26\"], [1.0, \"#f0f921\"]], \"type\": \"histogram2d\"}], \"histogram2dcontour\": [{\"colorbar\": {\"outlinewidth\": 0, \"ticks\": \"\"}, \"colorscale\": [[0.0, \"#0d0887\"], [0.1111111111111111, \"#46039f\"], [0.2222222222222222, \"#7201a8\"], [0.3333333333333333, \"#9c179e\"], [0.4444444444444444, \"#bd3786\"], [0.5555555555555556, \"#d8576b\"], [0.6666666666666666, \"#ed7953\"], [0.7777777777777778, \"#fb9f3a\"], [0.8888888888888888, \"#fdca26\"], [1.0, \"#f0f921\"]], \"type\": \"histogram2dcontour\"}], \"mesh3d\": [{\"colorbar\": {\"outlinewidth\": 0, \"ticks\": \"\"}, \"type\": \"mesh3d\"}], \"parcoords\": [{\"line\": {\"colorbar\": {\"outlinewidth\": 0, \"ticks\": \"\"}}, \"type\": \"parcoords\"}], \"pie\": [{\"automargin\": true, \"type\": \"pie\"}], \"scatter\": [{\"marker\": {\"colorbar\": {\"outlinewidth\": 0, \"ticks\": \"\"}}, \"type\": \"scatter\"}], \"scatter3d\": [{\"line\": {\"colorbar\": {\"outlinewidth\": 0, \"ticks\": \"\"}}, \"marker\": {\"colorbar\": {\"outlinewidth\": 0, \"ticks\": \"\"}}, \"type\": \"scatter3d\"}], \"scattercarpet\": [{\"marker\": {\"colorbar\": {\"outlinewidth\": 0, \"ticks\": \"\"}}, \"type\": \"scattercarpet\"}], \"scattergeo\": [{\"marker\": {\"colorbar\": {\"outlinewidth\": 0, \"ticks\": \"\"}}, \"type\": \"scattergeo\"}], \"scattergl\": [{\"marker\": {\"colorbar\": {\"outlinewidth\": 0, \"ticks\": \"\"}}, \"type\": \"scattergl\"}], \"scattermapbox\": [{\"marker\": {\"colorbar\": {\"outlinewidth\": 0, \"ticks\": \"\"}}, \"type\": \"scattermapbox\"}], \"scatterpolar\": [{\"marker\": {\"colorbar\": {\"outlinewidth\": 0, \"ticks\": \"\"}}, \"type\": \"scatterpolar\"}], \"scatterpolargl\": [{\"marker\": {\"colorbar\": {\"outlinewidth\": 0, \"ticks\": \"\"}}, \"type\": \"scatterpolargl\"}], \"scatterternary\": [{\"marker\": {\"colorbar\": {\"outlinewidth\": 0, \"ticks\": \"\"}}, \"type\": \"scatterternary\"}], \"surface\": [{\"colorbar\": {\"outlinewidth\": 0, \"ticks\": \"\"}, \"colorscale\": [[0.0, \"#0d0887\"], [0.1111111111111111, \"#46039f\"], [0.2222222222222222, \"#7201a8\"], [0.3333333333333333, \"#9c179e\"], [0.4444444444444444, \"#bd3786\"], [0.5555555555555556, \"#d8576b\"], [0.6666666666666666, \"#ed7953\"], [0.7777777777777778, \"#fb9f3a\"], [0.8888888888888888, \"#fdca26\"], [1.0, \"#f0f921\"]], \"type\": \"surface\"}], \"table\": [{\"cells\": {\"fill\": {\"color\": \"#EBF0F8\"}, \"line\": {\"color\": \"white\"}}, \"header\": {\"fill\": {\"color\": \"#C8D4E3\"}, \"line\": {\"color\": \"white\"}}, \"type\": \"table\"}]}, \"layout\": {\"annotationdefaults\": {\"arrowcolor\": \"#2a3f5f\", \"arrowhead\": 0, \"arrowwidth\": 1}, \"coloraxis\": {\"colorbar\": {\"outlinewidth\": 0, \"ticks\": \"\"}}, \"colorscale\": {\"diverging\": [[0, \"#8e0152\"], [0.1, \"#c51b7d\"], [0.2, \"#de77ae\"], [0.3, \"#f1b6da\"], [0.4, \"#fde0ef\"], [0.5, \"#f7f7f7\"], [0.6, \"#e6f5d0\"], [0.7, \"#b8e186\"], [0.8, \"#7fbc41\"], [0.9, \"#4d9221\"], [1, \"#276419\"]], \"sequential\": [[0.0, \"#0d0887\"], [0.1111111111111111, \"#46039f\"], [0.2222222222222222, \"#7201a8\"], [0.3333333333333333, \"#9c179e\"], [0.4444444444444444, \"#bd3786\"], [0.5555555555555556, \"#d8576b\"], [0.6666666666666666, \"#ed7953\"], [0.7777777777777778, \"#fb9f3a\"], [0.8888888888888888, \"#fdca26\"], [1.0, \"#f0f921\"]], \"sequentialminus\": [[0.0, \"#0d0887\"], [0.1111111111111111, \"#46039f\"], [0.2222222222222222, \"#7201a8\"], [0.3333333333333333, \"#9c179e\"], [0.4444444444444444, \"#bd3786\"], [0.5555555555555556, \"#d8576b\"], [0.6666666666666666, \"#ed7953\"], [0.7777777777777778, \"#fb9f3a\"], [0.8888888888888888, \"#fdca26\"], [1.0, \"#f0f921\"]]}, \"colorway\": [\"#636efa\", \"#EF553B\", \"#00cc96\", \"#ab63fa\", \"#FFA15A\", \"#19d3f3\", \"#FF6692\", \"#B6E880\", \"#FF97FF\", \"#FECB52\"], \"font\": {\"color\": \"#2a3f5f\"}, \"geo\": {\"bgcolor\": \"white\", \"lakecolor\": \"white\", \"landcolor\": \"#E5ECF6\", \"showlakes\": true, \"showland\": true, \"subunitcolor\": \"white\"}, \"hoverlabel\": {\"align\": \"left\"}, \"hovermode\": \"closest\", \"mapbox\": {\"style\": \"light\"}, \"paper_bgcolor\": \"white\", \"plot_bgcolor\": \"#E5ECF6\", \"polar\": {\"angularaxis\": {\"gridcolor\": \"white\", \"linecolor\": \"white\", \"ticks\": \"\"}, \"bgcolor\": \"#E5ECF6\", \"radialaxis\": {\"gridcolor\": \"white\", \"linecolor\": \"white\", \"ticks\": \"\"}}, \"scene\": {\"xaxis\": {\"backgroundcolor\": \"#E5ECF6\", \"gridcolor\": \"white\", \"gridwidth\": 2, \"linecolor\": \"white\", \"showbackground\": true, \"ticks\": \"\", \"zerolinecolor\": \"white\"}, \"yaxis\": {\"backgroundcolor\": \"#E5ECF6\", \"gridcolor\": \"white\", \"gridwidth\": 2, \"linecolor\": \"white\", \"showbackground\": true, \"ticks\": \"\", \"zerolinecolor\": \"white\"}, \"zaxis\": {\"backgroundcolor\": \"#E5ECF6\", \"gridcolor\": \"white\", \"gridwidth\": 2, \"linecolor\": \"white\", \"showbackground\": true, \"ticks\": \"\", \"zerolinecolor\": \"white\"}}, \"shapedefaults\": {\"line\": {\"color\": \"#2a3f5f\"}}, \"ternary\": {\"aaxis\": {\"gridcolor\": \"white\", \"linecolor\": \"white\", \"ticks\": \"\"}, \"baxis\": {\"gridcolor\": \"white\", \"linecolor\": \"white\", \"ticks\": \"\"}, \"bgcolor\": \"#E5ECF6\", \"caxis\": {\"gridcolor\": \"white\", \"linecolor\": \"white\", \"ticks\": \"\"}}, \"title\": {\"x\": 0.05}, \"xaxis\": {\"automargin\": true, \"gridcolor\": \"white\", \"linecolor\": \"white\", \"ticks\": \"\", \"title\": {\"standoff\": 15}, \"zerolinecolor\": \"white\", \"zerolinewidth\": 2}, \"yaxis\": {\"automargin\": true, \"gridcolor\": \"white\", \"linecolor\": \"white\", \"ticks\": \"\", \"title\": {\"standoff\": 15}, \"zerolinecolor\": \"white\", \"zerolinewidth\": 2}}}, \"xaxis\": {\"anchor\": \"y\", \"domain\": [0.0, 1.0], \"title\": {\"text\": \"test preparation course\"}}, \"yaxis\": {\"anchor\": \"x\", \"domain\": [0.0, 1.0], \"title\": {\"text\": \"math score\"}}},\n",
              "                        {\"responsive\": true}\n",
              "                    ).then(function(){\n",
              "                            \n",
              "var gd = document.getElementById('f4dea472-eeeb-4d61-ad0d-a4fd23b6eac5');\n",
              "var x = new MutationObserver(function (mutations, observer) {{\n",
              "        var display = window.getComputedStyle(gd).display;\n",
              "        if (!display || display === 'none') {{\n",
              "            console.log([gd, 'removed!']);\n",
              "            Plotly.purge(gd);\n",
              "            observer.disconnect();\n",
              "        }}\n",
              "}});\n",
              "\n",
              "// Listen for the removal of the full notebook cells\n",
              "var notebookContainer = gd.closest('#notebook-container');\n",
              "if (notebookContainer) {{\n",
              "    x.observe(notebookContainer, {childList: true});\n",
              "}}\n",
              "\n",
              "// Listen for the clearing of the current output cell\n",
              "var outputEl = gd.closest('.output');\n",
              "if (outputEl) {{\n",
              "    x.observe(outputEl, {childList: true});\n",
              "}}\n",
              "\n",
              "                        })\n",
              "                };\n",
              "                \n",
              "            </script>\n",
              "        </div>\n",
              "</body>\n",
              "</html>"
            ]
          },
          "metadata": {}
        },
        {
          "output_type": "display_data",
          "data": {
            "text/html": [
              "<html>\n",
              "<head><meta charset=\"utf-8\" /></head>\n",
              "<body>\n",
              "    <div>\n",
              "            <script src=\"https://cdnjs.cloudflare.com/ajax/libs/mathjax/2.7.5/MathJax.js?config=TeX-AMS-MML_SVG\"></script><script type=\"text/javascript\">if (window.MathJax) {MathJax.Hub.Config({SVG: {font: \"STIX-Web\"}});}</script>\n",
              "                <script type=\"text/javascript\">window.PlotlyConfig = {MathJaxConfig: 'local'};</script>\n",
              "        <script src=\"https://cdn.plot.ly/plotly-latest.min.js\"></script>    \n",
              "            <div id=\"ac69fc21-bafb-4db5-9e04-f97d2b229bc7\" class=\"plotly-graph-div\" style=\"height:525px; width:100%;\"></div>\n",
              "            <script type=\"text/javascript\">\n",
              "                \n",
              "                    window.PLOTLYENV=window.PLOTLYENV || {};\n",
              "                    \n",
              "                if (document.getElementById(\"ac69fc21-bafb-4db5-9e04-f97d2b229bc7\")) {\n",
              "                    Plotly.newPlot(\n",
              "                        'ac69fc21-bafb-4db5-9e04-f97d2b229bc7',\n",
              "                        [{\"alignmentgroup\": \"True\", \"bingroup\": \"x\", \"hoverlabel\": {\"namelength\": 0}, \"hovertemplate\": \"test preparation course=none<br>math score=%{x}<br>count=%{y}\", \"legendgroup\": \"test preparation course=none\", \"marker\": {\"color\": \"#636efa\"}, \"name\": \"test preparation course=none\", \"offsetgroup\": \"test preparation course=none\", \"orientation\": \"v\", \"showlegend\": true, \"type\": \"histogram\", \"x\": [72, 90, 47, 76, 71, 40, 38, 58, 40, 65, 50, 69, 88, 18, 54, 66, 44, 69, 73, 69, 67, 70, 62, 69, 63, 56, 40, 97, 74, 50, 57, 55, 58, 53, 50, 65, 66, 53, 53, 88, 33, 52, 0, 39, 62, 69, 59, 67, 45, 60, 61, 39, 41, 61, 49, 44, 30, 62, 47, 49, 72, 42, 73, 76, 71, 58, 73, 65, 27, 71, 79, 58, 65, 79, 85, 58, 87, 52, 70, 62, 54, 51, 84, 75, 78, 51, 55, 63, 83, 87, 72, 82, 51, 89, 58, 70, 59, 76, 59, 57, 88, 22, 88, 73, 77, 54, 62, 60, 66, 49, 52, 81, 94, 79, 63, 46, 50, 65, 80, 48, 77, 66, 62, 61, 55, 45, 78, 65, 69, 57, 59, 82, 74, 58, 35, 42, 34, 66, 87, 55, 86, 45, 72, 57, 68, 76, 46, 67, 92, 80, 63, 54, 84, 80, 56, 59, 75, 85, 89, 65, 68, 71, 80, 54, 62, 64, 70, 44, 99, 76, 59, 63, 69, 71, 69, 58, 47, 65, 83, 65, 73, 53, 45, 73, 37, 67, 88, 76, 86, 65, 67, 90, 56, 80, 69, 51, 53, 49, 73, 66, 71, 83, 63, 56, 75, 71, 43, 41, 82, 61, 28, 41, 71, 47, 90, 83, 61, 49, 24, 58, 61, 79, 72, 62, 75, 87, 52, 66, 46, 59, 61, 63, 59, 80, 58, 52, 27, 59, 61, 44, 73, 84, 74, 59, 46, 80, 71, 66, 80, 79, 38, 38, 67, 64, 57, 62, 73, 77, 76, 48, 50, 85, 74, 60, 53, 49, 54, 63, 82, 71, 84, 74, 68, 41, 62, 86, 69, 65, 68, 64, 61, 61, 47, 73, 75, 75, 70, 78, 59, 73, 79, 69, 47, 81, 100, 65, 65, 53, 37, 79, 53, 100, 53, 54, 71, 77, 84, 26, 91, 63, 59, 80, 55, 76, 52, 68, 59, 49, 70, 61, 60, 65, 64, 83, 81, 54, 54, 66, 76, 74, 63, 40, 82, 68, 55, 79, 86, 76, 64, 62, 74, 71, 91, 69, 54, 68, 36, 29, 62, 47, 51, 81, 82, 64, 62, 79, 79, 40, 77, 53, 32, 61, 53, 73, 63, 48, 48, 63, 68, 91, 53, 74, 81, 53, 81, 77, 63, 69, 65, 55, 44, 54, 48, 58, 71, 68, 74, 30, 53, 69, 65, 54, 29, 76, 60, 75, 85, 40, 61, 58, 58, 65, 82, 60, 37, 88, 95, 35, 62, 61, 61, 49, 67, 79, 75, 84, 71, 86, 76, 41, 72, 70, 59, 64, 50, 73, 62, 77, 69, 43, 90, 74, 73, 55, 65, 80, 77, 73, 66, 52, 69, 81, 63, 67, 60, 62, 77, 53, 93, 49, 73, 77, 49, 79, 59, 66, 57, 63, 62, 46, 66, 89, 98, 81, 76, 62, 50, 47, 73, 53, 55, 55, 53, 67, 92, 81, 61, 80, 37, 81, 55, 72, 69, 69, 50, 68, 58, 84, 55, 53, 48, 62, 60, 74, 68, 58, 52, 75, 62, 66, 49, 66, 35, 46, 77, 72, 19, 68, 52, 48, 60, 66, 42, 70, 70, 69, 52, 87, 82, 73, 75, 64, 41, 90, 59, 51, 45, 72, 45, 60, 77, 78, 71, 48, 62, 65, 68, 61, 64, 58, 73, 66, 39, 64, 90, 64, 59, 80, 71, 61, 87, 82, 62, 97, 75, 65, 87, 53, 81, 97, 59, 61, 49, 59, 90, 43, 80, 81, 57, 59, 64, 64, 55, 51, 54, 69, 44, 85, 50, 59, 32, 36, 85, 73, 67, 88, 57, 67, 50, 69, 46, 68, 44, 69, 35, 72, 54, 74, 64, 48, 62, 70, 67, 57, 78, 81, 58, 54, 82, 49, 94, 74, 62, 72, 84, 92, 45, 75, 56, 48, 100, 72, 62, 63, 68, 75, 89, 49, 54, 62, 91, 8, 81, 74, 57, 40, 44, 55, 62, 63, 62, 77], \"xaxis\": \"x\", \"yaxis\": \"y\"}, {\"alignmentgroup\": \"True\", \"bingroup\": \"x\", \"hoverlabel\": {\"namelength\": 0}, \"hovertemplate\": \"test preparation course=completed<br>math score=%{x}<br>count=%{y}\", \"legendgroup\": \"test preparation course=completed\", \"marker\": {\"color\": \"#EF553B\"}, \"name\": \"test preparation course=completed\", \"offsetgroup\": \"test preparation course=completed\", \"orientation\": \"v\", \"showlegend\": true, \"type\": \"histogram\", \"x\": [69, 88, 64, 78, 46, 65, 74, 81, 75, 59, 55, 57, 82, 77, 71, 82, 58, 79, 58, 63, 80, 61, 50, 43, 78, 65, 63, 68, 60, 98, 66, 77, 99, 79, 91, 88, 65, 53, 87, 75, 74, 51, 71, 42, 68, 100, 62, 59, 70, 66, 61, 82, 75, 96, 53, 58, 68, 67, 72, 43, 81, 46, 71, 52, 97, 62, 45, 65, 62, 76, 77, 69, 59, 67, 74, 81, 80, 60, 87, 84, 83, 61, 56, 52, 88, 83, 64, 73, 58, 47, 60, 78, 65, 64, 79, 88, 88, 85, 59, 70, 81, 97, 77, 63, 78, 46, 71, 40, 81, 67, 74, 99, 67, 68, 59, 77, 67, 82, 62, 76, 35, 69, 67, 77, 63, 42, 85, 49, 69, 45, 82, 85, 87, 73, 57, 65, 59, 88, 65, 52, 87, 70, 84, 63, 51, 71, 57, 82, 57, 47, 59, 50, 89, 67, 67, 86, 64, 72, 75, 72, 77, 83, 68, 90, 71, 76, 73, 64, 79, 68, 59, 94, 95, 54, 77, 76, 66, 66, 67, 53, 56, 68, 62, 79, 73, 66, 51, 85, 97, 75, 79, 78, 92, 72, 87, 55, 74, 96, 63, 92, 61, 71, 50, 40, 61, 48, 73, 92, 56, 84, 69, 94, 65, 58, 100, 100, 69, 44, 66, 67, 80, 74, 74, 65, 69, 51, 68, 85, 65, 50, 63, 81, 65, 69, 50, 73, 70, 29, 62, 94, 85, 66, 75, 57, 79, 87, 59, 42, 93, 80, 60, 76, 73, 96, 91, 55, 74, 81, 65, 68, 68, 87, 53, 59, 87, 71, 79, 77, 70, 52, 69, 78, 58, 76, 52, 72, 94, 76, 52, 91, 32, 89, 57, 67, 76, 54, 87, 94, 61, 85, 49, 56, 69, 74, 77, 60, 75, 58, 23, 74, 40, 91, 52, 39, 71, 82, 78, 70, 82, 63, 71, 62, 93, 86, 88, 63, 67, 65, 34, 93, 79, 70, 52, 47, 100, 57, 91, 74, 65, 46, 67, 61, 70, 98, 85, 77, 72, 61, 49, 57, 75, 58, 65, 66, 78, 53, 64, 60, 55, 79, 78, 81, 67, 86, 65, 88, 59, 68], \"xaxis\": \"x\", \"yaxis\": \"y\"}],\n",
              "                        {\"barmode\": \"relative\", \"legend\": {\"tracegroupgap\": 0}, \"template\": {\"data\": {\"bar\": [{\"error_x\": {\"color\": \"#2a3f5f\"}, \"error_y\": {\"color\": \"#2a3f5f\"}, \"marker\": {\"line\": {\"color\": \"#E5ECF6\", \"width\": 0.5}}, \"type\": \"bar\"}], \"barpolar\": [{\"marker\": {\"line\": {\"color\": \"#E5ECF6\", \"width\": 0.5}}, \"type\": \"barpolar\"}], \"carpet\": [{\"aaxis\": {\"endlinecolor\": \"#2a3f5f\", \"gridcolor\": \"white\", \"linecolor\": \"white\", \"minorgridcolor\": \"white\", \"startlinecolor\": \"#2a3f5f\"}, \"baxis\": {\"endlinecolor\": \"#2a3f5f\", \"gridcolor\": \"white\", \"linecolor\": \"white\", \"minorgridcolor\": \"white\", \"startlinecolor\": \"#2a3f5f\"}, \"type\": \"carpet\"}], \"choropleth\": [{\"colorbar\": {\"outlinewidth\": 0, \"ticks\": \"\"}, \"type\": \"choropleth\"}], \"contour\": [{\"colorbar\": {\"outlinewidth\": 0, \"ticks\": \"\"}, \"colorscale\": [[0.0, \"#0d0887\"], [0.1111111111111111, \"#46039f\"], [0.2222222222222222, \"#7201a8\"], [0.3333333333333333, \"#9c179e\"], [0.4444444444444444, \"#bd3786\"], [0.5555555555555556, \"#d8576b\"], [0.6666666666666666, \"#ed7953\"], [0.7777777777777778, \"#fb9f3a\"], [0.8888888888888888, \"#fdca26\"], [1.0, \"#f0f921\"]], \"type\": \"contour\"}], \"contourcarpet\": [{\"colorbar\": {\"outlinewidth\": 0, \"ticks\": \"\"}, \"type\": \"contourcarpet\"}], \"heatmap\": [{\"colorbar\": {\"outlinewidth\": 0, \"ticks\": \"\"}, \"colorscale\": [[0.0, \"#0d0887\"], [0.1111111111111111, \"#46039f\"], [0.2222222222222222, \"#7201a8\"], [0.3333333333333333, \"#9c179e\"], [0.4444444444444444, \"#bd3786\"], [0.5555555555555556, \"#d8576b\"], [0.6666666666666666, \"#ed7953\"], [0.7777777777777778, \"#fb9f3a\"], [0.8888888888888888, \"#fdca26\"], [1.0, \"#f0f921\"]], \"type\": \"heatmap\"}], \"heatmapgl\": [{\"colorbar\": {\"outlinewidth\": 0, \"ticks\": \"\"}, \"colorscale\": [[0.0, \"#0d0887\"], [0.1111111111111111, \"#46039f\"], [0.2222222222222222, \"#7201a8\"], [0.3333333333333333, \"#9c179e\"], [0.4444444444444444, \"#bd3786\"], [0.5555555555555556, \"#d8576b\"], [0.6666666666666666, \"#ed7953\"], [0.7777777777777778, \"#fb9f3a\"], [0.8888888888888888, \"#fdca26\"], [1.0, \"#f0f921\"]], \"type\": \"heatmapgl\"}], \"histogram\": [{\"marker\": {\"colorbar\": {\"outlinewidth\": 0, \"ticks\": \"\"}}, \"type\": \"histogram\"}], \"histogram2d\": [{\"colorbar\": {\"outlinewidth\": 0, \"ticks\": \"\"}, \"colorscale\": [[0.0, \"#0d0887\"], [0.1111111111111111, \"#46039f\"], [0.2222222222222222, \"#7201a8\"], [0.3333333333333333, \"#9c179e\"], [0.4444444444444444, \"#bd3786\"], [0.5555555555555556, \"#d8576b\"], [0.6666666666666666, \"#ed7953\"], [0.7777777777777778, \"#fb9f3a\"], [0.8888888888888888, \"#fdca26\"], [1.0, \"#f0f921\"]], \"type\": \"histogram2d\"}], \"histogram2dcontour\": [{\"colorbar\": {\"outlinewidth\": 0, \"ticks\": \"\"}, \"colorscale\": [[0.0, \"#0d0887\"], [0.1111111111111111, \"#46039f\"], [0.2222222222222222, \"#7201a8\"], [0.3333333333333333, \"#9c179e\"], [0.4444444444444444, \"#bd3786\"], [0.5555555555555556, \"#d8576b\"], [0.6666666666666666, \"#ed7953\"], [0.7777777777777778, \"#fb9f3a\"], [0.8888888888888888, \"#fdca26\"], [1.0, \"#f0f921\"]], \"type\": \"histogram2dcontour\"}], \"mesh3d\": [{\"colorbar\": {\"outlinewidth\": 0, \"ticks\": \"\"}, \"type\": \"mesh3d\"}], \"parcoords\": [{\"line\": {\"colorbar\": {\"outlinewidth\": 0, \"ticks\": \"\"}}, \"type\": \"parcoords\"}], \"pie\": [{\"automargin\": true, \"type\": \"pie\"}], \"scatter\": [{\"marker\": {\"colorbar\": {\"outlinewidth\": 0, \"ticks\": \"\"}}, \"type\": \"scatter\"}], \"scatter3d\": [{\"line\": {\"colorbar\": {\"outlinewidth\": 0, \"ticks\": \"\"}}, \"marker\": {\"colorbar\": {\"outlinewidth\": 0, \"ticks\": \"\"}}, \"type\": \"scatter3d\"}], \"scattercarpet\": [{\"marker\": {\"colorbar\": {\"outlinewidth\": 0, \"ticks\": \"\"}}, \"type\": \"scattercarpet\"}], \"scattergeo\": [{\"marker\": {\"colorbar\": {\"outlinewidth\": 0, \"ticks\": \"\"}}, \"type\": \"scattergeo\"}], \"scattergl\": [{\"marker\": {\"colorbar\": {\"outlinewidth\": 0, \"ticks\": \"\"}}, \"type\": \"scattergl\"}], \"scattermapbox\": [{\"marker\": {\"colorbar\": {\"outlinewidth\": 0, \"ticks\": \"\"}}, \"type\": \"scattermapbox\"}], \"scatterpolar\": [{\"marker\": {\"colorbar\": {\"outlinewidth\": 0, \"ticks\": \"\"}}, \"type\": \"scatterpolar\"}], \"scatterpolargl\": [{\"marker\": {\"colorbar\": {\"outlinewidth\": 0, \"ticks\": \"\"}}, \"type\": \"scatterpolargl\"}], \"scatterternary\": [{\"marker\": {\"colorbar\": {\"outlinewidth\": 0, \"ticks\": \"\"}}, \"type\": \"scatterternary\"}], \"surface\": [{\"colorbar\": {\"outlinewidth\": 0, \"ticks\": \"\"}, \"colorscale\": [[0.0, \"#0d0887\"], [0.1111111111111111, \"#46039f\"], [0.2222222222222222, \"#7201a8\"], [0.3333333333333333, \"#9c179e\"], [0.4444444444444444, \"#bd3786\"], [0.5555555555555556, \"#d8576b\"], [0.6666666666666666, \"#ed7953\"], [0.7777777777777778, \"#fb9f3a\"], [0.8888888888888888, \"#fdca26\"], [1.0, \"#f0f921\"]], \"type\": \"surface\"}], \"table\": [{\"cells\": {\"fill\": {\"color\": \"#EBF0F8\"}, \"line\": {\"color\": \"white\"}}, \"header\": {\"fill\": {\"color\": \"#C8D4E3\"}, \"line\": {\"color\": \"white\"}}, \"type\": \"table\"}]}, \"layout\": {\"annotationdefaults\": {\"arrowcolor\": \"#2a3f5f\", \"arrowhead\": 0, \"arrowwidth\": 1}, \"coloraxis\": {\"colorbar\": {\"outlinewidth\": 0, \"ticks\": \"\"}}, \"colorscale\": {\"diverging\": [[0, \"#8e0152\"], [0.1, \"#c51b7d\"], [0.2, \"#de77ae\"], [0.3, \"#f1b6da\"], [0.4, \"#fde0ef\"], [0.5, \"#f7f7f7\"], [0.6, \"#e6f5d0\"], [0.7, \"#b8e186\"], [0.8, \"#7fbc41\"], [0.9, \"#4d9221\"], [1, \"#276419\"]], \"sequential\": [[0.0, \"#0d0887\"], [0.1111111111111111, \"#46039f\"], [0.2222222222222222, \"#7201a8\"], [0.3333333333333333, \"#9c179e\"], [0.4444444444444444, \"#bd3786\"], [0.5555555555555556, \"#d8576b\"], [0.6666666666666666, \"#ed7953\"], [0.7777777777777778, \"#fb9f3a\"], [0.8888888888888888, \"#fdca26\"], [1.0, \"#f0f921\"]], \"sequentialminus\": [[0.0, \"#0d0887\"], [0.1111111111111111, \"#46039f\"], [0.2222222222222222, \"#7201a8\"], [0.3333333333333333, \"#9c179e\"], [0.4444444444444444, \"#bd3786\"], [0.5555555555555556, \"#d8576b\"], [0.6666666666666666, \"#ed7953\"], [0.7777777777777778, \"#fb9f3a\"], [0.8888888888888888, \"#fdca26\"], [1.0, \"#f0f921\"]]}, \"colorway\": [\"#636efa\", \"#EF553B\", \"#00cc96\", \"#ab63fa\", \"#FFA15A\", \"#19d3f3\", \"#FF6692\", \"#B6E880\", \"#FF97FF\", \"#FECB52\"], \"font\": {\"color\": \"#2a3f5f\"}, \"geo\": {\"bgcolor\": \"white\", \"lakecolor\": \"white\", \"landcolor\": \"#E5ECF6\", \"showlakes\": true, \"showland\": true, \"subunitcolor\": \"white\"}, \"hoverlabel\": {\"align\": \"left\"}, \"hovermode\": \"closest\", \"mapbox\": {\"style\": \"light\"}, \"paper_bgcolor\": \"white\", \"plot_bgcolor\": \"#E5ECF6\", \"polar\": {\"angularaxis\": {\"gridcolor\": \"white\", \"linecolor\": \"white\", \"ticks\": \"\"}, \"bgcolor\": \"#E5ECF6\", \"radialaxis\": {\"gridcolor\": \"white\", \"linecolor\": \"white\", \"ticks\": \"\"}}, \"scene\": {\"xaxis\": {\"backgroundcolor\": \"#E5ECF6\", \"gridcolor\": \"white\", \"gridwidth\": 2, \"linecolor\": \"white\", \"showbackground\": true, \"ticks\": \"\", \"zerolinecolor\": \"white\"}, \"yaxis\": {\"backgroundcolor\": \"#E5ECF6\", \"gridcolor\": \"white\", \"gridwidth\": 2, \"linecolor\": \"white\", \"showbackground\": true, \"ticks\": \"\", \"zerolinecolor\": \"white\"}, \"zaxis\": {\"backgroundcolor\": \"#E5ECF6\", \"gridcolor\": \"white\", \"gridwidth\": 2, \"linecolor\": \"white\", \"showbackground\": true, \"ticks\": \"\", \"zerolinecolor\": \"white\"}}, \"shapedefaults\": {\"line\": {\"color\": \"#2a3f5f\"}}, \"ternary\": {\"aaxis\": {\"gridcolor\": \"white\", \"linecolor\": \"white\", \"ticks\": \"\"}, \"baxis\": {\"gridcolor\": \"white\", \"linecolor\": \"white\", \"ticks\": \"\"}, \"bgcolor\": \"#E5ECF6\", \"caxis\": {\"gridcolor\": \"white\", \"linecolor\": \"white\", \"ticks\": \"\"}}, \"title\": {\"x\": 0.05}, \"xaxis\": {\"automargin\": true, \"gridcolor\": \"white\", \"linecolor\": \"white\", \"ticks\": \"\", \"title\": {\"standoff\": 15}, \"zerolinecolor\": \"white\", \"zerolinewidth\": 2}, \"yaxis\": {\"automargin\": true, \"gridcolor\": \"white\", \"linecolor\": \"white\", \"ticks\": \"\", \"title\": {\"standoff\": 15}, \"zerolinecolor\": \"white\", \"zerolinewidth\": 2}}}, \"title\": {\"text\": \"<b>test preparation course vs math score</b>\"}, \"xaxis\": {\"anchor\": \"y\", \"domain\": [0.0, 1.0], \"title\": {\"text\": \"math score\"}}, \"yaxis\": {\"anchor\": \"x\", \"domain\": [0.0, 1.0], \"title\": {\"text\": \"count\"}}},\n",
              "                        {\"responsive\": true}\n",
              "                    ).then(function(){\n",
              "                            \n",
              "var gd = document.getElementById('ac69fc21-bafb-4db5-9e04-f97d2b229bc7');\n",
              "var x = new MutationObserver(function (mutations, observer) {{\n",
              "        var display = window.getComputedStyle(gd).display;\n",
              "        if (!display || display === 'none') {{\n",
              "            console.log([gd, 'removed!']);\n",
              "            Plotly.purge(gd);\n",
              "            observer.disconnect();\n",
              "        }}\n",
              "}});\n",
              "\n",
              "// Listen for the removal of the full notebook cells\n",
              "var notebookContainer = gd.closest('#notebook-container');\n",
              "if (notebookContainer) {{\n",
              "    x.observe(notebookContainer, {childList: true});\n",
              "}}\n",
              "\n",
              "// Listen for the clearing of the current output cell\n",
              "var outputEl = gd.closest('.output');\n",
              "if (outputEl) {{\n",
              "    x.observe(outputEl, {childList: true});\n",
              "}}\n",
              "\n",
              "                        })\n",
              "                };\n",
              "                \n",
              "            </script>\n",
              "        </div>\n",
              "</body>\n",
              "</html>"
            ]
          },
          "metadata": {}
        }
      ],
      "source": [
        "fig = px.box(df, x=\"test preparation course\", y=\"math score\")\n",
        "fig.show()\n",
        "\n",
        "\n",
        "fig = px.histogram(data_frame = df,\n",
        "             x ='math score',\n",
        "             color=\"test preparation course\", title=\"<b>test preparation course vs math score</b>\",   \n",
        ")\n",
        "fig.show()"
      ]
    },
    {
      "cell_type": "markdown",
      "metadata": {
        "id": "hSp0dguOBfiW"
      },
      "source": [
        "### we can see a higher interquartile range of people who took the course than people who didn't in math scores which indicates improved math scores for people who took the course"
      ]
    },
    {
      "cell_type": "markdown",
      "metadata": {
        "id": "u6xRnrjPBfiX"
      },
      "source": [
        "### figuring out the effect of test preparation course status on total percentage\n"
      ]
    },
    {
      "cell_type": "code",
      "execution_count": null,
      "metadata": {
        "colab": {
          "base_uri": "https://localhost:8080/",
          "height": 1000
        },
        "id": "vVvEu1U1BfiX",
        "outputId": "bf9e6ea2-2300-44b5-a4e2-fc0ad26ddb12"
      },
      "outputs": [
        {
          "output_type": "display_data",
          "data": {
            "text/html": [
              "<html>\n",
              "<head><meta charset=\"utf-8\" /></head>\n",
              "<body>\n",
              "    <div>\n",
              "            <script src=\"https://cdnjs.cloudflare.com/ajax/libs/mathjax/2.7.5/MathJax.js?config=TeX-AMS-MML_SVG\"></script><script type=\"text/javascript\">if (window.MathJax) {MathJax.Hub.Config({SVG: {font: \"STIX-Web\"}});}</script>\n",
              "                <script type=\"text/javascript\">window.PlotlyConfig = {MathJaxConfig: 'local'};</script>\n",
              "        <script src=\"https://cdn.plot.ly/plotly-latest.min.js\"></script>    \n",
              "            <div id=\"49ba0c88-5d76-4620-aa86-2c501bba6cd6\" class=\"plotly-graph-div\" style=\"height:525px; width:100%;\"></div>\n",
              "            <script type=\"text/javascript\">\n",
              "                \n",
              "                    window.PLOTLYENV=window.PLOTLYENV || {};\n",
              "                    \n",
              "                if (document.getElementById(\"49ba0c88-5d76-4620-aa86-2c501bba6cd6\")) {\n",
              "                    Plotly.newPlot(\n",
              "                        '49ba0c88-5d76-4620-aa86-2c501bba6cd6',\n",
              "                        [{\"alignmentgroup\": \"True\", \"hoverlabel\": {\"namelength\": 0}, \"hovertemplate\": \"test preparation course=%{x}<br>percentage=%{y}\", \"legendgroup\": \"\", \"marker\": {\"color\": \"#636efa\"}, \"name\": \"\", \"notched\": false, \"offsetgroup\": \"\", \"orientation\": \"v\", \"showlegend\": false, \"type\": \"box\", \"x\": [\"none\", \"completed\", \"none\", \"none\", \"none\", \"none\", \"completed\", \"none\", \"completed\", \"none\", \"none\", \"none\", \"none\", \"completed\", \"none\", \"none\", \"none\", \"none\", \"completed\", \"none\", \"none\", \"completed\", \"none\", \"none\", \"completed\", \"none\", \"none\", \"none\", \"none\", \"none\", \"none\", \"none\", \"none\", \"none\", \"none\", \"completed\", \"none\", \"none\", \"completed\", \"none\", \"none\", \"none\", \"none\", \"completed\", \"none\", \"none\", \"completed\", \"none\", \"completed\", \"completed\", \"none\", \"completed\", \"none\", \"none\", \"completed\", \"none\", \"completed\", \"none\", \"completed\", \"none\", \"completed\", \"none\", \"none\", \"none\", \"none\", \"none\", \"none\", \"none\", \"none\", \"none\", \"completed\", \"completed\", \"none\", \"none\", \"none\", \"none\", \"none\", \"completed\", \"completed\", \"none\", \"none\", \"none\", \"completed\", \"none\", \"none\", \"none\", \"none\", \"none\", \"none\", \"none\", \"none\", \"none\", \"none\", \"completed\", \"none\", \"completed\", \"completed\", \"completed\", \"none\", \"none\", \"none\", \"completed\", \"none\", \"completed\", \"completed\", \"none\", \"none\", \"completed\", \"none\", \"none\", \"completed\", \"none\", \"none\", \"none\", \"completed\", \"none\", \"none\", \"none\", \"none\", \"none\", \"completed\", \"completed\", \"completed\", \"none\", \"none\", \"none\", \"none\", \"completed\", \"none\", \"none\", \"none\", \"completed\", \"completed\", \"completed\", \"completed\", \"none\", \"completed\", \"none\", \"none\", \"completed\", \"none\", \"none\", \"completed\", \"none\", \"none\", \"none\", \"none\", \"none\", \"completed\", \"completed\", \"completed\", \"none\", \"completed\", \"none\", \"none\", \"completed\", \"completed\", \"none\", \"completed\", \"none\", \"completed\", \"completed\", \"none\", \"none\", \"none\", \"completed\", \"completed\", \"completed\", \"completed\", \"completed\", \"completed\", \"none\", \"none\", \"none\", \"completed\", \"completed\", \"completed\", \"completed\", \"completed\", \"completed\", \"completed\", \"none\", \"none\", \"none\", \"completed\", \"completed\", \"none\", \"completed\", \"none\", \"none\", \"none\", \"completed\", \"none\", \"completed\", \"completed\", \"none\", \"completed\", \"none\", \"none\", \"none\", \"completed\", \"none\", \"none\", \"none\", \"none\", \"completed\", \"none\", \"completed\", \"none\", \"none\", \"completed\", \"none\", \"none\", \"completed\", \"completed\", \"completed\", \"completed\", \"none\", \"none\", \"completed\", \"completed\", \"none\", \"none\", \"none\", \"completed\", \"none\", \"none\", \"none\", \"none\", \"completed\", \"none\", \"none\", \"none\", \"none\", \"completed\", \"none\", \"none\", \"completed\", \"none\", \"none\", \"completed\", \"none\", \"none\", \"none\", \"none\", \"none\", \"none\", \"completed\", \"none\", \"none\", \"completed\", \"none\", \"completed\", \"none\", \"none\", \"none\", \"none\", \"completed\", \"none\", \"completed\", \"completed\", \"completed\", \"none\", \"none\", \"none\", \"none\", \"none\", \"none\", \"completed\", \"none\", \"none\", \"none\", \"none\", \"none\", \"completed\", \"none\", \"completed\", \"completed\", \"none\", \"none\", \"none\", \"none\", \"none\", \"completed\", \"none\", \"completed\", \"completed\", \"none\", \"none\", \"completed\", \"none\", \"none\", \"completed\", \"none\", \"completed\", \"none\", \"completed\", \"completed\", \"completed\", \"none\", \"completed\", \"none\", \"completed\", \"none\", \"completed\", \"none\", \"completed\", \"none\", \"none\", \"none\", \"none\", \"none\", \"completed\", \"completed\", \"completed\", \"none\", \"completed\", \"none\", \"none\", \"none\", \"completed\", \"none\", \"none\", \"none\", \"none\", \"none\", \"none\", \"none\", \"completed\", \"none\", \"none\", \"none\", \"completed\", \"none\", \"none\", \"none\", \"completed\", \"none\", \"none\", \"completed\", \"none\", \"none\", \"completed\", \"completed\", \"none\", \"none\", \"none\", \"completed\", \"none\", \"none\", \"none\", \"none\", \"completed\", \"none\", \"none\", \"none\", \"none\", \"completed\", \"none\", \"none\", \"none\", \"completed\", \"none\", \"none\", \"none\", \"completed\", \"completed\", \"none\", \"none\", \"none\", \"none\", \"completed\", \"none\", \"completed\", \"none\", \"none\", \"none\", \"completed\", \"none\", \"none\", \"none\", \"completed\", \"none\", \"none\", \"none\", \"none\", \"none\", \"none\", \"none\", \"none\", \"completed\", \"none\", \"none\", \"completed\", \"completed\", \"none\", \"none\", \"none\", \"none\", \"none\", \"completed\", \"none\", \"none\", \"completed\", \"none\", \"none\", \"completed\", \"none\", \"completed\", \"completed\", \"completed\", \"completed\", \"none\", \"completed\", \"completed\", \"none\", \"completed\", \"none\", \"none\", \"completed\", \"completed\", \"completed\", \"completed\", \"completed\", \"none\", \"none\", \"none\", \"none\", \"none\", \"none\", \"none\", \"none\", \"none\", \"none\", \"none\", \"completed\", \"none\", \"none\", \"none\", \"completed\", \"completed\", \"none\", \"none\", \"none\", \"none\", \"completed\", \"none\", \"completed\", \"none\", \"none\", \"completed\", \"none\", \"none\", \"none\", \"none\", \"none\", \"none\", \"none\", \"none\", \"completed\", \"none\", \"none\", \"none\", \"none\", \"completed\", \"none\", \"none\", \"completed\", \"completed\", \"none\", \"completed\", \"none\", \"completed\", \"none\", \"completed\", \"completed\", \"completed\", \"none\", \"none\", \"none\", \"completed\", \"none\", \"none\", \"none\", \"none\", \"none\", \"none\", \"none\", \"completed\", \"completed\", \"none\", \"none\", \"none\", \"none\", \"none\", \"completed\", \"none\", \"completed\", \"none\", \"none\", \"none\", \"completed\", \"none\", \"completed\", \"none\", \"none\", \"none\", \"none\", \"none\", \"none\", \"none\", \"none\", \"none\", \"completed\", \"completed\", \"completed\", \"none\", \"completed\", \"completed\", \"completed\", \"none\", \"none\", \"none\", \"none\", \"completed\", \"none\", \"completed\", \"none\", \"none\", \"none\", \"completed\", \"none\", \"completed\", \"completed\", \"completed\", \"completed\", \"completed\", \"none\", \"completed\", \"completed\", \"completed\", \"completed\", \"none\", \"none\", \"none\", \"completed\", \"completed\", \"completed\", \"none\", \"none\", \"none\", \"completed\", \"none\", \"none\", \"none\", \"none\", \"completed\", \"none\", \"none\", \"none\", \"completed\", \"none\", \"completed\", \"completed\", \"none\", \"none\", \"completed\", \"completed\", \"none\", \"none\", \"completed\", \"none\", \"none\", \"completed\", \"none\", \"completed\", \"completed\", \"none\", \"completed\", \"none\", \"none\", \"none\", \"none\", \"completed\", \"none\", \"none\", \"none\", \"none\", \"none\", \"none\", \"none\", \"none\", \"none\", \"none\", \"completed\", \"completed\", \"none\", \"none\", \"none\", \"none\", \"none\", \"none\", \"none\", \"none\", \"completed\", \"none\", \"none\", \"none\", \"none\", \"none\", \"completed\", \"none\", \"completed\", \"none\", \"none\", \"none\", \"none\", \"none\", \"none\", \"completed\", \"none\", \"none\", \"completed\", \"completed\", \"none\", \"completed\", \"completed\", \"none\", \"none\", \"completed\", \"none\", \"none\", \"completed\", \"none\", \"none\", \"none\", \"completed\", \"completed\", \"none\", \"none\", \"none\", \"completed\", \"none\", \"completed\", \"none\", \"completed\", \"none\", \"none\", \"none\", \"completed\", \"completed\", \"completed\", \"completed\", \"completed\", \"none\", \"none\", \"none\", \"none\", \"none\", \"none\", \"none\", \"none\", \"none\", \"none\", \"none\", \"completed\", \"completed\", \"none\", \"none\", \"completed\", \"none\", \"none\", \"none\", \"completed\", \"completed\", \"completed\", \"completed\", \"completed\", \"none\", \"none\", \"none\", \"none\", \"none\", \"completed\", \"completed\", \"completed\", \"completed\", \"none\", \"none\", \"none\", \"none\", \"none\", \"completed\", \"none\", \"none\", \"none\", \"completed\", \"none\", \"completed\", \"none\", \"completed\", \"none\", \"completed\", \"none\", \"completed\", \"none\", \"none\", \"none\", \"none\", \"completed\", \"completed\", \"completed\", \"none\", \"none\", \"completed\", \"completed\", \"completed\", \"completed\", \"none\", \"completed\", \"none\", \"completed\", \"completed\", \"none\", \"none\", \"completed\", \"completed\", \"completed\", \"none\", \"none\", \"completed\", \"none\", \"completed\", \"none\", \"none\", \"none\", \"none\", \"completed\", \"none\", \"none\", \"none\", \"none\", \"none\", \"completed\", \"none\", \"none\", \"none\", \"none\", \"none\", \"completed\", \"completed\", \"none\", \"completed\", \"completed\", \"none\", \"none\", \"none\", \"completed\", \"completed\", \"completed\", \"none\", \"none\", \"completed\", \"none\", \"none\", \"none\", \"completed\", \"completed\", \"none\", \"none\", \"none\", \"none\", \"completed\", \"none\", \"none\", \"none\", \"none\", \"none\", \"completed\", \"completed\", \"none\", \"none\", \"completed\", \"completed\", \"completed\", \"completed\", \"none\", \"none\", \"none\", \"none\", \"none\", \"none\", \"none\", \"completed\", \"none\", \"completed\", \"none\", \"none\", \"none\", \"none\", \"completed\", \"completed\", \"none\", \"none\", \"none\", \"none\", \"none\", \"none\", \"none\", \"none\", \"none\", \"none\", \"completed\", \"completed\", \"none\", \"completed\", \"none\", \"completed\", \"none\", \"none\", \"completed\", \"none\", \"completed\", \"none\", \"none\", \"none\", \"completed\", \"none\", \"completed\", \"none\", \"none\", \"completed\", \"none\", \"completed\", \"none\", \"completed\", \"none\", \"completed\", \"completed\", \"none\", \"none\", \"none\", \"completed\", \"completed\", \"completed\", \"none\", \"completed\", \"none\", \"none\", \"none\", \"none\", \"none\", \"none\", \"none\", \"none\", \"none\", \"none\", \"none\", \"completed\", \"none\", \"none\", \"none\", \"completed\", \"completed\", \"none\", \"completed\", \"none\", \"none\", \"completed\", \"none\", \"none\", \"completed\", \"completed\", \"none\", \"none\", \"none\", \"none\", \"none\", \"none\", \"none\", \"completed\", \"completed\", \"none\", \"none\", \"none\", \"completed\", \"completed\", \"none\", \"none\", \"none\", \"completed\", \"none\", \"none\", \"completed\", \"none\", \"none\", \"none\", \"completed\", \"completed\", \"completed\", \"none\", \"none\", \"completed\", \"completed\", \"none\", \"none\", \"none\", \"completed\", \"none\", \"completed\", \"none\", \"none\", \"completed\", \"completed\", \"none\", \"none\", \"completed\", \"none\", \"completed\", \"completed\", \"none\", \"none\", \"none\", \"none\", \"none\", \"completed\", \"none\", \"completed\", \"completed\", \"none\", \"completed\", \"none\", \"completed\", \"completed\", \"completed\", \"none\", \"none\", \"none\", \"completed\", \"completed\", \"completed\", \"none\", \"none\", \"completed\", \"none\", \"none\", \"none\", \"none\", \"completed\", \"completed\", \"none\", \"completed\", \"none\", \"completed\", \"none\", \"none\", \"none\", \"none\", \"none\", \"none\", \"none\", \"none\", \"none\", \"completed\", \"none\", \"none\", \"completed\", \"none\", \"none\", \"none\", \"none\", \"completed\", \"completed\", \"none\", \"none\", \"completed\", \"completed\", \"none\", \"completed\", \"none\", \"none\", \"none\", \"completed\", \"completed\", \"none\", \"none\", \"none\", \"completed\", \"none\", \"completed\", \"completed\", \"completed\", \"none\", \"none\", \"none\", \"completed\", \"none\", \"completed\", \"completed\", \"none\"], \"x0\": \" \", \"xaxis\": \"x\", \"y\": [72.66666666666667, 82.33333333333333, 92.66666666666667, 49.333333333333336, 76.33333333333333, 77.33333333333333, 91.66666666666667, 40.666666666666664, 65.0, 49.333333333333336, 54.666666666666664, 45.0, 73.0, 73.33333333333333, 53.666666666666664, 74.0, 87.66666666666667, 26.0, 44.666666666666664, 57.666666666666664, 66.0, 70.0, 50.333333333333336, 71.66666666666667, 75.0, 73.0, 59.333333333333336, 70.33333333333333, 68.33333333333333, 69.0, 72.33333333333333, 63.0, 64.33333333333333, 40.0, 88.66666666666667, 80.33333333333333, 79.33333333333333, 57.666666666666664, 84.33333333333333, 56.666666666666664, 56.666666666666664, 66.33333333333333, 58.666666666666664, 63.333333333333336, 53.333333333333336, 58.666666666666664, 60.666666666666664, 71.0, 69.0, 82.66666666666667, 52.0, 71.33333333333333, 46.333333333333336, 80.33333333333333, 80.66666666666667, 39.0, 84.33333333333333, 52.0, 58.333333333333336, 9.0, 75.0, 37.333333333333336, 59.333333333333336, 73.33333333333333, 58.666666666666664, 64.0, 39.666666666666664, 68.66666666666667, 58.333333333333336, 53.333333333333336, 64.66666666666667, 60.333333333333336, 46.666666666666664, 58.0, 46.333333333333336, 41.0, 26.0, 79.66666666666667, 69.0, 66.0, 48.666666666666664, 46.333333333333336, 50.333333333333336, 66.33333333333333, 38.333333333333336, 78.33333333333333, 82.33333333333333, 72.0, 65.0, 80.33333333333333, 70.33333333333333, 32.333333333333336, 73.66666666666667, 46.0, 85.66666666666667, 80.33333333333333, 64.33333333333333, 68.33333333333333, 62.333333333333336, 64.66666666666667, 71.0, 72.0, 88.33333333333333, 50.333333333333336, 91.33333333333333, 65.66666666666667, 95.66666666666667, 64.33333333333333, 66.0, 68.66666666666667, 88.0, 55.333333333333336, 51.333333333333336, 54.333333333333336, 99.66666666666667, 78.33333333333333, 80.66666666666667, 79.66666666666667, 58.333333333333336, 63.0, 86.66666666666667, 90.66666666666667, 91.33333333333333, 58.666666666666664, 78.66666666666667, 89.33333333333333, 69.0, 72.0, 79.33333333333333, 50.333333333333336, 85.0, 43.333333333333336, 77.0, 80.0, 76.0, 53.666666666666664, 48.666666666666664, 60.333333333333336, 64.0, 67.0, 73.0, 61.666666666666664, 50.333333333333336, 49.0, 79.66666666666667, 31.333333333333332, 82.33333333333333, 69.0, 74.66666666666667, 97.66666666666667, 66.0, 70.66666666666667, 65.0, 50.0, 63.333333333333336, 82.33333333333333, 72.66666666666667, 60.0, 78.0, 64.0, 78.0, 82.66666666666667, 51.333333333333336, 51.333333333333336, 88.0, 98.66666666666667, 51.666666666666664, 70.66666666666667, 76.33333333333333, 70.66666666666667, 73.0, 86.66666666666667, 82.0, 66.66666666666667, 49.333333333333336, 86.33333333333333, 52.666666666666664, 75.0, 61.333333333333336, 99.0, 68.33333333333333, 58.666666666666664, 49.0, 68.0, 48.666666666666664, 65.66666666666667, 73.66666666666667, 65.33333333333333, 48.333333333333336, 84.0, 66.66666666666667, 79.33333333333333, 64.0, 67.0, 79.33333333333333, 56.0, 64.33333333333333, 54.0, 51.0, 77.66666666666667, 79.0, 74.33333333333333, 71.66666666666667, 64.66666666666667, 47.333333333333336, 74.33333333333333, 68.66666666666667, 79.0, 77.0, 61.666666666666664, 79.33333333333333, 30.0, 54.666666666666664, 55.666666666666664, 86.33333333333333, 80.66666666666667, 85.66666666666667, 38.333333333333336, 71.0, 57.666666666666664, 66.0, 81.66666666666667, 60.666666666666664, 80.33333333333333, 63.666666666666664, 51.666666666666664, 71.66666666666667, 53.666666666666664, 68.0, 92.33333333333333, 68.66666666666667, 43.666666666666664, 78.66666666666667, 85.66666666666667, 83.0, 77.33333333333333, 65.33333333333333, 66.0, 52.333333333333336, 81.33333333333333, 69.0, 82.0, 54.333333333333336, 51.0, 72.66666666666667, 77.33333333333333, 79.66666666666667, 65.33333333333333, 63.666666666666664, 60.333333333333336, 48.333333333333336, 79.0, 66.66666666666667, 77.33333333333333, 52.666666666666664, 68.33333333333333, 68.33333333333333, 77.33333333333333, 74.33333333333333, 75.66666666666667, 73.33333333333333, 78.66666666666667, 48.333333333333336, 94.0, 72.33333333333333, 47.333333333333336, 73.0, 72.66666666666667, 91.66666666666667, 72.33333333333333, 64.33333333333333, 49.666666666666664, 52.666666666666664, 68.66666666666667, 83.0, 78.0, 90.0, 65.66666666666667, 77.0, 62.0, 49.0, 46.333333333333336, 78.66666666666667, 75.33333333333333, 43.0, 81.66666666666667, 89.0, 79.33333333333333, 79.66666666666667, 76.66666666666667, 71.33333333333333, 76.33333333333333, 60.0, 71.0, 78.33333333333333, 63.0, 43.333333333333336, 71.0, 45.333333333333336, 84.0, 80.0, 54.0, 77.33333333333333, 73.33333333333333, 77.33333333333333, 68.33333333333333, 89.0, 49.0, 63.666666666666664, 52.666666666666664, 76.33333333333333, 61.0, 65.33333333333333, 68.0, 66.0, 67.33333333333333, 83.33333333333333, 77.66666666666667, 67.66666666666667, 61.333333333333336, 76.66666666666667, 80.0, 77.33333333333333, 49.666666666666664, 43.333333333333336, 88.66666666666667, 61.333333333333336, 23.333333333333332, 78.0, 49.0, 64.0, 39.666666666666664, 57.0, 83.0, 90.33333333333333, 65.0, 71.66666666666667, 47.666666666666664, 29.666666666666668, 50.0, 57.0, 65.66666666666667, 73.0, 68.66666666666667, 73.0, 75.66666666666667, 60.0, 88.66666666666667, 71.66666666666667, 79.0, 62.0, 58.333333333333336, 73.66666666666667, 53.666666666666664, 66.66666666666667, 67.66666666666667, 61.666666666666664, 59.0, 60.666666666666664, 86.33333333333333, 59.666666666666664, 82.33333333333333, 56.0, 31.0, 59.0, 55.666666666666664, 60.0, 62.666666666666664, 55.333333333333336, 80.66666666666667, 77.33333333333333, 62.666666666666664, 73.33333333333333, 91.66666666666667, 67.33333333333333, 43.333333333333336, 84.0, 93.33333333333333, 77.0, 64.0, 83.0, 94.0, 77.0, 44.0, 41.333333333333336, 72.66666666666667, 69.0, 67.33333333333333, 63.333333333333336, 72.66666666666667, 66.33333333333333, 74.0, 70.0, 55.666666666666664, 72.0, 44.666666666666664, 60.0, 89.66666666666667, 64.66666666666667, 57.666666666666664, 60.0, 46.333333333333336, 56.333333333333336, 95.66666666666667, 58.333333333333336, 68.0, 64.33333333333333, 79.66666666666667, 55.0, 85.33333333333333, 71.66666666666667, 81.66666666666667, 65.66666666666667, 65.66666666666667, 67.33333333333333, 75.33333333333333, 71.0, 71.33333333333333, 63.0, 55.666666666666664, 89.33333333333333, 59.666666666666664, 57.333333333333336, 74.66666666666667, 38.0, 63.666666666666664, 85.0, 68.33333333333333, 59.0, 61.666666666666664, 63.0, 67.66666666666667, 57.333333333333336, 52.0, 68.33333333333333, 50.333333333333336, 69.0, 71.33333333333333, 59.0, 86.33333333333333, 75.66666666666667, 79.66666666666667, 67.0, 77.33333333333333, 78.0, 72.66666666666667, 65.0, 82.33333333333333, 45.0, 75.33333333333333, 78.0, 96.33333333333333, 72.0, 57.333333333333336, 58.666666666666664, 46.666666666666664, 85.66666666666667, 51.666666666666664, 100.0, 68.33333333333333, 55.333333333333336, 51.0, 72.33333333333333, 86.0, 65.0, 87.33333333333333, 31.666666666666668, 68.0, 83.33333333333333, 80.33333333333333, 86.0, 68.66666666666667, 79.33333333333333, 62.333333333333336, 90.33333333333333, 76.66666666666667, 68.0, 73.33333333333333, 63.0, 71.33333333333333, 70.66666666666667, 55.666666666666664, 65.66666666666667, 52.333333333333336, 51.666666666666664, 71.66666666666667, 54.666666666666664, 69.66666666666667, 58.0, 81.0, 75.33333333333333, 66.0, 85.33333333333333, 86.33333333333333, 62.0, 66.0, 51.333333333333336, 71.0, 67.66666666666667, 73.0, 78.33333333333333, 91.0, 59.333333333333336, 92.0, 51.0, 81.33333333333333, 68.0, 56.0, 78.0, 88.33333333333333, 73.33333333333333, 52.333333333333336, 54.333333333333336, 59.0, 89.33333333333333, 82.66666666666667, 82.33333333333333, 71.0, 74.0, 74.66666666666667, 57.333333333333336, 87.0, 61.333333333333336, 54.333333333333336, 51.333333333333336, 62.333333333333336, 59.0, 44.0, 39.0, 68.66666666666667, 69.33333333333333, 51.333333333333336, 60.333333333333336, 87.0, 70.0, 77.33333333333333, 56.333333333333336, 59.666666666666664, 74.0, 91.66666666666667, 70.66666666666667, 80.33333333333333, 79.0, 88.66666666666667, 64.33333333333333, 80.33333333333333, 96.33333333333333, 67.66666666666667, 64.33333333333333, 73.33333333333333, 73.33333333333333, 88.33333333333333, 46.0, 67.66666666666667, 46.0, 34.666666666666664, 68.66666666666667, 64.66666666666667, 64.33333333333333, 67.0, 76.0, 70.33333333333333, 92.66666666666667, 74.33333333333333, 48.333333333333336, 45.333333333333336, 97.33333333333333, 70.0, 52.666666666666664, 67.66666666666667, 72.0, 93.0, 57.0, 60.0, 75.33333333333333, 49.333333333333336, 54.666666666666664, 87.0, 54.0, 60.666666666666664, 91.33333333333333, 78.66666666666667, 71.33333333333333, 76.0, 74.33333333333333, 72.33333333333333, 67.0, 56.333333333333336, 61.0, 59.666666666666664, 56.333333333333336, 61.0, 66.66666666666667, 74.33333333333333, 97.0, 69.0, 23.0, 51.666666666666664, 73.0, 76.0, 59.0, 29.333333333333332, 78.0, 56.0, 87.66666666666667, 69.66666666666667, 83.66666666666667, 50.666666666666664, 62.333333333333336, 62.0, 64.0, 61.0, 91.66666666666667, 72.0, 89.33333333333333, 66.66666666666667, 40.0, 83.0, 86.66666666666667, 68.66666666666667, 50.0, 60.333333333333336, 53.666666666666664, 94.0, 60.333333333333336, 98.66666666666667, 67.33333333333333, 51.666666666666664, 50.666666666666664, 50.0, 67.0, 68.0, 73.66666666666667, 82.66666666666667, 82.66666666666667, 69.66666666666667, 76.0, 86.66666666666667, 78.66666666666667, 74.33333333333333, 48.0, 84.0, 77.33333333333333, 77.66666666666667, 65.0, 75.66666666666667, 64.66666666666667, 64.66666666666667, 52.666666666666664, 76.33333333333333, 53.333333333333336, 74.66666666666667, 89.66666666666667, 69.66666666666667, 77.0, 65.33333333333333, 69.33333333333333, 65.33333333333333, 53.666666666666664, 87.33333333333333, 74.66666666666667, 67.33333333333333, 65.0, 67.0, 68.66666666666667, 56.666666666666664, 69.0, 83.0, 69.33333333333333, 76.66666666666667, 70.0, 53.0, 74.33333333333333, 77.66666666666667, 74.66666666666667, 60.0, 75.66666666666667, 76.0, 78.0, 61.333333333333336, 71.0, 62.666666666666664, 57.0, 37.666666666666664, 65.33333333333333, 97.66666666666667, 76.0, 76.0, 51.666666666666664, 88.66666666666667, 51.666666666666664, 75.66666666666667, 73.66666666666667, 75.66666666666667, 56.0, 84.66666666666667, 82.33333333333333, 67.0, 71.33333333333333, 63.666666666666664, 80.66666666666667, 65.33333333333333, 86.0, 64.66666666666667, 62.0, 66.33333333333333, 38.666666666666664, 59.0, 85.0, 53.666666666666664, 89.0, 83.33333333333333, 99.0, 82.0, 68.0, 85.66666666666667, 74.33333333333333, 97.0, 75.33333333333333, 81.33333333333333, 68.0, 57.666666666666664, 84.0, 46.666666666666664, 43.666666666666664, 75.33333333333333, 72.33333333333333, 58.666666666666664, 83.0, 43.0, 75.0, 48.0, 90.0, 48.666666666666664, 56.0, 61.0, 85.0, 64.0, 75.0, 58.666666666666664, 75.0, 50.0, 82.33333333333333, 68.0, 52.333333333333336, 75.0, 71.66666666666667, 67.0, 56.333333333333336, 85.66666666666667, 69.33333333333333, 68.33333333333333, 77.0, 84.0, 55.333333333333336, 90.33333333333333, 55.0, 70.0, 58.666666666666664, 74.33333333333333, 63.0, 53.333333333333336, 81.66666666666667, 62.333333333333336, 60.666666666666664, 72.66666666666667, 70.0, 66.0, 71.33333333333333, 58.333333333333336, 49.666666666666664, 74.0, 63.666666666666664, 73.0, 63.666666666666664, 54.0, 69.33333333333333, 40.666666666666664, 77.66666666666667, 87.0, 53.0, 83.66666666666667, 81.0, 57.666666666666664, 83.66666666666667, 42.333333333333336, 76.0, 29.666666666666668, 64.66666666666667, 59.333333333333336, 56.666666666666664, 65.33333333333333, 69.66666666666667, 83.33333333333333, 48.333333333333336, 66.0, 70.0, 78.33333333333333, 61.0, 54.666666666666664, 69.33333333333333, 76.33333333333333, 92.0, 84.66666666666667, 75.66666666666667, 76.66666666666667, 71.0, 42.0, 78.0, 54.666666666666664, 39.333333333333336, 47.0, 61.666666666666664, 82.33333333333333, 78.33333333333333, 89.0, 56.0, 69.0, 66.66666666666667, 85.33333333333333, 89.0, 87.0, 50.666666666666664, 80.0, 52.666666666666664, 62.333333333333336, 64.66666666666667, 70.0, 78.66666666666667, 58.333333333333336, 59.333333333333336, 83.0, 60.666666666666664, 82.66666666666667, 51.0, 66.0, 64.66666666666667, 78.66666666666667, 56.0, 72.0, 45.666666666666664, 57.666666666666664, 34.333333333333336, 75.66666666666667, 56.333333333333336, 86.33333333333333, 87.0, 56.0, 66.33333333333333, 74.66666666666667, 68.33333333333333, 64.0, 88.33333333333333, 70.0, 60.333333333333336, 96.66666666666667, 69.33333333333333, 75.0, 49.0, 77.33333333333333, 56.0, 84.66666666666667, 39.666666666666664, 74.0, 93.66666666666667, 84.0, 54.666666666666664, 48.0, 74.66666666666667, 50.333333333333336, 54.666666666666664, 72.66666666666667, 81.33333333333333, 87.33333333333333, 55.333333333333336, 70.0, 82.33333333333333, 57.333333333333336, 70.33333333333333, 71.33333333333333, 64.33333333333333, 70.33333333333333, 69.33333333333333, 48.333333333333336, 52.0, 72.66666666666667, 96.0, 61.666666666666664, 69.33333333333333, 47.666666666666664, 87.33333333333333, 87.33333333333333, 63.333333333333336, 79.0, 63.333333333333336, 34.666666666666664, 30.666666666666668, 73.33333333333333, 61.333333333333336, 75.0, 86.0, 75.0, 41.0, 97.66666666666667, 78.33333333333333, 80.66666666666667, 52.0, 84.66666666666667, 71.33333333333333, 68.0, 46.666666666666664, 78.33333333333333, 59.666666666666664, 58.333333333333336, 54.0, 68.0, 100.0, 52.333333333333336, 71.33333333333333, 92.66666666666667, 68.66666666666667, 44.666666666666664, 68.0, 61.333333333333336, 71.0, 66.0, 57.333333333333336, 65.66666666666667, 44.333333333333336, 51.666666666666664, 70.33333333333333, 60.333333333333336, 68.33333333333333, 73.0, 91.66666666666667, 63.666666666666664, 59.0, 57.333333333333336, 83.66666666666667, 71.33333333333333, 70.0, 88.33333333333333, 70.33333333333333, 61.333333333333336, 62.333333333333336, 57.666666666666664, 81.33333333333333, 55.666666666666664, 50.333333333333336, 68.33333333333333, 79.33333333333333, 78.33333333333333, 73.33333333333333, 54.666666666666664, 66.66666666666667, 63.666666666666664, 84.0, 97.33333333333333, 55.666666666666664, 75.66666666666667, 59.333333333333336, 51.666666666666664, 100.0, 72.0, 62.333333333333336, 68.0, 66.0, 62.0, 70.33333333333333, 79.66666666666667, 96.33333333333333, 73.0, 54.333333333333336, 58.333333333333336, 61.333333333333336, 74.33333333333333, 60.666666666666664, 61.666666666666664, 48.0, 93.33333333333333, 18.333333333333332, 79.0, 83.33333333333333, 85.33333333333333, 77.0, 54.0, 50.0, 77.33333333333333, 44.666666666666664, 78.66666666666667, 80.66666666666667, 75.0, 69.0, 69.33333333333333, 62.666666666666664, 94.0, 57.333333333333336, 65.0, 74.33333333333333, 83.0], \"y0\": \" \", \"yaxis\": \"y\"}],\n",
              "                        {\"boxmode\": \"group\", \"legend\": {\"tracegroupgap\": 0}, \"margin\": {\"t\": 60}, \"template\": {\"data\": {\"bar\": [{\"error_x\": {\"color\": \"#2a3f5f\"}, \"error_y\": {\"color\": \"#2a3f5f\"}, \"marker\": {\"line\": {\"color\": \"#E5ECF6\", \"width\": 0.5}}, \"type\": \"bar\"}], \"barpolar\": [{\"marker\": {\"line\": {\"color\": \"#E5ECF6\", \"width\": 0.5}}, \"type\": \"barpolar\"}], \"carpet\": [{\"aaxis\": {\"endlinecolor\": \"#2a3f5f\", \"gridcolor\": \"white\", \"linecolor\": \"white\", \"minorgridcolor\": \"white\", \"startlinecolor\": \"#2a3f5f\"}, \"baxis\": {\"endlinecolor\": \"#2a3f5f\", \"gridcolor\": \"white\", \"linecolor\": \"white\", \"minorgridcolor\": \"white\", \"startlinecolor\": \"#2a3f5f\"}, \"type\": \"carpet\"}], \"choropleth\": [{\"colorbar\": {\"outlinewidth\": 0, \"ticks\": \"\"}, \"type\": \"choropleth\"}], \"contour\": [{\"colorbar\": {\"outlinewidth\": 0, \"ticks\": \"\"}, \"colorscale\": [[0.0, \"#0d0887\"], [0.1111111111111111, \"#46039f\"], [0.2222222222222222, \"#7201a8\"], [0.3333333333333333, \"#9c179e\"], [0.4444444444444444, \"#bd3786\"], [0.5555555555555556, \"#d8576b\"], [0.6666666666666666, \"#ed7953\"], [0.7777777777777778, \"#fb9f3a\"], [0.8888888888888888, \"#fdca26\"], [1.0, \"#f0f921\"]], \"type\": \"contour\"}], \"contourcarpet\": [{\"colorbar\": {\"outlinewidth\": 0, \"ticks\": \"\"}, \"type\": \"contourcarpet\"}], \"heatmap\": [{\"colorbar\": {\"outlinewidth\": 0, \"ticks\": \"\"}, \"colorscale\": [[0.0, \"#0d0887\"], [0.1111111111111111, \"#46039f\"], [0.2222222222222222, \"#7201a8\"], [0.3333333333333333, \"#9c179e\"], [0.4444444444444444, \"#bd3786\"], [0.5555555555555556, \"#d8576b\"], [0.6666666666666666, \"#ed7953\"], [0.7777777777777778, \"#fb9f3a\"], [0.8888888888888888, \"#fdca26\"], [1.0, \"#f0f921\"]], \"type\": \"heatmap\"}], \"heatmapgl\": [{\"colorbar\": {\"outlinewidth\": 0, \"ticks\": \"\"}, \"colorscale\": [[0.0, \"#0d0887\"], [0.1111111111111111, \"#46039f\"], [0.2222222222222222, \"#7201a8\"], [0.3333333333333333, \"#9c179e\"], [0.4444444444444444, \"#bd3786\"], [0.5555555555555556, \"#d8576b\"], [0.6666666666666666, \"#ed7953\"], [0.7777777777777778, \"#fb9f3a\"], [0.8888888888888888, \"#fdca26\"], [1.0, \"#f0f921\"]], \"type\": \"heatmapgl\"}], \"histogram\": [{\"marker\": {\"colorbar\": {\"outlinewidth\": 0, \"ticks\": \"\"}}, \"type\": \"histogram\"}], \"histogram2d\": [{\"colorbar\": {\"outlinewidth\": 0, \"ticks\": \"\"}, \"colorscale\": [[0.0, \"#0d0887\"], [0.1111111111111111, \"#46039f\"], [0.2222222222222222, \"#7201a8\"], [0.3333333333333333, \"#9c179e\"], [0.4444444444444444, \"#bd3786\"], [0.5555555555555556, \"#d8576b\"], [0.6666666666666666, \"#ed7953\"], [0.7777777777777778, \"#fb9f3a\"], [0.8888888888888888, \"#fdca26\"], [1.0, \"#f0f921\"]], \"type\": \"histogram2d\"}], \"histogram2dcontour\": [{\"colorbar\": {\"outlinewidth\": 0, \"ticks\": \"\"}, \"colorscale\": [[0.0, \"#0d0887\"], [0.1111111111111111, \"#46039f\"], [0.2222222222222222, \"#7201a8\"], [0.3333333333333333, \"#9c179e\"], [0.4444444444444444, \"#bd3786\"], [0.5555555555555556, \"#d8576b\"], [0.6666666666666666, \"#ed7953\"], [0.7777777777777778, \"#fb9f3a\"], [0.8888888888888888, \"#fdca26\"], [1.0, \"#f0f921\"]], \"type\": \"histogram2dcontour\"}], \"mesh3d\": [{\"colorbar\": {\"outlinewidth\": 0, \"ticks\": \"\"}, \"type\": \"mesh3d\"}], \"parcoords\": [{\"line\": {\"colorbar\": {\"outlinewidth\": 0, \"ticks\": \"\"}}, \"type\": \"parcoords\"}], \"pie\": [{\"automargin\": true, \"type\": \"pie\"}], \"scatter\": [{\"marker\": {\"colorbar\": {\"outlinewidth\": 0, \"ticks\": \"\"}}, \"type\": \"scatter\"}], \"scatter3d\": [{\"line\": {\"colorbar\": {\"outlinewidth\": 0, \"ticks\": \"\"}}, \"marker\": {\"colorbar\": {\"outlinewidth\": 0, \"ticks\": \"\"}}, \"type\": \"scatter3d\"}], \"scattercarpet\": [{\"marker\": {\"colorbar\": {\"outlinewidth\": 0, \"ticks\": \"\"}}, \"type\": \"scattercarpet\"}], \"scattergeo\": [{\"marker\": {\"colorbar\": {\"outlinewidth\": 0, \"ticks\": \"\"}}, \"type\": \"scattergeo\"}], \"scattergl\": [{\"marker\": {\"colorbar\": {\"outlinewidth\": 0, \"ticks\": \"\"}}, \"type\": \"scattergl\"}], \"scattermapbox\": [{\"marker\": {\"colorbar\": {\"outlinewidth\": 0, \"ticks\": \"\"}}, \"type\": \"scattermapbox\"}], \"scatterpolar\": [{\"marker\": {\"colorbar\": {\"outlinewidth\": 0, \"ticks\": \"\"}}, \"type\": \"scatterpolar\"}], \"scatterpolargl\": [{\"marker\": {\"colorbar\": {\"outlinewidth\": 0, \"ticks\": \"\"}}, \"type\": \"scatterpolargl\"}], \"scatterternary\": [{\"marker\": {\"colorbar\": {\"outlinewidth\": 0, \"ticks\": \"\"}}, \"type\": \"scatterternary\"}], \"surface\": [{\"colorbar\": {\"outlinewidth\": 0, \"ticks\": \"\"}, \"colorscale\": [[0.0, \"#0d0887\"], [0.1111111111111111, \"#46039f\"], [0.2222222222222222, \"#7201a8\"], [0.3333333333333333, \"#9c179e\"], [0.4444444444444444, \"#bd3786\"], [0.5555555555555556, \"#d8576b\"], [0.6666666666666666, \"#ed7953\"], [0.7777777777777778, \"#fb9f3a\"], [0.8888888888888888, \"#fdca26\"], [1.0, \"#f0f921\"]], \"type\": \"surface\"}], \"table\": [{\"cells\": {\"fill\": {\"color\": \"#EBF0F8\"}, \"line\": {\"color\": \"white\"}}, \"header\": {\"fill\": {\"color\": \"#C8D4E3\"}, \"line\": {\"color\": \"white\"}}, \"type\": \"table\"}]}, \"layout\": {\"annotationdefaults\": {\"arrowcolor\": \"#2a3f5f\", \"arrowhead\": 0, \"arrowwidth\": 1}, \"coloraxis\": {\"colorbar\": {\"outlinewidth\": 0, \"ticks\": \"\"}}, \"colorscale\": {\"diverging\": [[0, \"#8e0152\"], [0.1, \"#c51b7d\"], [0.2, \"#de77ae\"], [0.3, \"#f1b6da\"], [0.4, \"#fde0ef\"], [0.5, \"#f7f7f7\"], [0.6, \"#e6f5d0\"], [0.7, \"#b8e186\"], [0.8, \"#7fbc41\"], [0.9, \"#4d9221\"], [1, \"#276419\"]], \"sequential\": [[0.0, \"#0d0887\"], [0.1111111111111111, \"#46039f\"], [0.2222222222222222, \"#7201a8\"], [0.3333333333333333, \"#9c179e\"], [0.4444444444444444, \"#bd3786\"], [0.5555555555555556, \"#d8576b\"], [0.6666666666666666, \"#ed7953\"], [0.7777777777777778, \"#fb9f3a\"], [0.8888888888888888, \"#fdca26\"], [1.0, \"#f0f921\"]], \"sequentialminus\": [[0.0, \"#0d0887\"], [0.1111111111111111, \"#46039f\"], [0.2222222222222222, \"#7201a8\"], [0.3333333333333333, \"#9c179e\"], [0.4444444444444444, \"#bd3786\"], [0.5555555555555556, \"#d8576b\"], [0.6666666666666666, \"#ed7953\"], [0.7777777777777778, \"#fb9f3a\"], [0.8888888888888888, \"#fdca26\"], [1.0, \"#f0f921\"]]}, \"colorway\": [\"#636efa\", \"#EF553B\", \"#00cc96\", \"#ab63fa\", \"#FFA15A\", \"#19d3f3\", \"#FF6692\", \"#B6E880\", \"#FF97FF\", \"#FECB52\"], \"font\": {\"color\": \"#2a3f5f\"}, \"geo\": {\"bgcolor\": \"white\", \"lakecolor\": \"white\", \"landcolor\": \"#E5ECF6\", \"showlakes\": true, \"showland\": true, \"subunitcolor\": \"white\"}, \"hoverlabel\": {\"align\": \"left\"}, \"hovermode\": \"closest\", \"mapbox\": {\"style\": \"light\"}, \"paper_bgcolor\": \"white\", \"plot_bgcolor\": \"#E5ECF6\", \"polar\": {\"angularaxis\": {\"gridcolor\": \"white\", \"linecolor\": \"white\", \"ticks\": \"\"}, \"bgcolor\": \"#E5ECF6\", \"radialaxis\": {\"gridcolor\": \"white\", \"linecolor\": \"white\", \"ticks\": \"\"}}, \"scene\": {\"xaxis\": {\"backgroundcolor\": \"#E5ECF6\", \"gridcolor\": \"white\", \"gridwidth\": 2, \"linecolor\": \"white\", \"showbackground\": true, \"ticks\": \"\", \"zerolinecolor\": \"white\"}, \"yaxis\": {\"backgroundcolor\": \"#E5ECF6\", \"gridcolor\": \"white\", \"gridwidth\": 2, \"linecolor\": \"white\", \"showbackground\": true, \"ticks\": \"\", \"zerolinecolor\": \"white\"}, \"zaxis\": {\"backgroundcolor\": \"#E5ECF6\", \"gridcolor\": \"white\", \"gridwidth\": 2, \"linecolor\": \"white\", \"showbackground\": true, \"ticks\": \"\", \"zerolinecolor\": \"white\"}}, \"shapedefaults\": {\"line\": {\"color\": \"#2a3f5f\"}}, \"ternary\": {\"aaxis\": {\"gridcolor\": \"white\", \"linecolor\": \"white\", \"ticks\": \"\"}, \"baxis\": {\"gridcolor\": \"white\", \"linecolor\": \"white\", \"ticks\": \"\"}, \"bgcolor\": \"#E5ECF6\", \"caxis\": {\"gridcolor\": \"white\", \"linecolor\": \"white\", \"ticks\": \"\"}}, \"title\": {\"x\": 0.05}, \"xaxis\": {\"automargin\": true, \"gridcolor\": \"white\", \"linecolor\": \"white\", \"ticks\": \"\", \"title\": {\"standoff\": 15}, \"zerolinecolor\": \"white\", \"zerolinewidth\": 2}, \"yaxis\": {\"automargin\": true, \"gridcolor\": \"white\", \"linecolor\": \"white\", \"ticks\": \"\", \"title\": {\"standoff\": 15}, \"zerolinecolor\": \"white\", \"zerolinewidth\": 2}}}, \"xaxis\": {\"anchor\": \"y\", \"domain\": [0.0, 1.0], \"title\": {\"text\": \"test preparation course\"}}, \"yaxis\": {\"anchor\": \"x\", \"domain\": [0.0, 1.0], \"title\": {\"text\": \"percentage\"}}},\n",
              "                        {\"responsive\": true}\n",
              "                    ).then(function(){\n",
              "                            \n",
              "var gd = document.getElementById('49ba0c88-5d76-4620-aa86-2c501bba6cd6');\n",
              "var x = new MutationObserver(function (mutations, observer) {{\n",
              "        var display = window.getComputedStyle(gd).display;\n",
              "        if (!display || display === 'none') {{\n",
              "            console.log([gd, 'removed!']);\n",
              "            Plotly.purge(gd);\n",
              "            observer.disconnect();\n",
              "        }}\n",
              "}});\n",
              "\n",
              "// Listen for the removal of the full notebook cells\n",
              "var notebookContainer = gd.closest('#notebook-container');\n",
              "if (notebookContainer) {{\n",
              "    x.observe(notebookContainer, {childList: true});\n",
              "}}\n",
              "\n",
              "// Listen for the clearing of the current output cell\n",
              "var outputEl = gd.closest('.output');\n",
              "if (outputEl) {{\n",
              "    x.observe(outputEl, {childList: true});\n",
              "}}\n",
              "\n",
              "                        })\n",
              "                };\n",
              "                \n",
              "            </script>\n",
              "        </div>\n",
              "</body>\n",
              "</html>"
            ]
          },
          "metadata": {}
        },
        {
          "output_type": "display_data",
          "data": {
            "text/html": [
              "<html>\n",
              "<head><meta charset=\"utf-8\" /></head>\n",
              "<body>\n",
              "    <div>\n",
              "            <script src=\"https://cdnjs.cloudflare.com/ajax/libs/mathjax/2.7.5/MathJax.js?config=TeX-AMS-MML_SVG\"></script><script type=\"text/javascript\">if (window.MathJax) {MathJax.Hub.Config({SVG: {font: \"STIX-Web\"}});}</script>\n",
              "                <script type=\"text/javascript\">window.PlotlyConfig = {MathJaxConfig: 'local'};</script>\n",
              "        <script src=\"https://cdn.plot.ly/plotly-latest.min.js\"></script>    \n",
              "            <div id=\"f26d8c22-b669-41b8-b772-a7d24853b1fb\" class=\"plotly-graph-div\" style=\"height:525px; width:100%;\"></div>\n",
              "            <script type=\"text/javascript\">\n",
              "                \n",
              "                    window.PLOTLYENV=window.PLOTLYENV || {};\n",
              "                    \n",
              "                if (document.getElementById(\"f26d8c22-b669-41b8-b772-a7d24853b1fb\")) {\n",
              "                    Plotly.newPlot(\n",
              "                        'f26d8c22-b669-41b8-b772-a7d24853b1fb',\n",
              "                        [{\"alignmentgroup\": \"True\", \"bingroup\": \"x\", \"hoverlabel\": {\"namelength\": 0}, \"hovertemplate\": \"test preparation course=none<br>percentage=%{x}<br>count=%{y}\", \"legendgroup\": \"test preparation course=none\", \"marker\": {\"color\": \"#636efa\"}, \"name\": \"test preparation course=none\", \"offsetgroup\": \"test preparation course=none\", \"orientation\": \"v\", \"showlegend\": true, \"type\": \"histogram\", \"x\": [72.66666666666667, 92.66666666666667, 49.333333333333336, 76.33333333333333, 77.33333333333333, 40.666666666666664, 49.333333333333336, 54.666666666666664, 45.0, 73.0, 53.666666666666664, 74.0, 87.66666666666667, 26.0, 57.666666666666664, 66.0, 50.333333333333336, 71.66666666666667, 73.0, 59.333333333333336, 70.33333333333333, 68.33333333333333, 69.0, 72.33333333333333, 63.0, 64.33333333333333, 40.0, 88.66666666666667, 79.33333333333333, 57.666666666666664, 56.666666666666664, 56.666666666666664, 66.33333333333333, 58.666666666666664, 53.333333333333336, 58.666666666666664, 71.0, 52.0, 46.333333333333336, 80.33333333333333, 39.0, 52.0, 9.0, 37.333333333333336, 59.333333333333336, 73.33333333333333, 58.666666666666664, 64.0, 39.666666666666664, 68.66666666666667, 58.333333333333336, 53.333333333333336, 46.666666666666664, 58.0, 46.333333333333336, 41.0, 26.0, 66.0, 48.666666666666664, 46.333333333333336, 66.33333333333333, 38.333333333333336, 78.33333333333333, 82.33333333333333, 72.0, 65.0, 80.33333333333333, 70.33333333333333, 32.333333333333336, 73.66666666666667, 85.66666666666667, 62.333333333333336, 64.66666666666667, 71.0, 88.33333333333333, 65.66666666666667, 95.66666666666667, 66.0, 68.66666666666667, 55.333333333333336, 51.333333333333336, 54.333333333333336, 78.33333333333333, 80.66666666666667, 79.66666666666667, 58.333333333333336, 63.0, 58.666666666666664, 78.66666666666667, 89.33333333333333, 69.0, 79.33333333333333, 50.333333333333336, 85.0, 53.666666666666664, 60.333333333333336, 64.0, 73.0, 61.666666666666664, 49.0, 79.66666666666667, 31.333333333333332, 82.33333333333333, 69.0, 70.66666666666667, 50.0, 63.333333333333336, 60.0, 64.0, 51.333333333333336, 51.333333333333336, 88.0, 86.66666666666667, 82.0, 66.66666666666667, 58.666666666666664, 49.0, 68.0, 73.66666666666667, 48.333333333333336, 84.0, 66.66666666666667, 64.0, 56.0, 54.0, 51.0, 77.66666666666667, 74.33333333333333, 71.66666666666667, 64.66666666666667, 47.333333333333336, 68.66666666666667, 77.0, 61.666666666666664, 30.0, 54.666666666666664, 38.333333333333336, 71.0, 81.66666666666667, 60.666666666666664, 80.33333333333333, 51.666666666666664, 71.66666666666667, 53.666666666666664, 68.0, 68.66666666666667, 43.666666666666664, 78.66666666666667, 85.66666666666667, 77.33333333333333, 65.33333333333333, 52.333333333333336, 81.33333333333333, 82.0, 54.333333333333336, 51.0, 72.66666666666667, 77.33333333333333, 79.66666666666667, 63.666666666666664, 60.333333333333336, 79.0, 77.33333333333333, 52.666666666666664, 68.33333333333333, 68.33333333333333, 74.33333333333333, 48.333333333333336, 94.0, 72.33333333333333, 47.333333333333336, 73.0, 72.66666666666667, 72.33333333333333, 64.33333333333333, 49.666666666666664, 52.666666666666664, 68.66666666666667, 78.0, 77.0, 62.0, 49.0, 46.333333333333336, 78.66666666666667, 43.0, 79.33333333333333, 79.66666666666667, 71.33333333333333, 76.33333333333333, 71.0, 63.0, 84.0, 54.0, 73.33333333333333, 68.33333333333333, 49.0, 63.666666666666664, 52.666666666666664, 76.33333333333333, 61.0, 67.33333333333333, 77.66666666666667, 67.66666666666667, 61.333333333333336, 80.0, 77.33333333333333, 49.666666666666664, 43.333333333333336, 88.66666666666667, 61.333333333333336, 23.333333333333332, 49.0, 64.0, 39.666666666666664, 83.0, 90.33333333333333, 65.0, 47.666666666666664, 29.666666666666668, 57.0, 65.66666666666667, 73.0, 75.66666666666667, 60.0, 71.66666666666667, 79.0, 62.0, 58.333333333333336, 53.666666666666664, 66.66666666666667, 67.66666666666667, 61.666666666666664, 60.666666666666664, 86.33333333333333, 59.666666666666664, 56.0, 31.0, 59.0, 62.666666666666664, 55.333333333333336, 80.66666666666667, 77.33333333333333, 73.33333333333333, 67.33333333333333, 43.333333333333336, 84.0, 77.0, 64.0, 83.0, 77.0, 44.0, 41.333333333333336, 72.66666666666667, 69.0, 67.33333333333333, 63.333333333333336, 72.66666666666667, 74.0, 70.0, 44.666666666666664, 60.0, 89.66666666666667, 64.66666666666667, 57.666666666666664, 46.333333333333336, 56.333333333333336, 58.333333333333336, 68.0, 79.66666666666667, 65.66666666666667, 75.33333333333333, 71.33333333333333, 63.0, 38.0, 63.666666666666664, 85.0, 68.33333333333333, 59.0, 61.666666666666664, 63.0, 67.66666666666667, 57.333333333333336, 52.0, 68.33333333333333, 69.0, 71.33333333333333, 59.0, 79.66666666666667, 67.0, 77.33333333333333, 78.0, 65.0, 45.0, 75.33333333333333, 96.33333333333333, 72.0, 57.333333333333336, 58.666666666666664, 46.666666666666664, 85.66666666666667, 51.666666666666664, 100.0, 55.333333333333336, 51.0, 72.33333333333333, 86.0, 87.33333333333333, 31.666666666666668, 80.33333333333333, 68.66666666666667, 62.333333333333336, 73.33333333333333, 63.0, 71.33333333333333, 55.666666666666664, 65.66666666666667, 52.333333333333336, 51.666666666666664, 71.66666666666667, 54.666666666666664, 69.66666666666667, 75.33333333333333, 66.0, 85.33333333333333, 86.33333333333333, 62.0, 51.333333333333336, 67.66666666666667, 73.0, 78.33333333333333, 59.333333333333336, 51.0, 81.33333333333333, 68.0, 56.0, 78.0, 88.33333333333333, 73.33333333333333, 52.333333333333336, 54.333333333333336, 82.33333333333333, 57.333333333333336, 87.0, 61.333333333333336, 54.333333333333336, 62.333333333333336, 44.0, 39.0, 68.66666666666667, 51.333333333333336, 59.666666666666664, 79.0, 88.66666666666667, 64.33333333333333, 64.33333333333333, 73.33333333333333, 73.33333333333333, 46.0, 67.66666666666667, 46.0, 34.666666666666664, 64.66666666666667, 64.33333333333333, 67.0, 70.33333333333333, 48.333333333333336, 45.333333333333336, 52.666666666666664, 67.66666666666667, 93.0, 57.0, 75.33333333333333, 87.0, 60.666666666666664, 91.33333333333333, 78.66666666666667, 71.33333333333333, 74.33333333333333, 72.33333333333333, 67.0, 56.333333333333336, 61.0, 59.666666666666664, 56.333333333333336, 61.0, 66.66666666666667, 74.33333333333333, 23.0, 51.666666666666664, 73.0, 76.0, 59.0, 29.333333333333332, 78.0, 56.0, 69.66666666666667, 83.66666666666667, 50.666666666666664, 62.333333333333336, 62.0, 61.0, 72.0, 89.33333333333333, 66.66666666666667, 40.0, 83.0, 86.66666666666667, 50.0, 60.333333333333336, 60.333333333333336, 51.666666666666664, 50.666666666666664, 67.0, 68.0, 82.66666666666667, 82.66666666666667, 69.66666666666667, 78.66666666666667, 74.33333333333333, 48.0, 77.33333333333333, 65.0, 64.66666666666667, 64.66666666666667, 52.666666666666664, 77.0, 65.33333333333333, 69.33333333333333, 65.33333333333333, 53.666666666666664, 87.33333333333333, 74.66666666666667, 67.33333333333333, 65.0, 67.0, 68.66666666666667, 83.0, 69.33333333333333, 70.0, 53.0, 74.33333333333333, 78.0, 61.333333333333336, 71.0, 62.666666666666664, 57.0, 76.0, 51.666666666666664, 88.66666666666667, 51.666666666666664, 75.66666666666667, 75.66666666666667, 56.0, 84.66666666666667, 67.0, 63.666666666666664, 65.33333333333333, 64.66666666666667, 66.33333333333333, 38.666666666666664, 59.0, 85.0, 99.0, 82.0, 75.33333333333333, 68.0, 46.666666666666664, 43.666666666666664, 83.0, 43.0, 48.0, 48.666666666666664, 56.0, 61.0, 85.0, 75.0, 58.666666666666664, 75.0, 50.0, 82.33333333333333, 52.333333333333336, 75.0, 71.66666666666667, 67.0, 56.333333333333336, 68.33333333333333, 55.333333333333336, 90.33333333333333, 55.0, 63.0, 53.333333333333336, 62.333333333333336, 60.666666666666664, 72.66666666666667, 71.33333333333333, 58.333333333333336, 49.666666666666664, 74.0, 73.0, 63.666666666666664, 54.0, 69.33333333333333, 40.666666666666664, 53.0, 83.66666666666667, 76.0, 29.666666666666668, 64.66666666666667, 59.333333333333336, 56.666666666666664, 65.33333333333333, 69.66666666666667, 48.333333333333336, 70.0, 78.33333333333333, 61.0, 54.666666666666664, 92.0, 84.66666666666667, 75.66666666666667, 76.66666666666667, 71.0, 42.0, 78.0, 54.666666666666664, 39.333333333333336, 47.0, 78.33333333333333, 56.0, 66.66666666666667, 85.33333333333333, 87.0, 80.0, 52.666666666666664, 62.333333333333336, 70.0, 58.333333333333336, 59.333333333333336, 60.666666666666664, 51.0, 64.66666666666667, 72.0, 45.666666666666664, 57.666666666666664, 86.33333333333333, 56.0, 66.33333333333333, 74.66666666666667, 68.33333333333333, 64.0, 88.33333333333333, 70.0, 60.333333333333336, 96.66666666666667, 69.33333333333333, 75.0, 77.33333333333333, 56.0, 84.66666666666667, 93.66666666666667, 54.666666666666664, 48.0, 50.333333333333336, 54.666666666666664, 87.33333333333333, 55.333333333333336, 70.0, 82.33333333333333, 57.333333333333336, 70.33333333333333, 71.33333333333333, 69.33333333333333, 48.333333333333336, 52.0, 61.666666666666664, 69.33333333333333, 47.666666666666664, 87.33333333333333, 63.333333333333336, 63.333333333333336, 34.666666666666664, 30.666666666666668, 86.0, 75.0, 78.33333333333333, 80.66666666666667, 52.0, 71.33333333333333, 46.666666666666664, 78.33333333333333, 54.0, 68.0, 52.333333333333336, 68.66666666666667, 44.666666666666664, 68.0, 61.333333333333336, 71.0, 57.333333333333336, 51.666666666666664, 60.333333333333336, 63.666666666666664, 59.0, 57.333333333333336, 88.33333333333333, 70.33333333333333, 62.333333333333336, 57.666666666666664, 81.33333333333333, 55.666666666666664, 79.33333333333333, 73.33333333333333, 66.66666666666667, 63.666666666666664, 84.0, 97.33333333333333, 55.666666666666664, 75.66666666666667, 59.333333333333336, 51.666666666666664, 100.0, 62.333333333333336, 68.0, 62.0, 70.33333333333333, 79.66666666666667, 96.33333333333333, 58.333333333333336, 61.333333333333336, 61.666666666666664, 93.33333333333333, 18.333333333333332, 79.0, 77.0, 54.0, 50.0, 44.666666666666664, 69.0, 69.33333333333333, 62.666666666666664, 57.333333333333336, 83.0], \"xaxis\": \"x\", \"yaxis\": \"y\"}, {\"alignmentgroup\": \"True\", \"bingroup\": \"x\", \"hoverlabel\": {\"namelength\": 0}, \"hovertemplate\": \"test preparation course=completed<br>percentage=%{x}<br>count=%{y}\", \"legendgroup\": \"test preparation course=completed\", \"marker\": {\"color\": \"#EF553B\"}, \"name\": \"test preparation course=completed\", \"offsetgroup\": \"test preparation course=completed\", \"orientation\": \"v\", \"showlegend\": true, \"type\": \"histogram\", \"x\": [82.33333333333333, 91.66666666666667, 65.0, 73.33333333333333, 44.666666666666664, 70.0, 75.0, 80.33333333333333, 84.33333333333333, 63.333333333333336, 60.666666666666664, 69.0, 82.66666666666667, 71.33333333333333, 80.66666666666667, 84.33333333333333, 58.333333333333336, 75.0, 64.66666666666667, 60.333333333333336, 79.66666666666667, 69.0, 50.333333333333336, 46.0, 80.33333333333333, 64.33333333333333, 68.33333333333333, 72.0, 50.333333333333336, 91.33333333333333, 64.33333333333333, 88.0, 99.66666666666667, 86.66666666666667, 90.66666666666667, 91.33333333333333, 72.0, 43.333333333333336, 77.0, 80.0, 76.0, 48.666666666666664, 67.0, 50.333333333333336, 74.66666666666667, 97.66666666666667, 66.0, 65.0, 82.33333333333333, 72.66666666666667, 78.0, 78.0, 82.66666666666667, 98.66666666666667, 51.666666666666664, 70.66666666666667, 76.33333333333333, 70.66666666666667, 73.0, 49.333333333333336, 86.33333333333333, 52.666666666666664, 75.0, 61.333333333333336, 99.0, 68.33333333333333, 48.666666666666664, 65.66666666666667, 65.33333333333333, 79.33333333333333, 67.0, 79.33333333333333, 64.33333333333333, 79.0, 74.33333333333333, 79.0, 79.33333333333333, 55.666666666666664, 86.33333333333333, 80.66666666666667, 85.66666666666667, 57.666666666666664, 66.0, 63.666666666666664, 92.33333333333333, 83.0, 66.0, 69.0, 65.33333333333333, 48.333333333333336, 66.66666666666667, 77.33333333333333, 75.66666666666667, 73.33333333333333, 78.66666666666667, 91.66666666666667, 83.0, 90.0, 65.66666666666667, 75.33333333333333, 81.66666666666667, 89.0, 76.66666666666667, 60.0, 78.33333333333333, 43.333333333333336, 71.0, 45.333333333333336, 80.0, 77.33333333333333, 77.33333333333333, 89.0, 65.33333333333333, 68.0, 66.0, 83.33333333333333, 76.66666666666667, 78.0, 57.0, 71.66666666666667, 50.0, 73.0, 68.66666666666667, 88.66666666666667, 73.66666666666667, 59.0, 82.33333333333333, 55.666666666666664, 60.0, 62.666666666666664, 91.66666666666667, 93.33333333333333, 94.0, 66.33333333333333, 55.666666666666664, 72.0, 60.0, 95.66666666666667, 64.33333333333333, 55.0, 85.33333333333333, 71.66666666666667, 81.66666666666667, 65.66666666666667, 67.33333333333333, 71.0, 55.666666666666664, 89.33333333333333, 59.666666666666664, 57.333333333333336, 74.66666666666667, 50.333333333333336, 86.33333333333333, 75.66666666666667, 72.66666666666667, 82.33333333333333, 78.0, 68.33333333333333, 65.0, 68.0, 83.33333333333333, 86.0, 79.33333333333333, 90.33333333333333, 76.66666666666667, 68.0, 70.66666666666667, 58.0, 81.0, 66.0, 71.0, 91.0, 92.0, 59.0, 89.33333333333333, 82.66666666666667, 71.0, 74.0, 74.66666666666667, 51.333333333333336, 59.0, 69.33333333333333, 60.333333333333336, 87.0, 70.0, 77.33333333333333, 56.333333333333336, 74.0, 91.66666666666667, 70.66666666666667, 80.33333333333333, 80.33333333333333, 96.33333333333333, 67.66666666666667, 88.33333333333333, 68.66666666666667, 76.0, 92.66666666666667, 74.33333333333333, 97.33333333333333, 70.0, 72.0, 60.0, 49.333333333333336, 54.666666666666664, 54.0, 76.0, 97.0, 69.0, 87.66666666666667, 64.0, 91.66666666666667, 68.66666666666667, 53.666666666666664, 94.0, 98.66666666666667, 67.33333333333333, 50.0, 73.66666666666667, 76.0, 86.66666666666667, 84.0, 77.66666666666667, 75.66666666666667, 76.33333333333333, 53.333333333333336, 74.66666666666667, 89.66666666666667, 69.66666666666667, 56.666666666666664, 69.0, 76.66666666666667, 77.66666666666667, 74.66666666666667, 60.0, 75.66666666666667, 76.0, 37.666666666666664, 65.33333333333333, 97.66666666666667, 76.0, 73.66666666666667, 82.33333333333333, 71.33333333333333, 80.66666666666667, 86.0, 62.0, 53.666666666666664, 89.0, 83.33333333333333, 68.0, 85.66666666666667, 74.33333333333333, 97.0, 81.33333333333333, 57.666666666666664, 84.0, 75.33333333333333, 72.33333333333333, 58.666666666666664, 75.0, 90.0, 64.0, 68.0, 85.66666666666667, 69.33333333333333, 77.0, 84.0, 70.0, 58.666666666666664, 74.33333333333333, 81.66666666666667, 70.0, 66.0, 63.666666666666664, 77.66666666666667, 87.0, 81.0, 57.666666666666664, 83.66666666666667, 42.333333333333336, 83.33333333333333, 66.0, 69.33333333333333, 76.33333333333333, 61.666666666666664, 82.33333333333333, 89.0, 69.0, 89.0, 50.666666666666664, 64.66666666666667, 78.66666666666667, 83.0, 82.66666666666667, 66.0, 78.66666666666667, 56.0, 34.333333333333336, 75.66666666666667, 56.333333333333336, 87.0, 49.0, 39.666666666666664, 74.0, 84.0, 74.66666666666667, 72.66666666666667, 81.33333333333333, 64.33333333333333, 70.33333333333333, 72.66666666666667, 96.0, 87.33333333333333, 79.0, 73.33333333333333, 61.333333333333336, 75.0, 41.0, 97.66666666666667, 84.66666666666667, 68.0, 59.666666666666664, 58.333333333333336, 100.0, 71.33333333333333, 92.66666666666667, 66.0, 65.66666666666667, 44.333333333333336, 70.33333333333333, 68.33333333333333, 73.0, 91.66666666666667, 83.66666666666667, 71.33333333333333, 70.0, 61.333333333333336, 50.333333333333336, 68.33333333333333, 78.33333333333333, 54.666666666666664, 72.0, 66.0, 73.0, 54.333333333333336, 74.33333333333333, 60.666666666666664, 48.0, 83.33333333333333, 85.33333333333333, 77.33333333333333, 78.66666666666667, 80.66666666666667, 75.0, 94.0, 65.0, 74.33333333333333], \"xaxis\": \"x\", \"yaxis\": \"y\"}],\n",
              "                        {\"barmode\": \"relative\", \"legend\": {\"tracegroupgap\": 0}, \"template\": {\"data\": {\"bar\": [{\"error_x\": {\"color\": \"#2a3f5f\"}, \"error_y\": {\"color\": \"#2a3f5f\"}, \"marker\": {\"line\": {\"color\": \"#E5ECF6\", \"width\": 0.5}}, \"type\": \"bar\"}], \"barpolar\": [{\"marker\": {\"line\": {\"color\": \"#E5ECF6\", \"width\": 0.5}}, \"type\": \"barpolar\"}], \"carpet\": [{\"aaxis\": {\"endlinecolor\": \"#2a3f5f\", \"gridcolor\": \"white\", \"linecolor\": \"white\", \"minorgridcolor\": \"white\", \"startlinecolor\": \"#2a3f5f\"}, \"baxis\": {\"endlinecolor\": \"#2a3f5f\", \"gridcolor\": \"white\", \"linecolor\": \"white\", \"minorgridcolor\": \"white\", \"startlinecolor\": \"#2a3f5f\"}, \"type\": \"carpet\"}], \"choropleth\": [{\"colorbar\": {\"outlinewidth\": 0, \"ticks\": \"\"}, \"type\": \"choropleth\"}], \"contour\": [{\"colorbar\": {\"outlinewidth\": 0, \"ticks\": \"\"}, \"colorscale\": [[0.0, \"#0d0887\"], [0.1111111111111111, \"#46039f\"], [0.2222222222222222, \"#7201a8\"], [0.3333333333333333, \"#9c179e\"], [0.4444444444444444, \"#bd3786\"], [0.5555555555555556, \"#d8576b\"], [0.6666666666666666, \"#ed7953\"], [0.7777777777777778, \"#fb9f3a\"], [0.8888888888888888, \"#fdca26\"], [1.0, \"#f0f921\"]], \"type\": \"contour\"}], \"contourcarpet\": [{\"colorbar\": {\"outlinewidth\": 0, \"ticks\": \"\"}, \"type\": \"contourcarpet\"}], \"heatmap\": [{\"colorbar\": {\"outlinewidth\": 0, \"ticks\": \"\"}, \"colorscale\": [[0.0, \"#0d0887\"], [0.1111111111111111, \"#46039f\"], [0.2222222222222222, \"#7201a8\"], [0.3333333333333333, \"#9c179e\"], [0.4444444444444444, \"#bd3786\"], [0.5555555555555556, \"#d8576b\"], [0.6666666666666666, \"#ed7953\"], [0.7777777777777778, \"#fb9f3a\"], [0.8888888888888888, \"#fdca26\"], [1.0, \"#f0f921\"]], \"type\": \"heatmap\"}], \"heatmapgl\": [{\"colorbar\": {\"outlinewidth\": 0, \"ticks\": \"\"}, \"colorscale\": [[0.0, \"#0d0887\"], [0.1111111111111111, \"#46039f\"], [0.2222222222222222, \"#7201a8\"], [0.3333333333333333, \"#9c179e\"], [0.4444444444444444, \"#bd3786\"], [0.5555555555555556, \"#d8576b\"], [0.6666666666666666, \"#ed7953\"], [0.7777777777777778, \"#fb9f3a\"], [0.8888888888888888, \"#fdca26\"], [1.0, \"#f0f921\"]], \"type\": \"heatmapgl\"}], \"histogram\": [{\"marker\": {\"colorbar\": {\"outlinewidth\": 0, \"ticks\": \"\"}}, \"type\": \"histogram\"}], \"histogram2d\": [{\"colorbar\": {\"outlinewidth\": 0, \"ticks\": \"\"}, \"colorscale\": [[0.0, \"#0d0887\"], [0.1111111111111111, \"#46039f\"], [0.2222222222222222, \"#7201a8\"], [0.3333333333333333, \"#9c179e\"], [0.4444444444444444, \"#bd3786\"], [0.5555555555555556, \"#d8576b\"], [0.6666666666666666, \"#ed7953\"], [0.7777777777777778, \"#fb9f3a\"], [0.8888888888888888, \"#fdca26\"], [1.0, \"#f0f921\"]], \"type\": \"histogram2d\"}], \"histogram2dcontour\": [{\"colorbar\": {\"outlinewidth\": 0, \"ticks\": \"\"}, \"colorscale\": [[0.0, \"#0d0887\"], [0.1111111111111111, \"#46039f\"], [0.2222222222222222, \"#7201a8\"], [0.3333333333333333, \"#9c179e\"], [0.4444444444444444, \"#bd3786\"], [0.5555555555555556, \"#d8576b\"], [0.6666666666666666, \"#ed7953\"], [0.7777777777777778, \"#fb9f3a\"], [0.8888888888888888, \"#fdca26\"], [1.0, \"#f0f921\"]], \"type\": \"histogram2dcontour\"}], \"mesh3d\": [{\"colorbar\": {\"outlinewidth\": 0, \"ticks\": \"\"}, \"type\": \"mesh3d\"}], \"parcoords\": [{\"line\": {\"colorbar\": {\"outlinewidth\": 0, \"ticks\": \"\"}}, \"type\": \"parcoords\"}], \"pie\": [{\"automargin\": true, \"type\": \"pie\"}], \"scatter\": [{\"marker\": {\"colorbar\": {\"outlinewidth\": 0, \"ticks\": \"\"}}, \"type\": \"scatter\"}], \"scatter3d\": [{\"line\": {\"colorbar\": {\"outlinewidth\": 0, \"ticks\": \"\"}}, \"marker\": {\"colorbar\": {\"outlinewidth\": 0, \"ticks\": \"\"}}, \"type\": \"scatter3d\"}], \"scattercarpet\": [{\"marker\": {\"colorbar\": {\"outlinewidth\": 0, \"ticks\": \"\"}}, \"type\": \"scattercarpet\"}], \"scattergeo\": [{\"marker\": {\"colorbar\": {\"outlinewidth\": 0, \"ticks\": \"\"}}, \"type\": \"scattergeo\"}], \"scattergl\": [{\"marker\": {\"colorbar\": {\"outlinewidth\": 0, \"ticks\": \"\"}}, \"type\": \"scattergl\"}], \"scattermapbox\": [{\"marker\": {\"colorbar\": {\"outlinewidth\": 0, \"ticks\": \"\"}}, \"type\": \"scattermapbox\"}], \"scatterpolar\": [{\"marker\": {\"colorbar\": {\"outlinewidth\": 0, \"ticks\": \"\"}}, \"type\": \"scatterpolar\"}], \"scatterpolargl\": [{\"marker\": {\"colorbar\": {\"outlinewidth\": 0, \"ticks\": \"\"}}, \"type\": \"scatterpolargl\"}], \"scatterternary\": [{\"marker\": {\"colorbar\": {\"outlinewidth\": 0, \"ticks\": \"\"}}, \"type\": \"scatterternary\"}], \"surface\": [{\"colorbar\": {\"outlinewidth\": 0, \"ticks\": \"\"}, \"colorscale\": [[0.0, \"#0d0887\"], [0.1111111111111111, \"#46039f\"], [0.2222222222222222, \"#7201a8\"], [0.3333333333333333, \"#9c179e\"], [0.4444444444444444, \"#bd3786\"], [0.5555555555555556, \"#d8576b\"], [0.6666666666666666, \"#ed7953\"], [0.7777777777777778, \"#fb9f3a\"], [0.8888888888888888, \"#fdca26\"], [1.0, \"#f0f921\"]], \"type\": \"surface\"}], \"table\": [{\"cells\": {\"fill\": {\"color\": \"#EBF0F8\"}, \"line\": {\"color\": \"white\"}}, \"header\": {\"fill\": {\"color\": \"#C8D4E3\"}, \"line\": {\"color\": \"white\"}}, \"type\": \"table\"}]}, \"layout\": {\"annotationdefaults\": {\"arrowcolor\": \"#2a3f5f\", \"arrowhead\": 0, \"arrowwidth\": 1}, \"coloraxis\": {\"colorbar\": {\"outlinewidth\": 0, \"ticks\": \"\"}}, \"colorscale\": {\"diverging\": [[0, \"#8e0152\"], [0.1, \"#c51b7d\"], [0.2, \"#de77ae\"], [0.3, \"#f1b6da\"], [0.4, \"#fde0ef\"], [0.5, \"#f7f7f7\"], [0.6, \"#e6f5d0\"], [0.7, \"#b8e186\"], [0.8, \"#7fbc41\"], [0.9, \"#4d9221\"], [1, \"#276419\"]], \"sequential\": [[0.0, \"#0d0887\"], [0.1111111111111111, \"#46039f\"], [0.2222222222222222, \"#7201a8\"], [0.3333333333333333, \"#9c179e\"], [0.4444444444444444, \"#bd3786\"], [0.5555555555555556, \"#d8576b\"], [0.6666666666666666, \"#ed7953\"], [0.7777777777777778, \"#fb9f3a\"], [0.8888888888888888, \"#fdca26\"], [1.0, \"#f0f921\"]], \"sequentialminus\": [[0.0, \"#0d0887\"], [0.1111111111111111, \"#46039f\"], [0.2222222222222222, \"#7201a8\"], [0.3333333333333333, \"#9c179e\"], [0.4444444444444444, \"#bd3786\"], [0.5555555555555556, \"#d8576b\"], [0.6666666666666666, \"#ed7953\"], [0.7777777777777778, \"#fb9f3a\"], [0.8888888888888888, \"#fdca26\"], [1.0, \"#f0f921\"]]}, \"colorway\": [\"#636efa\", \"#EF553B\", \"#00cc96\", \"#ab63fa\", \"#FFA15A\", \"#19d3f3\", \"#FF6692\", \"#B6E880\", \"#FF97FF\", \"#FECB52\"], \"font\": {\"color\": \"#2a3f5f\"}, \"geo\": {\"bgcolor\": \"white\", \"lakecolor\": \"white\", \"landcolor\": \"#E5ECF6\", \"showlakes\": true, \"showland\": true, \"subunitcolor\": \"white\"}, \"hoverlabel\": {\"align\": \"left\"}, \"hovermode\": \"closest\", \"mapbox\": {\"style\": \"light\"}, \"paper_bgcolor\": \"white\", \"plot_bgcolor\": \"#E5ECF6\", \"polar\": {\"angularaxis\": {\"gridcolor\": \"white\", \"linecolor\": \"white\", \"ticks\": \"\"}, \"bgcolor\": \"#E5ECF6\", \"radialaxis\": {\"gridcolor\": \"white\", \"linecolor\": \"white\", \"ticks\": \"\"}}, \"scene\": {\"xaxis\": {\"backgroundcolor\": \"#E5ECF6\", \"gridcolor\": \"white\", \"gridwidth\": 2, \"linecolor\": \"white\", \"showbackground\": true, \"ticks\": \"\", \"zerolinecolor\": \"white\"}, \"yaxis\": {\"backgroundcolor\": \"#E5ECF6\", \"gridcolor\": \"white\", \"gridwidth\": 2, \"linecolor\": \"white\", \"showbackground\": true, \"ticks\": \"\", \"zerolinecolor\": \"white\"}, \"zaxis\": {\"backgroundcolor\": \"#E5ECF6\", \"gridcolor\": \"white\", \"gridwidth\": 2, \"linecolor\": \"white\", \"showbackground\": true, \"ticks\": \"\", \"zerolinecolor\": \"white\"}}, \"shapedefaults\": {\"line\": {\"color\": \"#2a3f5f\"}}, \"ternary\": {\"aaxis\": {\"gridcolor\": \"white\", \"linecolor\": \"white\", \"ticks\": \"\"}, \"baxis\": {\"gridcolor\": \"white\", \"linecolor\": \"white\", \"ticks\": \"\"}, \"bgcolor\": \"#E5ECF6\", \"caxis\": {\"gridcolor\": \"white\", \"linecolor\": \"white\", \"ticks\": \"\"}}, \"title\": {\"x\": 0.05}, \"xaxis\": {\"automargin\": true, \"gridcolor\": \"white\", \"linecolor\": \"white\", \"ticks\": \"\", \"title\": {\"standoff\": 15}, \"zerolinecolor\": \"white\", \"zerolinewidth\": 2}, \"yaxis\": {\"automargin\": true, \"gridcolor\": \"white\", \"linecolor\": \"white\", \"ticks\": \"\", \"title\": {\"standoff\": 15}, \"zerolinecolor\": \"white\", \"zerolinewidth\": 2}}}, \"title\": {\"text\": \"<b>test preparation course vs percentage</b>\"}, \"xaxis\": {\"anchor\": \"y\", \"domain\": [0.0, 1.0], \"title\": {\"text\": \"percentage\"}}, \"yaxis\": {\"anchor\": \"x\", \"domain\": [0.0, 1.0], \"title\": {\"text\": \"count\"}}},\n",
              "                        {\"responsive\": true}\n",
              "                    ).then(function(){\n",
              "                            \n",
              "var gd = document.getElementById('f26d8c22-b669-41b8-b772-a7d24853b1fb');\n",
              "var x = new MutationObserver(function (mutations, observer) {{\n",
              "        var display = window.getComputedStyle(gd).display;\n",
              "        if (!display || display === 'none') {{\n",
              "            console.log([gd, 'removed!']);\n",
              "            Plotly.purge(gd);\n",
              "            observer.disconnect();\n",
              "        }}\n",
              "}});\n",
              "\n",
              "// Listen for the removal of the full notebook cells\n",
              "var notebookContainer = gd.closest('#notebook-container');\n",
              "if (notebookContainer) {{\n",
              "    x.observe(notebookContainer, {childList: true});\n",
              "}}\n",
              "\n",
              "// Listen for the clearing of the current output cell\n",
              "var outputEl = gd.closest('.output');\n",
              "if (outputEl) {{\n",
              "    x.observe(outputEl, {childList: true});\n",
              "}}\n",
              "\n",
              "                        })\n",
              "                };\n",
              "                \n",
              "            </script>\n",
              "        </div>\n",
              "</body>\n",
              "</html>"
            ]
          },
          "metadata": {}
        }
      ],
      "source": [
        "fig = px.box(df, x=\"test preparation course\", y=\"percentage\")\n",
        "fig.show()\n",
        "\n",
        "fig = px.histogram(data_frame = df,\n",
        "             x ='percentage',\n",
        "             color=\"test preparation course\", title=\"<b>test preparation course vs percentage</b>\",   \n",
        ")\n",
        "fig.show()"
      ]
    },
    {
      "cell_type": "markdown",
      "metadata": {
        "id": "ZAy_4nLbBfiZ"
      },
      "source": [
        "### we can see a higher interquartile range of people who took the course than people who didn't in total percentage which indicates improved percentages for people who took the course"
      ]
    },
    {
      "cell_type": "markdown",
      "metadata": {
        "id": "sZ09qsBcBfif"
      },
      "source": [
        "### figuring out the relationship between lunch plan and total percentage\n"
      ]
    },
    {
      "cell_type": "code",
      "execution_count": null,
      "metadata": {
        "colab": {
          "base_uri": "https://localhost:8080/",
          "height": 542
        },
        "id": "nO-i2lwRBfig",
        "outputId": "d82abc39-4de8-4d38-9b1e-846fb1ad6ddd"
      },
      "outputs": [
        {
          "output_type": "display_data",
          "data": {
            "text/html": [
              "<html>\n",
              "<head><meta charset=\"utf-8\" /></head>\n",
              "<body>\n",
              "    <div>\n",
              "            <script src=\"https://cdnjs.cloudflare.com/ajax/libs/mathjax/2.7.5/MathJax.js?config=TeX-AMS-MML_SVG\"></script><script type=\"text/javascript\">if (window.MathJax) {MathJax.Hub.Config({SVG: {font: \"STIX-Web\"}});}</script>\n",
              "                <script type=\"text/javascript\">window.PlotlyConfig = {MathJaxConfig: 'local'};</script>\n",
              "        <script src=\"https://cdn.plot.ly/plotly-latest.min.js\"></script>    \n",
              "            <div id=\"dd652ace-dbba-4994-a5e2-e72c023585c2\" class=\"plotly-graph-div\" style=\"height:525px; width:100%;\"></div>\n",
              "            <script type=\"text/javascript\">\n",
              "                \n",
              "                    window.PLOTLYENV=window.PLOTLYENV || {};\n",
              "                    \n",
              "                if (document.getElementById(\"dd652ace-dbba-4994-a5e2-e72c023585c2\")) {\n",
              "                    Plotly.newPlot(\n",
              "                        'dd652ace-dbba-4994-a5e2-e72c023585c2',\n",
              "                        [{\"alignmentgroup\": \"True\", \"hoverlabel\": {\"namelength\": 0}, \"hovertemplate\": \"lunch=%{x}<br>percentage=%{y}\", \"legendgroup\": \"\", \"marker\": {\"color\": \"#636efa\"}, \"name\": \"\", \"notched\": false, \"offsetgroup\": \"\", \"orientation\": \"v\", \"showlegend\": false, \"type\": \"box\", \"x\": [\"standard\", \"standard\", \"standard\", \"free/reduced\", \"standard\", \"standard\", \"standard\", \"free/reduced\", \"free/reduced\", \"free/reduced\", \"standard\", \"standard\", \"standard\", \"standard\", \"standard\", \"standard\", \"standard\", \"free/reduced\", \"free/reduced\", \"free/reduced\", \"standard\", \"free/reduced\", \"standard\", \"standard\", \"free/reduced\", \"free/reduced\", \"standard\", \"standard\", \"standard\", \"standard\", \"standard\", \"standard\", \"free/reduced\", \"standard\", \"standard\", \"standard\", \"standard\", \"free/reduced\", \"free/reduced\", \"free/reduced\", \"free/reduced\", \"standard\", \"standard\", \"free/reduced\", \"free/reduced\", \"standard\", \"standard\", \"standard\", \"free/reduced\", \"standard\", \"standard\", \"free/reduced\", \"standard\", \"standard\", \"free/reduced\", \"free/reduced\", \"standard\", \"standard\", \"standard\", \"free/reduced\", \"free/reduced\", \"free/reduced\", \"free/reduced\", \"standard\", \"standard\", \"standard\", \"free/reduced\", \"standard\", \"free/reduced\", \"standard\", \"free/reduced\", \"standard\", \"free/reduced\", \"free/reduced\", \"standard\", \"free/reduced\", \"standard\", \"standard\", \"standard\", \"standard\", \"standard\", \"free/reduced\", \"free/reduced\", \"standard\", \"free/reduced\", \"standard\", \"free/reduced\", \"standard\", \"standard\", \"standard\", \"standard\", \"free/reduced\", \"standard\", \"free/reduced\", \"standard\", \"free/reduced\", \"standard\", \"standard\", \"free/reduced\", \"standard\", \"standard\", \"standard\", \"standard\", \"standard\", \"standard\", \"standard\", \"standard\", \"standard\", \"free/reduced\", \"standard\", \"free/reduced\", \"standard\", \"standard\", \"standard\", \"standard\", \"standard\", \"free/reduced\", \"standard\", \"standard\", \"standard\", \"standard\", \"standard\", \"standard\", \"free/reduced\", \"standard\", \"standard\", \"standard\", \"standard\", \"standard\", \"standard\", \"standard\", \"free/reduced\", \"free/reduced\", \"standard\", \"free/reduced\", \"standard\", \"standard\", \"standard\", \"standard\", \"standard\", \"standard\", \"free/reduced\", \"free/reduced\", \"standard\", \"standard\", \"free/reduced\", \"standard\", \"free/reduced\", \"standard\", \"free/reduced\", \"standard\", \"standard\", \"standard\", \"standard\", \"standard\", \"standard\", \"free/reduced\", \"free/reduced\", \"standard\", \"free/reduced\", \"free/reduced\", \"free/reduced\", \"free/reduced\", \"standard\", \"standard\", \"standard\", \"free/reduced\", \"free/reduced\", \"standard\", \"free/reduced\", \"standard\", \"standard\", \"standard\", \"standard\", \"free/reduced\", \"standard\", \"free/reduced\", \"standard\", \"free/reduced\", \"standard\", \"free/reduced\", \"free/reduced\", \"standard\", \"standard\", \"free/reduced\", \"free/reduced\", \"standard\", \"standard\", \"free/reduced\", \"standard\", \"standard\", \"standard\", \"standard\", \"standard\", \"standard\", \"standard\", \"free/reduced\", \"free/reduced\", \"free/reduced\", \"free/reduced\", \"standard\", \"free/reduced\", \"standard\", \"standard\", \"standard\", \"standard\", \"standard\", \"standard\", \"free/reduced\", \"free/reduced\", \"free/reduced\", \"free/reduced\", \"free/reduced\", \"free/reduced\", \"standard\", \"standard\", \"free/reduced\", \"free/reduced\", \"free/reduced\", \"standard\", \"standard\", \"standard\", \"free/reduced\", \"standard\", \"standard\", \"free/reduced\", \"standard\", \"standard\", \"free/reduced\", \"standard\", \"standard\", \"standard\", \"standard\", \"standard\", \"standard\", \"standard\", \"free/reduced\", \"standard\", \"standard\", \"standard\", \"free/reduced\", \"standard\", \"standard\", \"standard\", \"standard\", \"standard\", \"standard\", \"standard\", \"standard\", \"standard\", \"standard\", \"free/reduced\", \"standard\", \"standard\", \"standard\", \"standard\", \"free/reduced\", \"standard\", \"standard\", \"free/reduced\", \"free/reduced\", \"standard\", \"free/reduced\", \"standard\", \"standard\", \"free/reduced\", \"standard\", \"standard\", \"standard\", \"free/reduced\", \"standard\", \"standard\", \"free/reduced\", \"standard\", \"standard\", \"standard\", \"standard\", \"standard\", \"free/reduced\", \"free/reduced\", \"standard\", \"standard\", \"free/reduced\", \"free/reduced\", \"standard\", \"standard\", \"standard\", \"standard\", \"free/reduced\", \"standard\", \"standard\", \"standard\", \"standard\", \"standard\", \"free/reduced\", \"free/reduced\", \"standard\", \"standard\", \"free/reduced\", \"free/reduced\", \"free/reduced\", \"free/reduced\", \"standard\", \"standard\", \"standard\", \"standard\", \"standard\", \"standard\", \"free/reduced\", \"free/reduced\", \"standard\", \"standard\", \"standard\", \"free/reduced\", \"standard\", \"standard\", \"standard\", \"standard\", \"standard\", \"free/reduced\", \"free/reduced\", \"standard\", \"standard\", \"free/reduced\", \"free/reduced\", \"standard\", \"standard\", \"free/reduced\", \"standard\", \"standard\", \"standard\", \"standard\", \"standard\", \"standard\", \"standard\", \"free/reduced\", \"standard\", \"standard\", \"free/reduced\", \"free/reduced\", \"free/reduced\", \"standard\", \"standard\", \"standard\", \"standard\", \"standard\", \"standard\", \"standard\", \"free/reduced\", \"standard\", \"standard\", \"standard\", \"standard\", \"standard\", \"standard\", \"standard\", \"standard\", \"free/reduced\", \"free/reduced\", \"standard\", \"standard\", \"standard\", \"standard\", \"free/reduced\", \"standard\", \"free/reduced\", \"standard\", \"free/reduced\", \"free/reduced\", \"standard\", \"standard\", \"free/reduced\", \"standard\", \"standard\", \"standard\", \"free/reduced\", \"standard\", \"free/reduced\", \"standard\", \"standard\", \"standard\", \"standard\", \"free/reduced\", \"free/reduced\", \"free/reduced\", \"standard\", \"standard\", \"free/reduced\", \"standard\", \"standard\", \"free/reduced\", \"standard\", \"standard\", \"standard\", \"standard\", \"free/reduced\", \"free/reduced\", \"standard\", \"standard\", \"standard\", \"standard\", \"standard\", \"free/reduced\", \"standard\", \"standard\", \"standard\", \"standard\", \"standard\", \"free/reduced\", \"standard\", \"standard\", \"standard\", \"standard\", \"standard\", \"free/reduced\", \"standard\", \"standard\", \"standard\", \"standard\", \"free/reduced\", \"free/reduced\", \"standard\", \"free/reduced\", \"standard\", \"free/reduced\", \"free/reduced\", \"standard\", \"free/reduced\", \"free/reduced\", \"free/reduced\", \"free/reduced\", \"standard\", \"standard\", \"free/reduced\", \"standard\", \"free/reduced\", \"standard\", \"free/reduced\", \"standard\", \"standard\", \"standard\", \"standard\", \"free/reduced\", \"standard\", \"free/reduced\", \"standard\", \"free/reduced\", \"standard\", \"standard\", \"standard\", \"free/reduced\", \"standard\", \"free/reduced\", \"free/reduced\", \"free/reduced\", \"free/reduced\", \"standard\", \"free/reduced\", \"standard\", \"standard\", \"free/reduced\", \"free/reduced\", \"standard\", \"free/reduced\", \"standard\", \"standard\", \"free/reduced\", \"free/reduced\", \"free/reduced\", \"standard\", \"standard\", \"standard\", \"standard\", \"standard\", \"standard\", \"standard\", \"standard\", \"standard\", \"standard\", \"standard\", \"standard\", \"free/reduced\", \"free/reduced\", \"standard\", \"standard\", \"standard\", \"free/reduced\", \"free/reduced\", \"standard\", \"free/reduced\", \"free/reduced\", \"standard\", \"standard\", \"standard\", \"standard\", \"standard\", \"standard\", \"free/reduced\", \"standard\", \"standard\", \"standard\", \"standard\", \"free/reduced\", \"standard\", \"free/reduced\", \"standard\", \"standard\", \"free/reduced\", \"standard\", \"standard\", \"standard\", \"standard\", \"free/reduced\", \"standard\", \"free/reduced\", \"standard\", \"standard\", \"standard\", \"standard\", \"free/reduced\", \"standard\", \"standard\", \"standard\", \"free/reduced\", \"standard\", \"standard\", \"free/reduced\", \"free/reduced\", \"free/reduced\", \"standard\", \"standard\", \"standard\", \"standard\", \"standard\", \"standard\", \"free/reduced\", \"standard\", \"standard\", \"standard\", \"standard\", \"standard\", \"free/reduced\", \"standard\", \"standard\", \"standard\", \"free/reduced\", \"standard\", \"standard\", \"free/reduced\", \"standard\", \"free/reduced\", \"free/reduced\", \"standard\", \"free/reduced\", \"standard\", \"free/reduced\", \"standard\", \"free/reduced\", \"free/reduced\", \"standard\", \"standard\", \"standard\", \"standard\", \"free/reduced\", \"free/reduced\", \"standard\", \"free/reduced\", \"free/reduced\", \"free/reduced\", \"free/reduced\", \"standard\", \"standard\", \"standard\", \"free/reduced\", \"standard\", \"free/reduced\", \"standard\", \"standard\", \"free/reduced\", \"standard\", \"standard\", \"standard\", \"free/reduced\", \"standard\", \"standard\", \"standard\", \"standard\", \"free/reduced\", \"standard\", \"standard\", \"free/reduced\", \"standard\", \"standard\", \"standard\", \"standard\", \"standard\", \"free/reduced\", \"standard\", \"standard\", \"standard\", \"standard\", \"standard\", \"standard\", \"free/reduced\", \"free/reduced\", \"standard\", \"standard\", \"free/reduced\", \"standard\", \"standard\", \"free/reduced\", \"standard\", \"standard\", \"standard\", \"standard\", \"standard\", \"standard\", \"standard\", \"standard\", \"free/reduced\", \"free/reduced\", \"free/reduced\", \"free/reduced\", \"standard\", \"free/reduced\", \"standard\", \"free/reduced\", \"standard\", \"free/reduced\", \"standard\", \"standard\", \"standard\", \"standard\", \"standard\", \"standard\", \"standard\", \"free/reduced\", \"standard\", \"standard\", \"standard\", \"standard\", \"free/reduced\", \"free/reduced\", \"standard\", \"standard\", \"standard\", \"standard\", \"free/reduced\", \"standard\", \"standard\", \"free/reduced\", \"standard\", \"standard\", \"standard\", \"standard\", \"standard\", \"free/reduced\", \"standard\", \"free/reduced\", \"standard\", \"free/reduced\", \"standard\", \"free/reduced\", \"standard\", \"standard\", \"free/reduced\", \"free/reduced\", \"free/reduced\", \"standard\", \"standard\", \"free/reduced\", \"free/reduced\", \"standard\", \"standard\", \"standard\", \"standard\", \"standard\", \"standard\", \"free/reduced\", \"free/reduced\", \"standard\", \"standard\", \"standard\", \"free/reduced\", \"standard\", \"standard\", \"standard\", \"free/reduced\", \"free/reduced\", \"free/reduced\", \"standard\", \"free/reduced\", \"free/reduced\", \"standard\", \"standard\", \"free/reduced\", \"standard\", \"standard\", \"standard\", \"free/reduced\", \"standard\", \"standard\", \"standard\", \"standard\", \"free/reduced\", \"free/reduced\", \"standard\", \"standard\", \"standard\", \"free/reduced\", \"standard\", \"standard\", \"standard\", \"standard\", \"standard\", \"free/reduced\", \"standard\", \"standard\", \"standard\", \"free/reduced\", \"free/reduced\", \"free/reduced\", \"free/reduced\", \"standard\", \"standard\", \"standard\", \"standard\", \"standard\", \"free/reduced\", \"standard\", \"free/reduced\", \"free/reduced\", \"standard\", \"standard\", \"free/reduced\", \"standard\", \"standard\", \"free/reduced\", \"standard\", \"free/reduced\", \"standard\", \"free/reduced\", \"standard\", \"standard\", \"free/reduced\", \"standard\", \"standard\", \"standard\", \"free/reduced\", \"standard\", \"standard\", \"standard\", \"free/reduced\", \"standard\", \"free/reduced\", \"standard\", \"standard\", \"free/reduced\", \"free/reduced\", \"standard\", \"free/reduced\", \"standard\", \"standard\", \"standard\", \"standard\", \"standard\", \"standard\", \"standard\", \"standard\", \"free/reduced\", \"standard\", \"standard\", \"free/reduced\", \"free/reduced\", \"standard\", \"free/reduced\", \"standard\", \"free/reduced\", \"standard\", \"standard\", \"free/reduced\", \"standard\", \"free/reduced\", \"standard\", \"standard\", \"standard\", \"free/reduced\", \"standard\", \"free/reduced\", \"free/reduced\", \"standard\", \"free/reduced\", \"free/reduced\", \"standard\", \"standard\", \"free/reduced\", \"standard\", \"free/reduced\", \"standard\", \"standard\", \"standard\", \"standard\", \"standard\", \"standard\", \"standard\", \"free/reduced\", \"free/reduced\", \"free/reduced\", \"standard\", \"standard\", \"standard\", \"free/reduced\", \"standard\", \"standard\", \"standard\", \"standard\", \"standard\", \"free/reduced\", \"free/reduced\", \"standard\", \"standard\", \"free/reduced\", \"free/reduced\", \"free/reduced\", \"free/reduced\", \"standard\", \"free/reduced\", \"standard\", \"free/reduced\", \"standard\", \"free/reduced\", \"free/reduced\", \"standard\", \"standard\", \"standard\", \"standard\", \"standard\", \"standard\", \"free/reduced\", \"standard\", \"free/reduced\", \"standard\", \"free/reduced\", \"free/reduced\", \"free/reduced\", \"standard\", \"standard\", \"standard\", \"standard\", \"standard\", \"standard\", \"standard\", \"standard\", \"standard\", \"standard\", \"standard\", \"free/reduced\", \"standard\", \"standard\", \"free/reduced\", \"standard\", \"free/reduced\", \"free/reduced\", \"standard\", \"standard\", \"standard\", \"free/reduced\", \"standard\", \"free/reduced\", \"free/reduced\", \"standard\", \"standard\", \"standard\", \"free/reduced\", \"free/reduced\", \"free/reduced\", \"standard\", \"standard\", \"standard\", \"standard\", \"standard\", \"standard\", \"free/reduced\", \"free/reduced\", \"standard\", \"standard\", \"standard\", \"free/reduced\", \"free/reduced\", \"free/reduced\", \"standard\", \"standard\", \"free/reduced\", \"standard\", \"standard\", \"free/reduced\", \"free/reduced\", \"free/reduced\", \"standard\", \"standard\", \"standard\", \"standard\", \"free/reduced\", \"free/reduced\", \"free/reduced\", \"standard\", \"standard\", \"standard\", \"free/reduced\", \"standard\", \"free/reduced\", \"standard\", \"standard\", \"free/reduced\", \"free/reduced\", \"standard\", \"standard\", \"standard\", \"standard\", \"standard\", \"free/reduced\", \"free/reduced\", \"standard\", \"free/reduced\", \"free/reduced\", \"standard\", \"free/reduced\", \"free/reduced\", \"free/reduced\", \"free/reduced\", \"free/reduced\", \"free/reduced\", \"free/reduced\", \"free/reduced\", \"standard\", \"free/reduced\", \"standard\", \"free/reduced\", \"standard\", \"standard\", \"free/reduced\", \"standard\", \"standard\", \"free/reduced\", \"standard\", \"standard\", \"standard\", \"free/reduced\", \"free/reduced\", \"free/reduced\", \"standard\", \"standard\", \"free/reduced\", \"standard\", \"standard\", \"standard\", \"standard\", \"standard\", \"standard\", \"standard\", \"standard\", \"free/reduced\", \"standard\", \"free/reduced\", \"standard\", \"standard\", \"standard\", \"standard\", \"standard\", \"standard\", \"standard\", \"standard\", \"free/reduced\", \"free/reduced\", \"standard\", \"standard\", \"free/reduced\", \"standard\", \"standard\", \"standard\", \"free/reduced\", \"standard\", \"standard\", \"standard\", \"standard\", \"standard\", \"standard\", \"standard\", \"free/reduced\", \"free/reduced\", \"free/reduced\", \"standard\", \"free/reduced\", \"free/reduced\", \"standard\", \"standard\", \"free/reduced\", \"free/reduced\", \"standard\", \"free/reduced\"], \"x0\": \" \", \"xaxis\": \"x\", \"y\": [72.66666666666667, 82.33333333333333, 92.66666666666667, 49.333333333333336, 76.33333333333333, 77.33333333333333, 91.66666666666667, 40.666666666666664, 65.0, 49.333333333333336, 54.666666666666664, 45.0, 73.0, 73.33333333333333, 53.666666666666664, 74.0, 87.66666666666667, 26.0, 44.666666666666664, 57.666666666666664, 66.0, 70.0, 50.333333333333336, 71.66666666666667, 75.0, 73.0, 59.333333333333336, 70.33333333333333, 68.33333333333333, 69.0, 72.33333333333333, 63.0, 64.33333333333333, 40.0, 88.66666666666667, 80.33333333333333, 79.33333333333333, 57.666666666666664, 84.33333333333333, 56.666666666666664, 56.666666666666664, 66.33333333333333, 58.666666666666664, 63.333333333333336, 53.333333333333336, 58.666666666666664, 60.666666666666664, 71.0, 69.0, 82.66666666666667, 52.0, 71.33333333333333, 46.333333333333336, 80.33333333333333, 80.66666666666667, 39.0, 84.33333333333333, 52.0, 58.333333333333336, 9.0, 75.0, 37.333333333333336, 59.333333333333336, 73.33333333333333, 58.666666666666664, 64.0, 39.666666666666664, 68.66666666666667, 58.333333333333336, 53.333333333333336, 64.66666666666667, 60.333333333333336, 46.666666666666664, 58.0, 46.333333333333336, 41.0, 26.0, 79.66666666666667, 69.0, 66.0, 48.666666666666664, 46.333333333333336, 50.333333333333336, 66.33333333333333, 38.333333333333336, 78.33333333333333, 82.33333333333333, 72.0, 65.0, 80.33333333333333, 70.33333333333333, 32.333333333333336, 73.66666666666667, 46.0, 85.66666666666667, 80.33333333333333, 64.33333333333333, 68.33333333333333, 62.333333333333336, 64.66666666666667, 71.0, 72.0, 88.33333333333333, 50.333333333333336, 91.33333333333333, 65.66666666666667, 95.66666666666667, 64.33333333333333, 66.0, 68.66666666666667, 88.0, 55.333333333333336, 51.333333333333336, 54.333333333333336, 99.66666666666667, 78.33333333333333, 80.66666666666667, 79.66666666666667, 58.333333333333336, 63.0, 86.66666666666667, 90.66666666666667, 91.33333333333333, 58.666666666666664, 78.66666666666667, 89.33333333333333, 69.0, 72.0, 79.33333333333333, 50.333333333333336, 85.0, 43.333333333333336, 77.0, 80.0, 76.0, 53.666666666666664, 48.666666666666664, 60.333333333333336, 64.0, 67.0, 73.0, 61.666666666666664, 50.333333333333336, 49.0, 79.66666666666667, 31.333333333333332, 82.33333333333333, 69.0, 74.66666666666667, 97.66666666666667, 66.0, 70.66666666666667, 65.0, 50.0, 63.333333333333336, 82.33333333333333, 72.66666666666667, 60.0, 78.0, 64.0, 78.0, 82.66666666666667, 51.333333333333336, 51.333333333333336, 88.0, 98.66666666666667, 51.666666666666664, 70.66666666666667, 76.33333333333333, 70.66666666666667, 73.0, 86.66666666666667, 82.0, 66.66666666666667, 49.333333333333336, 86.33333333333333, 52.666666666666664, 75.0, 61.333333333333336, 99.0, 68.33333333333333, 58.666666666666664, 49.0, 68.0, 48.666666666666664, 65.66666666666667, 73.66666666666667, 65.33333333333333, 48.333333333333336, 84.0, 66.66666666666667, 79.33333333333333, 64.0, 67.0, 79.33333333333333, 56.0, 64.33333333333333, 54.0, 51.0, 77.66666666666667, 79.0, 74.33333333333333, 71.66666666666667, 64.66666666666667, 47.333333333333336, 74.33333333333333, 68.66666666666667, 79.0, 77.0, 61.666666666666664, 79.33333333333333, 30.0, 54.666666666666664, 55.666666666666664, 86.33333333333333, 80.66666666666667, 85.66666666666667, 38.333333333333336, 71.0, 57.666666666666664, 66.0, 81.66666666666667, 60.666666666666664, 80.33333333333333, 63.666666666666664, 51.666666666666664, 71.66666666666667, 53.666666666666664, 68.0, 92.33333333333333, 68.66666666666667, 43.666666666666664, 78.66666666666667, 85.66666666666667, 83.0, 77.33333333333333, 65.33333333333333, 66.0, 52.333333333333336, 81.33333333333333, 69.0, 82.0, 54.333333333333336, 51.0, 72.66666666666667, 77.33333333333333, 79.66666666666667, 65.33333333333333, 63.666666666666664, 60.333333333333336, 48.333333333333336, 79.0, 66.66666666666667, 77.33333333333333, 52.666666666666664, 68.33333333333333, 68.33333333333333, 77.33333333333333, 74.33333333333333, 75.66666666666667, 73.33333333333333, 78.66666666666667, 48.333333333333336, 94.0, 72.33333333333333, 47.333333333333336, 73.0, 72.66666666666667, 91.66666666666667, 72.33333333333333, 64.33333333333333, 49.666666666666664, 52.666666666666664, 68.66666666666667, 83.0, 78.0, 90.0, 65.66666666666667, 77.0, 62.0, 49.0, 46.333333333333336, 78.66666666666667, 75.33333333333333, 43.0, 81.66666666666667, 89.0, 79.33333333333333, 79.66666666666667, 76.66666666666667, 71.33333333333333, 76.33333333333333, 60.0, 71.0, 78.33333333333333, 63.0, 43.333333333333336, 71.0, 45.333333333333336, 84.0, 80.0, 54.0, 77.33333333333333, 73.33333333333333, 77.33333333333333, 68.33333333333333, 89.0, 49.0, 63.666666666666664, 52.666666666666664, 76.33333333333333, 61.0, 65.33333333333333, 68.0, 66.0, 67.33333333333333, 83.33333333333333, 77.66666666666667, 67.66666666666667, 61.333333333333336, 76.66666666666667, 80.0, 77.33333333333333, 49.666666666666664, 43.333333333333336, 88.66666666666667, 61.333333333333336, 23.333333333333332, 78.0, 49.0, 64.0, 39.666666666666664, 57.0, 83.0, 90.33333333333333, 65.0, 71.66666666666667, 47.666666666666664, 29.666666666666668, 50.0, 57.0, 65.66666666666667, 73.0, 68.66666666666667, 73.0, 75.66666666666667, 60.0, 88.66666666666667, 71.66666666666667, 79.0, 62.0, 58.333333333333336, 73.66666666666667, 53.666666666666664, 66.66666666666667, 67.66666666666667, 61.666666666666664, 59.0, 60.666666666666664, 86.33333333333333, 59.666666666666664, 82.33333333333333, 56.0, 31.0, 59.0, 55.666666666666664, 60.0, 62.666666666666664, 55.333333333333336, 80.66666666666667, 77.33333333333333, 62.666666666666664, 73.33333333333333, 91.66666666666667, 67.33333333333333, 43.333333333333336, 84.0, 93.33333333333333, 77.0, 64.0, 83.0, 94.0, 77.0, 44.0, 41.333333333333336, 72.66666666666667, 69.0, 67.33333333333333, 63.333333333333336, 72.66666666666667, 66.33333333333333, 74.0, 70.0, 55.666666666666664, 72.0, 44.666666666666664, 60.0, 89.66666666666667, 64.66666666666667, 57.666666666666664, 60.0, 46.333333333333336, 56.333333333333336, 95.66666666666667, 58.333333333333336, 68.0, 64.33333333333333, 79.66666666666667, 55.0, 85.33333333333333, 71.66666666666667, 81.66666666666667, 65.66666666666667, 65.66666666666667, 67.33333333333333, 75.33333333333333, 71.0, 71.33333333333333, 63.0, 55.666666666666664, 89.33333333333333, 59.666666666666664, 57.333333333333336, 74.66666666666667, 38.0, 63.666666666666664, 85.0, 68.33333333333333, 59.0, 61.666666666666664, 63.0, 67.66666666666667, 57.333333333333336, 52.0, 68.33333333333333, 50.333333333333336, 69.0, 71.33333333333333, 59.0, 86.33333333333333, 75.66666666666667, 79.66666666666667, 67.0, 77.33333333333333, 78.0, 72.66666666666667, 65.0, 82.33333333333333, 45.0, 75.33333333333333, 78.0, 96.33333333333333, 72.0, 57.333333333333336, 58.666666666666664, 46.666666666666664, 85.66666666666667, 51.666666666666664, 100.0, 68.33333333333333, 55.333333333333336, 51.0, 72.33333333333333, 86.0, 65.0, 87.33333333333333, 31.666666666666668, 68.0, 83.33333333333333, 80.33333333333333, 86.0, 68.66666666666667, 79.33333333333333, 62.333333333333336, 90.33333333333333, 76.66666666666667, 68.0, 73.33333333333333, 63.0, 71.33333333333333, 70.66666666666667, 55.666666666666664, 65.66666666666667, 52.333333333333336, 51.666666666666664, 71.66666666666667, 54.666666666666664, 69.66666666666667, 58.0, 81.0, 75.33333333333333, 66.0, 85.33333333333333, 86.33333333333333, 62.0, 66.0, 51.333333333333336, 71.0, 67.66666666666667, 73.0, 78.33333333333333, 91.0, 59.333333333333336, 92.0, 51.0, 81.33333333333333, 68.0, 56.0, 78.0, 88.33333333333333, 73.33333333333333, 52.333333333333336, 54.333333333333336, 59.0, 89.33333333333333, 82.66666666666667, 82.33333333333333, 71.0, 74.0, 74.66666666666667, 57.333333333333336, 87.0, 61.333333333333336, 54.333333333333336, 51.333333333333336, 62.333333333333336, 59.0, 44.0, 39.0, 68.66666666666667, 69.33333333333333, 51.333333333333336, 60.333333333333336, 87.0, 70.0, 77.33333333333333, 56.333333333333336, 59.666666666666664, 74.0, 91.66666666666667, 70.66666666666667, 80.33333333333333, 79.0, 88.66666666666667, 64.33333333333333, 80.33333333333333, 96.33333333333333, 67.66666666666667, 64.33333333333333, 73.33333333333333, 73.33333333333333, 88.33333333333333, 46.0, 67.66666666666667, 46.0, 34.666666666666664, 68.66666666666667, 64.66666666666667, 64.33333333333333, 67.0, 76.0, 70.33333333333333, 92.66666666666667, 74.33333333333333, 48.333333333333336, 45.333333333333336, 97.33333333333333, 70.0, 52.666666666666664, 67.66666666666667, 72.0, 93.0, 57.0, 60.0, 75.33333333333333, 49.333333333333336, 54.666666666666664, 87.0, 54.0, 60.666666666666664, 91.33333333333333, 78.66666666666667, 71.33333333333333, 76.0, 74.33333333333333, 72.33333333333333, 67.0, 56.333333333333336, 61.0, 59.666666666666664, 56.333333333333336, 61.0, 66.66666666666667, 74.33333333333333, 97.0, 69.0, 23.0, 51.666666666666664, 73.0, 76.0, 59.0, 29.333333333333332, 78.0, 56.0, 87.66666666666667, 69.66666666666667, 83.66666666666667, 50.666666666666664, 62.333333333333336, 62.0, 64.0, 61.0, 91.66666666666667, 72.0, 89.33333333333333, 66.66666666666667, 40.0, 83.0, 86.66666666666667, 68.66666666666667, 50.0, 60.333333333333336, 53.666666666666664, 94.0, 60.333333333333336, 98.66666666666667, 67.33333333333333, 51.666666666666664, 50.666666666666664, 50.0, 67.0, 68.0, 73.66666666666667, 82.66666666666667, 82.66666666666667, 69.66666666666667, 76.0, 86.66666666666667, 78.66666666666667, 74.33333333333333, 48.0, 84.0, 77.33333333333333, 77.66666666666667, 65.0, 75.66666666666667, 64.66666666666667, 64.66666666666667, 52.666666666666664, 76.33333333333333, 53.333333333333336, 74.66666666666667, 89.66666666666667, 69.66666666666667, 77.0, 65.33333333333333, 69.33333333333333, 65.33333333333333, 53.666666666666664, 87.33333333333333, 74.66666666666667, 67.33333333333333, 65.0, 67.0, 68.66666666666667, 56.666666666666664, 69.0, 83.0, 69.33333333333333, 76.66666666666667, 70.0, 53.0, 74.33333333333333, 77.66666666666667, 74.66666666666667, 60.0, 75.66666666666667, 76.0, 78.0, 61.333333333333336, 71.0, 62.666666666666664, 57.0, 37.666666666666664, 65.33333333333333, 97.66666666666667, 76.0, 76.0, 51.666666666666664, 88.66666666666667, 51.666666666666664, 75.66666666666667, 73.66666666666667, 75.66666666666667, 56.0, 84.66666666666667, 82.33333333333333, 67.0, 71.33333333333333, 63.666666666666664, 80.66666666666667, 65.33333333333333, 86.0, 64.66666666666667, 62.0, 66.33333333333333, 38.666666666666664, 59.0, 85.0, 53.666666666666664, 89.0, 83.33333333333333, 99.0, 82.0, 68.0, 85.66666666666667, 74.33333333333333, 97.0, 75.33333333333333, 81.33333333333333, 68.0, 57.666666666666664, 84.0, 46.666666666666664, 43.666666666666664, 75.33333333333333, 72.33333333333333, 58.666666666666664, 83.0, 43.0, 75.0, 48.0, 90.0, 48.666666666666664, 56.0, 61.0, 85.0, 64.0, 75.0, 58.666666666666664, 75.0, 50.0, 82.33333333333333, 68.0, 52.333333333333336, 75.0, 71.66666666666667, 67.0, 56.333333333333336, 85.66666666666667, 69.33333333333333, 68.33333333333333, 77.0, 84.0, 55.333333333333336, 90.33333333333333, 55.0, 70.0, 58.666666666666664, 74.33333333333333, 63.0, 53.333333333333336, 81.66666666666667, 62.333333333333336, 60.666666666666664, 72.66666666666667, 70.0, 66.0, 71.33333333333333, 58.333333333333336, 49.666666666666664, 74.0, 63.666666666666664, 73.0, 63.666666666666664, 54.0, 69.33333333333333, 40.666666666666664, 77.66666666666667, 87.0, 53.0, 83.66666666666667, 81.0, 57.666666666666664, 83.66666666666667, 42.333333333333336, 76.0, 29.666666666666668, 64.66666666666667, 59.333333333333336, 56.666666666666664, 65.33333333333333, 69.66666666666667, 83.33333333333333, 48.333333333333336, 66.0, 70.0, 78.33333333333333, 61.0, 54.666666666666664, 69.33333333333333, 76.33333333333333, 92.0, 84.66666666666667, 75.66666666666667, 76.66666666666667, 71.0, 42.0, 78.0, 54.666666666666664, 39.333333333333336, 47.0, 61.666666666666664, 82.33333333333333, 78.33333333333333, 89.0, 56.0, 69.0, 66.66666666666667, 85.33333333333333, 89.0, 87.0, 50.666666666666664, 80.0, 52.666666666666664, 62.333333333333336, 64.66666666666667, 70.0, 78.66666666666667, 58.333333333333336, 59.333333333333336, 83.0, 60.666666666666664, 82.66666666666667, 51.0, 66.0, 64.66666666666667, 78.66666666666667, 56.0, 72.0, 45.666666666666664, 57.666666666666664, 34.333333333333336, 75.66666666666667, 56.333333333333336, 86.33333333333333, 87.0, 56.0, 66.33333333333333, 74.66666666666667, 68.33333333333333, 64.0, 88.33333333333333, 70.0, 60.333333333333336, 96.66666666666667, 69.33333333333333, 75.0, 49.0, 77.33333333333333, 56.0, 84.66666666666667, 39.666666666666664, 74.0, 93.66666666666667, 84.0, 54.666666666666664, 48.0, 74.66666666666667, 50.333333333333336, 54.666666666666664, 72.66666666666667, 81.33333333333333, 87.33333333333333, 55.333333333333336, 70.0, 82.33333333333333, 57.333333333333336, 70.33333333333333, 71.33333333333333, 64.33333333333333, 70.33333333333333, 69.33333333333333, 48.333333333333336, 52.0, 72.66666666666667, 96.0, 61.666666666666664, 69.33333333333333, 47.666666666666664, 87.33333333333333, 87.33333333333333, 63.333333333333336, 79.0, 63.333333333333336, 34.666666666666664, 30.666666666666668, 73.33333333333333, 61.333333333333336, 75.0, 86.0, 75.0, 41.0, 97.66666666666667, 78.33333333333333, 80.66666666666667, 52.0, 84.66666666666667, 71.33333333333333, 68.0, 46.666666666666664, 78.33333333333333, 59.666666666666664, 58.333333333333336, 54.0, 68.0, 100.0, 52.333333333333336, 71.33333333333333, 92.66666666666667, 68.66666666666667, 44.666666666666664, 68.0, 61.333333333333336, 71.0, 66.0, 57.333333333333336, 65.66666666666667, 44.333333333333336, 51.666666666666664, 70.33333333333333, 60.333333333333336, 68.33333333333333, 73.0, 91.66666666666667, 63.666666666666664, 59.0, 57.333333333333336, 83.66666666666667, 71.33333333333333, 70.0, 88.33333333333333, 70.33333333333333, 61.333333333333336, 62.333333333333336, 57.666666666666664, 81.33333333333333, 55.666666666666664, 50.333333333333336, 68.33333333333333, 79.33333333333333, 78.33333333333333, 73.33333333333333, 54.666666666666664, 66.66666666666667, 63.666666666666664, 84.0, 97.33333333333333, 55.666666666666664, 75.66666666666667, 59.333333333333336, 51.666666666666664, 100.0, 72.0, 62.333333333333336, 68.0, 66.0, 62.0, 70.33333333333333, 79.66666666666667, 96.33333333333333, 73.0, 54.333333333333336, 58.333333333333336, 61.333333333333336, 74.33333333333333, 60.666666666666664, 61.666666666666664, 48.0, 93.33333333333333, 18.333333333333332, 79.0, 83.33333333333333, 85.33333333333333, 77.0, 54.0, 50.0, 77.33333333333333, 44.666666666666664, 78.66666666666667, 80.66666666666667, 75.0, 69.0, 69.33333333333333, 62.666666666666664, 94.0, 57.333333333333336, 65.0, 74.33333333333333, 83.0], \"y0\": \" \", \"yaxis\": \"y\"}],\n",
              "                        {\"boxmode\": \"group\", \"legend\": {\"tracegroupgap\": 0}, \"margin\": {\"t\": 60}, \"template\": {\"data\": {\"bar\": [{\"error_x\": {\"color\": \"#2a3f5f\"}, \"error_y\": {\"color\": \"#2a3f5f\"}, \"marker\": {\"line\": {\"color\": \"#E5ECF6\", \"width\": 0.5}}, \"type\": \"bar\"}], \"barpolar\": [{\"marker\": {\"line\": {\"color\": \"#E5ECF6\", \"width\": 0.5}}, \"type\": \"barpolar\"}], \"carpet\": [{\"aaxis\": {\"endlinecolor\": \"#2a3f5f\", \"gridcolor\": \"white\", \"linecolor\": \"white\", \"minorgridcolor\": \"white\", \"startlinecolor\": \"#2a3f5f\"}, \"baxis\": {\"endlinecolor\": \"#2a3f5f\", \"gridcolor\": \"white\", \"linecolor\": \"white\", \"minorgridcolor\": \"white\", \"startlinecolor\": \"#2a3f5f\"}, \"type\": \"carpet\"}], \"choropleth\": [{\"colorbar\": {\"outlinewidth\": 0, \"ticks\": \"\"}, \"type\": \"choropleth\"}], \"contour\": [{\"colorbar\": {\"outlinewidth\": 0, \"ticks\": \"\"}, \"colorscale\": [[0.0, \"#0d0887\"], [0.1111111111111111, \"#46039f\"], [0.2222222222222222, \"#7201a8\"], [0.3333333333333333, \"#9c179e\"], [0.4444444444444444, \"#bd3786\"], [0.5555555555555556, \"#d8576b\"], [0.6666666666666666, \"#ed7953\"], [0.7777777777777778, \"#fb9f3a\"], [0.8888888888888888, \"#fdca26\"], [1.0, \"#f0f921\"]], \"type\": \"contour\"}], \"contourcarpet\": [{\"colorbar\": {\"outlinewidth\": 0, \"ticks\": \"\"}, \"type\": \"contourcarpet\"}], \"heatmap\": [{\"colorbar\": {\"outlinewidth\": 0, \"ticks\": \"\"}, \"colorscale\": [[0.0, \"#0d0887\"], [0.1111111111111111, \"#46039f\"], [0.2222222222222222, \"#7201a8\"], [0.3333333333333333, \"#9c179e\"], [0.4444444444444444, \"#bd3786\"], [0.5555555555555556, \"#d8576b\"], [0.6666666666666666, \"#ed7953\"], [0.7777777777777778, \"#fb9f3a\"], [0.8888888888888888, \"#fdca26\"], [1.0, \"#f0f921\"]], \"type\": \"heatmap\"}], \"heatmapgl\": [{\"colorbar\": {\"outlinewidth\": 0, \"ticks\": \"\"}, \"colorscale\": [[0.0, \"#0d0887\"], [0.1111111111111111, \"#46039f\"], [0.2222222222222222, \"#7201a8\"], [0.3333333333333333, \"#9c179e\"], [0.4444444444444444, \"#bd3786\"], [0.5555555555555556, \"#d8576b\"], [0.6666666666666666, \"#ed7953\"], [0.7777777777777778, \"#fb9f3a\"], [0.8888888888888888, \"#fdca26\"], [1.0, \"#f0f921\"]], \"type\": \"heatmapgl\"}], \"histogram\": [{\"marker\": {\"colorbar\": {\"outlinewidth\": 0, \"ticks\": \"\"}}, \"type\": \"histogram\"}], \"histogram2d\": [{\"colorbar\": {\"outlinewidth\": 0, \"ticks\": \"\"}, \"colorscale\": [[0.0, \"#0d0887\"], [0.1111111111111111, \"#46039f\"], [0.2222222222222222, \"#7201a8\"], [0.3333333333333333, \"#9c179e\"], [0.4444444444444444, \"#bd3786\"], [0.5555555555555556, \"#d8576b\"], [0.6666666666666666, \"#ed7953\"], [0.7777777777777778, \"#fb9f3a\"], [0.8888888888888888, \"#fdca26\"], [1.0, \"#f0f921\"]], \"type\": \"histogram2d\"}], \"histogram2dcontour\": [{\"colorbar\": {\"outlinewidth\": 0, \"ticks\": \"\"}, \"colorscale\": [[0.0, \"#0d0887\"], [0.1111111111111111, \"#46039f\"], [0.2222222222222222, \"#7201a8\"], [0.3333333333333333, \"#9c179e\"], [0.4444444444444444, \"#bd3786\"], [0.5555555555555556, \"#d8576b\"], [0.6666666666666666, \"#ed7953\"], [0.7777777777777778, \"#fb9f3a\"], [0.8888888888888888, \"#fdca26\"], [1.0, \"#f0f921\"]], \"type\": \"histogram2dcontour\"}], \"mesh3d\": [{\"colorbar\": {\"outlinewidth\": 0, \"ticks\": \"\"}, \"type\": \"mesh3d\"}], \"parcoords\": [{\"line\": {\"colorbar\": {\"outlinewidth\": 0, \"ticks\": \"\"}}, \"type\": \"parcoords\"}], \"pie\": [{\"automargin\": true, \"type\": \"pie\"}], \"scatter\": [{\"marker\": {\"colorbar\": {\"outlinewidth\": 0, \"ticks\": \"\"}}, \"type\": \"scatter\"}], \"scatter3d\": [{\"line\": {\"colorbar\": {\"outlinewidth\": 0, \"ticks\": \"\"}}, \"marker\": {\"colorbar\": {\"outlinewidth\": 0, \"ticks\": \"\"}}, \"type\": \"scatter3d\"}], \"scattercarpet\": [{\"marker\": {\"colorbar\": {\"outlinewidth\": 0, \"ticks\": \"\"}}, \"type\": \"scattercarpet\"}], \"scattergeo\": [{\"marker\": {\"colorbar\": {\"outlinewidth\": 0, \"ticks\": \"\"}}, \"type\": \"scattergeo\"}], \"scattergl\": [{\"marker\": {\"colorbar\": {\"outlinewidth\": 0, \"ticks\": \"\"}}, \"type\": \"scattergl\"}], \"scattermapbox\": [{\"marker\": {\"colorbar\": {\"outlinewidth\": 0, \"ticks\": \"\"}}, \"type\": \"scattermapbox\"}], \"scatterpolar\": [{\"marker\": {\"colorbar\": {\"outlinewidth\": 0, \"ticks\": \"\"}}, \"type\": \"scatterpolar\"}], \"scatterpolargl\": [{\"marker\": {\"colorbar\": {\"outlinewidth\": 0, \"ticks\": \"\"}}, \"type\": \"scatterpolargl\"}], \"scatterternary\": [{\"marker\": {\"colorbar\": {\"outlinewidth\": 0, \"ticks\": \"\"}}, \"type\": \"scatterternary\"}], \"surface\": [{\"colorbar\": {\"outlinewidth\": 0, \"ticks\": \"\"}, \"colorscale\": [[0.0, \"#0d0887\"], [0.1111111111111111, \"#46039f\"], [0.2222222222222222, \"#7201a8\"], [0.3333333333333333, \"#9c179e\"], [0.4444444444444444, \"#bd3786\"], [0.5555555555555556, \"#d8576b\"], [0.6666666666666666, \"#ed7953\"], [0.7777777777777778, \"#fb9f3a\"], [0.8888888888888888, \"#fdca26\"], [1.0, \"#f0f921\"]], \"type\": \"surface\"}], \"table\": [{\"cells\": {\"fill\": {\"color\": \"#EBF0F8\"}, \"line\": {\"color\": \"white\"}}, \"header\": {\"fill\": {\"color\": \"#C8D4E3\"}, \"line\": {\"color\": \"white\"}}, \"type\": \"table\"}]}, \"layout\": {\"annotationdefaults\": {\"arrowcolor\": \"#2a3f5f\", \"arrowhead\": 0, \"arrowwidth\": 1}, \"coloraxis\": {\"colorbar\": {\"outlinewidth\": 0, \"ticks\": \"\"}}, \"colorscale\": {\"diverging\": [[0, \"#8e0152\"], [0.1, \"#c51b7d\"], [0.2, \"#de77ae\"], [0.3, \"#f1b6da\"], [0.4, \"#fde0ef\"], [0.5, \"#f7f7f7\"], [0.6, \"#e6f5d0\"], [0.7, \"#b8e186\"], [0.8, \"#7fbc41\"], [0.9, \"#4d9221\"], [1, \"#276419\"]], \"sequential\": [[0.0, \"#0d0887\"], [0.1111111111111111, \"#46039f\"], [0.2222222222222222, \"#7201a8\"], [0.3333333333333333, \"#9c179e\"], [0.4444444444444444, \"#bd3786\"], [0.5555555555555556, \"#d8576b\"], [0.6666666666666666, \"#ed7953\"], [0.7777777777777778, \"#fb9f3a\"], [0.8888888888888888, \"#fdca26\"], [1.0, \"#f0f921\"]], \"sequentialminus\": [[0.0, \"#0d0887\"], [0.1111111111111111, \"#46039f\"], [0.2222222222222222, \"#7201a8\"], [0.3333333333333333, \"#9c179e\"], [0.4444444444444444, \"#bd3786\"], [0.5555555555555556, \"#d8576b\"], [0.6666666666666666, \"#ed7953\"], [0.7777777777777778, \"#fb9f3a\"], [0.8888888888888888, \"#fdca26\"], [1.0, \"#f0f921\"]]}, \"colorway\": [\"#636efa\", \"#EF553B\", \"#00cc96\", \"#ab63fa\", \"#FFA15A\", \"#19d3f3\", \"#FF6692\", \"#B6E880\", \"#FF97FF\", \"#FECB52\"], \"font\": {\"color\": \"#2a3f5f\"}, \"geo\": {\"bgcolor\": \"white\", \"lakecolor\": \"white\", \"landcolor\": \"#E5ECF6\", \"showlakes\": true, \"showland\": true, \"subunitcolor\": \"white\"}, \"hoverlabel\": {\"align\": \"left\"}, \"hovermode\": \"closest\", \"mapbox\": {\"style\": \"light\"}, \"paper_bgcolor\": \"white\", \"plot_bgcolor\": \"#E5ECF6\", \"polar\": {\"angularaxis\": {\"gridcolor\": \"white\", \"linecolor\": \"white\", \"ticks\": \"\"}, \"bgcolor\": \"#E5ECF6\", \"radialaxis\": {\"gridcolor\": \"white\", \"linecolor\": \"white\", \"ticks\": \"\"}}, \"scene\": {\"xaxis\": {\"backgroundcolor\": \"#E5ECF6\", \"gridcolor\": \"white\", \"gridwidth\": 2, \"linecolor\": \"white\", \"showbackground\": true, \"ticks\": \"\", \"zerolinecolor\": \"white\"}, \"yaxis\": {\"backgroundcolor\": \"#E5ECF6\", \"gridcolor\": \"white\", \"gridwidth\": 2, \"linecolor\": \"white\", \"showbackground\": true, \"ticks\": \"\", \"zerolinecolor\": \"white\"}, \"zaxis\": {\"backgroundcolor\": \"#E5ECF6\", \"gridcolor\": \"white\", \"gridwidth\": 2, \"linecolor\": \"white\", \"showbackground\": true, \"ticks\": \"\", \"zerolinecolor\": \"white\"}}, \"shapedefaults\": {\"line\": {\"color\": \"#2a3f5f\"}}, \"ternary\": {\"aaxis\": {\"gridcolor\": \"white\", \"linecolor\": \"white\", \"ticks\": \"\"}, \"baxis\": {\"gridcolor\": \"white\", \"linecolor\": \"white\", \"ticks\": \"\"}, \"bgcolor\": \"#E5ECF6\", \"caxis\": {\"gridcolor\": \"white\", \"linecolor\": \"white\", \"ticks\": \"\"}}, \"title\": {\"x\": 0.05}, \"xaxis\": {\"automargin\": true, \"gridcolor\": \"white\", \"linecolor\": \"white\", \"ticks\": \"\", \"title\": {\"standoff\": 15}, \"zerolinecolor\": \"white\", \"zerolinewidth\": 2}, \"yaxis\": {\"automargin\": true, \"gridcolor\": \"white\", \"linecolor\": \"white\", \"ticks\": \"\", \"title\": {\"standoff\": 15}, \"zerolinecolor\": \"white\", \"zerolinewidth\": 2}}}, \"xaxis\": {\"anchor\": \"y\", \"domain\": [0.0, 1.0], \"title\": {\"text\": \"lunch\"}}, \"yaxis\": {\"anchor\": \"x\", \"domain\": [0.0, 1.0], \"title\": {\"text\": \"percentage\"}}},\n",
              "                        {\"responsive\": true}\n",
              "                    ).then(function(){\n",
              "                            \n",
              "var gd = document.getElementById('dd652ace-dbba-4994-a5e2-e72c023585c2');\n",
              "var x = new MutationObserver(function (mutations, observer) {{\n",
              "        var display = window.getComputedStyle(gd).display;\n",
              "        if (!display || display === 'none') {{\n",
              "            console.log([gd, 'removed!']);\n",
              "            Plotly.purge(gd);\n",
              "            observer.disconnect();\n",
              "        }}\n",
              "}});\n",
              "\n",
              "// Listen for the removal of the full notebook cells\n",
              "var notebookContainer = gd.closest('#notebook-container');\n",
              "if (notebookContainer) {{\n",
              "    x.observe(notebookContainer, {childList: true});\n",
              "}}\n",
              "\n",
              "// Listen for the clearing of the current output cell\n",
              "var outputEl = gd.closest('.output');\n",
              "if (outputEl) {{\n",
              "    x.observe(outputEl, {childList: true});\n",
              "}}\n",
              "\n",
              "                        })\n",
              "                };\n",
              "                \n",
              "            </script>\n",
              "        </div>\n",
              "</body>\n",
              "</html>"
            ]
          },
          "metadata": {}
        }
      ],
      "source": [
        "fig = px.box(df, x=\"lunch\", y=\"percentage\")\n",
        "fig.show()"
      ]
    },
    {
      "cell_type": "markdown",
      "metadata": {
        "id": "D1abmrzBBfia"
      },
      "source": [
        "### figuring out the relationship between parental level degree and percentage\n"
      ]
    },
    {
      "cell_type": "code",
      "execution_count": null,
      "metadata": {
        "colab": {
          "base_uri": "https://localhost:8080/",
          "height": 438
        },
        "id": "yn7a3BbhBfib",
        "outputId": "59b0de87-69b0-42f8-fa74-4262c8a31ca2"
      },
      "outputs": [
        {
          "output_type": "display_data",
          "data": {
            "image/png": "[encoded data removed]",
            "text/plain": [
              "<Figure size 576x396 with 1 Axes>"
            ]
          },
          "metadata": {}
        }
      ],
      "source": [
        "sb.lineplot(data=df,x='parental level of education',y='percentage',color=sb.color_palette()[0]);\n",
        "plt.ylim(0,100);\n",
        "plt.xticks(rotation=90);"
      ]
    },
    {
      "cell_type": "markdown",
      "metadata": {
        "id": "IJOCOXgPBfic"
      },
      "source": [
        "### We can conclude that there's no correlation between percentage and parent degree"
      ]
    },
    {
      "cell_type": "markdown",
      "metadata": {
        "id": "Fqz6GPKLBfid"
      },
      "source": [
        "### figuring out if race is at all correlated with total percentages"
      ]
    },
    {
      "cell_type": "code",
      "execution_count": null,
      "metadata": {
        "colab": {
          "base_uri": "https://localhost:8080/",
          "height": 365
        },
        "id": "jgHkIROyBfid",
        "outputId": "39ebaa08-b26f-4aea-cbde-a23adc05beb5"
      },
      "outputs": [
        {
          "output_type": "display_data",
          "data": {
            "image/png": "[encoded data removed]",
            "text/plain": [
              "<Figure size 576x396 with 1 Axes>"
            ]
          },
          "metadata": {}
        }
      ],
      "source": [
        "sb.lineplot(data=df,x='race/ethnicity',y='percentage');\n",
        "plt.ylim(0,100);"
      ]
    },
    {
      "cell_type": "markdown",
      "metadata": {
        "id": "Obiaa3EPBfie"
      },
      "source": [
        "### We can conclude that there's no correlation between percentage and race or group"
      ]
    },
    {
      "cell_type": "markdown",
      "metadata": {
        "id": "sGXPRD-QBfih"
      },
      "source": [
        "### We can see the people with standard lunch plans manged to have higher interquartile range than the people with free/reduced lunch "
      ]
    },
    {
      "cell_type": "markdown",
      "metadata": {
        "id": "1HATHFg5Bfih"
      },
      "source": [
        "### finding the correaltion between scores between test subjects and total percentage \n"
      ]
    },
    {
      "cell_type": "code",
      "execution_count": null,
      "metadata": {
        "colab": {
          "base_uri": "https://localhost:8080/",
          "height": 366
        },
        "id": "B-ExOuVVBfii",
        "outputId": "645c2099-ef67-4a6d-8e44-d651e5cb0ac5"
      },
      "outputs": [
        {
          "output_type": "display_data",
          "data": {
            "image/png": "[encoded data removed]",
            "text/plain": [
              "<Figure size 576x396 with 2 Axes>"
            ]
          },
          "metadata": {}
        }
      ],
      "source": [
        "sb.heatmap(df.corr(),annot=True,cmap='viridis_r',vmin=0);\n",
        "plt.xticks(rotation=15);"
      ]
    },
    {
      "cell_type": "markdown",
      "metadata": {
        "id": "dB9fVRheBfij"
      },
      "source": [
        "### Writing and reading have very strong correlation with each other while having a slightly weaker yet strong correlation with Maths Score"
      ]
    },
    {
      "cell_type": "markdown",
      "metadata": {
        "id": "uxjVW7jcBfik"
      },
      "source": [
        "## Multivariate Analysis"
      ]
    },
    {
      "cell_type": "markdown",
      "metadata": {
        "id": "1_-r-ab5Bfil"
      },
      "source": [
        "### since lunch and test preparation course are the most potential factors in total percentage we trying to find the relationship between the percentage against the two variables 4 possible states"
      ]
    },
    {
      "cell_type": "code",
      "execution_count": null,
      "metadata": {
        "colab": {
          "base_uri": "https://localhost:8080/",
          "height": 361
        },
        "id": "Cin9nYokBfil",
        "outputId": "2f26dbfd-1366-4781-94d4-803c9e269b6c"
      },
      "outputs": [
        {
          "output_type": "display_data",
          "data": {
            "image/png": "[encoded data removed]",
            "text/plain": [
              "<Figure size 576x396 with 1 Axes>"
            ]
          },
          "metadata": {}
        }
      ],
      "source": [
        "sb.lineplot(data=df,x='test preparation course',y='percentage',hue='lunch');\n",
        "plt.legend();"
      ]
    },
    {
      "cell_type": "markdown",
      "metadata": {
        "id": "tT311ZoLBfim"
      },
      "source": [
        "#### People with standard lunch and who took the course scored the highest on average while people with reduced lunch and didn't take the course scored the lowest on average \n",
        "#### People with standard lunch and didn't take the course and people with free/reduced lunch who took the course scored nearly the same"
      ]
    },
    {
      "cell_type": "markdown",
      "metadata": {
        "id": "K2CejobVBfin"
      },
      "source": [
        "# Explanatory Data Analysis"
      ]
    },
    {
      "cell_type": "code",
      "execution_count": null,
      "metadata": {
        "id": "CWLcbPi-Bfio"
      },
      "outputs": [],
      "source": [
        "#bootsraping the percentage means diffrences between people who completed the course and people who didn't\n",
        "means=[]\n",
        "for _ in range(10000):\n",
        "    samp=df.sample(df.shape[0],replace = True)\n",
        "    means.append(samp[samp['test preparation course']=='completed']['percentage'].mean()-samp[samp['test preparation course']=='none']['percentage'].mean())"
      ]
    },
    {
      "cell_type": "markdown",
      "metadata": {
        "id": "krJL_nlTBfip"
      },
      "source": [
        "### The distribution of the diffrence on average between people who took the course and people who didn't"
      ]
    },
    {
      "cell_type": "code",
      "execution_count": null,
      "metadata": {
        "colab": {
          "base_uri": "https://localhost:8080/"
        },
        "id": "VS3vJsWaBfiq",
        "outputId": "ef97295e-47a7-4566-a766-c1f7d49c962f",
        "tags": [
          "hide-input"
        ]
      },
      "outputs": [
        {
          "output_type": "display_data",
          "data": {
            "image/png": "[encoded data removed]",
            "text/plain": [
              "<Figure size 576x396 with 1 Axes>"
            ]
          },
          "metadata": {}
        }
      ],
      "source": [
        "plt.hist(means)\n",
        "plt.xlabel(\"percentage mean diffrence between people who completed the course and people who didn't\");\n",
        "plt.ylabel('count');"
      ]
    },
    {
      "cell_type": "markdown",
      "metadata": {
        "id": "hi7OmC5bBfir"
      },
      "source": [
        "### Histogram suggests that people who completed the course scored better on average 7.6% with standard deviation of 0.9%"
      ]
    },
    {
      "cell_type": "markdown",
      "metadata": {
        "id": "VtT6HAImBfis"
      },
      "source": [
        "## Hyp test 1\n",
        "### H0 : mean percentage of course completed - mean percentage of couse not completed <= 0 \n",
        "### HA : mean percentage of course completed - mean percentage of couse not completed > 0 "
      ]
    },
    {
      "cell_type": "code",
      "execution_count": null,
      "metadata": {
        "colab": {
          "base_uri": "https://localhost:8080/"
        },
        "id": "IZmKBdicBfit",
        "outputId": "57d0cbdb-0842-4cb1-f605-b6f7d3d2442f"
      },
      "outputs": [
        {
          "output_type": "execute_result",
          "data": {
            "text/plain": [
              "0.0"
            ]
          },
          "metadata": {},
          "execution_count": 83
        }
      ],
      "source": [
        "\n",
        "null_vals=np.random.normal(0,np.std(means),len(means))\n",
        "\n",
        "p_val = (null_vals>np.mean(means)).mean()\n",
        "p_val"
      ]
    },
    {
      "cell_type": "code",
      "execution_count": null,
      "metadata": {
        "colab": {
          "base_uri": "https://localhost:8080/"
        },
        "id": "qGV33t6ABfiu",
        "outputId": "28fb62d8-8651-4aab-df3c-6b4391152187"
      },
      "outputs": [
        {
          "output_type": "execute_result",
          "data": {
            "text/plain": [
              "(3.9094344088628503, 11.413759905206383)"
            ]
          },
          "metadata": {},
          "execution_count": 84
        }
      ],
      "source": [
        "np.min(means),np.max(means)"
      ]
    },
    {
      "cell_type": "code",
      "execution_count": null,
      "metadata": {
        "id": "uuri4L0NBfiv"
      },
      "outputs": [],
      "source": [
        "means=[]\n",
        "for _ in range(10000):\n",
        "    samp=df.sample(df.shape[0],replace = True)\n",
        "    means.append(samp[samp['lunch']=='standard']['percentage'].mean()-samp[samp['lunch']=='free/reduced']['percentage'].mean())"
      ]
    },
    {
      "cell_type": "markdown",
      "metadata": {
        "id": "jSz70hqmBfiw"
      },
      "source": [
        "### percentage mean diffrence between people who had standard lunch plan and people who had free or reduced lunch plan "
      ]
    },
    {
      "cell_type": "code",
      "execution_count": null,
      "metadata": {
        "colab": {
          "base_uri": "https://localhost:8080/"
        },
        "id": "QC-wPVpIBfiw",
        "outputId": "1fb26e0a-4fe1-4189-a119-756ba28e933e",
        "tags": [
          "hide-input"
        ]
      },
      "outputs": [
        {
          "output_type": "display_data",
          "data": {
            "image/png": "[encoded data removed]",
            "text/plain": [
              "<Figure size 576x396 with 1 Axes>"
            ]
          },
          "metadata": {}
        }
      ],
      "source": [
        "plt.hist(means);\n",
        "plt.xlabel(\"percentage mean diffrence between people who had standard lunch plan and people who had free or reduced lunch plan\");\n",
        "plt.ylabel('count');"
      ]
    },
    {
      "cell_type": "markdown",
      "metadata": {
        "id": "3Td8pjQLBfix"
      },
      "source": [
        "### Histogram suggests people with better lunch plans scored higher on average 8.64% with standard deviation of 0.92%"
      ]
    },
    {
      "cell_type": "markdown",
      "metadata": {
        "id": "O44kmYdJBfiy"
      },
      "source": [
        "## Hyp test 2\n",
        "### H0 : mean percentage of standard lunch - mean percentage of free/reduced lunch <= 0 \n",
        "### HA : mean percentage of standard lunch - mean percentage of free/reduced lunch > 0 \n"
      ]
    },
    {
      "cell_type": "code",
      "execution_count": null,
      "metadata": {
        "colab": {
          "base_uri": "https://localhost:8080/"
        },
        "id": "ER6yEpfuBfiz",
        "outputId": "4db68d84-3adb-4f02-e13a-bce0225b7705"
      },
      "outputs": [
        {
          "output_type": "execute_result",
          "data": {
            "text/plain": [
              "0.0"
            ]
          },
          "metadata": {},
          "execution_count": 87
        }
      ],
      "source": [
        "null_vals=np.random.normal(0,np.std(means),len(means))\n",
        "p_val = (null_vals>np.mean(means)).mean()\n",
        "p_val"
      ]
    },
    {
      "cell_type": "code",
      "execution_count": null,
      "metadata": {
        "colab": {
          "base_uri": "https://localhost:8080/"
        },
        "id": "TO4gWcCkBfi0",
        "outputId": "97e614cb-aadc-4f25-90d7-39a64e3a37e9"
      },
      "outputs": [
        {
          "output_type": "execute_result",
          "data": {
            "text/plain": [
              "(5.054844239212187, 12.060299891378968)"
            ]
          },
          "metadata": {},
          "execution_count": 88
        }
      ],
      "source": [
        "np.min(means),np.max(means)"
      ]
    },
    {
      "cell_type": "markdown",
      "metadata": {
        "id": "PhsHuSJhBfi1"
      },
      "source": [
        "### with 0.0 pvalue we decide to reject the null hypothes"
      ]
    },
    {
      "cell_type": "markdown",
      "metadata": {
        "id": "AIO511WLoDH7"
      },
      "source": [
        "## DATA PREPARETION"
      ]
    },
    {
      "cell_type": "code",
      "execution_count": null,
      "metadata": {
        "colab": {
          "base_uri": "https://localhost:8080/",
          "height": 206
        },
        "id": "K3eptzJNnWeT",
        "outputId": "ebed84c7-850b-4981-9205-ec7d12a2f0c7"
      },
      "outputs": [
        {
          "output_type": "execute_result",
          "data": {
            "text/html": [
              "\n",
              "  <div id=\"df-f0d4edfc-a50e-4e5e-a36b-fb4bcff7584c\">\n",
              "    <div class=\"colab-df-container\">\n",
              "      <div>\n",
              "<style scoped>\n",
              "    .dataframe tbody tr th:only-of-type {\n",
              "        vertical-align: middle;\n",
              "    }\n",
              "\n",
              "    .dataframe tbody tr th {\n",
              "        vertical-align: top;\n",
              "    }\n",
              "\n",
              "    .dataframe thead th {\n",
              "        text-align: right;\n",
              "    }\n",
              "</style>\n",
              "<table border=\"1\" class=\"dataframe\">\n",
              "  <thead>\n",
              "    <tr style=\"text-align: right;\">\n",
              "      <th></th>\n",
              "      <th>gender</th>\n",
              "      <th>race/ethnicity</th>\n",
              "      <th>parental level of education</th>\n",
              "      <th>lunch</th>\n",
              "      <th>test preparation course</th>\n",
              "      <th>math score</th>\n",
              "      <th>reading score</th>\n",
              "      <th>writing score</th>\n",
              "      <th>percentage</th>\n",
              "    </tr>\n",
              "  </thead>\n",
              "  <tbody>\n",
              "    <tr>\n",
              "      <th>0</th>\n",
              "      <td>female</td>\n",
              "      <td>group B</td>\n",
              "      <td>bachelor's degree</td>\n",
              "      <td>standard</td>\n",
              "      <td>none</td>\n",
              "      <td>72</td>\n",
              "      <td>72</td>\n",
              "      <td>74</td>\n",
              "      <td>72.666667</td>\n",
              "    </tr>\n",
              "    <tr>\n",
              "      <th>1</th>\n",
              "      <td>female</td>\n",
              "      <td>group C</td>\n",
              "      <td>some college</td>\n",
              "      <td>standard</td>\n",
              "      <td>completed</td>\n",
              "      <td>69</td>\n",
              "      <td>90</td>\n",
              "      <td>88</td>\n",
              "      <td>82.333333</td>\n",
              "    </tr>\n",
              "    <tr>\n",
              "      <th>2</th>\n",
              "      <td>female</td>\n",
              "      <td>group B</td>\n",
              "      <td>master's degree</td>\n",
              "      <td>standard</td>\n",
              "      <td>none</td>\n",
              "      <td>90</td>\n",
              "      <td>95</td>\n",
              "      <td>93</td>\n",
              "      <td>92.666667</td>\n",
              "    </tr>\n",
              "    <tr>\n",
              "      <th>3</th>\n",
              "      <td>male</td>\n",
              "      <td>group A</td>\n",
              "      <td>associate's degree</td>\n",
              "      <td>free/reduced</td>\n",
              "      <td>none</td>\n",
              "      <td>47</td>\n",
              "      <td>57</td>\n",
              "      <td>44</td>\n",
              "      <td>49.333333</td>\n",
              "    </tr>\n",
              "    <tr>\n",
              "      <th>4</th>\n",
              "      <td>male</td>\n",
              "      <td>group C</td>\n",
              "      <td>some college</td>\n",
              "      <td>standard</td>\n",
              "      <td>none</td>\n",
              "      <td>76</td>\n",
              "      <td>78</td>\n",
              "      <td>75</td>\n",
              "      <td>76.333333</td>\n",
              "    </tr>\n",
              "  </tbody>\n",
              "</table>\n",
              "</div>\n",
              "      <button class=\"colab-df-convert\" onclick=\"convertToInteractive('df-f0d4edfc-a50e-4e5e-a36b-fb4bcff7584c')\"\n",
              "              title=\"Convert this dataframe to an interactive table.\"\n",
              "              style=\"display:none;\">\n",
              "        \n",
              "  <svg xmlns=\"http://www.w3.org/2000/svg\" height=\"24px\"viewBox=\"0 0 24 24\"\n",
              "       width=\"24px\">\n",
              "    <path d=\"M0 0h24v24H0V0z\" fill=\"none\"/>\n",
              "    <path d=\"M18.56 5.44l.94 2.06.94-2.06 2.06-.94-2.06-.94-.94-2.06-.94 2.06-2.06.94zm-11 1L8.5 8.5l.94-2.06 2.06-.94-2.06-.94L8.5 2.5l-.94 2.06-2.06.94zm10 10l.94 2.06.94-2.06 2.06-.94-2.06-.94-.94-2.06-.94 2.06-2.06.94z\"/><path d=\"M17.41 7.96l-1.37-1.37c-.4-.4-.92-.59-1.43-.59-.52 0-1.04.2-1.43.59L10.3 9.45l-7.72 7.72c-.78.78-.78 2.05 0 2.83L4 21.41c.39.39.9.59 1.41.59.51 0 1.02-.2 1.41-.59l7.78-7.78 2.81-2.81c.8-.78.8-2.07 0-2.86zM5.41 20L4 18.59l7.72-7.72 1.47 1.35L5.41 20z\"/>\n",
              "  </svg>\n",
              "      </button>\n",
              "      \n",
              "  <style>\n",
              "    .colab-df-container {\n",
              "      display:flex;\n",
              "      flex-wrap:wrap;\n",
              "      gap: 12px;\n",
              "    }\n",
              "\n",
              "    .colab-df-convert {\n",
              "      background-color: #E8F0FE;\n",
              "      border: none;\n",
              "      border-radius: 50%;\n",
              "      cursor: pointer;\n",
              "      display: none;\n",
              "      fill: #1967D2;\n",
              "      height: 32px;\n",
              "      padding: 0 0 0 0;\n",
              "      width: 32px;\n",
              "    }\n",
              "\n",
              "    .colab-df-convert:hover {\n",
              "      background-color: #E2EBFA;\n",
              "      box-shadow: 0px 1px 2px rgba(60, 64, 67, 0.3), 0px 1px 3px 1px rgba(60, 64, 67, 0.15);\n",
              "      fill: #174EA6;\n",
              "    }\n",
              "\n",
              "    [theme=dark] .colab-df-convert {\n",
              "      background-color: #3B4455;\n",
              "      fill: #D2E3FC;\n",
              "    }\n",
              "\n",
              "    [theme=dark] .colab-df-convert:hover {\n",
              "      background-color: #434B5C;\n",
              "      box-shadow: 0px 1px 3px 1px rgba(0, 0, 0, 0.15);\n",
              "      filter: drop-shadow(0px 1px 2px rgba(0, 0, 0, 0.3));\n",
              "      fill: #FFFFFF;\n",
              "    }\n",
              "  </style>\n",
              "\n",
              "      <script>\n",
              "        const buttonEl =\n",
              "          document.querySelector('#df-f0d4edfc-a50e-4e5e-a36b-fb4bcff7584c button.colab-df-convert');\n",
              "        buttonEl.style.display =\n",
              "          google.colab.kernel.accessAllowed ? 'block' : 'none';\n",
              "\n",
              "        async function convertToInteractive(key) {\n",
              "          const element = document.querySelector('#df-f0d4edfc-a50e-4e5e-a36b-fb4bcff7584c');\n",
              "          const dataTable =\n",
              "            await google.colab.kernel.invokeFunction('convertToInteractive',\n",
              "                                                     [key], {});\n",
              "          if (!dataTable) return;\n",
              "\n",
              "          const docLinkHtml = 'Like what you see? Visit the ' +\n",
              "            '<a target=\"_blank\" href=https://colab.research.google.com/notebooks/data_table.ipynb>data table notebook</a>'\n",
              "            + ' to learn more about interactive tables.';\n",
              "          element.innerHTML = '';\n",
              "          dataTable['output_type'] = 'display_data';\n",
              "          await google.colab.output.renderOutput(dataTable, element);\n",
              "          const docLink = document.createElement('div');\n",
              "          docLink.innerHTML = docLinkHtml;\n",
              "          element.appendChild(docLink);\n",
              "        }\n",
              "      </script>\n",
              "    </div>\n",
              "  </div>\n",
              "  "
            ],
            "text/plain": [
              "   gender race/ethnicity  ... writing score percentage\n",
              "0  female        group B  ...            74  72.666667\n",
              "1  female        group C  ...            88  82.333333\n",
              "2  female        group B  ...            93  92.666667\n",
              "3    male        group A  ...            44  49.333333\n",
              "4    male        group C  ...            75  76.333333\n",
              "\n",
              "[5 rows x 9 columns]"
            ]
          },
          "metadata": {},
          "execution_count": 89
        }
      ],
      "source": [
        "df.head()"
      ]
    },
    {
      "cell_type": "code",
      "execution_count": null,
      "metadata": {
        "colab": {
          "base_uri": "https://localhost:8080/",
          "height": 332
        },
        "id": "AViuwb3HoNRe",
        "outputId": "07a2486c-e89f-4c9f-ddd8-d8a46bf1ecd1"
      },
      "outputs": [
        {
          "output_type": "execute_result",
          "data": {
            "text/html": [
              "\n",
              "  <div id=\"df-84745eb1-89a8-4cd4-b78a-e5d635539066\">\n",
              "    <div class=\"colab-df-container\">\n",
              "      <div>\n",
              "<style scoped>\n",
              "    .dataframe tbody tr th:only-of-type {\n",
              "        vertical-align: middle;\n",
              "    }\n",
              "\n",
              "    .dataframe tbody tr th {\n",
              "        vertical-align: top;\n",
              "    }\n",
              "\n",
              "    .dataframe thead th {\n",
              "        text-align: right;\n",
              "    }\n",
              "</style>\n",
              "<table border=\"1\" class=\"dataframe\">\n",
              "  <thead>\n",
              "    <tr style=\"text-align: right;\">\n",
              "      <th></th>\n",
              "      <th>Data types</th>\n",
              "      <th>null</th>\n",
              "      <th>unique vals</th>\n",
              "      <th>count</th>\n",
              "    </tr>\n",
              "  </thead>\n",
              "  <tbody>\n",
              "    <tr>\n",
              "      <th>gender</th>\n",
              "      <td>object</td>\n",
              "      <td>0</td>\n",
              "      <td>2</td>\n",
              "      <td>1000</td>\n",
              "    </tr>\n",
              "    <tr>\n",
              "      <th>race/ethnicity</th>\n",
              "      <td>object</td>\n",
              "      <td>0</td>\n",
              "      <td>5</td>\n",
              "      <td>1000</td>\n",
              "    </tr>\n",
              "    <tr>\n",
              "      <th>parental level of education</th>\n",
              "      <td>category</td>\n",
              "      <td>0</td>\n",
              "      <td>6</td>\n",
              "      <td>1000</td>\n",
              "    </tr>\n",
              "    <tr>\n",
              "      <th>lunch</th>\n",
              "      <td>category</td>\n",
              "      <td>0</td>\n",
              "      <td>2</td>\n",
              "      <td>1000</td>\n",
              "    </tr>\n",
              "    <tr>\n",
              "      <th>test preparation course</th>\n",
              "      <td>object</td>\n",
              "      <td>0</td>\n",
              "      <td>2</td>\n",
              "      <td>1000</td>\n",
              "    </tr>\n",
              "    <tr>\n",
              "      <th>math score</th>\n",
              "      <td>int64</td>\n",
              "      <td>0</td>\n",
              "      <td>81</td>\n",
              "      <td>1000</td>\n",
              "    </tr>\n",
              "    <tr>\n",
              "      <th>reading score</th>\n",
              "      <td>int64</td>\n",
              "      <td>0</td>\n",
              "      <td>72</td>\n",
              "      <td>1000</td>\n",
              "    </tr>\n",
              "    <tr>\n",
              "      <th>writing score</th>\n",
              "      <td>int64</td>\n",
              "      <td>0</td>\n",
              "      <td>77</td>\n",
              "      <td>1000</td>\n",
              "    </tr>\n",
              "    <tr>\n",
              "      <th>percentage</th>\n",
              "      <td>float64</td>\n",
              "      <td>0</td>\n",
              "      <td>194</td>\n",
              "      <td>1000</td>\n",
              "    </tr>\n",
              "  </tbody>\n",
              "</table>\n",
              "</div>\n",
              "      <button class=\"colab-df-convert\" onclick=\"convertToInteractive('df-84745eb1-89a8-4cd4-b78a-e5d635539066')\"\n",
              "              title=\"Convert this dataframe to an interactive table.\"\n",
              "              style=\"display:none;\">\n",
              "        \n",
              "  <svg xmlns=\"http://www.w3.org/2000/svg\" height=\"24px\"viewBox=\"0 0 24 24\"\n",
              "       width=\"24px\">\n",
              "    <path d=\"M0 0h24v24H0V0z\" fill=\"none\"/>\n",
              "    <path d=\"M18.56 5.44l.94 2.06.94-2.06 2.06-.94-2.06-.94-.94-2.06-.94 2.06-2.06.94zm-11 1L8.5 8.5l.94-2.06 2.06-.94-2.06-.94L8.5 2.5l-.94 2.06-2.06.94zm10 10l.94 2.06.94-2.06 2.06-.94-2.06-.94-.94-2.06-.94 2.06-2.06.94z\"/><path d=\"M17.41 7.96l-1.37-1.37c-.4-.4-.92-.59-1.43-.59-.52 0-1.04.2-1.43.59L10.3 9.45l-7.72 7.72c-.78.78-.78 2.05 0 2.83L4 21.41c.39.39.9.59 1.41.59.51 0 1.02-.2 1.41-.59l7.78-7.78 2.81-2.81c.8-.78.8-2.07 0-2.86zM5.41 20L4 18.59l7.72-7.72 1.47 1.35L5.41 20z\"/>\n",
              "  </svg>\n",
              "      </button>\n",
              "      \n",
              "  <style>\n",
              "    .colab-df-container {\n",
              "      display:flex;\n",
              "      flex-wrap:wrap;\n",
              "      gap: 12px;\n",
              "    }\n",
              "\n",
              "    .colab-df-convert {\n",
              "      background-color: #E8F0FE;\n",
              "      border: none;\n",
              "      border-radius: 50%;\n",
              "      cursor: pointer;\n",
              "      display: none;\n",
              "      fill: #1967D2;\n",
              "      height: 32px;\n",
              "      padding: 0 0 0 0;\n",
              "      width: 32px;\n",
              "    }\n",
              "\n",
              "    .colab-df-convert:hover {\n",
              "      background-color: #E2EBFA;\n",
              "      box-shadow: 0px 1px 2px rgba(60, 64, 67, 0.3), 0px 1px 3px 1px rgba(60, 64, 67, 0.15);\n",
              "      fill: #174EA6;\n",
              "    }\n",
              "\n",
              "    [theme=dark] .colab-df-convert {\n",
              "      background-color: #3B4455;\n",
              "      fill: #D2E3FC;\n",
              "    }\n",
              "\n",
              "    [theme=dark] .colab-df-convert:hover {\n",
              "      background-color: #434B5C;\n",
              "      box-shadow: 0px 1px 3px 1px rgba(0, 0, 0, 0.15);\n",
              "      filter: drop-shadow(0px 1px 2px rgba(0, 0, 0, 0.3));\n",
              "      fill: #FFFFFF;\n",
              "    }\n",
              "  </style>\n",
              "\n",
              "      <script>\n",
              "        const buttonEl =\n",
              "          document.querySelector('#df-84745eb1-89a8-4cd4-b78a-e5d635539066 button.colab-df-convert');\n",
              "        buttonEl.style.display =\n",
              "          google.colab.kernel.accessAllowed ? 'block' : 'none';\n",
              "\n",
              "        async function convertToInteractive(key) {\n",
              "          const element = document.querySelector('#df-84745eb1-89a8-4cd4-b78a-e5d635539066');\n",
              "          const dataTable =\n",
              "            await google.colab.kernel.invokeFunction('convertToInteractive',\n",
              "                                                     [key], {});\n",
              "          if (!dataTable) return;\n",
              "\n",
              "          const docLinkHtml = 'Like what you see? Visit the ' +\n",
              "            '<a target=\"_blank\" href=https://colab.research.google.com/notebooks/data_table.ipynb>data table notebook</a>'\n",
              "            + ' to learn more about interactive tables.';\n",
              "          element.innerHTML = '';\n",
              "          dataTable['output_type'] = 'display_data';\n",
              "          await google.colab.output.renderOutput(dataTable, element);\n",
              "          const docLink = document.createElement('div');\n",
              "          docLink.innerHTML = docLinkHtml;\n",
              "          element.appendChild(docLink);\n",
              "        }\n",
              "      </script>\n",
              "    </div>\n",
              "  </div>\n",
              "  "
            ],
            "text/plain": [
              "                            Data types  null  unique vals  count\n",
              "gender                          object     0            2   1000\n",
              "race/ethnicity                  object     0            5   1000\n",
              "parental level of education   category     0            6   1000\n",
              "lunch                         category     0            2   1000\n",
              "test preparation course         object     0            2   1000\n",
              "math score                       int64     0           81   1000\n",
              "reading score                    int64     0           72   1000\n",
              "writing score                    int64     0           77   1000\n",
              "percentage                     float64     0          194   1000"
            ]
          },
          "metadata": {},
          "execution_count": 90
        }
      ],
      "source": [
        "#building a dataframe that discribes our data\n",
        "dict=pd.DataFrame(df.dtypes,columns=['Data types'])\n",
        "dict['null']=df.isnull().sum()\n",
        "dict['unique vals']=df.nunique()\n",
        "dict['count']=df.count()\n",
        "dict"
      ]
    },
    {
      "cell_type": "code",
      "execution_count": null,
      "metadata": {
        "id": "Kmf-qHY4oT3B"
      },
      "outputs": [],
      "source": [
        "#Encoding Nominal categorical varibles\n",
        "from pandas.core.reshape.reshape import get_dummies\n",
        "df=pd.get_dummies(df,columns=[\"gender\",\"lunch\",\"test preparation course\",\"race/ethnicity\"],drop_first=True)"
      ]
    },
    {
      "cell_type": "code",
      "execution_count": null,
      "metadata": {
        "colab": {
          "base_uri": "https://localhost:8080/"
        },
        "id": "XnaYrbJvtQfx",
        "outputId": "48e98a6a-52ec-4472-9196-8eb16fb06e1f"
      },
      "outputs": [
        {
          "output_type": "execute_result",
          "data": {
            "text/plain": [
              "some college          226\n",
              "associate's degree    222\n",
              "high school           196\n",
              "some high school      179\n",
              "bachelor's degree     118\n",
              "master's degree        59\n",
              "Name: parental level of education, dtype: int64"
            ]
          },
          "metadata": {},
          "execution_count": 92
        }
      ],
      "source": [
        "df['parental level of education'].value_counts()"
      ]
    },
    {
      "cell_type": "code",
      "execution_count": null,
      "metadata": {
        "colab": {
          "base_uri": "https://localhost:8080/",
          "height": 304
        },
        "id": "vjPkgqmgrjse",
        "outputId": "c0ae01ae-08fd-4dbf-a554-2b5dfbd07e8e"
      },
      "outputs": [
        {
          "output_type": "execute_result",
          "data": {
            "text/html": [
              "\n",
              "  <div id=\"df-fbd52fde-aad4-410c-a78c-c65606675bf8\">\n",
              "    <div class=\"colab-df-container\">\n",
              "      <div>\n",
              "<style scoped>\n",
              "    .dataframe tbody tr th:only-of-type {\n",
              "        vertical-align: middle;\n",
              "    }\n",
              "\n",
              "    .dataframe tbody tr th {\n",
              "        vertical-align: top;\n",
              "    }\n",
              "\n",
              "    .dataframe thead th {\n",
              "        text-align: right;\n",
              "    }\n",
              "</style>\n",
              "<table border=\"1\" class=\"dataframe\">\n",
              "  <thead>\n",
              "    <tr style=\"text-align: right;\">\n",
              "      <th></th>\n",
              "      <th>parental level of education</th>\n",
              "      <th>math score</th>\n",
              "      <th>reading score</th>\n",
              "      <th>writing score</th>\n",
              "      <th>percentage</th>\n",
              "      <th>gender_male</th>\n",
              "      <th>lunch_standard</th>\n",
              "      <th>test preparation course_none</th>\n",
              "      <th>race/ethnicity_group B</th>\n",
              "      <th>race/ethnicity_group C</th>\n",
              "      <th>race/ethnicity_group D</th>\n",
              "      <th>race/ethnicity_group E</th>\n",
              "    </tr>\n",
              "  </thead>\n",
              "  <tbody>\n",
              "    <tr>\n",
              "      <th>0</th>\n",
              "      <td>1</td>\n",
              "      <td>72</td>\n",
              "      <td>72</td>\n",
              "      <td>74</td>\n",
              "      <td>72.666667</td>\n",
              "      <td>0</td>\n",
              "      <td>1</td>\n",
              "      <td>1</td>\n",
              "      <td>1</td>\n",
              "      <td>0</td>\n",
              "      <td>0</td>\n",
              "      <td>0</td>\n",
              "    </tr>\n",
              "    <tr>\n",
              "      <th>1</th>\n",
              "      <td>4</td>\n",
              "      <td>69</td>\n",
              "      <td>90</td>\n",
              "      <td>88</td>\n",
              "      <td>82.333333</td>\n",
              "      <td>0</td>\n",
              "      <td>1</td>\n",
              "      <td>0</td>\n",
              "      <td>0</td>\n",
              "      <td>1</td>\n",
              "      <td>0</td>\n",
              "      <td>0</td>\n",
              "    </tr>\n",
              "    <tr>\n",
              "      <th>2</th>\n",
              "      <td>3</td>\n",
              "      <td>90</td>\n",
              "      <td>95</td>\n",
              "      <td>93</td>\n",
              "      <td>92.666667</td>\n",
              "      <td>0</td>\n",
              "      <td>1</td>\n",
              "      <td>1</td>\n",
              "      <td>1</td>\n",
              "      <td>0</td>\n",
              "      <td>0</td>\n",
              "      <td>0</td>\n",
              "    </tr>\n",
              "    <tr>\n",
              "      <th>3</th>\n",
              "      <td>0</td>\n",
              "      <td>47</td>\n",
              "      <td>57</td>\n",
              "      <td>44</td>\n",
              "      <td>49.333333</td>\n",
              "      <td>1</td>\n",
              "      <td>0</td>\n",
              "      <td>1</td>\n",
              "      <td>0</td>\n",
              "      <td>0</td>\n",
              "      <td>0</td>\n",
              "      <td>0</td>\n",
              "    </tr>\n",
              "    <tr>\n",
              "      <th>4</th>\n",
              "      <td>4</td>\n",
              "      <td>76</td>\n",
              "      <td>78</td>\n",
              "      <td>75</td>\n",
              "      <td>76.333333</td>\n",
              "      <td>1</td>\n",
              "      <td>1</td>\n",
              "      <td>1</td>\n",
              "      <td>0</td>\n",
              "      <td>1</td>\n",
              "      <td>0</td>\n",
              "      <td>0</td>\n",
              "    </tr>\n",
              "  </tbody>\n",
              "</table>\n",
              "</div>\n",
              "      <button class=\"colab-df-convert\" onclick=\"convertToInteractive('df-fbd52fde-aad4-410c-a78c-c65606675bf8')\"\n",
              "              title=\"Convert this dataframe to an interactive table.\"\n",
              "              style=\"display:none;\">\n",
              "        \n",
              "  <svg xmlns=\"http://www.w3.org/2000/svg\" height=\"24px\"viewBox=\"0 0 24 24\"\n",
              "       width=\"24px\">\n",
              "    <path d=\"M0 0h24v24H0V0z\" fill=\"none\"/>\n",
              "    <path d=\"M18.56 5.44l.94 2.06.94-2.06 2.06-.94-2.06-.94-.94-2.06-.94 2.06-2.06.94zm-11 1L8.5 8.5l.94-2.06 2.06-.94-2.06-.94L8.5 2.5l-.94 2.06-2.06.94zm10 10l.94 2.06.94-2.06 2.06-.94-2.06-.94-.94-2.06-.94 2.06-2.06.94z\"/><path d=\"M17.41 7.96l-1.37-1.37c-.4-.4-.92-.59-1.43-.59-.52 0-1.04.2-1.43.59L10.3 9.45l-7.72 7.72c-.78.78-.78 2.05 0 2.83L4 21.41c.39.39.9.59 1.41.59.51 0 1.02-.2 1.41-.59l7.78-7.78 2.81-2.81c.8-.78.8-2.07 0-2.86zM5.41 20L4 18.59l7.72-7.72 1.47 1.35L5.41 20z\"/>\n",
              "  </svg>\n",
              "      </button>\n",
              "      \n",
              "  <style>\n",
              "    .colab-df-container {\n",
              "      display:flex;\n",
              "      flex-wrap:wrap;\n",
              "      gap: 12px;\n",
              "    }\n",
              "\n",
              "    .colab-df-convert {\n",
              "      background-color: #E8F0FE;\n",
              "      border: none;\n",
              "      border-radius: 50%;\n",
              "      cursor: pointer;\n",
              "      display: none;\n",
              "      fill: #1967D2;\n",
              "      height: 32px;\n",
              "      padding: 0 0 0 0;\n",
              "      width: 32px;\n",
              "    }\n",
              "\n",
              "    .colab-df-convert:hover {\n",
              "      background-color: #E2EBFA;\n",
              "      box-shadow: 0px 1px 2px rgba(60, 64, 67, 0.3), 0px 1px 3px 1px rgba(60, 64, 67, 0.15);\n",
              "      fill: #174EA6;\n",
              "    }\n",
              "\n",
              "    [theme=dark] .colab-df-convert {\n",
              "      background-color: #3B4455;\n",
              "      fill: #D2E3FC;\n",
              "    }\n",
              "\n",
              "    [theme=dark] .colab-df-convert:hover {\n",
              "      background-color: #434B5C;\n",
              "      box-shadow: 0px 1px 3px 1px rgba(0, 0, 0, 0.15);\n",
              "      filter: drop-shadow(0px 1px 2px rgba(0, 0, 0, 0.3));\n",
              "      fill: #FFFFFF;\n",
              "    }\n",
              "  </style>\n",
              "\n",
              "      <script>\n",
              "        const buttonEl =\n",
              "          document.querySelector('#df-fbd52fde-aad4-410c-a78c-c65606675bf8 button.colab-df-convert');\n",
              "        buttonEl.style.display =\n",
              "          google.colab.kernel.accessAllowed ? 'block' : 'none';\n",
              "\n",
              "        async function convertToInteractive(key) {\n",
              "          const element = document.querySelector('#df-fbd52fde-aad4-410c-a78c-c65606675bf8');\n",
              "          const dataTable =\n",
              "            await google.colab.kernel.invokeFunction('convertToInteractive',\n",
              "                                                     [key], {});\n",
              "          if (!dataTable) return;\n",
              "\n",
              "          const docLinkHtml = 'Like what you see? Visit the ' +\n",
              "            '<a target=\"_blank\" href=https://colab.research.google.com/notebooks/data_table.ipynb>data table notebook</a>'\n",
              "            + ' to learn more about interactive tables.';\n",
              "          element.innerHTML = '';\n",
              "          dataTable['output_type'] = 'display_data';\n",
              "          await google.colab.output.renderOutput(dataTable, element);\n",
              "          const docLink = document.createElement('div');\n",
              "          docLink.innerHTML = docLinkHtml;\n",
              "          element.appendChild(docLink);\n",
              "        }\n",
              "      </script>\n",
              "    </div>\n",
              "  </div>\n",
              "  "
            ],
            "text/plain": [
              "   parental level of education  ...  race/ethnicity_group E\n",
              "0                            1  ...                       0\n",
              "1                            4  ...                       0\n",
              "2                            3  ...                       0\n",
              "3                            0  ...                       0\n",
              "4                            4  ...                       0\n",
              "\n",
              "[5 rows x 12 columns]"
            ]
          },
          "metadata": {},
          "execution_count": 93
        }
      ],
      "source": [
        "#Encoding Ordinal categorical varibles\n",
        "from sklearn.preprocessing import LabelEncoder\n",
        "le = LabelEncoder()\n",
        "df['parental level of education'] = le.fit_transform(df['parental level of education'])\n",
        "df.head()"
      ]
    },
    {
      "cell_type": "code",
      "execution_count": null,
      "metadata": {
        "colab": {
          "base_uri": "https://localhost:8080/",
          "height": 206
        },
        "id": "nVw7Udn9vXWt",
        "outputId": "d6f7e217-9694-4b15-8e44-c2349425ff8f"
      },
      "outputs": [
        {
          "output_type": "execute_result",
          "data": {
            "text/html": [
              "\n",
              "  <div id=\"df-fd3a6886-e1aa-4995-a396-204577a5d7d2\">\n",
              "    <div class=\"colab-df-container\">\n",
              "      <div>\n",
              "<style scoped>\n",
              "    .dataframe tbody tr th:only-of-type {\n",
              "        vertical-align: middle;\n",
              "    }\n",
              "\n",
              "    .dataframe tbody tr th {\n",
              "        vertical-align: top;\n",
              "    }\n",
              "\n",
              "    .dataframe thead th {\n",
              "        text-align: right;\n",
              "    }\n",
              "</style>\n",
              "<table border=\"1\" class=\"dataframe\">\n",
              "  <thead>\n",
              "    <tr style=\"text-align: right;\">\n",
              "      <th></th>\n",
              "      <th>PCA1</th>\n",
              "      <th>PCA2</th>\n",
              "    </tr>\n",
              "  </thead>\n",
              "  <tbody>\n",
              "    <tr>\n",
              "      <th>0</th>\n",
              "      <td>-9.806815</td>\n",
              "      <td>1.238740</td>\n",
              "    </tr>\n",
              "    <tr>\n",
              "      <th>1</th>\n",
              "      <td>-29.322676</td>\n",
              "      <td>-13.746178</td>\n",
              "    </tr>\n",
              "    <tr>\n",
              "      <th>2</th>\n",
              "      <td>-49.787985</td>\n",
              "      <td>-0.387028</td>\n",
              "    </tr>\n",
              "    <tr>\n",
              "      <th>3</th>\n",
              "      <td>36.954795</td>\n",
              "      <td>-0.849486</td>\n",
              "    </tr>\n",
              "    <tr>\n",
              "      <th>4</th>\n",
              "      <td>-17.070062</td>\n",
              "      <td>2.032707</td>\n",
              "    </tr>\n",
              "  </tbody>\n",
              "</table>\n",
              "</div>\n",
              "      <button class=\"colab-df-convert\" onclick=\"convertToInteractive('df-fd3a6886-e1aa-4995-a396-204577a5d7d2')\"\n",
              "              title=\"Convert this dataframe to an interactive table.\"\n",
              "              style=\"display:none;\">\n",
              "        \n",
              "  <svg xmlns=\"http://www.w3.org/2000/svg\" height=\"24px\"viewBox=\"0 0 24 24\"\n",
              "       width=\"24px\">\n",
              "    <path d=\"M0 0h24v24H0V0z\" fill=\"none\"/>\n",
              "    <path d=\"M18.56 5.44l.94 2.06.94-2.06 2.06-.94-2.06-.94-.94-2.06-.94 2.06-2.06.94zm-11 1L8.5 8.5l.94-2.06 2.06-.94-2.06-.94L8.5 2.5l-.94 2.06-2.06.94zm10 10l.94 2.06.94-2.06 2.06-.94-2.06-.94-.94-2.06-.94 2.06-2.06.94z\"/><path d=\"M17.41 7.96l-1.37-1.37c-.4-.4-.92-.59-1.43-.59-.52 0-1.04.2-1.43.59L10.3 9.45l-7.72 7.72c-.78.78-.78 2.05 0 2.83L4 21.41c.39.39.9.59 1.41.59.51 0 1.02-.2 1.41-.59l7.78-7.78 2.81-2.81c.8-.78.8-2.07 0-2.86zM5.41 20L4 18.59l7.72-7.72 1.47 1.35L5.41 20z\"/>\n",
              "  </svg>\n",
              "      </button>\n",
              "      \n",
              "  <style>\n",
              "    .colab-df-container {\n",
              "      display:flex;\n",
              "      flex-wrap:wrap;\n",
              "      gap: 12px;\n",
              "    }\n",
              "\n",
              "    .colab-df-convert {\n",
              "      background-color: #E8F0FE;\n",
              "      border: none;\n",
              "      border-radius: 50%;\n",
              "      cursor: pointer;\n",
              "      display: none;\n",
              "      fill: #1967D2;\n",
              "      height: 32px;\n",
              "      padding: 0 0 0 0;\n",
              "      width: 32px;\n",
              "    }\n",
              "\n",
              "    .colab-df-convert:hover {\n",
              "      background-color: #E2EBFA;\n",
              "      box-shadow: 0px 1px 2px rgba(60, 64, 67, 0.3), 0px 1px 3px 1px rgba(60, 64, 67, 0.15);\n",
              "      fill: #174EA6;\n",
              "    }\n",
              "\n",
              "    [theme=dark] .colab-df-convert {\n",
              "      background-color: #3B4455;\n",
              "      fill: #D2E3FC;\n",
              "    }\n",
              "\n",
              "    [theme=dark] .colab-df-convert:hover {\n",
              "      background-color: #434B5C;\n",
              "      box-shadow: 0px 1px 3px 1px rgba(0, 0, 0, 0.15);\n",
              "      filter: drop-shadow(0px 1px 2px rgba(0, 0, 0, 0.3));\n",
              "      fill: #FFFFFF;\n",
              "    }\n",
              "  </style>\n",
              "\n",
              "      <script>\n",
              "        const buttonEl =\n",
              "          document.querySelector('#df-fd3a6886-e1aa-4995-a396-204577a5d7d2 button.colab-df-convert');\n",
              "        buttonEl.style.display =\n",
              "          google.colab.kernel.accessAllowed ? 'block' : 'none';\n",
              "\n",
              "        async function convertToInteractive(key) {\n",
              "          const element = document.querySelector('#df-fd3a6886-e1aa-4995-a396-204577a5d7d2');\n",
              "          const dataTable =\n",
              "            await google.colab.kernel.invokeFunction('convertToInteractive',\n",
              "                                                     [key], {});\n",
              "          if (!dataTable) return;\n",
              "\n",
              "          const docLinkHtml = 'Like what you see? Visit the ' +\n",
              "            '<a target=\"_blank\" href=https://colab.research.google.com/notebooks/data_table.ipynb>data table notebook</a>'\n",
              "            + ' to learn more about interactive tables.';\n",
              "          element.innerHTML = '';\n",
              "          dataTable['output_type'] = 'display_data';\n",
              "          await google.colab.output.renderOutput(dataTable, element);\n",
              "          const docLink = document.createElement('div');\n",
              "          docLink.innerHTML = docLinkHtml;\n",
              "          element.appendChild(docLink);\n",
              "        }\n",
              "      </script>\n",
              "    </div>\n",
              "  </div>\n",
              "  "
            ],
            "text/plain": [
              "        PCA1       PCA2\n",
              "0  -9.806815   1.238740\n",
              "1 -29.322676 -13.746178\n",
              "2 -49.787985  -0.387028\n",
              "3  36.954795  -0.849486\n",
              "4 -17.070062   2.032707"
            ]
          },
          "metadata": {},
          "execution_count": 94
        }
      ],
      "source": [
        "#Appling PCA\n",
        "from sklearn.decomposition import PCA\n",
        "pca = PCA(n_components=2)\n",
        "reduced=pd.DataFrame(pca.fit_transform(df),columns=['PCA1','PCA2'])\n",
        "reduced.head()"
      ]
    },
    {
      "cell_type": "code",
      "execution_count": null,
      "metadata": {
        "colab": {
          "base_uri": "https://localhost:8080/",
          "height": 395
        },
        "id": "oE2tKftGwb20",
        "outputId": "2fef9b32-8393-4b5c-eca7-45ab38b73706"
      },
      "outputs": [
        {
          "output_type": "display_data",
          "data": {
            "image/png": "[encoded data removed]",
            "text/plain": [
              "<Figure size 576x396 with 2 Axes>"
            ]
          },
          "metadata": {}
        },
        {
          "output_type": "execute_result",
          "data": {
            "text/plain": [
              "<matplotlib.axes._subplots.AxesSubplot at 0x7f437f4f6d10>"
            ]
          },
          "metadata": {},
          "execution_count": 95
        }
      ],
      "source": [
        "#elbow method to know the number of clusters\n",
        "from yellowbrick.cluster import KElbowVisualizer\n",
        "model = KElbowVisualizer(KMeans(), k=10)\n",
        "model.fit(df)\n",
        "model.show()"
      ]
    },
    {
      "cell_type": "markdown",
      "metadata": {
        "id": "msuqB9yhwfFR"
      },
      "source": [
        "By Elbow Method we can see that the best number of clusters is 4"
      ]
    },
    {
      "cell_type": "code",
      "execution_count": null,
      "metadata": {
        "colab": {
          "base_uri": "https://localhost:8080/"
        },
        "id": "6c-J2Ezbyz2O",
        "outputId": "5869bd33-de90-449f-af08-215ee3f5ba91"
      },
      "outputs": [
        {
          "output_type": "execute_result",
          "data": {
            "text/plain": [
              "array([3, 0, 0, 2, 3, 3, 0, 2, 1, 2, 1, 2, 3, 3, 1, 3, 0, 2, 2, 1, 1, 3,\n",
              "       2, 3, 3, 3, 1, 3, 3, 3, 3, 1, 1, 2, 0, 0, 3, 1, 0, 1, 1, 1, 1, 1,\n",
              "       1, 1, 1, 3, 3, 0, 2, 3, 2, 0, 0, 2, 0, 2, 1, 2, 3, 2, 1, 3, 1, 1,\n",
              "       2, 3, 1, 1, 1, 1, 2, 1, 2, 2, 2, 3, 3, 1, 2, 2, 2, 1, 2, 3, 0, 3,\n",
              "       1, 0, 3, 2, 3, 2, 0, 0, 1, 3, 1, 1, 3, 3, 0, 2, 0, 1, 0, 1, 1, 3,\n",
              "       0, 1, 2, 1, 0, 3, 0, 3, 1, 1, 0, 0, 0, 1, 3, 0, 3, 3, 3, 2, 0, 2,\n",
              "       3, 3, 3, 1, 2, 1, 1, 3, 3, 1, 2, 2, 3, 2, 0, 3, 3, 0, 1, 3, 1, 2,\n",
              "       1, 0, 3, 1, 3, 1, 3, 0, 2, 2, 0, 0, 2, 3, 3, 3, 3, 0, 0, 3, 2, 0,\n",
              "       1, 3, 1, 0, 3, 1, 2, 3, 2, 1, 3, 1, 2, 0, 1, 3, 1, 3, 3, 1, 1, 1,\n",
              "       2, 3, 3, 3, 3, 1, 2, 3, 3, 3, 3, 1, 3, 2, 1, 1, 0, 0, 0, 2, 3, 1,\n",
              "       1, 0, 1, 0, 1, 2, 3, 1, 3, 0, 3, 2, 3, 0, 0, 3, 1, 1, 2, 0, 3, 0,\n",
              "       1, 2, 3, 3, 3, 1, 1, 1, 2, 3, 3, 3, 2, 3, 3, 3, 3, 3, 3, 3, 2, 0,\n",
              "       3, 2, 3, 3, 0, 3, 1, 2, 1, 3, 0, 3, 0, 1, 3, 1, 2, 2, 3, 3, 2, 0,\n",
              "       0, 3, 3, 3, 3, 3, 1, 3, 3, 1, 2, 3, 2, 0, 3, 1, 3, 3, 3, 3, 0, 2,\n",
              "       1, 2, 3, 1, 1, 3, 1, 3, 0, 3, 3, 1, 3, 3, 3, 2, 2, 0, 1, 2, 3, 2,\n",
              "       1, 2, 1, 0, 0, 1, 3, 2, 2, 2, 1, 1, 3, 3, 3, 3, 1, 0, 3, 3, 1, 1,\n",
              "       3, 1, 3, 3, 1, 1, 1, 0, 1, 0, 1, 2, 1, 1, 1, 1, 1, 0, 3, 1, 3, 0,\n",
              "       3, 2, 0, 0, 3, 1, 0, 0, 3, 2, 2, 3, 3, 3, 1, 3, 1, 3, 3, 1, 3, 2,\n",
              "       1, 0, 1, 1, 1, 2, 1, 0, 1, 3, 1, 3, 1, 0, 3, 0, 1, 1, 3, 3, 3, 3,\n",
              "       1, 1, 0, 1, 1, 3, 2, 1, 0, 3, 1, 1, 1, 3, 1, 2, 3, 2, 3, 3, 1, 0,\n",
              "       3, 3, 3, 3, 3, 3, 1, 0, 2, 3, 3, 0, 3, 1, 1, 2, 0, 2, 0, 3, 1, 2,\n",
              "       3, 0, 1, 0, 2, 3, 0, 0, 0, 3, 3, 1, 0, 3, 3, 3, 1, 3, 3, 1, 1, 2,\n",
              "       2, 3, 1, 3, 1, 0, 3, 1, 0, 0, 1, 1, 2, 3, 3, 3, 3, 0, 1, 0, 2, 0,\n",
              "       3, 1, 3, 0, 3, 2, 1, 1, 0, 0, 0, 3, 3, 3, 1, 0, 1, 1, 2, 1, 1, 2,\n",
              "       2, 3, 3, 2, 1, 0, 3, 3, 1, 1, 3, 0, 3, 0, 3, 0, 1, 0, 0, 3, 1, 3,\n",
              "       3, 0, 2, 3, 2, 2, 3, 1, 1, 3, 3, 3, 0, 3, 2, 2, 0, 3, 2, 3, 3, 0,\n",
              "       1, 1, 3, 2, 1, 0, 1, 1, 0, 3, 3, 3, 3, 3, 3, 1, 1, 1, 1, 1, 1, 3,\n",
              "       0, 3, 2, 2, 3, 3, 1, 2, 3, 1, 0, 3, 0, 2, 1, 1, 1, 1, 0, 3, 0, 3,\n",
              "       2, 0, 0, 3, 2, 1, 1, 0, 1, 0, 3, 2, 2, 2, 3, 3, 3, 0, 0, 3, 3, 0,\n",
              "       3, 3, 2, 0, 3, 3, 1, 3, 1, 1, 1, 3, 1, 3, 0, 3, 3, 1, 3, 1, 1, 0,\n",
              "       3, 3, 1, 3, 3, 1, 3, 0, 3, 3, 3, 1, 3, 3, 3, 1, 3, 3, 3, 1, 3, 1,\n",
              "       1, 2, 1, 0, 3, 3, 2, 0, 2, 3, 3, 3, 1, 0, 0, 3, 3, 1, 0, 1, 0, 1,\n",
              "       1, 1, 2, 1, 0, 1, 0, 0, 0, 0, 3, 0, 3, 0, 3, 0, 3, 1, 0, 2, 2, 3,\n",
              "       3, 1, 0, 2, 3, 2, 0, 2, 1, 1, 0, 1, 3, 1, 3, 2, 0, 3, 2, 3, 3, 3,\n",
              "       1, 0, 3, 3, 3, 0, 1, 0, 1, 3, 1, 3, 1, 1, 0, 1, 1, 3, 3, 1, 3, 1,\n",
              "       2, 3, 1, 3, 1, 1, 3, 2, 3, 0, 1, 0, 0, 1, 0, 2, 3, 2, 1, 1, 1, 1,\n",
              "       3, 0, 2, 1, 3, 3, 1, 1, 3, 3, 0, 0, 3, 3, 3, 2, 3, 1, 2, 2, 1, 0,\n",
              "       3, 0, 1, 3, 3, 0, 0, 0, 2, 3, 2, 1, 1, 3, 3, 1, 1, 0, 1, 0, 2, 1,\n",
              "       1, 3, 1, 3, 2, 1, 2, 3, 1, 0, 0, 1, 1, 3, 3, 1, 0, 3, 1, 0, 3, 3,\n",
              "       2, 3, 1, 0, 2, 3, 0, 0, 1, 2, 3, 2, 1, 3, 0, 0, 1, 3, 0, 1, 3, 3,\n",
              "       1, 3, 3, 2, 2, 3, 0, 1, 3, 2, 0, 0, 1, 3, 1, 2, 2, 3, 1, 3, 0, 3,\n",
              "       2, 0, 3, 0, 2, 0, 3, 3, 2, 3, 1, 1, 1, 3, 0, 2, 3, 0, 3, 2, 3, 1,\n",
              "       3, 1, 1, 1, 2, 2, 3, 1, 3, 3, 0, 1, 1, 1, 0, 3, 3, 0, 3, 1, 1, 1,\n",
              "       0, 1, 2, 3, 3, 3, 3, 1, 3, 1, 0, 0, 1, 3, 1, 2, 0, 3, 1, 3, 1, 1,\n",
              "       3, 3, 0, 3, 1, 1, 1, 3, 1, 1, 2, 0, 2, 3, 0, 0, 3, 1, 2, 3, 2, 3,\n",
              "       0, 3, 3, 3, 1, 0, 1, 1, 3, 0], dtype=int32)"
            ]
          },
          "metadata": {},
          "execution_count": 96
        }
      ],
      "source": [
        "kmeans = KMeans(n_clusters=4)\n",
        "kmeans.fit(df)\n",
        "y_pridect=kmeans.fit_predict(df)\n",
        "y_pridect"
      ]
    },
    {
      "cell_type": "code",
      "execution_count": null,
      "metadata": {
        "id": "33ZL5e6Pzfbk"
      },
      "outputs": [],
      "source": [
        "df['cluster_Kmeans']=y_pridect"
      ]
    },
    {
      "cell_type": "code",
      "execution_count": null,
      "metadata": {
        "colab": {
          "base_uri": "https://localhost:8080/",
          "height": 206
        },
        "id": "ieX5KEFT0YSR",
        "outputId": "8528784c-210d-4191-d157-f0b5cd276d3f"
      },
      "outputs": [
        {
          "output_type": "execute_result",
          "data": {
            "text/html": [
              "\n",
              "  <div id=\"df-4fd1d03d-99de-44bb-84a2-fe3c6c2190ba\">\n",
              "    <div class=\"colab-df-container\">\n",
              "      <div>\n",
              "<style scoped>\n",
              "    .dataframe tbody tr th:only-of-type {\n",
              "        vertical-align: middle;\n",
              "    }\n",
              "\n",
              "    .dataframe tbody tr th {\n",
              "        vertical-align: top;\n",
              "    }\n",
              "\n",
              "    .dataframe thead th {\n",
              "        text-align: right;\n",
              "    }\n",
              "</style>\n",
              "<table border=\"1\" class=\"dataframe\">\n",
              "  <thead>\n",
              "    <tr style=\"text-align: right;\">\n",
              "      <th></th>\n",
              "      <th>PCA1</th>\n",
              "      <th>PCA2</th>\n",
              "      <th>cluster_Kmeans</th>\n",
              "    </tr>\n",
              "  </thead>\n",
              "  <tbody>\n",
              "    <tr>\n",
              "      <th>0</th>\n",
              "      <td>-9.806815</td>\n",
              "      <td>1.238740</td>\n",
              "      <td>3</td>\n",
              "    </tr>\n",
              "    <tr>\n",
              "      <th>1</th>\n",
              "      <td>-29.322676</td>\n",
              "      <td>-13.746178</td>\n",
              "      <td>0</td>\n",
              "    </tr>\n",
              "    <tr>\n",
              "      <th>2</th>\n",
              "      <td>-49.787985</td>\n",
              "      <td>-0.387028</td>\n",
              "      <td>0</td>\n",
              "    </tr>\n",
              "    <tr>\n",
              "      <th>3</th>\n",
              "      <td>36.954795</td>\n",
              "      <td>-0.849486</td>\n",
              "      <td>2</td>\n",
              "    </tr>\n",
              "    <tr>\n",
              "      <th>4</th>\n",
              "      <td>-17.070062</td>\n",
              "      <td>2.032707</td>\n",
              "      <td>3</td>\n",
              "    </tr>\n",
              "  </tbody>\n",
              "</table>\n",
              "</div>\n",
              "      <button class=\"colab-df-convert\" onclick=\"convertToInteractive('df-4fd1d03d-99de-44bb-84a2-fe3c6c2190ba')\"\n",
              "              title=\"Convert this dataframe to an interactive table.\"\n",
              "              style=\"display:none;\">\n",
              "        \n",
              "  <svg xmlns=\"http://www.w3.org/2000/svg\" height=\"24px\"viewBox=\"0 0 24 24\"\n",
              "       width=\"24px\">\n",
              "    <path d=\"M0 0h24v24H0V0z\" fill=\"none\"/>\n",
              "    <path d=\"M18.56 5.44l.94 2.06.94-2.06 2.06-.94-2.06-.94-.94-2.06-.94 2.06-2.06.94zm-11 1L8.5 8.5l.94-2.06 2.06-.94-2.06-.94L8.5 2.5l-.94 2.06-2.06.94zm10 10l.94 2.06.94-2.06 2.06-.94-2.06-.94-.94-2.06-.94 2.06-2.06.94z\"/><path d=\"M17.41 7.96l-1.37-1.37c-.4-.4-.92-.59-1.43-.59-.52 0-1.04.2-1.43.59L10.3 9.45l-7.72 7.72c-.78.78-.78 2.05 0 2.83L4 21.41c.39.39.9.59 1.41.59.51 0 1.02-.2 1.41-.59l7.78-7.78 2.81-2.81c.8-.78.8-2.07 0-2.86zM5.41 20L4 18.59l7.72-7.72 1.47 1.35L5.41 20z\"/>\n",
              "  </svg>\n",
              "      </button>\n",
              "      \n",
              "  <style>\n",
              "    .colab-df-container {\n",
              "      display:flex;\n",
              "      flex-wrap:wrap;\n",
              "      gap: 12px;\n",
              "    }\n",
              "\n",
              "    .colab-df-convert {\n",
              "      background-color: #E8F0FE;\n",
              "      border: none;\n",
              "      border-radius: 50%;\n",
              "      cursor: pointer;\n",
              "      display: none;\n",
              "      fill: #1967D2;\n",
              "      height: 32px;\n",
              "      padding: 0 0 0 0;\n",
              "      width: 32px;\n",
              "    }\n",
              "\n",
              "    .colab-df-convert:hover {\n",
              "      background-color: #E2EBFA;\n",
              "      box-shadow: 0px 1px 2px rgba(60, 64, 67, 0.3), 0px 1px 3px 1px rgba(60, 64, 67, 0.15);\n",
              "      fill: #174EA6;\n",
              "    }\n",
              "\n",
              "    [theme=dark] .colab-df-convert {\n",
              "      background-color: #3B4455;\n",
              "      fill: #D2E3FC;\n",
              "    }\n",
              "\n",
              "    [theme=dark] .colab-df-convert:hover {\n",
              "      background-color: #434B5C;\n",
              "      box-shadow: 0px 1px 3px 1px rgba(0, 0, 0, 0.15);\n",
              "      filter: drop-shadow(0px 1px 2px rgba(0, 0, 0, 0.3));\n",
              "      fill: #FFFFFF;\n",
              "    }\n",
              "  </style>\n",
              "\n",
              "      <script>\n",
              "        const buttonEl =\n",
              "          document.querySelector('#df-4fd1d03d-99de-44bb-84a2-fe3c6c2190ba button.colab-df-convert');\n",
              "        buttonEl.style.display =\n",
              "          google.colab.kernel.accessAllowed ? 'block' : 'none';\n",
              "\n",
              "        async function convertToInteractive(key) {\n",
              "          const element = document.querySelector('#df-4fd1d03d-99de-44bb-84a2-fe3c6c2190ba');\n",
              "          const dataTable =\n",
              "            await google.colab.kernel.invokeFunction('convertToInteractive',\n",
              "                                                     [key], {});\n",
              "          if (!dataTable) return;\n",
              "\n",
              "          const docLinkHtml = 'Like what you see? Visit the ' +\n",
              "            '<a target=\"_blank\" href=https://colab.research.google.com/notebooks/data_table.ipynb>data table notebook</a>'\n",
              "            + ' to learn more about interactive tables.';\n",
              "          element.innerHTML = '';\n",
              "          dataTable['output_type'] = 'display_data';\n",
              "          await google.colab.output.renderOutput(dataTable, element);\n",
              "          const docLink = document.createElement('div');\n",
              "          docLink.innerHTML = docLinkHtml;\n",
              "          element.appendChild(docLink);\n",
              "        }\n",
              "      </script>\n",
              "    </div>\n",
              "  </div>\n",
              "  "
            ],
            "text/plain": [
              "        PCA1       PCA2  cluster_Kmeans\n",
              "0  -9.806815   1.238740               3\n",
              "1 -29.322676 -13.746178               0\n",
              "2 -49.787985  -0.387028               0\n",
              "3  36.954795  -0.849486               2\n",
              "4 -17.070062   2.032707               3"
            ]
          },
          "metadata": {},
          "execution_count": 98
        }
      ],
      "source": [
        "reduced['cluster_Kmeans']=y_pridect\n",
        "reduced.head()"
      ]
    },
    {
      "cell_type": "code",
      "execution_count": null,
      "metadata": {
        "colab": {
          "base_uri": "https://localhost:8080/"
        },
        "id": "SZnSMZL70b3I",
        "outputId": "79fd1d7b-c1ba-44ce-e503-973ab0960224"
      },
      "outputs": [
        {
          "output_type": "execute_result",
          "data": {
            "text/plain": [
              "array([[-41.55192774,  -0.39946972],\n",
              "       [ 12.24069797,   0.33220463],\n",
              "       [ 42.57260778,  -0.35414139],\n",
              "       [-13.261378  ,   0.42140648]])"
            ]
          },
          "metadata": {},
          "execution_count": 99
        }
      ],
      "source": [
        "reduced_centers=pca.fit_transform(kmeans.cluster_centers_)\n",
        "reduced_centers"
      ]
    },
    {
      "cell_type": "code",
      "execution_count": null,
      "metadata": {
        "colab": {
          "base_uri": "https://localhost:8080/",
          "height": 592
        },
        "id": "x6bCr2gJ0jrU",
        "outputId": "1e1a5b52-c81a-4a3c-b0fa-65e5d9d21b48"
      },
      "outputs": [
        {
          "output_type": "display_data",
          "data": {
            "image/png": "[encoded data removed]",
            "text/plain": [
              "<Figure size 1008x720 with 1 Axes>"
            ]
          },
          "metadata": {}
        }
      ],
      "source": [
        "\n",
        "#plotting clusters\n",
        "plt.figure(figsize=(14,10))\n",
        "plt.scatter(reduced[reduced['cluster_Kmeans'] == 0].loc[:, 'PCA1'], reduced[reduced['cluster_Kmeans'] == 0].loc[:, 'PCA2'], color='blue')\n",
        "plt.scatter(reduced[reduced['cluster_Kmeans'] == 1].loc[:, 'PCA1'], reduced[reduced['cluster_Kmeans'] == 1].loc[:, 'PCA2'], color='green')\n",
        "plt.scatter(reduced[reduced['cluster_Kmeans'] == 2].loc[:, 'PCA1'], reduced[reduced['cluster_Kmeans'] == 2].loc[:, 'PCA2'], color='yellow')\n",
        "plt.scatter(reduced[reduced['cluster_Kmeans'] == 3].loc[:, 'PCA1'], reduced[reduced['cluster_Kmeans'] == 3].loc[:, 'PCA2'], color='black')\n",
        "\n",
        "\n",
        "\n",
        "\n",
        "\n",
        "#plotting centers\n",
        "plt.scatter(x=reduced_centers[:,0],y=reduced_centers[:,1],color='black',marker='x',s=300)\n",
        "plt.show()"
      ]
    },
    {
      "cell_type": "code",
      "execution_count": null,
      "metadata": {
        "colab": {
          "base_uri": "https://localhost:8080/",
          "height": 304
        },
        "id": "Mu0LsFrV3vAZ",
        "outputId": "ceb068d3-a2c4-4e3f-bd76-9bd3b34a0c09"
      },
      "outputs": [
        {
          "output_type": "execute_result",
          "data": {
            "text/html": [
              "\n",
              "  <div id=\"df-135e767e-dfdf-4df2-91db-694fe5a7f4dd\">\n",
              "    <div class=\"colab-df-container\">\n",
              "      <div>\n",
              "<style scoped>\n",
              "    .dataframe tbody tr th:only-of-type {\n",
              "        vertical-align: middle;\n",
              "    }\n",
              "\n",
              "    .dataframe tbody tr th {\n",
              "        vertical-align: top;\n",
              "    }\n",
              "\n",
              "    .dataframe thead th {\n",
              "        text-align: right;\n",
              "    }\n",
              "</style>\n",
              "<table border=\"1\" class=\"dataframe\">\n",
              "  <thead>\n",
              "    <tr style=\"text-align: right;\">\n",
              "      <th></th>\n",
              "      <th>gender_male</th>\n",
              "      <th>lunch_standard</th>\n",
              "      <th>math score</th>\n",
              "      <th>parental level of education</th>\n",
              "      <th>percentage</th>\n",
              "      <th>race/ethnicity_group B</th>\n",
              "      <th>race/ethnicity_group C</th>\n",
              "      <th>race/ethnicity_group D</th>\n",
              "      <th>race/ethnicity_group E</th>\n",
              "      <th>reading score</th>\n",
              "      <th>test preparation course_none</th>\n",
              "      <th>writing score</th>\n",
              "    </tr>\n",
              "    <tr>\n",
              "      <th>cluster_Kmeans</th>\n",
              "      <th></th>\n",
              "      <th></th>\n",
              "      <th></th>\n",
              "      <th></th>\n",
              "      <th></th>\n",
              "      <th></th>\n",
              "      <th></th>\n",
              "      <th></th>\n",
              "      <th></th>\n",
              "      <th></th>\n",
              "      <th></th>\n",
              "      <th></th>\n",
              "    </tr>\n",
              "  </thead>\n",
              "  <tbody>\n",
              "    <tr>\n",
              "      <th>0</th>\n",
              "      <td>0.407216</td>\n",
              "      <td>0.809278</td>\n",
              "      <td>85.335052</td>\n",
              "      <td>2.335052</td>\n",
              "      <td>87.209622</td>\n",
              "      <td>0.175258</td>\n",
              "      <td>0.278351</td>\n",
              "      <td>0.273196</td>\n",
              "      <td>0.221649</td>\n",
              "      <td>88.494845</td>\n",
              "      <td>0.458763</td>\n",
              "      <td>87.798969</td>\n",
              "    </tr>\n",
              "    <tr>\n",
              "      <th>1</th>\n",
              "      <td>0.515464</td>\n",
              "      <td>0.563574</td>\n",
              "      <td>58.814433</td>\n",
              "      <td>2.494845</td>\n",
              "      <td>60.312715</td>\n",
              "      <td>0.223368</td>\n",
              "      <td>0.323024</td>\n",
              "      <td>0.250859</td>\n",
              "      <td>0.099656</td>\n",
              "      <td>61.553265</td>\n",
              "      <td>0.718213</td>\n",
              "      <td>60.570447</td>\n",
              "    </tr>\n",
              "    <tr>\n",
              "      <th>2</th>\n",
              "      <td>0.606452</td>\n",
              "      <td>0.438710</td>\n",
              "      <td>44.393548</td>\n",
              "      <td>2.748387</td>\n",
              "      <td>45.159140</td>\n",
              "      <td>0.245161</td>\n",
              "      <td>0.303226</td>\n",
              "      <td>0.193548</td>\n",
              "      <td>0.096774</td>\n",
              "      <td>46.793548</td>\n",
              "      <td>0.819355</td>\n",
              "      <td>44.290323</td>\n",
              "    </tr>\n",
              "    <tr>\n",
              "      <th>3</th>\n",
              "      <td>0.441667</td>\n",
              "      <td>0.711111</td>\n",
              "      <td>70.938889</td>\n",
              "      <td>2.447222</td>\n",
              "      <td>73.059259</td>\n",
              "      <td>0.147222</td>\n",
              "      <td>0.344444</td>\n",
              "      <td>0.294444</td>\n",
              "      <td>0.147222</td>\n",
              "      <td>74.544444</td>\n",
              "      <td>0.602778</td>\n",
              "      <td>73.694444</td>\n",
              "    </tr>\n",
              "  </tbody>\n",
              "</table>\n",
              "</div>\n",
              "      <button class=\"colab-df-convert\" onclick=\"convertToInteractive('df-135e767e-dfdf-4df2-91db-694fe5a7f4dd')\"\n",
              "              title=\"Convert this dataframe to an interactive table.\"\n",
              "              style=\"display:none;\">\n",
              "        \n",
              "  <svg xmlns=\"http://www.w3.org/2000/svg\" height=\"24px\"viewBox=\"0 0 24 24\"\n",
              "       width=\"24px\">\n",
              "    <path d=\"M0 0h24v24H0V0z\" fill=\"none\"/>\n",
              "    <path d=\"M18.56 5.44l.94 2.06.94-2.06 2.06-.94-2.06-.94-.94-2.06-.94 2.06-2.06.94zm-11 1L8.5 8.5l.94-2.06 2.06-.94-2.06-.94L8.5 2.5l-.94 2.06-2.06.94zm10 10l.94 2.06.94-2.06 2.06-.94-2.06-.94-.94-2.06-.94 2.06-2.06.94z\"/><path d=\"M17.41 7.96l-1.37-1.37c-.4-.4-.92-.59-1.43-.59-.52 0-1.04.2-1.43.59L10.3 9.45l-7.72 7.72c-.78.78-.78 2.05 0 2.83L4 21.41c.39.39.9.59 1.41.59.51 0 1.02-.2 1.41-.59l7.78-7.78 2.81-2.81c.8-.78.8-2.07 0-2.86zM5.41 20L4 18.59l7.72-7.72 1.47 1.35L5.41 20z\"/>\n",
              "  </svg>\n",
              "      </button>\n",
              "      \n",
              "  <style>\n",
              "    .colab-df-container {\n",
              "      display:flex;\n",
              "      flex-wrap:wrap;\n",
              "      gap: 12px;\n",
              "    }\n",
              "\n",
              "    .colab-df-convert {\n",
              "      background-color: #E8F0FE;\n",
              "      border: none;\n",
              "      border-radius: 50%;\n",
              "      cursor: pointer;\n",
              "      display: none;\n",
              "      fill: #1967D2;\n",
              "      height: 32px;\n",
              "      padding: 0 0 0 0;\n",
              "      width: 32px;\n",
              "    }\n",
              "\n",
              "    .colab-df-convert:hover {\n",
              "      background-color: #E2EBFA;\n",
              "      box-shadow: 0px 1px 2px rgba(60, 64, 67, 0.3), 0px 1px 3px 1px rgba(60, 64, 67, 0.15);\n",
              "      fill: #174EA6;\n",
              "    }\n",
              "\n",
              "    [theme=dark] .colab-df-convert {\n",
              "      background-color: #3B4455;\n",
              "      fill: #D2E3FC;\n",
              "    }\n",
              "\n",
              "    [theme=dark] .colab-df-convert:hover {\n",
              "      background-color: #434B5C;\n",
              "      box-shadow: 0px 1px 3px 1px rgba(0, 0, 0, 0.15);\n",
              "      filter: drop-shadow(0px 1px 2px rgba(0, 0, 0, 0.3));\n",
              "      fill: #FFFFFF;\n",
              "    }\n",
              "  </style>\n",
              "\n",
              "      <script>\n",
              "        const buttonEl =\n",
              "          document.querySelector('#df-135e767e-dfdf-4df2-91db-694fe5a7f4dd button.colab-df-convert');\n",
              "        buttonEl.style.display =\n",
              "          google.colab.kernel.accessAllowed ? 'block' : 'none';\n",
              "\n",
              "        async function convertToInteractive(key) {\n",
              "          const element = document.querySelector('#df-135e767e-dfdf-4df2-91db-694fe5a7f4dd');\n",
              "          const dataTable =\n",
              "            await google.colab.kernel.invokeFunction('convertToInteractive',\n",
              "                                                     [key], {});\n",
              "          if (!dataTable) return;\n",
              "\n",
              "          const docLinkHtml = 'Like what you see? Visit the ' +\n",
              "            '<a target=\"_blank\" href=https://colab.research.google.com/notebooks/data_table.ipynb>data table notebook</a>'\n",
              "            + ' to learn more about interactive tables.';\n",
              "          element.innerHTML = '';\n",
              "          dataTable['output_type'] = 'display_data';\n",
              "          await google.colab.output.renderOutput(dataTable, element);\n",
              "          const docLink = document.createElement('div');\n",
              "          docLink.innerHTML = docLinkHtml;\n",
              "          element.appendChild(docLink);\n",
              "        }\n",
              "      </script>\n",
              "    </div>\n",
              "  </div>\n",
              "  "
            ],
            "text/plain": [
              "                gender_male  ...  writing score\n",
              "cluster_Kmeans               ...               \n",
              "0                  0.407216  ...      87.798969\n",
              "1                  0.515464  ...      60.570447\n",
              "2                  0.606452  ...      44.290323\n",
              "3                  0.441667  ...      73.694444\n",
              "\n",
              "[4 rows x 12 columns]"
            ]
          },
          "metadata": {},
          "execution_count": 103
        }
      ],
      "source": [
        "table=pd.pivot_table(df,index=['cluster_Kmeans'])\n",
        "table"
      ]
    },
    {
      "cell_type": "markdown",
      "metadata": {
        "id": "9qrM2A0345uw"
      },
      "source": [
        "## Conclusion of our Kmeans Model:\n",
        "\n",
        "With respect to percentage feature we can conclude the ranges of each cluster\n",
        "\n",
        "Cluster \"1\":from 0% to 45%\n",
        "\n",
        "\n",
        "Cluster \"3\":from 46% to 60%\n",
        "\n",
        "\n",
        "Cluster \"0\":from 61% to 73%\n",
        "\n",
        "\n",
        "Cluster \"2\":from 74% to 87%\n",
        "\n"
      ]
    },
    {
      "cell_type": "markdown",
      "source": [
        "# Hierarchichal clustering"
      ],
      "metadata": {
        "id": "9hN4s_BlSla9"
      }
    },
    {
      "cell_type": "markdown",
      "source": [
        "Ward: minimizes the sum of squared differences within all clusters. It is a variance-minimizing approach and in this sense is similar to the k-means objective function but tackled with an agglomerative hierarchical approach."
      ],
      "metadata": {
        "id": "Tu0a5sayVBwH"
      }
    },
    {
      "cell_type": "code",
      "source": [
        "import scipy.cluster.hierarchy as sch\n",
        "den=sch.dendrogram(sch.linkage(df,'ward'))\n",
        "plt.title('dendrogram')"
      ],
      "metadata": {
        "colab": {
          "base_uri": "https://localhost:8080/",
          "height": 380
        },
        "id": "C9oxryxESvFf",
        "outputId": "be534fbb-5a97-4e7e-b23a-786934a0063c"
      },
      "execution_count": null,
      "outputs": [
        {
          "output_type": "execute_result",
          "data": {
            "text/plain": [
              "Text(0.5, 1.0, 'dendrogram')"
            ]
          },
          "metadata": {},
          "execution_count": 104
        },
        {
          "output_type": "display_data",
          "data": {
            "image/png": "[encoded data removed]",
            "text/plain": [
              "<Figure size 576x396 with 1 Axes>"
            ]
          },
          "metadata": {}
        }
      ]
    },
    {
      "cell_type": "code",
      "source": [
        "from sklearn.cluster import AgglomerativeClustering\n",
        "cluster=AgglomerativeClustering(n_clusters=4,affinity='euclidean',linkage='ward')\n",
        "y_pridect_2=cluster.fit_predict(df)\n",
        "y_pridect_2"
      ],
      "metadata": {
        "colab": {
          "base_uri": "https://localhost:8080/"
        },
        "id": "wyI8iPK8VOJR",
        "outputId": "d9245ea3-8b70-4488-d9f9-68a72f032692"
      },
      "execution_count": null,
      "outputs": [
        {
          "output_type": "execute_result",
          "data": {
            "text/plain": [
              "array([0, 1, 3, 2, 1, 1, 3, 2, 0, 2, 2, 2, 1, 0, 2, 1, 3, 2, 2, 0, 0, 0,\n",
              "       2, 0, 0, 0, 0, 0, 0, 0, 0, 0, 0, 2, 3, 1, 1, 0, 1, 2, 0, 0, 0, 0,\n",
              "       2, 0, 0, 0, 0, 1, 2, 0, 2, 1, 1, 2, 1, 2, 0, 2, 0, 2, 0, 1, 0, 0,\n",
              "       2, 0, 0, 0, 0, 0, 2, 0, 2, 2, 2, 1, 0, 0, 2, 2, 2, 0, 2, 1, 1, 0,\n",
              "       0, 1, 0, 2, 1, 2, 1, 1, 0, 0, 0, 0, 0, 0, 3, 2, 3, 0, 3, 0, 0, 0,\n",
              "       3, 0, 2, 2, 3, 1, 1, 1, 0, 0, 3, 3, 3, 0, 1, 3, 0, 1, 1, 2, 3, 2,\n",
              "       1, 1, 1, 2, 2, 0, 0, 0, 0, 0, 2, 2, 1, 2, 1, 0, 1, 3, 0, 0, 0, 2,\n",
              "       0, 1, 1, 0, 1, 0, 1, 1, 2, 2, 3, 3, 2, 0, 1, 0, 0, 3, 1, 0, 2, 3,\n",
              "       2, 1, 0, 3, 0, 0, 2, 0, 2, 0, 0, 0, 2, 1, 0, 1, 0, 0, 1, 0, 0, 2,\n",
              "       2, 1, 1, 1, 0, 0, 2, 0, 0, 1, 1, 0, 1, 2, 0, 2, 3, 1, 1, 2, 0, 0,\n",
              "       0, 1, 0, 1, 0, 2, 0, 2, 0, 3, 0, 2, 1, 3, 1, 1, 0, 0, 2, 1, 0, 1,\n",
              "       2, 2, 0, 1, 1, 0, 0, 0, 2, 1, 0, 1, 2, 0, 0, 1, 1, 1, 1, 1, 2, 3,\n",
              "       0, 2, 1, 0, 3, 0, 0, 2, 2, 0, 1, 1, 3, 0, 1, 0, 2, 2, 1, 1, 2, 1,\n",
              "       3, 1, 1, 1, 0, 1, 0, 0, 1, 0, 2, 0, 2, 1, 1, 2, 1, 0, 1, 0, 3, 2,\n",
              "       0, 2, 1, 0, 0, 0, 0, 0, 1, 1, 0, 0, 1, 1, 1, 2, 2, 3, 0, 2, 1, 2,\n",
              "       0, 2, 0, 1, 3, 0, 0, 2, 2, 2, 0, 0, 0, 0, 0, 1, 0, 3, 0, 1, 0, 0,\n",
              "       1, 2, 0, 0, 0, 0, 0, 3, 0, 1, 0, 2, 0, 0, 0, 0, 0, 1, 1, 0, 0, 3,\n",
              "       0, 2, 1, 3, 1, 0, 1, 3, 1, 2, 2, 1, 0, 0, 0, 0, 0, 0, 0, 2, 1, 2,\n",
              "       0, 3, 0, 0, 0, 2, 0, 3, 0, 0, 0, 1, 2, 1, 0, 1, 0, 0, 0, 1, 0, 0,\n",
              "       0, 2, 3, 0, 0, 1, 2, 0, 1, 0, 0, 0, 0, 0, 0, 2, 0, 2, 0, 0, 0, 3,\n",
              "       1, 1, 0, 1, 1, 1, 0, 1, 2, 0, 1, 3, 1, 0, 0, 2, 3, 2, 3, 0, 2, 2,\n",
              "       0, 1, 0, 3, 2, 0, 1, 1, 1, 0, 1, 0, 3, 1, 0, 0, 0, 0, 0, 2, 0, 2,\n",
              "       2, 0, 2, 0, 0, 1, 1, 0, 1, 3, 0, 0, 2, 0, 0, 0, 1, 3, 0, 3, 2, 1,\n",
              "       0, 0, 1, 3, 0, 2, 2, 0, 3, 1, 1, 1, 1, 1, 0, 3, 0, 2, 2, 0, 0, 2,\n",
              "       2, 0, 0, 2, 0, 3, 0, 1, 0, 0, 0, 3, 0, 1, 1, 3, 0, 1, 3, 0, 0, 0,\n",
              "       0, 3, 2, 0, 2, 2, 0, 0, 0, 0, 1, 1, 3, 1, 2, 2, 3, 0, 2, 0, 0, 3,\n",
              "       0, 0, 1, 2, 2, 3, 2, 0, 3, 1, 1, 1, 1, 1, 0, 0, 0, 0, 0, 0, 0, 1,\n",
              "       3, 0, 2, 2, 0, 1, 0, 2, 1, 2, 3, 0, 1, 2, 0, 0, 0, 0, 3, 1, 3, 0,\n",
              "       2, 1, 3, 0, 2, 0, 2, 3, 0, 3, 0, 2, 2, 2, 0, 0, 1, 1, 1, 0, 1, 3,\n",
              "       1, 1, 2, 1, 1, 1, 0, 1, 0, 0, 2, 1, 2, 1, 3, 0, 1, 0, 0, 0, 0, 3,\n",
              "       1, 0, 0, 0, 0, 0, 0, 1, 0, 1, 0, 2, 1, 1, 1, 0, 1, 1, 1, 0, 0, 0,\n",
              "       0, 2, 0, 3, 1, 1, 2, 3, 2, 1, 1, 1, 0, 1, 1, 0, 0, 0, 1, 0, 1, 0,\n",
              "       0, 0, 2, 0, 3, 0, 3, 1, 3, 1, 0, 1, 1, 3, 1, 1, 0, 0, 1, 2, 2, 0,\n",
              "       1, 0, 1, 2, 1, 2, 3, 2, 0, 0, 1, 0, 0, 0, 0, 2, 1, 0, 2, 1, 0, 0,\n",
              "       0, 1, 0, 0, 1, 1, 2, 3, 2, 0, 0, 1, 0, 2, 1, 0, 0, 0, 0, 0, 0, 0,\n",
              "       2, 1, 0, 1, 0, 2, 0, 2, 1, 3, 2, 1, 1, 0, 1, 2, 1, 2, 0, 0, 0, 0,\n",
              "       0, 1, 2, 0, 0, 1, 0, 2, 0, 1, 3, 1, 1, 1, 1, 2, 1, 2, 2, 2, 0, 1,\n",
              "       1, 3, 0, 0, 0, 1, 3, 3, 2, 1, 2, 0, 0, 0, 1, 0, 0, 1, 0, 1, 2, 0,\n",
              "       0, 1, 2, 1, 2, 0, 2, 1, 0, 3, 3, 0, 0, 0, 0, 0, 3, 0, 0, 3, 0, 1,\n",
              "       2, 1, 0, 1, 2, 0, 3, 1, 2, 2, 0, 2, 2, 0, 1, 3, 0, 0, 1, 0, 0, 1,\n",
              "       0, 0, 0, 2, 2, 1, 3, 0, 0, 2, 3, 3, 0, 1, 0, 2, 2, 1, 0, 1, 1, 1,\n",
              "       2, 3, 1, 1, 2, 1, 0, 0, 2, 1, 0, 0, 0, 0, 3, 0, 0, 3, 0, 2, 0, 0,\n",
              "       0, 0, 0, 0, 2, 2, 0, 0, 0, 0, 3, 0, 0, 0, 1, 0, 0, 3, 0, 0, 0, 0,\n",
              "       1, 0, 2, 0, 1, 1, 0, 2, 0, 0, 1, 3, 0, 1, 0, 2, 3, 1, 0, 0, 0, 0,\n",
              "       0, 1, 3, 0, 2, 0, 0, 1, 0, 0, 2, 3, 2, 1, 1, 1, 1, 2, 2, 1, 2, 1,\n",
              "       1, 1, 0, 0, 0, 3, 0, 0, 1, 1])"
            ]
          },
          "metadata": {},
          "execution_count": 105
        }
      ]
    },
    {
      "cell_type": "code",
      "source": [
        "df['cluster_agglo']=y_pridect_2\n"
      ],
      "metadata": {
        "id": "IttLcdKwV7d3"
      },
      "execution_count": null,
      "outputs": []
    },
    {
      "cell_type": "code",
      "source": [
        "table=pd.pivot_table(df,index=['cluster_agglo'])\n",
        "table"
      ],
      "metadata": {
        "colab": {
          "base_uri": "https://localhost:8080/",
          "height": 304
        },
        "id": "RUVqvwz3VQjb",
        "outputId": "4163f79e-f87c-4225-8b25-22b82b4c67d5"
      },
      "execution_count": null,
      "outputs": [
        {
          "output_type": "execute_result",
          "data": {
            "text/html": [
              "\n",
              "  <div id=\"df-b621b03a-b45c-4bd3-9bae-7fe9b15f3d8b\">\n",
              "    <div class=\"colab-df-container\">\n",
              "      <div>\n",
              "<style scoped>\n",
              "    .dataframe tbody tr th:only-of-type {\n",
              "        vertical-align: middle;\n",
              "    }\n",
              "\n",
              "    .dataframe tbody tr th {\n",
              "        vertical-align: top;\n",
              "    }\n",
              "\n",
              "    .dataframe thead th {\n",
              "        text-align: right;\n",
              "    }\n",
              "</style>\n",
              "<table border=\"1\" class=\"dataframe\">\n",
              "  <thead>\n",
              "    <tr style=\"text-align: right;\">\n",
              "      <th></th>\n",
              "      <th>cluster_Kmeans</th>\n",
              "      <th>gender_male</th>\n",
              "      <th>lunch_standard</th>\n",
              "      <th>math score</th>\n",
              "      <th>parental level of education</th>\n",
              "      <th>percentage</th>\n",
              "      <th>race/ethnicity_group B</th>\n",
              "      <th>race/ethnicity_group C</th>\n",
              "      <th>race/ethnicity_group D</th>\n",
              "      <th>race/ethnicity_group E</th>\n",
              "      <th>reading score</th>\n",
              "      <th>test preparation course_none</th>\n",
              "      <th>writing score</th>\n",
              "    </tr>\n",
              "    <tr>\n",
              "      <th>cluster_agglo</th>\n",
              "      <th></th>\n",
              "      <th></th>\n",
              "      <th></th>\n",
              "      <th></th>\n",
              "      <th></th>\n",
              "      <th></th>\n",
              "      <th></th>\n",
              "      <th></th>\n",
              "      <th></th>\n",
              "      <th></th>\n",
              "      <th></th>\n",
              "      <th></th>\n",
              "      <th></th>\n",
              "    </tr>\n",
              "  </thead>\n",
              "  <tbody>\n",
              "    <tr>\n",
              "      <th>0</th>\n",
              "      <td>1.863326</td>\n",
              "      <td>0.519362</td>\n",
              "      <td>0.642369</td>\n",
              "      <td>63.687927</td>\n",
              "      <td>2.510251</td>\n",
              "      <td>65.077449</td>\n",
              "      <td>0.189066</td>\n",
              "      <td>0.330296</td>\n",
              "      <td>0.271071</td>\n",
              "      <td>0.120729</td>\n",
              "      <td>66.218679</td>\n",
              "      <td>0.690205</td>\n",
              "      <td>65.325740</td>\n",
              "    </tr>\n",
              "    <tr>\n",
              "      <th>1</th>\n",
              "      <td>1.950570</td>\n",
              "      <td>0.376426</td>\n",
              "      <td>0.718631</td>\n",
              "      <td>75.646388</td>\n",
              "      <td>2.528517</td>\n",
              "      <td>78.624842</td>\n",
              "      <td>0.186312</td>\n",
              "      <td>0.330798</td>\n",
              "      <td>0.273764</td>\n",
              "      <td>0.152091</td>\n",
              "      <td>80.596958</td>\n",
              "      <td>0.520913</td>\n",
              "      <td>79.631179</td>\n",
              "    </tr>\n",
              "    <tr>\n",
              "      <th>2</th>\n",
              "      <td>1.785714</td>\n",
              "      <td>0.612245</td>\n",
              "      <td>0.428571</td>\n",
              "      <td>46.545918</td>\n",
              "      <td>2.581633</td>\n",
              "      <td>47.095238</td>\n",
              "      <td>0.234694</td>\n",
              "      <td>0.301020</td>\n",
              "      <td>0.224490</td>\n",
              "      <td>0.091837</td>\n",
              "      <td>48.403061</td>\n",
              "      <td>0.795918</td>\n",
              "      <td>46.336735</td>\n",
              "    </tr>\n",
              "    <tr>\n",
              "      <th>3</th>\n",
              "      <td>0.000000</td>\n",
              "      <td>0.343137</td>\n",
              "      <td>0.882353</td>\n",
              "      <td>89.333333</td>\n",
              "      <td>2.088235</td>\n",
              "      <td>91.104575</td>\n",
              "      <td>0.117647</td>\n",
              "      <td>0.274510</td>\n",
              "      <td>0.264706</td>\n",
              "      <td>0.284314</td>\n",
              "      <td>92.303922</td>\n",
              "      <td>0.450980</td>\n",
              "      <td>91.676471</td>\n",
              "    </tr>\n",
              "  </tbody>\n",
              "</table>\n",
              "</div>\n",
              "      <button class=\"colab-df-convert\" onclick=\"convertToInteractive('df-b621b03a-b45c-4bd3-9bae-7fe9b15f3d8b')\"\n",
              "              title=\"Convert this dataframe to an interactive table.\"\n",
              "              style=\"display:none;\">\n",
              "        \n",
              "  <svg xmlns=\"http://www.w3.org/2000/svg\" height=\"24px\"viewBox=\"0 0 24 24\"\n",
              "       width=\"24px\">\n",
              "    <path d=\"M0 0h24v24H0V0z\" fill=\"none\"/>\n",
              "    <path d=\"M18.56 5.44l.94 2.06.94-2.06 2.06-.94-2.06-.94-.94-2.06-.94 2.06-2.06.94zm-11 1L8.5 8.5l.94-2.06 2.06-.94-2.06-.94L8.5 2.5l-.94 2.06-2.06.94zm10 10l.94 2.06.94-2.06 2.06-.94-2.06-.94-.94-2.06-.94 2.06-2.06.94z\"/><path d=\"M17.41 7.96l-1.37-1.37c-.4-.4-.92-.59-1.43-.59-.52 0-1.04.2-1.43.59L10.3 9.45l-7.72 7.72c-.78.78-.78 2.05 0 2.83L4 21.41c.39.39.9.59 1.41.59.51 0 1.02-.2 1.41-.59l7.78-7.78 2.81-2.81c.8-.78.8-2.07 0-2.86zM5.41 20L4 18.59l7.72-7.72 1.47 1.35L5.41 20z\"/>\n",
              "  </svg>\n",
              "      </button>\n",
              "      \n",
              "  <style>\n",
              "    .colab-df-container {\n",
              "      display:flex;\n",
              "      flex-wrap:wrap;\n",
              "      gap: 12px;\n",
              "    }\n",
              "\n",
              "    .colab-df-convert {\n",
              "      background-color: #E8F0FE;\n",
              "      border: none;\n",
              "      border-radius: 50%;\n",
              "      cursor: pointer;\n",
              "      display: none;\n",
              "      fill: #1967D2;\n",
              "      height: 32px;\n",
              "      padding: 0 0 0 0;\n",
              "      width: 32px;\n",
              "    }\n",
              "\n",
              "    .colab-df-convert:hover {\n",
              "      background-color: #E2EBFA;\n",
              "      box-shadow: 0px 1px 2px rgba(60, 64, 67, 0.3), 0px 1px 3px 1px rgba(60, 64, 67, 0.15);\n",
              "      fill: #174EA6;\n",
              "    }\n",
              "\n",
              "    [theme=dark] .colab-df-convert {\n",
              "      background-color: #3B4455;\n",
              "      fill: #D2E3FC;\n",
              "    }\n",
              "\n",
              "    [theme=dark] .colab-df-convert:hover {\n",
              "      background-color: #434B5C;\n",
              "      box-shadow: 0px 1px 3px 1px rgba(0, 0, 0, 0.15);\n",
              "      filter: drop-shadow(0px 1px 2px rgba(0, 0, 0, 0.3));\n",
              "      fill: #FFFFFF;\n",
              "    }\n",
              "  </style>\n",
              "\n",
              "      <script>\n",
              "        const buttonEl =\n",
              "          document.querySelector('#df-b621b03a-b45c-4bd3-9bae-7fe9b15f3d8b button.colab-df-convert');\n",
              "        buttonEl.style.display =\n",
              "          google.colab.kernel.accessAllowed ? 'block' : 'none';\n",
              "\n",
              "        async function convertToInteractive(key) {\n",
              "          const element = document.querySelector('#df-b621b03a-b45c-4bd3-9bae-7fe9b15f3d8b');\n",
              "          const dataTable =\n",
              "            await google.colab.kernel.invokeFunction('convertToInteractive',\n",
              "                                                     [key], {});\n",
              "          if (!dataTable) return;\n",
              "\n",
              "          const docLinkHtml = 'Like what you see? Visit the ' +\n",
              "            '<a target=\"_blank\" href=https://colab.research.google.com/notebooks/data_table.ipynb>data table notebook</a>'\n",
              "            + ' to learn more about interactive tables.';\n",
              "          element.innerHTML = '';\n",
              "          dataTable['output_type'] = 'display_data';\n",
              "          await google.colab.output.renderOutput(dataTable, element);\n",
              "          const docLink = document.createElement('div');\n",
              "          docLink.innerHTML = docLinkHtml;\n",
              "          element.appendChild(docLink);\n",
              "        }\n",
              "      </script>\n",
              "    </div>\n",
              "  </div>\n",
              "  "
            ],
            "text/plain": [
              "               cluster_Kmeans  ...  writing score\n",
              "cluster_agglo                  ...               \n",
              "0                    1.863326  ...      65.325740\n",
              "1                    1.950570  ...      79.631179\n",
              "2                    1.785714  ...      46.336735\n",
              "3                    0.000000  ...      91.676471\n",
              "\n",
              "[4 rows x 13 columns]"
            ]
          },
          "metadata": {},
          "execution_count": 107
        }
      ]
    },
    {
      "cell_type": "markdown",
      "source": [
        "## Conclusion of our AgglomerativeClustering Model:\n",
        "\n",
        "With respect to percentage feature we can conclude the ranges of each cluster\n",
        "\n",
        "Cluster \"2\":from 0% to 47%\n",
        "\n",
        "\n",
        "Cluster \"0\":from 48% to 64%\n",
        "\n",
        "\n",
        "Cluster \"1\":from 65% to 76%\n",
        "\n",
        "\n",
        "Cluster \"3\":from 77% to 90%\n",
        "\n"
      ],
      "metadata": {
        "id": "3uBzT3i4XbfF"
      }
    }
  ],
  "metadata": {
    "celltoolbar": "Slideshow",
    "colab": {
      "collapsed_sections": [
        "yyCKB_jlBfiP",
        "DSuyFv5nBfiT",
        "hSp0dguOBfiW",
        "ZAy_4nLbBfiZ",
        "sGXPRD-QBfih",
        "dB9fVRheBfij",
        "tT311ZoLBfim",
        "krJL_nlTBfip",
        "hi7OmC5bBfir",
        "jSz70hqmBfiw",
        "3Td8pjQLBfix"
      ],
      "name": "StudentsPerformanceAnalysis_Final.ipynb",
      "provenance": []
    },
    "kernelspec": {
      "display_name": "Python 3",
      "language": "python",
      "name": "python3"
    },
    "language_info": {
      "codemirror_mode": {
        "name": "ipython",
        "version": 3
      },
      "file_extension": ".py",
      "mimetype": "text/x-python",
      "name": "python",
      "nbconvert_exporter": "python",
      "pygments_lexer": "ipython3",
      "version": "3.8.8"
    }
  },
  "nbformat": 4,
  "nbformat_minor": 0
}