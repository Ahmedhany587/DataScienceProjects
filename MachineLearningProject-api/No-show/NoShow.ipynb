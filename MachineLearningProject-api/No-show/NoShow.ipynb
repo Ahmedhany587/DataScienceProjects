{
 "cells": [
  {
   "cell_type": "markdown",
   "metadata": {
    "id": "LQ1xjy8Z2bMi"
   },
   "source": [
    "\n",
    "\n",
    "# Project: No Show Appointment Data\n",
    "\n",
    "\n",
    "## Table of Contents\n",
    "<ul>\n",
    "<li><a href=\"#intro\">Introduction</a></li>\n",
    "<li><a href=\"#wrangling\">Data Wrangling</a></li>\n",
    "<li><a href=\"#eda\">Exploratory Data Analysis</a></li>\n",
    "<li><a href=\"#conclusions\">Conclusions</a></li>\n",
    "</ul>"
   ]
  },
  {
   "cell_type": "markdown",
   "metadata": {
    "id": "kBfYmvEu2bMn"
   },
   "source": [
    "<a id='intro'></a>\n",
    "## Introduction\n",
    "\n",
    "> 110.527 medical appointments its 14 associated . The most important one if the patient show-up or no-show to the appointment.\n",
    "\n",
    "\n",
    ">Questions:\n",
    "\n",
    "\n",
    "\n",
    "\n",
    ".How the partient infromation affects showing the appointment?\n",
    "\n",
    "\n",
    "\n",
    ".\n",
    "\n",
    ".Is receiving a SMS has an effect on showing?\n",
    "\n",
    "\n",
    "\n",
    ".Most disease patients suffer from?\n",
    "\n",
    "\n",
    ".Does age affect showing ?\n",
    "\n",
    "\n",
    "\n",
    ".which month did most patirnts show?\n",
    "\n",
    "\n",
    ".which day in the month did most patirnts show ?"
   ]
  },
  {
   "cell_type": "code",
   "execution_count": 61,
   "metadata": {
    "collapsed": true,
    "id": "fllB657Y2bMn"
   },
   "outputs": [],
   "source": [
    "# Use this cell to set up import statements for all of the packages that you\n",
    "#   plan to use.\n",
    "\n",
    "# Remember to include a 'magic word' so that your visualizations are plotted\n",
    "#   inline with the notebook. See this page for more:\n",
    "#   http://ipython.readthedocs.io/en/stable/interactive/magics.html\n",
    "import pandas as pd\n",
    "import numpy as np\n",
    "import matplotlib.pyplot as plt\n",
    "import seaborn as sns\n",
    "%matplotlib inline"
   ]
  },
  {
   "cell_type": "markdown",
   "metadata": {
    "id": "CDot7Wj42bMp"
   },
   "source": [
    "<a id='wrangling'></a>\n",
    "## Data Wrangling\n",
    "\n",
    "> **Tip**: In this section of the report, you will load in the data, check for cleanliness, and then trim and clean your dataset for analysis. Make sure that you document your steps carefully and justify your cleaning decisions.\n",
    "\n",
    "### General Properties"
   ]
  },
  {
   "cell_type": "code",
   "execution_count": 62,
   "metadata": {
    "colab": {
     "base_uri": "https://localhost:8080/",
     "height": 330
    },
    "collapsed": true,
    "id": "ctAxveyL2bMp",
    "outputId": "6808e56f-281c-4d07-a3e0-8ec88eac1df5"
   },
   "outputs": [
    {
     "data": {
      "text/html": [
       "<div>\n",
       "<style scoped>\n",
       "    .dataframe tbody tr th:only-of-type {\n",
       "        vertical-align: middle;\n",
       "    }\n",
       "\n",
       "    .dataframe tbody tr th {\n",
       "        vertical-align: top;\n",
       "    }\n",
       "\n",
       "    .dataframe thead th {\n",
       "        text-align: right;\n",
       "    }\n",
       "</style>\n",
       "<table border=\"1\" class=\"dataframe\">\n",
       "  <thead>\n",
       "    <tr style=\"text-align: right;\">\n",
       "      <th></th>\n",
       "      <th>PatientId</th>\n",
       "      <th>AppointmentID</th>\n",
       "      <th>Gender</th>\n",
       "      <th>ScheduledDay</th>\n",
       "      <th>AppointmentDay</th>\n",
       "      <th>Age</th>\n",
       "      <th>Neighbourhood</th>\n",
       "      <th>Scholarship</th>\n",
       "      <th>Hipertension</th>\n",
       "      <th>Diabetes</th>\n",
       "      <th>Alcoholism</th>\n",
       "      <th>Handcap</th>\n",
       "      <th>SMS_received</th>\n",
       "      <th>No-show</th>\n",
       "    </tr>\n",
       "  </thead>\n",
       "  <tbody>\n",
       "    <tr>\n",
       "      <th>0</th>\n",
       "      <td>2.987250e+13</td>\n",
       "      <td>5642903.0</td>\n",
       "      <td>F</td>\n",
       "      <td>2016-04-29T18:38:08Z</td>\n",
       "      <td>2016-04-29T00:00:00Z</td>\n",
       "      <td>62.0</td>\n",
       "      <td>JARDIM DA PENHA</td>\n",
       "      <td>0.0</td>\n",
       "      <td>1.0</td>\n",
       "      <td>0.0</td>\n",
       "      <td>0.0</td>\n",
       "      <td>0.0</td>\n",
       "      <td>0.0</td>\n",
       "      <td>No</td>\n",
       "    </tr>\n",
       "    <tr>\n",
       "      <th>1</th>\n",
       "      <td>5.589978e+14</td>\n",
       "      <td>5642503.0</td>\n",
       "      <td>M</td>\n",
       "      <td>2016-04-29T16:08:27Z</td>\n",
       "      <td>2016-04-29T00:00:00Z</td>\n",
       "      <td>56.0</td>\n",
       "      <td>JARDIM DA PENHA</td>\n",
       "      <td>0.0</td>\n",
       "      <td>0.0</td>\n",
       "      <td>0.0</td>\n",
       "      <td>0.0</td>\n",
       "      <td>0.0</td>\n",
       "      <td>0.0</td>\n",
       "      <td>No</td>\n",
       "    </tr>\n",
       "    <tr>\n",
       "      <th>2</th>\n",
       "      <td>4.262962e+12</td>\n",
       "      <td>5642549.0</td>\n",
       "      <td>F</td>\n",
       "      <td>2016-04-29T16:19:04Z</td>\n",
       "      <td>2016-04-29T00:00:00Z</td>\n",
       "      <td>62.0</td>\n",
       "      <td>MATA DA PRAIA</td>\n",
       "      <td>0.0</td>\n",
       "      <td>0.0</td>\n",
       "      <td>0.0</td>\n",
       "      <td>0.0</td>\n",
       "      <td>0.0</td>\n",
       "      <td>0.0</td>\n",
       "      <td>No</td>\n",
       "    </tr>\n",
       "    <tr>\n",
       "      <th>3</th>\n",
       "      <td>8.679512e+11</td>\n",
       "      <td>5642828.0</td>\n",
       "      <td>F</td>\n",
       "      <td>2016-04-29T17:29:31Z</td>\n",
       "      <td>2016-04-29T00:00:00Z</td>\n",
       "      <td>8.0</td>\n",
       "      <td>PONTAL DE CAMBURI</td>\n",
       "      <td>0.0</td>\n",
       "      <td>0.0</td>\n",
       "      <td>0.0</td>\n",
       "      <td>0.0</td>\n",
       "      <td>0.0</td>\n",
       "      <td>0.0</td>\n",
       "      <td>No</td>\n",
       "    </tr>\n",
       "    <tr>\n",
       "      <th>4</th>\n",
       "      <td>8.841186e+12</td>\n",
       "      <td>5642494.0</td>\n",
       "      <td>F</td>\n",
       "      <td>2016-04-29T16:07:23Z</td>\n",
       "      <td>2016-04-29T00:00:00Z</td>\n",
       "      <td>56.0</td>\n",
       "      <td>JARDIM DA PENHA</td>\n",
       "      <td>0.0</td>\n",
       "      <td>1.0</td>\n",
       "      <td>1.0</td>\n",
       "      <td>0.0</td>\n",
       "      <td>0.0</td>\n",
       "      <td>0.0</td>\n",
       "      <td>No</td>\n",
       "    </tr>\n",
       "  </tbody>\n",
       "</table>\n",
       "</div>"
      ],
      "text/plain": [
       "      PatientId  AppointmentID Gender  ... Handcap SMS_received  No-show\n",
       "0  2.987250e+13      5642903.0      F  ...     0.0          0.0       No\n",
       "1  5.589978e+14      5642503.0      M  ...     0.0          0.0       No\n",
       "2  4.262962e+12      5642549.0      F  ...     0.0          0.0       No\n",
       "3  8.679512e+11      5642828.0      F  ...     0.0          0.0       No\n",
       "4  8.841186e+12      5642494.0      F  ...     0.0          0.0       No\n",
       "\n",
       "[5 rows x 14 columns]"
      ]
     },
     "execution_count": 62,
     "metadata": {},
     "output_type": "execute_result"
    }
   ],
   "source": [
    "# Load your data and print out a few lines. Perform operations to inspect data\n",
    "#   types and look for instances of missing or possibly errant data.\n",
    "df=pd.read_csv('project2.csv')\n",
    "df.head()"
   ]
  },
  {
   "cell_type": "code",
   "execution_count": 63,
   "metadata": {
    "colab": {
     "base_uri": "https://localhost:8080/"
    },
    "id": "nTpqudJ8AXLz",
    "outputId": "0bf2b3bc-fa03-4c6c-c9ca-a9f42d64fad0"
   },
   "outputs": [
    {
     "name": "stdout",
     "output_type": "stream",
     "text": [
      "<class 'pandas.core.frame.DataFrame'>\n",
      "RangeIndex: 75434 entries, 0 to 75433\n",
      "Data columns (total 14 columns):\n",
      " #   Column          Non-Null Count  Dtype  \n",
      "---  ------          --------------  -----  \n",
      " 0   PatientId       75434 non-null  float64\n",
      " 1   AppointmentID   75433 non-null  float64\n",
      " 2   Gender          75433 non-null  object \n",
      " 3   ScheduledDay    75433 non-null  object \n",
      " 4   AppointmentDay  75433 non-null  object \n",
      " 5   Age             75433 non-null  float64\n",
      " 6   Neighbourhood   75433 non-null  object \n",
      " 7   Scholarship     75433 non-null  float64\n",
      " 8   Hipertension    75433 non-null  float64\n",
      " 9   Diabetes        75433 non-null  float64\n",
      " 10  Alcoholism      75433 non-null  float64\n",
      " 11  Handcap         75433 non-null  float64\n",
      " 12  SMS_received    75433 non-null  float64\n",
      " 13  No-show         75433 non-null  object \n",
      "dtypes: float64(9), object(5)\n",
      "memory usage: 8.1+ MB\n"
     ]
    }
   ],
   "source": [
    "df.info()"
   ]
  },
  {
   "cell_type": "code",
   "execution_count": 64,
   "metadata": {
    "colab": {
     "base_uri": "https://localhost:8080/",
     "height": 320
    },
    "id": "mEu2qgMGAlz8",
    "outputId": "cef65037-bf95-44b2-adcd-89a940a77681"
   },
   "outputs": [
    {
     "data": {
      "text/html": [
       "<div>\n",
       "<style scoped>\n",
       "    .dataframe tbody tr th:only-of-type {\n",
       "        vertical-align: middle;\n",
       "    }\n",
       "\n",
       "    .dataframe tbody tr th {\n",
       "        vertical-align: top;\n",
       "    }\n",
       "\n",
       "    .dataframe thead th {\n",
       "        text-align: right;\n",
       "    }\n",
       "</style>\n",
       "<table border=\"1\" class=\"dataframe\">\n",
       "  <thead>\n",
       "    <tr style=\"text-align: right;\">\n",
       "      <th></th>\n",
       "      <th>PatientId</th>\n",
       "      <th>AppointmentID</th>\n",
       "      <th>Age</th>\n",
       "      <th>Scholarship</th>\n",
       "      <th>Hipertension</th>\n",
       "      <th>Diabetes</th>\n",
       "      <th>Alcoholism</th>\n",
       "      <th>Handcap</th>\n",
       "      <th>SMS_received</th>\n",
       "    </tr>\n",
       "  </thead>\n",
       "  <tbody>\n",
       "    <tr>\n",
       "      <th>count</th>\n",
       "      <td>7.543400e+04</td>\n",
       "      <td>7.543300e+04</td>\n",
       "      <td>75433.000000</td>\n",
       "      <td>75433.000000</td>\n",
       "      <td>75433.000000</td>\n",
       "      <td>75433.000000</td>\n",
       "      <td>75433.000000</td>\n",
       "      <td>75433.000000</td>\n",
       "      <td>75433.000000</td>\n",
       "    </tr>\n",
       "    <tr>\n",
       "      <th>mean</th>\n",
       "      <td>1.475787e+14</td>\n",
       "      <td>5.655208e+06</td>\n",
       "      <td>37.015444</td>\n",
       "      <td>0.098379</td>\n",
       "      <td>0.193059</td>\n",
       "      <td>0.068988</td>\n",
       "      <td>0.029987</td>\n",
       "      <td>0.021980</td>\n",
       "      <td>0.290337</td>\n",
       "    </tr>\n",
       "    <tr>\n",
       "      <th>std</th>\n",
       "      <td>2.562094e+14</td>\n",
       "      <td>6.619546e+04</td>\n",
       "      <td>23.074387</td>\n",
       "      <td>0.297828</td>\n",
       "      <td>0.394701</td>\n",
       "      <td>0.253436</td>\n",
       "      <td>0.170552</td>\n",
       "      <td>0.159107</td>\n",
       "      <td>0.453921</td>\n",
       "    </tr>\n",
       "    <tr>\n",
       "      <th>min</th>\n",
       "      <td>9.377953e+04</td>\n",
       "      <td>5.030230e+06</td>\n",
       "      <td>0.000000</td>\n",
       "      <td>0.000000</td>\n",
       "      <td>0.000000</td>\n",
       "      <td>0.000000</td>\n",
       "      <td>0.000000</td>\n",
       "      <td>0.000000</td>\n",
       "      <td>0.000000</td>\n",
       "    </tr>\n",
       "    <tr>\n",
       "      <th>25%</th>\n",
       "      <td>4.219576e+12</td>\n",
       "      <td>5.629842e+06</td>\n",
       "      <td>18.000000</td>\n",
       "      <td>0.000000</td>\n",
       "      <td>0.000000</td>\n",
       "      <td>0.000000</td>\n",
       "      <td>0.000000</td>\n",
       "      <td>0.000000</td>\n",
       "      <td>0.000000</td>\n",
       "    </tr>\n",
       "    <tr>\n",
       "      <th>50%</th>\n",
       "      <td>3.166127e+13</td>\n",
       "      <td>5.664890e+06</td>\n",
       "      <td>37.000000</td>\n",
       "      <td>0.000000</td>\n",
       "      <td>0.000000</td>\n",
       "      <td>0.000000</td>\n",
       "      <td>0.000000</td>\n",
       "      <td>0.000000</td>\n",
       "      <td>0.000000</td>\n",
       "    </tr>\n",
       "    <tr>\n",
       "      <th>75%</th>\n",
       "      <td>9.452498e+13</td>\n",
       "      <td>5.698624e+06</td>\n",
       "      <td>55.000000</td>\n",
       "      <td>0.000000</td>\n",
       "      <td>0.000000</td>\n",
       "      <td>0.000000</td>\n",
       "      <td>0.000000</td>\n",
       "      <td>0.000000</td>\n",
       "      <td>1.000000</td>\n",
       "    </tr>\n",
       "    <tr>\n",
       "      <th>max</th>\n",
       "      <td>9.999686e+14</td>\n",
       "      <td>5.754966e+06</td>\n",
       "      <td>115.000000</td>\n",
       "      <td>1.000000</td>\n",
       "      <td>1.000000</td>\n",
       "      <td>1.000000</td>\n",
       "      <td>1.000000</td>\n",
       "      <td>3.000000</td>\n",
       "      <td>1.000000</td>\n",
       "    </tr>\n",
       "  </tbody>\n",
       "</table>\n",
       "</div>"
      ],
      "text/plain": [
       "          PatientId  AppointmentID  ...       Handcap  SMS_received\n",
       "count  7.543400e+04   7.543300e+04  ...  75433.000000  75433.000000\n",
       "mean   1.475787e+14   5.655208e+06  ...      0.021980      0.290337\n",
       "std    2.562094e+14   6.619546e+04  ...      0.159107      0.453921\n",
       "min    9.377953e+04   5.030230e+06  ...      0.000000      0.000000\n",
       "25%    4.219576e+12   5.629842e+06  ...      0.000000      0.000000\n",
       "50%    3.166127e+13   5.664890e+06  ...      0.000000      0.000000\n",
       "75%    9.452498e+13   5.698624e+06  ...      0.000000      1.000000\n",
       "max    9.999686e+14   5.754966e+06  ...      3.000000      1.000000\n",
       "\n",
       "[8 rows x 9 columns]"
      ]
     },
     "execution_count": 64,
     "metadata": {},
     "output_type": "execute_result"
    }
   ],
   "source": [
    "df.describe()"
   ]
  },
  {
   "cell_type": "code",
   "execution_count": 65,
   "metadata": {
    "colab": {
     "base_uri": "https://localhost:8080/"
    },
    "id": "n20n7163Amsz",
    "outputId": "5c200afd-12bd-4250-c766-491bc51b1ae7"
   },
   "outputs": [
    {
     "data": {
      "text/plain": [
       "(75434, 14)"
      ]
     },
     "execution_count": 65,
     "metadata": {},
     "output_type": "execute_result"
    }
   ],
   "source": [
    "df.shape"
   ]
  },
  {
   "cell_type": "code",
   "execution_count": 66,
   "metadata": {
    "id": "m951jL09Apce"
   },
   "outputs": [],
   "source": [
    "#dataframe to understand the data more\n",
    "df_dict=pd.DataFrame(df.dtypes,columns=['DATA_TYPES'])\n",
    "df_dict['NULL']=df.isnull().sum()\n",
    "df_dict['COUNTS']=df.count()\n",
    "df_dict['UNIQUE_VALS']=df.nunique()"
   ]
  },
  {
   "cell_type": "code",
   "execution_count": 67,
   "metadata": {
    "colab": {
     "base_uri": "https://localhost:8080/",
     "height": 488
    },
    "id": "N4RGnI_GApbj",
    "outputId": "b416bab8-f3de-4161-b824-2299c829f9f9"
   },
   "outputs": [
    {
     "data": {
      "text/html": [
       "<div>\n",
       "<style scoped>\n",
       "    .dataframe tbody tr th:only-of-type {\n",
       "        vertical-align: middle;\n",
       "    }\n",
       "\n",
       "    .dataframe tbody tr th {\n",
       "        vertical-align: top;\n",
       "    }\n",
       "\n",
       "    .dataframe thead th {\n",
       "        text-align: right;\n",
       "    }\n",
       "</style>\n",
       "<table border=\"1\" class=\"dataframe\">\n",
       "  <thead>\n",
       "    <tr style=\"text-align: right;\">\n",
       "      <th></th>\n",
       "      <th>DATA_TYPES</th>\n",
       "      <th>NULL</th>\n",
       "      <th>COUNTS</th>\n",
       "      <th>UNIQUE_VALS</th>\n",
       "    </tr>\n",
       "  </thead>\n",
       "  <tbody>\n",
       "    <tr>\n",
       "      <th>PatientId</th>\n",
       "      <td>float64</td>\n",
       "      <td>0</td>\n",
       "      <td>75434</td>\n",
       "      <td>46845</td>\n",
       "    </tr>\n",
       "    <tr>\n",
       "      <th>AppointmentID</th>\n",
       "      <td>float64</td>\n",
       "      <td>1</td>\n",
       "      <td>75433</td>\n",
       "      <td>75433</td>\n",
       "    </tr>\n",
       "    <tr>\n",
       "      <th>Gender</th>\n",
       "      <td>object</td>\n",
       "      <td>1</td>\n",
       "      <td>75433</td>\n",
       "      <td>2</td>\n",
       "    </tr>\n",
       "    <tr>\n",
       "      <th>ScheduledDay</th>\n",
       "      <td>object</td>\n",
       "      <td>1</td>\n",
       "      <td>75433</td>\n",
       "      <td>71306</td>\n",
       "    </tr>\n",
       "    <tr>\n",
       "      <th>AppointmentDay</th>\n",
       "      <td>object</td>\n",
       "      <td>1</td>\n",
       "      <td>75433</td>\n",
       "      <td>21</td>\n",
       "    </tr>\n",
       "    <tr>\n",
       "      <th>Age</th>\n",
       "      <td>float64</td>\n",
       "      <td>1</td>\n",
       "      <td>75433</td>\n",
       "      <td>101</td>\n",
       "    </tr>\n",
       "    <tr>\n",
       "      <th>Neighbourhood</th>\n",
       "      <td>object</td>\n",
       "      <td>1</td>\n",
       "      <td>75433</td>\n",
       "      <td>81</td>\n",
       "    </tr>\n",
       "    <tr>\n",
       "      <th>Scholarship</th>\n",
       "      <td>float64</td>\n",
       "      <td>1</td>\n",
       "      <td>75433</td>\n",
       "      <td>2</td>\n",
       "    </tr>\n",
       "    <tr>\n",
       "      <th>Hipertension</th>\n",
       "      <td>float64</td>\n",
       "      <td>1</td>\n",
       "      <td>75433</td>\n",
       "      <td>2</td>\n",
       "    </tr>\n",
       "    <tr>\n",
       "      <th>Diabetes</th>\n",
       "      <td>float64</td>\n",
       "      <td>1</td>\n",
       "      <td>75433</td>\n",
       "      <td>2</td>\n",
       "    </tr>\n",
       "    <tr>\n",
       "      <th>Alcoholism</th>\n",
       "      <td>float64</td>\n",
       "      <td>1</td>\n",
       "      <td>75433</td>\n",
       "      <td>2</td>\n",
       "    </tr>\n",
       "    <tr>\n",
       "      <th>Handcap</th>\n",
       "      <td>float64</td>\n",
       "      <td>1</td>\n",
       "      <td>75433</td>\n",
       "      <td>4</td>\n",
       "    </tr>\n",
       "    <tr>\n",
       "      <th>SMS_received</th>\n",
       "      <td>float64</td>\n",
       "      <td>1</td>\n",
       "      <td>75433</td>\n",
       "      <td>2</td>\n",
       "    </tr>\n",
       "    <tr>\n",
       "      <th>No-show</th>\n",
       "      <td>object</td>\n",
       "      <td>1</td>\n",
       "      <td>75433</td>\n",
       "      <td>2</td>\n",
       "    </tr>\n",
       "  </tbody>\n",
       "</table>\n",
       "</div>"
      ],
      "text/plain": [
       "               DATA_TYPES  NULL  COUNTS  UNIQUE_VALS\n",
       "PatientId         float64     0   75434        46845\n",
       "AppointmentID     float64     1   75433        75433\n",
       "Gender             object     1   75433            2\n",
       "ScheduledDay       object     1   75433        71306\n",
       "AppointmentDay     object     1   75433           21\n",
       "Age               float64     1   75433          101\n",
       "Neighbourhood      object     1   75433           81\n",
       "Scholarship       float64     1   75433            2\n",
       "Hipertension      float64     1   75433            2\n",
       "Diabetes          float64     1   75433            2\n",
       "Alcoholism        float64     1   75433            2\n",
       "Handcap           float64     1   75433            4\n",
       "SMS_received      float64     1   75433            2\n",
       "No-show            object     1   75433            2"
      ]
     },
     "execution_count": 67,
     "metadata": {},
     "output_type": "execute_result"
    }
   ],
   "source": [
    "df_dict"
   ]
  },
  {
   "cell_type": "code",
   "execution_count": 68,
   "metadata": {
    "colab": {
     "base_uri": "https://localhost:8080/"
    },
    "id": "jMYQdYJxDO6U",
    "outputId": "1024730e-4aee-42ff-ee59-c6d5dabc007f"
   },
   "outputs": [
    {
     "data": {
      "text/plain": [
       "0"
      ]
     },
     "execution_count": 68,
     "metadata": {},
     "output_type": "execute_result"
    }
   ],
   "source": [
    "#looking for duplicate rows\n",
    "df.duplicated().sum()"
   ]
  },
  {
   "cell_type": "markdown",
   "metadata": {
    "id": "tviaLuf82bMq"
   },
   "source": [
    "\n",
    "\n",
    "### Data Cleaning \n",
    "Cleaning Issues:\n",
    "\n",
    "\n",
    "\n",
    "\n",
    "\n",
    "\n",
    "1)Droping unnecessary columns\n",
    "\n",
    "\n",
    "\n",
    "\n",
    "\n",
    "\n",
    "2)Changing Datatypes"
   ]
  },
  {
   "cell_type": "code",
   "execution_count": 69,
   "metadata": {
    "colab": {
     "base_uri": "https://localhost:8080/",
     "height": 184
    },
    "collapsed": true,
    "id": "47I76yyu2bMr",
    "outputId": "bfb460c6-ea1c-4bca-9f31-17214300b4cd"
   },
   "outputs": [
    {
     "data": {
      "text/html": [
       "<div>\n",
       "<style scoped>\n",
       "    .dataframe tbody tr th:only-of-type {\n",
       "        vertical-align: middle;\n",
       "    }\n",
       "\n",
       "    .dataframe tbody tr th {\n",
       "        vertical-align: top;\n",
       "    }\n",
       "\n",
       "    .dataframe thead th {\n",
       "        text-align: right;\n",
       "    }\n",
       "</style>\n",
       "<table border=\"1\" class=\"dataframe\">\n",
       "  <thead>\n",
       "    <tr style=\"text-align: right;\">\n",
       "      <th></th>\n",
       "      <th>PatientId</th>\n",
       "      <th>AppointmentID</th>\n",
       "      <th>Gender</th>\n",
       "      <th>ScheduledDay</th>\n",
       "      <th>AppointmentDay</th>\n",
       "      <th>Age</th>\n",
       "      <th>Neighbourhood</th>\n",
       "      <th>Scholarship</th>\n",
       "      <th>Hipertension</th>\n",
       "      <th>Diabetes</th>\n",
       "      <th>Alcoholism</th>\n",
       "      <th>Handcap</th>\n",
       "      <th>SMS_received</th>\n",
       "      <th>No-show</th>\n",
       "    </tr>\n",
       "  </thead>\n",
       "  <tbody>\n",
       "    <tr>\n",
       "      <th>0</th>\n",
       "      <td>2.987250e+13</td>\n",
       "      <td>5642903.0</td>\n",
       "      <td>F</td>\n",
       "      <td>2016-04-29T18:38:08Z</td>\n",
       "      <td>2016-04-29T00:00:00Z</td>\n",
       "      <td>62.0</td>\n",
       "      <td>JARDIM DA PENHA</td>\n",
       "      <td>0.0</td>\n",
       "      <td>1.0</td>\n",
       "      <td>0.0</td>\n",
       "      <td>0.0</td>\n",
       "      <td>0.0</td>\n",
       "      <td>0.0</td>\n",
       "      <td>No</td>\n",
       "    </tr>\n",
       "    <tr>\n",
       "      <th>1</th>\n",
       "      <td>5.589978e+14</td>\n",
       "      <td>5642503.0</td>\n",
       "      <td>M</td>\n",
       "      <td>2016-04-29T16:08:27Z</td>\n",
       "      <td>2016-04-29T00:00:00Z</td>\n",
       "      <td>56.0</td>\n",
       "      <td>JARDIM DA PENHA</td>\n",
       "      <td>0.0</td>\n",
       "      <td>0.0</td>\n",
       "      <td>0.0</td>\n",
       "      <td>0.0</td>\n",
       "      <td>0.0</td>\n",
       "      <td>0.0</td>\n",
       "      <td>No</td>\n",
       "    </tr>\n",
       "  </tbody>\n",
       "</table>\n",
       "</div>"
      ],
      "text/plain": [
       "      PatientId  AppointmentID Gender  ... Handcap SMS_received  No-show\n",
       "0  2.987250e+13      5642903.0      F  ...     0.0          0.0       No\n",
       "1  5.589978e+14      5642503.0      M  ...     0.0          0.0       No\n",
       "\n",
       "[2 rows x 14 columns]"
      ]
     },
     "execution_count": 69,
     "metadata": {},
     "output_type": "execute_result"
    }
   ],
   "source": [
    "# After discussing the structure of the data and any problems that need to be\n",
    "#   cleaned, perform those cleaning steps in the second part of this section.\n",
    "df.head(2)"
   ]
  },
  {
   "cell_type": "markdown",
   "metadata": {
    "id": "XB4PC4arEyIK"
   },
   "source": [
    "Dropping PatientId\tand AppointmentID"
   ]
  },
  {
   "cell_type": "code",
   "execution_count": 70,
   "metadata": {
    "id": "zq8xUzOWELQC"
   },
   "outputs": [],
   "source": [
    "df.drop(['PatientId',\t'AppointmentID'],axis=1,inplace=True)"
   ]
  },
  {
   "cell_type": "code",
   "execution_count": 71,
   "metadata": {
    "colab": {
     "base_uri": "https://localhost:8080/",
     "height": 136
    },
    "id": "EIET-UzREM7R",
    "outputId": "4395c8cd-ae3f-4587-817b-b383c2709dae"
   },
   "outputs": [
    {
     "data": {
      "text/html": [
       "<div>\n",
       "<style scoped>\n",
       "    .dataframe tbody tr th:only-of-type {\n",
       "        vertical-align: middle;\n",
       "    }\n",
       "\n",
       "    .dataframe tbody tr th {\n",
       "        vertical-align: top;\n",
       "    }\n",
       "\n",
       "    .dataframe thead th {\n",
       "        text-align: right;\n",
       "    }\n",
       "</style>\n",
       "<table border=\"1\" class=\"dataframe\">\n",
       "  <thead>\n",
       "    <tr style=\"text-align: right;\">\n",
       "      <th></th>\n",
       "      <th>Gender</th>\n",
       "      <th>ScheduledDay</th>\n",
       "      <th>AppointmentDay</th>\n",
       "      <th>Age</th>\n",
       "      <th>Neighbourhood</th>\n",
       "      <th>Scholarship</th>\n",
       "      <th>Hipertension</th>\n",
       "      <th>Diabetes</th>\n",
       "      <th>Alcoholism</th>\n",
       "      <th>Handcap</th>\n",
       "      <th>SMS_received</th>\n",
       "      <th>No-show</th>\n",
       "    </tr>\n",
       "  </thead>\n",
       "  <tbody>\n",
       "    <tr>\n",
       "      <th>0</th>\n",
       "      <td>F</td>\n",
       "      <td>2016-04-29T18:38:08Z</td>\n",
       "      <td>2016-04-29T00:00:00Z</td>\n",
       "      <td>62.0</td>\n",
       "      <td>JARDIM DA PENHA</td>\n",
       "      <td>0.0</td>\n",
       "      <td>1.0</td>\n",
       "      <td>0.0</td>\n",
       "      <td>0.0</td>\n",
       "      <td>0.0</td>\n",
       "      <td>0.0</td>\n",
       "      <td>No</td>\n",
       "    </tr>\n",
       "  </tbody>\n",
       "</table>\n",
       "</div>"
      ],
      "text/plain": [
       "  Gender          ScheduledDay  ... SMS_received  No-show\n",
       "0      F  2016-04-29T18:38:08Z  ...          0.0       No\n",
       "\n",
       "[1 rows x 12 columns]"
      ]
     },
     "execution_count": 71,
     "metadata": {},
     "output_type": "execute_result"
    }
   ],
   "source": [
    "#checking\n",
    "df.head(1)"
   ]
  },
  {
   "cell_type": "markdown",
   "metadata": {
    "id": "VxB4bSqqFA_3"
   },
   "source": [
    "1) Changing ScheduledDay\tand AppointmentDay datatypes from string to date\n",
    "\n",
    "\n"
   ]
  },
  {
   "cell_type": "code",
   "execution_count": 72,
   "metadata": {
    "id": "RF4WZcTyEM6W"
   },
   "outputs": [],
   "source": [
    "df['AppointmentDay']=pd.to_datetime(df['AppointmentDay'])\n",
    "df['ScheduledDay']=pd.to_datetime(df['ScheduledDay'])"
   ]
  },
  {
   "cell_type": "markdown",
   "metadata": {
    "id": "wC693Abe3esE"
   },
   "source": [
    "Renaming Appointment column and Schedualedcolumn\n"
   ]
  },
  {
   "cell_type": "code",
   "execution_count": 73,
   "metadata": {
    "colab": {
     "base_uri": "https://localhost:8080/",
     "height": 136
    },
    "id": "nxJ30Ee6pf-C",
    "outputId": "a2f0fe45-150c-4ddd-b3ed-7dfeec4a904a"
   },
   "outputs": [
    {
     "data": {
      "text/html": [
       "<div>\n",
       "<style scoped>\n",
       "    .dataframe tbody tr th:only-of-type {\n",
       "        vertical-align: middle;\n",
       "    }\n",
       "\n",
       "    .dataframe tbody tr th {\n",
       "        vertical-align: top;\n",
       "    }\n",
       "\n",
       "    .dataframe thead th {\n",
       "        text-align: right;\n",
       "    }\n",
       "</style>\n",
       "<table border=\"1\" class=\"dataframe\">\n",
       "  <thead>\n",
       "    <tr style=\"text-align: right;\">\n",
       "      <th></th>\n",
       "      <th>Gender</th>\n",
       "      <th>Scheduled</th>\n",
       "      <th>Appointment</th>\n",
       "      <th>Age</th>\n",
       "      <th>Neighbourhood</th>\n",
       "      <th>Scholarship</th>\n",
       "      <th>Hipertension</th>\n",
       "      <th>Diabetes</th>\n",
       "      <th>Alcoholism</th>\n",
       "      <th>Handcap</th>\n",
       "      <th>SMS_received</th>\n",
       "      <th>No-show</th>\n",
       "    </tr>\n",
       "  </thead>\n",
       "  <tbody>\n",
       "    <tr>\n",
       "      <th>0</th>\n",
       "      <td>F</td>\n",
       "      <td>2016-04-29 18:38:08+00:00</td>\n",
       "      <td>2016-04-29 00:00:00+00:00</td>\n",
       "      <td>62.0</td>\n",
       "      <td>JARDIM DA PENHA</td>\n",
       "      <td>0.0</td>\n",
       "      <td>1.0</td>\n",
       "      <td>0.0</td>\n",
       "      <td>0.0</td>\n",
       "      <td>0.0</td>\n",
       "      <td>0.0</td>\n",
       "      <td>No</td>\n",
       "    </tr>\n",
       "  </tbody>\n",
       "</table>\n",
       "</div>"
      ],
      "text/plain": [
       "  Gender                 Scheduled  ... SMS_received  No-show\n",
       "0      F 2016-04-29 18:38:08+00:00  ...          0.0       No\n",
       "\n",
       "[1 rows x 12 columns]"
      ]
     },
     "execution_count": 73,
     "metadata": {},
     "output_type": "execute_result"
    }
   ],
   "source": [
    "df=df.rename(columns={'AppointmentDay':'Appointment'})\n",
    "df=df.rename(columns={'ScheduledDay':'Scheduled'})\n",
    "df.head(1)"
   ]
  },
  {
   "cell_type": "markdown",
   "metadata": {
    "id": "VHMxzbkureSA"
   },
   "source": [
    "Creating day and month columns"
   ]
  },
  {
   "cell_type": "code",
   "execution_count": 74,
   "metadata": {
    "colab": {
     "base_uri": "https://localhost:8080/",
     "height": 330
    },
    "id": "r3Z3ZrYDqcI4",
    "outputId": "e61d7a12-eda5-42c2-85b0-3e7278f5a475"
   },
   "outputs": [
    {
     "data": {
      "text/html": [
       "<div>\n",
       "<style scoped>\n",
       "    .dataframe tbody tr th:only-of-type {\n",
       "        vertical-align: middle;\n",
       "    }\n",
       "\n",
       "    .dataframe tbody tr th {\n",
       "        vertical-align: top;\n",
       "    }\n",
       "\n",
       "    .dataframe thead th {\n",
       "        text-align: right;\n",
       "    }\n",
       "</style>\n",
       "<table border=\"1\" class=\"dataframe\">\n",
       "  <thead>\n",
       "    <tr style=\"text-align: right;\">\n",
       "      <th></th>\n",
       "      <th>Gender</th>\n",
       "      <th>Scheduled</th>\n",
       "      <th>Appointment</th>\n",
       "      <th>Age</th>\n",
       "      <th>Neighbourhood</th>\n",
       "      <th>Scholarship</th>\n",
       "      <th>Hipertension</th>\n",
       "      <th>Diabetes</th>\n",
       "      <th>Alcoholism</th>\n",
       "      <th>Handcap</th>\n",
       "      <th>SMS_received</th>\n",
       "      <th>No-show</th>\n",
       "      <th>Appointment_DAY</th>\n",
       "      <th>Scheduled_DAY</th>\n",
       "      <th>Appointment_MONTH</th>\n",
       "      <th>Scheduled_MONTH</th>\n",
       "    </tr>\n",
       "  </thead>\n",
       "  <tbody>\n",
       "    <tr>\n",
       "      <th>0</th>\n",
       "      <td>F</td>\n",
       "      <td>2016-04-29 18:38:08+00:00</td>\n",
       "      <td>2016-04-29 00:00:00+00:00</td>\n",
       "      <td>62.0</td>\n",
       "      <td>JARDIM DA PENHA</td>\n",
       "      <td>0.0</td>\n",
       "      <td>1.0</td>\n",
       "      <td>0.0</td>\n",
       "      <td>0.0</td>\n",
       "      <td>0.0</td>\n",
       "      <td>0.0</td>\n",
       "      <td>No</td>\n",
       "      <td>29.0</td>\n",
       "      <td>29.0</td>\n",
       "      <td>4.0</td>\n",
       "      <td>4.0</td>\n",
       "    </tr>\n",
       "    <tr>\n",
       "      <th>1</th>\n",
       "      <td>M</td>\n",
       "      <td>2016-04-29 16:08:27+00:00</td>\n",
       "      <td>2016-04-29 00:00:00+00:00</td>\n",
       "      <td>56.0</td>\n",
       "      <td>JARDIM DA PENHA</td>\n",
       "      <td>0.0</td>\n",
       "      <td>0.0</td>\n",
       "      <td>0.0</td>\n",
       "      <td>0.0</td>\n",
       "      <td>0.0</td>\n",
       "      <td>0.0</td>\n",
       "      <td>No</td>\n",
       "      <td>29.0</td>\n",
       "      <td>29.0</td>\n",
       "      <td>4.0</td>\n",
       "      <td>4.0</td>\n",
       "    </tr>\n",
       "    <tr>\n",
       "      <th>2</th>\n",
       "      <td>F</td>\n",
       "      <td>2016-04-29 16:19:04+00:00</td>\n",
       "      <td>2016-04-29 00:00:00+00:00</td>\n",
       "      <td>62.0</td>\n",
       "      <td>MATA DA PRAIA</td>\n",
       "      <td>0.0</td>\n",
       "      <td>0.0</td>\n",
       "      <td>0.0</td>\n",
       "      <td>0.0</td>\n",
       "      <td>0.0</td>\n",
       "      <td>0.0</td>\n",
       "      <td>No</td>\n",
       "      <td>29.0</td>\n",
       "      <td>29.0</td>\n",
       "      <td>4.0</td>\n",
       "      <td>4.0</td>\n",
       "    </tr>\n",
       "    <tr>\n",
       "      <th>3</th>\n",
       "      <td>F</td>\n",
       "      <td>2016-04-29 17:29:31+00:00</td>\n",
       "      <td>2016-04-29 00:00:00+00:00</td>\n",
       "      <td>8.0</td>\n",
       "      <td>PONTAL DE CAMBURI</td>\n",
       "      <td>0.0</td>\n",
       "      <td>0.0</td>\n",
       "      <td>0.0</td>\n",
       "      <td>0.0</td>\n",
       "      <td>0.0</td>\n",
       "      <td>0.0</td>\n",
       "      <td>No</td>\n",
       "      <td>29.0</td>\n",
       "      <td>29.0</td>\n",
       "      <td>4.0</td>\n",
       "      <td>4.0</td>\n",
       "    </tr>\n",
       "    <tr>\n",
       "      <th>4</th>\n",
       "      <td>F</td>\n",
       "      <td>2016-04-29 16:07:23+00:00</td>\n",
       "      <td>2016-04-29 00:00:00+00:00</td>\n",
       "      <td>56.0</td>\n",
       "      <td>JARDIM DA PENHA</td>\n",
       "      <td>0.0</td>\n",
       "      <td>1.0</td>\n",
       "      <td>1.0</td>\n",
       "      <td>0.0</td>\n",
       "      <td>0.0</td>\n",
       "      <td>0.0</td>\n",
       "      <td>No</td>\n",
       "      <td>29.0</td>\n",
       "      <td>29.0</td>\n",
       "      <td>4.0</td>\n",
       "      <td>4.0</td>\n",
       "    </tr>\n",
       "  </tbody>\n",
       "</table>\n",
       "</div>"
      ],
      "text/plain": [
       "  Gender                 Scheduled  ... Appointment_MONTH  Scheduled_MONTH\n",
       "0      F 2016-04-29 18:38:08+00:00  ...               4.0              4.0\n",
       "1      M 2016-04-29 16:08:27+00:00  ...               4.0              4.0\n",
       "2      F 2016-04-29 16:19:04+00:00  ...               4.0              4.0\n",
       "3      F 2016-04-29 17:29:31+00:00  ...               4.0              4.0\n",
       "4      F 2016-04-29 16:07:23+00:00  ...               4.0              4.0\n",
       "\n",
       "[5 rows x 16 columns]"
      ]
     },
     "execution_count": 74,
     "metadata": {},
     "output_type": "execute_result"
    }
   ],
   "source": [
    "df['Appointment_DAY']=df['Appointment'].dt.day\n",
    "df['Scheduled_DAY']=df['Scheduled'].dt.day\n",
    "df['Appointment_MONTH']=df['Appointment'].dt.month\n",
    "df['Scheduled_MONTH']=df['Scheduled'].dt.month\n",
    "df.head()"
   ]
  },
  {
   "cell_type": "code",
   "execution_count": 75,
   "metadata": {
    "colab": {
     "base_uri": "https://localhost:8080/"
    },
    "id": "YMh3kuqoEM3e",
    "outputId": "88ca82bd-2f1d-4dc6-9c2c-f515f78a65e8"
   },
   "outputs": [
    {
     "name": "stdout",
     "output_type": "stream",
     "text": [
      "<class 'pandas.core.frame.DataFrame'>\n",
      "RangeIndex: 75434 entries, 0 to 75433\n",
      "Data columns (total 16 columns):\n",
      " #   Column             Non-Null Count  Dtype              \n",
      "---  ------             --------------  -----              \n",
      " 0   Gender             75433 non-null  object             \n",
      " 1   Scheduled          75433 non-null  datetime64[ns, UTC]\n",
      " 2   Appointment        75433 non-null  datetime64[ns, UTC]\n",
      " 3   Age                75433 non-null  float64            \n",
      " 4   Neighbourhood      75433 non-null  object             \n",
      " 5   Scholarship        75433 non-null  float64            \n",
      " 6   Hipertension       75433 non-null  float64            \n",
      " 7   Diabetes           75433 non-null  float64            \n",
      " 8   Alcoholism         75433 non-null  float64            \n",
      " 9   Handcap            75433 non-null  float64            \n",
      " 10  SMS_received       75433 non-null  float64            \n",
      " 11  No-show            75433 non-null  object             \n",
      " 12  Appointment_DAY    75433 non-null  float64            \n",
      " 13  Scheduled_DAY      75433 non-null  float64            \n",
      " 14  Appointment_MONTH  75433 non-null  float64            \n",
      " 15  Scheduled_MONTH    75433 non-null  float64            \n",
      "dtypes: datetime64[ns, UTC](2), float64(11), object(3)\n",
      "memory usage: 9.2+ MB\n"
     ]
    }
   ],
   "source": [
    "df.info()"
   ]
  },
  {
   "cell_type": "markdown",
   "metadata": {
    "id": "9C9QMoy9ld1H"
   },
   "source": [
    "Changing (0/1) columns from int to booleans"
   ]
  },
  {
   "cell_type": "code",
   "execution_count": 76,
   "metadata": {
    "id": "9IWkj4ETSvqD"
   },
   "outputs": [],
   "source": [
    "df[['Scholarship', 'Hipertension', 'Diabetes', 'Alcoholism', 'Handcap', 'SMS_received']] = df[['Scholarship', 'Hipertension', 'Diabetes', 'Alcoholism', 'Handcap', 'SMS_received']] .astype(bool)"
   ]
  },
  {
   "cell_type": "code",
   "execution_count": 77,
   "metadata": {
    "colab": {
     "base_uri": "https://localhost:8080/"
    },
    "id": "ReOaNx4Wcbrv",
    "outputId": "5afc060a-9b2c-4531-9d74-cd984c700655"
   },
   "outputs": [
    {
     "data": {
      "text/plain": [
       "dtype('O')"
      ]
     },
     "execution_count": 77,
     "metadata": {},
     "output_type": "execute_result"
    }
   ],
   "source": [
    "df['No-show'].replace(['Yes', 'No'], [True, False], inplace=True)\n",
    "df['No-show'].dtype"
   ]
  },
  {
   "cell_type": "code",
   "execution_count": 78,
   "metadata": {
    "colab": {
     "base_uri": "https://localhost:8080/"
    },
    "id": "iAtRCEomIls4",
    "outputId": "d0c28f3c-478b-425a-82e0-288401440e76"
   },
   "outputs": [
    {
     "name": "stdout",
     "output_type": "stream",
     "text": [
      "<class 'pandas.core.frame.DataFrame'>\n",
      "RangeIndex: 75434 entries, 0 to 75433\n",
      "Data columns (total 16 columns):\n",
      " #   Column             Non-Null Count  Dtype              \n",
      "---  ------             --------------  -----              \n",
      " 0   Gender             75433 non-null  object             \n",
      " 1   Scheduled          75433 non-null  datetime64[ns, UTC]\n",
      " 2   Appointment        75433 non-null  datetime64[ns, UTC]\n",
      " 3   Age                75433 non-null  float64            \n",
      " 4   Neighbourhood      75433 non-null  object             \n",
      " 5   Scholarship        75434 non-null  bool               \n",
      " 6   Hipertension       75434 non-null  bool               \n",
      " 7   Diabetes           75434 non-null  bool               \n",
      " 8   Alcoholism         75434 non-null  bool               \n",
      " 9   Handcap            75434 non-null  bool               \n",
      " 10  SMS_received       75434 non-null  bool               \n",
      " 11  No-show            75433 non-null  object             \n",
      " 12  Appointment_DAY    75433 non-null  float64            \n",
      " 13  Scheduled_DAY      75433 non-null  float64            \n",
      " 14  Appointment_MONTH  75433 non-null  float64            \n",
      " 15  Scheduled_MONTH    75433 non-null  float64            \n",
      "dtypes: bool(6), datetime64[ns, UTC](2), float64(5), object(3)\n",
      "memory usage: 6.2+ MB\n"
     ]
    }
   ],
   "source": [
    "df.info()"
   ]
  },
  {
   "cell_type": "markdown",
   "metadata": {
    "id": "cnGM5MGvKhQt"
   },
   "source": [
    "EXPOLATORY DATA ANALYSIS\n"
   ]
  },
  {
   "cell_type": "code",
   "execution_count": 79,
   "metadata": {
    "colab": {
     "base_uri": "https://localhost:8080/",
     "height": 311
    },
    "id": "8uEtSZ7Ud9n2",
    "outputId": "d71b7d68-cce8-4f4d-bce4-b397ee032fa8"
   },
   "outputs": [
    {
     "data": {
      "image/png": "[encoded data removed]",
      "text/plain": [
       "<Figure size 432x288 with 1 Axes>"
      ]
     },
     "metadata": {
      "needs_background": "light"
     },
     "output_type": "display_data"
    }
   ],
   "source": [
    "#plotting No-show to know how many came to the appointment and hpw many didnt\n",
    "df['No-show'].value_counts().plot(kind='bar')\n",
    "plt.ylabel('patients')\n",
    "plt.xlabel('No-show')\n",
    "plt.title('Gender show count')\n",
    "plt.show()"
   ]
  },
  {
   "cell_type": "markdown",
   "metadata": {
    "id": "nBjAgwYdravY"
   },
   "source": [
    "**Most patients didnt show**\n"
   ]
  },
  {
   "cell_type": "markdown",
   "metadata": {
    "id": "W9ZbMaaUrkC8"
   },
   "source": [
    "#plotting age distribution"
   ]
  },
  {
   "cell_type": "code",
   "execution_count": 80,
   "metadata": {
    "colab": {
     "base_uri": "https://localhost:8080/",
     "height": 312
    },
    "id": "gCf8LgbB2bMs",
    "outputId": "630e3c7b-7e9e-4cf8-c928-9bcfde5e5620"
   },
   "outputs": [
    {
     "data": {
      "text/plain": [
       "Text(0.5, 1.0, 'Age distribution')"
      ]
     },
     "execution_count": 80,
     "metadata": {},
     "output_type": "execute_result"
    },
    {
     "data": {
      "image/png": "[encoded data removed]",
      "text/plain": [
       "<Figure size 432x288 with 1 Axes>"
      ]
     },
     "metadata": {
      "needs_background": "light"
     },
     "output_type": "display_data"
    }
   ],
   "source": [
    "\n",
    "df['Age'].hist()\n",
    "plt.ylabel('patients')\n",
    "plt.xlabel('Age')\n",
    "plt.title('Age distribution')\n"
   ]
  },
  {
   "cell_type": "markdown",
   "metadata": {
    "id": "332VHN7Wr2HP"
   },
   "source": [
    "**Rightly skewed**"
   ]
  },
  {
   "cell_type": "markdown",
   "metadata": {
    "id": "RNzKQ65osCNd"
   },
   "source": [
    "#plotting the count of each Neighbourhood"
   ]
  },
  {
   "cell_type": "code",
   "execution_count": 81,
   "metadata": {
    "colab": {
     "base_uri": "https://localhost:8080/",
     "height": 644
    },
    "id": "ymQYB04GKzPZ",
    "outputId": "bdd366cd-b7f1-4884-a166-2803133c0399"
   },
   "outputs": [
    {
     "data": {
      "image/png": "[encoded data removed]",
      "text/plain": [
       "<Figure size 1440x720 with 1 Axes>"
      ]
     },
     "metadata": {
      "needs_background": "light"
     },
     "output_type": "display_data"
    }
   ],
   "source": [
    "\n",
    "df['Neighbourhood'].value_counts().plot(kind='bar',figsize=(20,10))\n",
    "plt.ylabel('patients')\n",
    "plt.xlabel('Neighbourhoods')\n",
    "plt.title('Neighbourhoods counts')\n",
    "plt.show()"
   ]
  },
  {
   "cell_type": "markdown",
   "metadata": {
    "id": "j2Jtb-1JsMmV"
   },
   "source": [
    "#plotting the count of each disease\n"
   ]
  },
  {
   "cell_type": "code",
   "execution_count": 82,
   "metadata": {
    "colab": {
     "base_uri": "https://localhost:8080/",
     "height": 295
    },
    "id": "mxcAOZgGKzLU",
    "outputId": "b0a06c5d-706b-40f6-b4f3-1c5f2e007e1f"
   },
   "outputs": [
    {
     "data": {
      "image/png": "[encoded data removed]",
      "text/plain": [
       "<Figure size 432x288 with 1 Axes>"
      ]
     },
     "metadata": {
      "needs_background": "light"
     },
     "output_type": "display_data"
    }
   ],
   "source": [
    "\n",
    "plt.bar([1,2,3,4],[df['Hipertension'].sum(),\n",
    "                   df['Diabetes'].sum()\n",
    "                   ,df['Alcoholism'].sum(),\n",
    "                   df['Handcap'].sum()],\n",
    "tick_label=['Hipertension', 'Diabetes', 'Alcoholism', 'Handcap'])\n",
    "plt.xlabel('Disease')\n",
    "plt.ylabel('Number of patients')\n",
    "plt.title(\"Each Disease count \")\n",
    "plt.show()"
   ]
  },
  {
   "cell_type": "markdown",
   "metadata": {
    "id": "UQct_Gm9sTId"
   },
   "source": [
    "**many patients suffer from hypertension**"
   ]
  },
  {
   "cell_type": "code",
   "execution_count": 83,
   "metadata": {
    "colab": {
     "base_uri": "https://localhost:8080/"
    },
    "id": "XOR76yBVKzKe",
    "outputId": "3880b187-ad65-47ea-9b99-b7b44fcf3eab"
   },
   "outputs": [
    {
     "data": {
      "text/plain": [
       "Gender\n",
       "F    38.846769\n",
       "M    33.659495\n",
       "Name: Age, dtype: float64"
      ]
     },
     "execution_count": 83,
     "metadata": {},
     "output_type": "execute_result"
    }
   ],
   "source": [
    "df.groupby('Gender')['Age'].mean()"
   ]
  },
  {
   "cell_type": "markdown",
   "metadata": {
    "id": "QdVwV7K6silK"
   },
   "source": [
    "#plotting gender columns with respect to other columns\n"
   ]
  },
  {
   "cell_type": "code",
   "execution_count": 84,
   "metadata": {
    "colab": {
     "base_uri": "https://localhost:8080/",
     "height": 361
    },
    "id": "7SvdfCfhKy-O",
    "outputId": "0913514a-f1e8-4890-d5c9-c845aa231d2f"
   },
   "outputs": [
    {
     "data": {
      "text/plain": [
       "<matplotlib.axes._subplots.AxesSubplot at 0x7fd7140cd190>"
      ]
     },
     "execution_count": 84,
     "metadata": {},
     "output_type": "execute_result"
    },
    {
     "data": {
      "image/png": "[encoded data removed]",
      "text/plain": [
       "<Figure size 1440x360 with 6 Axes>"
      ]
     },
     "metadata": {
      "needs_background": "light"
     },
     "output_type": "display_data"
    }
   ],
   "source": [
    "\n",
    "figbi,axesbi=plt.subplots(1,6,figsize=(20,5))\n",
    "plt.suptitle('gender with respect to other columns')\n",
    "df.groupby('Gender')['Scholarship'].value_counts().plot(kind='bar',ax=axesbi[0])\n",
    "df.groupby('Gender')['Hipertension'].value_counts().plot(kind='bar',ax=axesbi[1])\n",
    "df.groupby('Gender')[ 'Diabetes'].value_counts().plot(kind='bar',ax=axesbi[2])\n",
    "df.groupby('Gender')[ 'Alcoholism'].value_counts().plot(kind='bar',ax=axesbi[3])\n",
    "df.groupby('Gender')[ 'Handcap'].value_counts().plot(kind='bar',ax=axesbi[4])\n",
    "df.groupby('Gender')[ 'No-show'].value_counts().plot(kind='bar',ax=axesbi[5])\n",
    "\n",
    "\n"
   ]
  },
  {
   "cell_type": "markdown",
   "metadata": {
    "id": "zMRCK5P9i73z"
   },
   "source": [
    "**females counts more than males in alot of features**"
   ]
  },
  {
   "cell_type": "markdown",
   "metadata": {
    "id": "W7_K32gRs1_m"
   },
   "source": [
    "#Is receiving a SMS has an effect on showing?\n"
   ]
  },
  {
   "cell_type": "code",
   "execution_count": 85,
   "metadata": {
    "colab": {
     "base_uri": "https://localhost:8080/",
     "height": 350
    },
    "id": "zcRvXgdNKy9h",
    "outputId": "7f4093b9-b1bc-42a0-8234-c5966c905593"
   },
   "outputs": [
    {
     "data": {
      "image/png": "[encoded data removed]",
      "text/plain": [
       "<Figure size 432x288 with 1 Axes>"
      ]
     },
     "metadata": {
      "needs_background": "light"
     },
     "output_type": "display_data"
    }
   ],
   "source": [
    "df.groupby('SMS_received')['No-show'].value_counts().plot(kind='bar')\n",
    "plt.ylabel('patients')\n",
    "plt.xlabel('SMS with respect of showing')\n",
    "plt.title('SMS affection on showing')\n",
    "plt.show()"
   ]
  },
  {
   "cell_type": "markdown",
   "metadata": {
    "id": "cXN5wZ34tEUG"
   },
   "source": [
    "**It doesnt really affect**"
   ]
  },
  {
   "cell_type": "markdown",
   "metadata": {
    "id": "ImsSVbhRukXy"
   },
   "source": [
    "#plotting disease columns with respect to showing"
   ]
  },
  {
   "cell_type": "code",
   "execution_count": 86,
   "metadata": {
    "colab": {
     "base_uri": "https://localhost:8080/",
     "height": 374
    },
    "id": "vLgpvDGLKy5_",
    "outputId": "8ae44625-7d32-4871-f173-e1dc84df8709"
   },
   "outputs": [
    {
     "data": {
      "text/plain": [
       "<matplotlib.axes._subplots.AxesSubplot at 0x7fd713157c90>"
      ]
     },
     "execution_count": 86,
     "metadata": {},
     "output_type": "execute_result"
    },
    {
     "data": {
      "image/png": "[encoded data removed]",
      "text/plain": [
       "<Figure size 1440x360 with 4 Axes>"
      ]
     },
     "metadata": {
      "needs_background": "light"
     },
     "output_type": "display_data"
    }
   ],
   "source": [
    "figbi,axesbi=plt.subplots(1, 4,figsize=(20,5))\n",
    "plt.suptitle('Each disease with respect to showing')\n",
    "df.groupby('Hipertension')['No-show'].value_counts().plot(kind='bar',ax=axesbi[0])\n",
    "df.groupby('Diabetes')['No-show'].value_counts().plot(kind='bar',ax=axesbi[1])\n",
    "df.groupby('Alcoholism')['No-show'].value_counts().plot(kind='bar',ax=axesbi[2])\n",
    "df.groupby('Handcap')['No-show'].value_counts().plot(kind='bar',ax=axesbi[3])\n"
   ]
  },
  {
   "cell_type": "markdown",
   "metadata": {
    "id": "q1Ac7Y7_uu68"
   },
   "source": [
    "hypertension patients tend to show more than the other"
   ]
  },
  {
   "cell_type": "markdown",
   "metadata": {
    "id": "xfkycDW8u6UH"
   },
   "source": [
    "#Does age affect showing?"
   ]
  },
  {
   "cell_type": "code",
   "execution_count": 87,
   "metadata": {
    "id": "YRQ2NKcmbL_6"
   },
   "outputs": [],
   "source": [
    "show=df['No-show']==True\n",
    "no_show=df['No-show']==False"
   ]
  },
  {
   "cell_type": "code",
   "execution_count": 88,
   "metadata": {
    "colab": {
     "base_uri": "https://localhost:8080/",
     "height": 350
    },
    "id": "jQP2wqHQbL7h",
    "outputId": "e5d39e20-118f-4bde-b8e2-176c5fb56a98"
   },
   "outputs": [
    {
     "data": {
      "image/png": "[encoded data removed]",
      "text/plain": [
       "<Figure size 720x360 with 1 Axes>"
      ]
     },
     "metadata": {
      "needs_background": "light"
     },
     "output_type": "display_data"
    }
   ],
   "source": [
    "plt.subplots(figsize=(10,5))\n",
    "df.Age[no_show].plot(kind= 'hist', label= 'not_show')\n",
    "df.Age[show].plot(kind= 'hist', label= 'show')\n",
    "\n",
    "plt.legend()\n",
    "plt.ylabel('patients')\n",
    "plt.xlabel('Age')\n",
    "plt.title('relationship between no show patient according to thier Age')\n",
    "plt.show()"
   ]
  },
  {
   "cell_type": "markdown",
   "metadata": {
    "id": "n2fenRrTvEcI"
   },
   "source": [
    "**It seems affecting**"
   ]
  },
  {
   "cell_type": "markdown",
   "metadata": {
    "id": "AmdHveWtvS6G"
   },
   "source": [
    "#which month did most patirnts show?"
   ]
  },
  {
   "cell_type": "code",
   "execution_count": 89,
   "metadata": {
    "colab": {
     "base_uri": "https://localhost:8080/",
     "height": 340
    },
    "id": "eB8CTjXwbL2X",
    "outputId": "4878ad56-18f9-42a6-c7a4-09f1b2e04e02"
   },
   "outputs": [
    {
     "data": {
      "image/png": "[encoded data removed]",
      "text/plain": [
       "<Figure size 432x288 with 1 Axes>"
      ]
     },
     "metadata": {
      "needs_background": "light"
     },
     "output_type": "display_data"
    }
   ],
   "source": [
    "df.groupby('Appointment_MONTH')['No-show'].value_counts().plot(kind='bar')\n",
    "plt.ylabel('patients')\n",
    "plt.xlabel('month with respect of showing')\n",
    "plt.title('which month did most patirnts show')\n",
    "plt.show()"
   ]
  },
  {
   "cell_type": "markdown",
   "metadata": {
    "id": "uknizBMBvXm4"
   },
   "source": [
    "**May**"
   ]
  },
  {
   "cell_type": "markdown",
   "metadata": {
    "id": "tQcdngy4vc_A"
   },
   "source": [
    "#which day in month did most patirnts show in  bar\n"
   ]
  },
  {
   "cell_type": "code",
   "execution_count": 90,
   "metadata": {
    "colab": {
     "base_uri": "https://localhost:8080/",
     "height": 579
    },
    "id": "CSiNXkEHuRVt",
    "outputId": "1dc52198-7909-4603-da01-8936c0090f48"
   },
   "outputs": [
    {
     "data": {
      "image/png": "[encoded data removed]",
      "text/plain": [
       "<Figure size 1440x720 with 1 Axes>"
      ]
     },
     "metadata": {
      "needs_background": "light"
     },
     "output_type": "display_data"
    }
   ],
   "source": [
    "\n",
    "df.groupby(['Appointment_DAY','Appointment_MONTH'])['No-show'].value_counts().plot(kind='bar',figsize=(20,10))\n",
    "plt.ylabel('patients')\n",
    "plt.xlabel('day and month with respect of showing')\n",
    "plt.title('which day in month did most patirnts show in bar')\n",
    "plt.show()"
   ]
  },
  {
   "cell_type": "markdown",
   "metadata": {
    "id": "-Jh5isi8vevx"
   },
   "source": [
    "16th of may"
   ]
  },
  {
   "cell_type": "markdown",
   "metadata": {
    "id": "Z7jKtXcyvitl"
   },
   "source": [
    "**________________________________________________________**"
   ]
  },
  {
   "cell_type": "markdown",
   "metadata": {
    "id": "EM-ok1-q2bMt"
   },
   "source": [
    "<a id='conclusions'></a>\n",
    "## Conclusions\n",
    "\n",
    ">1)Most patients didn't show to the appointment\n",
    "\n",
    ">2)Most of the patients come from Jardim Camburi, Maria Ortiz, Jardim Da Penha, Resestencia and Itarare neighbourhood  respectively from the highest to lowest .\n",
    "\n",
    ">3)Age is rightly skewed,this means that when age increase number of patients decrease.Most patients age from 0 to 8 ,so more pediatricians are needed.\n",
    "\n",
    ">4)More than 20000 suffer from Hipertension ,which is very higher than any disease.Then come Diabetes,Alcoholism,and Handcap from hightest to lowest .\n",
    "\n",
    ">5)More females got accepted in scholarship than males.\n",
    "\n",
    ">6)Females tended to show more than men\n",
    "7)More females suffer from Hipertension ,Diadetes,and Handcap than males.However males suffer more from Alcoholism than females.\n",
    "\n",
    ">8)Patients that suffer from Hipertension showed at the appointment more than \n",
    "Diabetes,Alcoholism, and Handcap respectively.\n",
    "\n",
    ">9)Patients who didnt received SMS showed more than who received.\n",
    "\n",
    ">10)Younger patients tended show more then old patients.\n",
    "\n",
    ">11)Most patients tended to show in may then any month.\n",
    "\n",
    ">12)Most patients tended to show in 16th of may then any day.\n",
    "\n",
    "\n",
    "\n",
    "\n",
    "\n",
    "\n",
    "**LIMITATIONS:**\n",
    "\n",
    "\n",
    "\n",
    ".PatientId are AppointmentID\tunnecessery.\n",
    "\n",
    ".ScheduledDay\tand AppointmentDay came with wronge datatypes.\n",
    "\n",
    ".Scholarship,Hipertension\t,Diabetes\t,Alcoholism\t,Handcap\tSMS_received, and No-show came with wronge datatypes\n",
    "\n",
    "\n",
    ".Some schedule dates were switched with appointment dates.\n",
    "\n",
    "\n",
    "\n",
    "\n"
   ]
  },
  {
   "cell_type": "code",
   "execution_count": 90,
   "metadata": {
    "id": "glBr42I9YjLa"
   },
   "outputs": [],
   "source": []
  }
 ],
 "metadata": {
  "colab": {
   "collapsed_sections": [],
   "name": "NoShow.ipynb",
   "provenance": []
  },
  "kernelspec": {
   "display_name": "Python 3",
   "language": "python",
   "name": "python3"
  },
  "language_info": {
   "codemirror_mode": {
    "name": "ipython",
    "version": 3
   },
   "file_extension": ".py",
   "mimetype": "text/x-python",
   "name": "python",
   "nbconvert_exporter": "python",
   "pygments_lexer": "ipython3",
   "version": "3.8.3"
  }
 },
 "nbformat": 4,
 "nbformat_minor": 1
}
